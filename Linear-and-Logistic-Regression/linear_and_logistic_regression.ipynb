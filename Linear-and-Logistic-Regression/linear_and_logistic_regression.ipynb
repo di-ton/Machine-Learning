{
 "cells": [
  {
   "cell_type": "code",
   "execution_count": 1,
   "id": "787d73ab-49e6-436b-a008-80a2051acc1f",
   "metadata": {},
   "outputs": [],
   "source": [
    "%matplotlib inline"
   ]
  },
  {
   "cell_type": "code",
   "execution_count": 98,
   "id": "7a49efd5-99b1-441b-8a23-c6ed6dc25ebc",
   "metadata": {},
   "outputs": [],
   "source": [
    "import numpy as np\n",
    "import pandas as pd\n",
    "import matplotlib.pyplot as plt\n",
    "import seaborn as sns\n",
    "\n",
    "from sklearn.datasets import fetch_california_housing, load_digits\n",
    "\n",
    "from sklearn.preprocessing import MinMaxScaler, StandardScaler, OneHotEncoder, LabelEncoder, PolynomialFeatures\n",
    "from sklearn.linear_model import LinearRegression, LogisticRegression, RANSACRegressor"
   ]
  },
  {
   "cell_type": "markdown",
   "id": "8e86193d-ac77-4567-bcdf-7c880f9fbe15",
   "metadata": {},
   "source": [
    "# Linear and Logistic Regression"
   ]
  },
  {
   "cell_type": "code",
   "execution_count": 3,
   "id": "bc82933b-9c01-4d5e-ad71-667b4e24d0e2",
   "metadata": {
    "scrolled": true
   },
   "outputs": [
    {
     "data": {
      "text/plain": [
       "{'data': array([[   8.3252    ,   41.        ,    6.98412698, ...,    2.55555556,\n",
       "           37.88      , -122.23      ],\n",
       "        [   8.3014    ,   21.        ,    6.23813708, ...,    2.10984183,\n",
       "           37.86      , -122.22      ],\n",
       "        [   7.2574    ,   52.        ,    8.28813559, ...,    2.80225989,\n",
       "           37.85      , -122.24      ],\n",
       "        ...,\n",
       "        [   1.7       ,   17.        ,    5.20554273, ...,    2.3256351 ,\n",
       "           39.43      , -121.22      ],\n",
       "        [   1.8672    ,   18.        ,    5.32951289, ...,    2.12320917,\n",
       "           39.43      , -121.32      ],\n",
       "        [   2.3886    ,   16.        ,    5.25471698, ...,    2.61698113,\n",
       "           39.37      , -121.24      ]]),\n",
       " 'target': array([4.526, 3.585, 3.521, ..., 0.923, 0.847, 0.894]),\n",
       " 'frame': None,\n",
       " 'target_names': ['MedHouseVal'],\n",
       " 'feature_names': ['MedInc',\n",
       "  'HouseAge',\n",
       "  'AveRooms',\n",
       "  'AveBedrms',\n",
       "  'Population',\n",
       "  'AveOccup',\n",
       "  'Latitude',\n",
       "  'Longitude'],\n",
       " 'DESCR': '.. _california_housing_dataset:\\n\\nCalifornia Housing dataset\\n--------------------------\\n\\n**Data Set Characteristics:**\\n\\n    :Number of Instances: 20640\\n\\n    :Number of Attributes: 8 numeric, predictive attributes and the target\\n\\n    :Attribute Information:\\n        - MedInc        median income in block group\\n        - HouseAge      median house age in block group\\n        - AveRooms      average number of rooms per household\\n        - AveBedrms     average number of bedrooms per household\\n        - Population    block group population\\n        - AveOccup      average number of household members\\n        - Latitude      block group latitude\\n        - Longitude     block group longitude\\n\\n    :Missing Attribute Values: None\\n\\nThis dataset was obtained from the StatLib repository.\\nhttps://www.dcc.fc.up.pt/~ltorgo/Regression/cal_housing.html\\n\\nThe target variable is the median house value for California districts,\\nexpressed in hundreds of thousands of dollars ($100,000).\\n\\nThis dataset was derived from the 1990 U.S. census, using one row per census\\nblock group. A block group is the smallest geographical unit for which the U.S.\\nCensus Bureau publishes sample data (a block group typically has a population\\nof 600 to 3,000 people).\\n\\nA household is a group of people residing within a home. Since the average\\nnumber of rooms and bedrooms in this dataset are provided per household, these\\ncolumns may take surprisingly large values for block groups with few households\\nand many empty houses, such as vacation resorts.\\n\\nIt can be downloaded/loaded using the\\n:func:`sklearn.datasets.fetch_california_housing` function.\\n\\n.. topic:: References\\n\\n    - Pace, R. Kelley and Ronald Barry, Sparse Spatial Autoregressions,\\n      Statistics and Probability Letters, 33 (1997) 291-297\\n'}"
      ]
     },
     "execution_count": 3,
     "metadata": {},
     "output_type": "execute_result"
    }
   ],
   "source": [
    "fetch_california_housing()"
   ]
  },
  {
   "cell_type": "code",
   "execution_count": 4,
   "id": "3b7b1c70-b83c-467e-b839-0e26e56c9dc5",
   "metadata": {},
   "outputs": [
    {
     "data": {
      "text/plain": [
       "dict_keys(['data', 'target', 'frame', 'target_names', 'feature_names', 'DESCR'])"
      ]
     },
     "execution_count": 4,
     "metadata": {},
     "output_type": "execute_result"
    }
   ],
   "source": [
    "fetch_california_housing().keys()"
   ]
  },
  {
   "cell_type": "code",
   "execution_count": 5,
   "id": "b736871e-c731-4f0c-a756-660a5d5543c5",
   "metadata": {},
   "outputs": [],
   "source": [
    "dataset = fetch_california_housing()"
   ]
  },
  {
   "cell_type": "code",
   "execution_count": 6,
   "id": "563bca89-ebc4-4733-890b-042c911ee1fa",
   "metadata": {
    "scrolled": true
   },
   "outputs": [
    {
     "name": "stdout",
     "output_type": "stream",
     "text": [
      ".. _california_housing_dataset:\n",
      "\n",
      "California Housing dataset\n",
      "--------------------------\n",
      "\n",
      "**Data Set Characteristics:**\n",
      "\n",
      "    :Number of Instances: 20640\n",
      "\n",
      "    :Number of Attributes: 8 numeric, predictive attributes and the target\n",
      "\n",
      "    :Attribute Information:\n",
      "        - MedInc        median income in block group\n",
      "        - HouseAge      median house age in block group\n",
      "        - AveRooms      average number of rooms per household\n",
      "        - AveBedrms     average number of bedrooms per household\n",
      "        - Population    block group population\n",
      "        - AveOccup      average number of household members\n",
      "        - Latitude      block group latitude\n",
      "        - Longitude     block group longitude\n",
      "\n",
      "    :Missing Attribute Values: None\n",
      "\n",
      "This dataset was obtained from the StatLib repository.\n",
      "https://www.dcc.fc.up.pt/~ltorgo/Regression/cal_housing.html\n",
      "\n",
      "The target variable is the median house value for California districts,\n",
      "expressed in hundreds of thousands of dollars ($100,000).\n",
      "\n",
      "This dataset was derived from the 1990 U.S. census, using one row per census\n",
      "block group. A block group is the smallest geographical unit for which the U.S.\n",
      "Census Bureau publishes sample data (a block group typically has a population\n",
      "of 600 to 3,000 people).\n",
      "\n",
      "A household is a group of people residing within a home. Since the average\n",
      "number of rooms and bedrooms in this dataset are provided per household, these\n",
      "columns may take surprisingly large values for block groups with few households\n",
      "and many empty houses, such as vacation resorts.\n",
      "\n",
      "It can be downloaded/loaded using the\n",
      ":func:`sklearn.datasets.fetch_california_housing` function.\n",
      "\n",
      ".. topic:: References\n",
      "\n",
      "    - Pace, R. Kelley and Ronald Barry, Sparse Spatial Autoregressions,\n",
      "      Statistics and Probability Letters, 33 (1997) 291-297\n",
      "\n"
     ]
    }
   ],
   "source": [
    "print(dataset.DESCR)"
   ]
  },
  {
   "cell_type": "code",
   "execution_count": 7,
   "id": "4ad169ff-99d0-400a-9d2b-fec1577931b6",
   "metadata": {},
   "outputs": [
    {
     "data": {
      "text/plain": [
       "array([[   8.3252    ,   41.        ,    6.98412698, ...,    2.55555556,\n",
       "          37.88      , -122.23      ],\n",
       "       [   8.3014    ,   21.        ,    6.23813708, ...,    2.10984183,\n",
       "          37.86      , -122.22      ],\n",
       "       [   7.2574    ,   52.        ,    8.28813559, ...,    2.80225989,\n",
       "          37.85      , -122.24      ],\n",
       "       ...,\n",
       "       [   1.7       ,   17.        ,    5.20554273, ...,    2.3256351 ,\n",
       "          39.43      , -121.22      ],\n",
       "       [   1.8672    ,   18.        ,    5.32951289, ...,    2.12320917,\n",
       "          39.43      , -121.32      ],\n",
       "       [   2.3886    ,   16.        ,    5.25471698, ...,    2.61698113,\n",
       "          39.37      , -121.24      ]])"
      ]
     },
     "execution_count": 7,
     "metadata": {},
     "output_type": "execute_result"
    }
   ],
   "source": [
    "dataset.data # sklearn-format 2-dimentional numpy array "
   ]
  },
  {
   "cell_type": "code",
   "execution_count": 8,
   "id": "bb96e73c-dd13-4e99-9dac-eb379485c4d4",
   "metadata": {},
   "outputs": [
    {
     "data": {
      "text/html": [
       "<div>\n",
       "<style scoped>\n",
       "    .dataframe tbody tr th:only-of-type {\n",
       "        vertical-align: middle;\n",
       "    }\n",
       "\n",
       "    .dataframe tbody tr th {\n",
       "        vertical-align: top;\n",
       "    }\n",
       "\n",
       "    .dataframe thead th {\n",
       "        text-align: right;\n",
       "    }\n",
       "</style>\n",
       "<table border=\"1\" class=\"dataframe\">\n",
       "  <thead>\n",
       "    <tr style=\"text-align: right;\">\n",
       "      <th></th>\n",
       "      <th>MedInc</th>\n",
       "      <th>HouseAge</th>\n",
       "      <th>AveRooms</th>\n",
       "      <th>AveBedrms</th>\n",
       "      <th>Population</th>\n",
       "      <th>AveOccup</th>\n",
       "      <th>Latitude</th>\n",
       "      <th>Longitude</th>\n",
       "      <th>MedHouseVal</th>\n",
       "    </tr>\n",
       "  </thead>\n",
       "  <tbody>\n",
       "    <tr>\n",
       "      <th>0</th>\n",
       "      <td>8.3252</td>\n",
       "      <td>41.0</td>\n",
       "      <td>6.984127</td>\n",
       "      <td>1.023810</td>\n",
       "      <td>322.0</td>\n",
       "      <td>2.555556</td>\n",
       "      <td>37.88</td>\n",
       "      <td>-122.23</td>\n",
       "      <td>4.526</td>\n",
       "    </tr>\n",
       "    <tr>\n",
       "      <th>1</th>\n",
       "      <td>8.3014</td>\n",
       "      <td>21.0</td>\n",
       "      <td>6.238137</td>\n",
       "      <td>0.971880</td>\n",
       "      <td>2401.0</td>\n",
       "      <td>2.109842</td>\n",
       "      <td>37.86</td>\n",
       "      <td>-122.22</td>\n",
       "      <td>3.585</td>\n",
       "    </tr>\n",
       "    <tr>\n",
       "      <th>2</th>\n",
       "      <td>7.2574</td>\n",
       "      <td>52.0</td>\n",
       "      <td>8.288136</td>\n",
       "      <td>1.073446</td>\n",
       "      <td>496.0</td>\n",
       "      <td>2.802260</td>\n",
       "      <td>37.85</td>\n",
       "      <td>-122.24</td>\n",
       "      <td>3.521</td>\n",
       "    </tr>\n",
       "    <tr>\n",
       "      <th>3</th>\n",
       "      <td>5.6431</td>\n",
       "      <td>52.0</td>\n",
       "      <td>5.817352</td>\n",
       "      <td>1.073059</td>\n",
       "      <td>558.0</td>\n",
       "      <td>2.547945</td>\n",
       "      <td>37.85</td>\n",
       "      <td>-122.25</td>\n",
       "      <td>3.413</td>\n",
       "    </tr>\n",
       "    <tr>\n",
       "      <th>4</th>\n",
       "      <td>3.8462</td>\n",
       "      <td>52.0</td>\n",
       "      <td>6.281853</td>\n",
       "      <td>1.081081</td>\n",
       "      <td>565.0</td>\n",
       "      <td>2.181467</td>\n",
       "      <td>37.85</td>\n",
       "      <td>-122.25</td>\n",
       "      <td>3.422</td>\n",
       "    </tr>\n",
       "    <tr>\n",
       "      <th>...</th>\n",
       "      <td>...</td>\n",
       "      <td>...</td>\n",
       "      <td>...</td>\n",
       "      <td>...</td>\n",
       "      <td>...</td>\n",
       "      <td>...</td>\n",
       "      <td>...</td>\n",
       "      <td>...</td>\n",
       "      <td>...</td>\n",
       "    </tr>\n",
       "    <tr>\n",
       "      <th>20635</th>\n",
       "      <td>1.5603</td>\n",
       "      <td>25.0</td>\n",
       "      <td>5.045455</td>\n",
       "      <td>1.133333</td>\n",
       "      <td>845.0</td>\n",
       "      <td>2.560606</td>\n",
       "      <td>39.48</td>\n",
       "      <td>-121.09</td>\n",
       "      <td>0.781</td>\n",
       "    </tr>\n",
       "    <tr>\n",
       "      <th>20636</th>\n",
       "      <td>2.5568</td>\n",
       "      <td>18.0</td>\n",
       "      <td>6.114035</td>\n",
       "      <td>1.315789</td>\n",
       "      <td>356.0</td>\n",
       "      <td>3.122807</td>\n",
       "      <td>39.49</td>\n",
       "      <td>-121.21</td>\n",
       "      <td>0.771</td>\n",
       "    </tr>\n",
       "    <tr>\n",
       "      <th>20637</th>\n",
       "      <td>1.7000</td>\n",
       "      <td>17.0</td>\n",
       "      <td>5.205543</td>\n",
       "      <td>1.120092</td>\n",
       "      <td>1007.0</td>\n",
       "      <td>2.325635</td>\n",
       "      <td>39.43</td>\n",
       "      <td>-121.22</td>\n",
       "      <td>0.923</td>\n",
       "    </tr>\n",
       "    <tr>\n",
       "      <th>20638</th>\n",
       "      <td>1.8672</td>\n",
       "      <td>18.0</td>\n",
       "      <td>5.329513</td>\n",
       "      <td>1.171920</td>\n",
       "      <td>741.0</td>\n",
       "      <td>2.123209</td>\n",
       "      <td>39.43</td>\n",
       "      <td>-121.32</td>\n",
       "      <td>0.847</td>\n",
       "    </tr>\n",
       "    <tr>\n",
       "      <th>20639</th>\n",
       "      <td>2.3886</td>\n",
       "      <td>16.0</td>\n",
       "      <td>5.254717</td>\n",
       "      <td>1.162264</td>\n",
       "      <td>1387.0</td>\n",
       "      <td>2.616981</td>\n",
       "      <td>39.37</td>\n",
       "      <td>-121.24</td>\n",
       "      <td>0.894</td>\n",
       "    </tr>\n",
       "  </tbody>\n",
       "</table>\n",
       "<p>20640 rows × 9 columns</p>\n",
       "</div>"
      ],
      "text/plain": [
       "       MedInc  HouseAge  AveRooms  AveBedrms  Population  AveOccup  Latitude  \\\n",
       "0      8.3252      41.0  6.984127   1.023810       322.0  2.555556     37.88   \n",
       "1      8.3014      21.0  6.238137   0.971880      2401.0  2.109842     37.86   \n",
       "2      7.2574      52.0  8.288136   1.073446       496.0  2.802260     37.85   \n",
       "3      5.6431      52.0  5.817352   1.073059       558.0  2.547945     37.85   \n",
       "4      3.8462      52.0  6.281853   1.081081       565.0  2.181467     37.85   \n",
       "...       ...       ...       ...        ...         ...       ...       ...   \n",
       "20635  1.5603      25.0  5.045455   1.133333       845.0  2.560606     39.48   \n",
       "20636  2.5568      18.0  6.114035   1.315789       356.0  3.122807     39.49   \n",
       "20637  1.7000      17.0  5.205543   1.120092      1007.0  2.325635     39.43   \n",
       "20638  1.8672      18.0  5.329513   1.171920       741.0  2.123209     39.43   \n",
       "20639  2.3886      16.0  5.254717   1.162264      1387.0  2.616981     39.37   \n",
       "\n",
       "       Longitude  MedHouseVal  \n",
       "0        -122.23        4.526  \n",
       "1        -122.22        3.585  \n",
       "2        -122.24        3.521  \n",
       "3        -122.25        3.413  \n",
       "4        -122.25        3.422  \n",
       "...          ...          ...  \n",
       "20635    -121.09        0.781  \n",
       "20636    -121.21        0.771  \n",
       "20637    -121.22        0.923  \n",
       "20638    -121.32        0.847  \n",
       "20639    -121.24        0.894  \n",
       "\n",
       "[20640 rows x 9 columns]"
      ]
     },
     "execution_count": 8,
     "metadata": {},
     "output_type": "execute_result"
    }
   ],
   "source": [
    "dataset = fetch_california_housing(as_frame = True)\n",
    "dataset.frame"
   ]
  },
  {
   "cell_type": "code",
   "execution_count": 9,
   "id": "42c46d20-ed9c-4328-aee1-3a5e41152136",
   "metadata": {},
   "outputs": [],
   "source": [
    "house_data = dataset.frame"
   ]
  },
  {
   "cell_type": "code",
   "execution_count": 10,
   "id": "d1f4b654-a2d2-4372-b4a7-b451c83f9098",
   "metadata": {},
   "outputs": [
    {
     "data": {
      "image/png": "[encoded data removed]",
      "text/plain": [
       "<Figure size 1200x800 with 1 Axes>"
      ]
     },
     "metadata": {},
     "output_type": "display_data"
    }
   ],
   "source": [
    "plt.figure(figsize=(12, 8))\n",
    "plt.hist(house_data.MedInc, bins = 'fd')\n",
    "plt.show()"
   ]
  },
  {
   "cell_type": "code",
   "execution_count": 11,
   "id": "5bdcf51b-6cc0-4022-ac70-4f0efd53b38c",
   "metadata": {
    "scrolled": true
   },
   "outputs": [
    {
     "data": {
      "text/html": [
       "<div>\n",
       "<style scoped>\n",
       "    .dataframe tbody tr th:only-of-type {\n",
       "        vertical-align: middle;\n",
       "    }\n",
       "\n",
       "    .dataframe tbody tr th {\n",
       "        vertical-align: top;\n",
       "    }\n",
       "\n",
       "    .dataframe thead th {\n",
       "        text-align: right;\n",
       "    }\n",
       "</style>\n",
       "<table border=\"1\" class=\"dataframe\">\n",
       "  <thead>\n",
       "    <tr style=\"text-align: right;\">\n",
       "      <th></th>\n",
       "      <th>MedInc</th>\n",
       "      <th>HouseAge</th>\n",
       "      <th>AveRooms</th>\n",
       "      <th>AveBedrms</th>\n",
       "      <th>Population</th>\n",
       "      <th>AveOccup</th>\n",
       "      <th>Latitude</th>\n",
       "      <th>Longitude</th>\n",
       "      <th>MedHouseVal</th>\n",
       "    </tr>\n",
       "  </thead>\n",
       "  <tbody>\n",
       "    <tr>\n",
       "      <th>1566</th>\n",
       "      <td>15.0001</td>\n",
       "      <td>2.0</td>\n",
       "      <td>22.222222</td>\n",
       "      <td>2.222222</td>\n",
       "      <td>25.0</td>\n",
       "      <td>2.777778</td>\n",
       "      <td>37.74</td>\n",
       "      <td>-121.96</td>\n",
       "      <td>3.50000</td>\n",
       "    </tr>\n",
       "    <tr>\n",
       "      <th>4352</th>\n",
       "      <td>15.0001</td>\n",
       "      <td>37.0</td>\n",
       "      <td>8.659574</td>\n",
       "      <td>1.425532</td>\n",
       "      <td>100.0</td>\n",
       "      <td>2.127660</td>\n",
       "      <td>34.10</td>\n",
       "      <td>-118.37</td>\n",
       "      <td>5.00001</td>\n",
       "    </tr>\n",
       "    <tr>\n",
       "      <th>4604</th>\n",
       "      <td>15.0001</td>\n",
       "      <td>52.0</td>\n",
       "      <td>8.444954</td>\n",
       "      <td>1.100917</td>\n",
       "      <td>693.0</td>\n",
       "      <td>3.178899</td>\n",
       "      <td>34.06</td>\n",
       "      <td>-118.33</td>\n",
       "      <td>5.00001</td>\n",
       "    </tr>\n",
       "    <tr>\n",
       "      <th>4605</th>\n",
       "      <td>15.0001</td>\n",
       "      <td>52.0</td>\n",
       "      <td>8.483019</td>\n",
       "      <td>0.962264</td>\n",
       "      <td>813.0</td>\n",
       "      <td>3.067925</td>\n",
       "      <td>34.07</td>\n",
       "      <td>-118.33</td>\n",
       "      <td>5.00001</td>\n",
       "    </tr>\n",
       "    <tr>\n",
       "      <th>4606</th>\n",
       "      <td>15.0001</td>\n",
       "      <td>52.0</td>\n",
       "      <td>9.204969</td>\n",
       "      <td>1.062112</td>\n",
       "      <td>531.0</td>\n",
       "      <td>3.298137</td>\n",
       "      <td>34.07</td>\n",
       "      <td>-118.33</td>\n",
       "      <td>5.00001</td>\n",
       "    </tr>\n",
       "    <tr>\n",
       "      <th>4626</th>\n",
       "      <td>15.0001</td>\n",
       "      <td>52.0</td>\n",
       "      <td>7.958333</td>\n",
       "      <td>0.833333</td>\n",
       "      <td>457.0</td>\n",
       "      <td>3.808333</td>\n",
       "      <td>34.06</td>\n",
       "      <td>-118.32</td>\n",
       "      <td>5.00001</td>\n",
       "    </tr>\n",
       "    <tr>\n",
       "      <th>4678</th>\n",
       "      <td>15.0001</td>\n",
       "      <td>52.0</td>\n",
       "      <td>8.780612</td>\n",
       "      <td>0.994898</td>\n",
       "      <td>688.0</td>\n",
       "      <td>3.510204</td>\n",
       "      <td>34.08</td>\n",
       "      <td>-118.34</td>\n",
       "      <td>5.00001</td>\n",
       "    </tr>\n",
       "    <tr>\n",
       "      <th>5242</th>\n",
       "      <td>15.0001</td>\n",
       "      <td>32.0</td>\n",
       "      <td>8.002869</td>\n",
       "      <td>1.080344</td>\n",
       "      <td>1567.0</td>\n",
       "      <td>2.248207</td>\n",
       "      <td>34.11</td>\n",
       "      <td>-118.40</td>\n",
       "      <td>5.00001</td>\n",
       "    </tr>\n",
       "    <tr>\n",
       "      <th>5247</th>\n",
       "      <td>15.0001</td>\n",
       "      <td>36.0</td>\n",
       "      <td>9.368263</td>\n",
       "      <td>1.173653</td>\n",
       "      <td>862.0</td>\n",
       "      <td>2.580838</td>\n",
       "      <td>34.09</td>\n",
       "      <td>-118.44</td>\n",
       "      <td>5.00001</td>\n",
       "    </tr>\n",
       "    <tr>\n",
       "      <th>5248</th>\n",
       "      <td>15.0001</td>\n",
       "      <td>46.0</td>\n",
       "      <td>8.365591</td>\n",
       "      <td>0.967742</td>\n",
       "      <td>238.0</td>\n",
       "      <td>2.559140</td>\n",
       "      <td>34.08</td>\n",
       "      <td>-118.43</td>\n",
       "      <td>5.00001</td>\n",
       "    </tr>\n",
       "    <tr>\n",
       "      <th>5257</th>\n",
       "      <td>15.0001</td>\n",
       "      <td>42.0</td>\n",
       "      <td>9.229032</td>\n",
       "      <td>1.161290</td>\n",
       "      <td>829.0</td>\n",
       "      <td>2.674194</td>\n",
       "      <td>34.06</td>\n",
       "      <td>-118.49</td>\n",
       "      <td>5.00001</td>\n",
       "    </tr>\n",
       "    <tr>\n",
       "      <th>5275</th>\n",
       "      <td>15.0001</td>\n",
       "      <td>36.0</td>\n",
       "      <td>7.549091</td>\n",
       "      <td>0.985455</td>\n",
       "      <td>1461.0</td>\n",
       "      <td>2.656364</td>\n",
       "      <td>34.05</td>\n",
       "      <td>-118.50</td>\n",
       "      <td>5.00001</td>\n",
       "    </tr>\n",
       "    <tr>\n",
       "      <th>5281</th>\n",
       "      <td>15.0001</td>\n",
       "      <td>42.0</td>\n",
       "      <td>8.562500</td>\n",
       "      <td>0.964286</td>\n",
       "      <td>632.0</td>\n",
       "      <td>2.821429</td>\n",
       "      <td>34.05</td>\n",
       "      <td>-118.49</td>\n",
       "      <td>5.00001</td>\n",
       "    </tr>\n",
       "    <tr>\n",
       "      <th>5291</th>\n",
       "      <td>15.0001</td>\n",
       "      <td>46.0</td>\n",
       "      <td>9.203947</td>\n",
       "      <td>0.973684</td>\n",
       "      <td>410.0</td>\n",
       "      <td>2.697368</td>\n",
       "      <td>34.08</td>\n",
       "      <td>-118.42</td>\n",
       "      <td>5.00001</td>\n",
       "    </tr>\n",
       "    <tr>\n",
       "      <th>6391</th>\n",
       "      <td>15.0001</td>\n",
       "      <td>37.0</td>\n",
       "      <td>8.761062</td>\n",
       "      <td>1.000000</td>\n",
       "      <td>697.0</td>\n",
       "      <td>3.084071</td>\n",
       "      <td>34.15</td>\n",
       "      <td>-118.06</td>\n",
       "      <td>5.00001</td>\n",
       "    </tr>\n",
       "    <tr>\n",
       "      <th>6399</th>\n",
       "      <td>15.0001</td>\n",
       "      <td>35.0</td>\n",
       "      <td>8.586207</td>\n",
       "      <td>1.068966</td>\n",
       "      <td>268.0</td>\n",
       "      <td>9.241379</td>\n",
       "      <td>34.13</td>\n",
       "      <td>-118.04</td>\n",
       "      <td>5.00001</td>\n",
       "    </tr>\n",
       "    <tr>\n",
       "      <th>6590</th>\n",
       "      <td>15.0001</td>\n",
       "      <td>48.0</td>\n",
       "      <td>8.845161</td>\n",
       "      <td>1.058065</td>\n",
       "      <td>528.0</td>\n",
       "      <td>3.406452</td>\n",
       "      <td>34.19</td>\n",
       "      <td>-118.18</td>\n",
       "      <td>5.00001</td>\n",
       "    </tr>\n",
       "    <tr>\n",
       "      <th>6591</th>\n",
       "      <td>15.0001</td>\n",
       "      <td>34.0</td>\n",
       "      <td>8.114173</td>\n",
       "      <td>1.023622</td>\n",
       "      <td>825.0</td>\n",
       "      <td>3.248031</td>\n",
       "      <td>34.19</td>\n",
       "      <td>-118.19</td>\n",
       "      <td>5.00001</td>\n",
       "    </tr>\n",
       "    <tr>\n",
       "      <th>6592</th>\n",
       "      <td>15.0001</td>\n",
       "      <td>38.0</td>\n",
       "      <td>8.954733</td>\n",
       "      <td>1.094650</td>\n",
       "      <td>798.0</td>\n",
       "      <td>3.283951</td>\n",
       "      <td>34.19</td>\n",
       "      <td>-118.20</td>\n",
       "      <td>5.00001</td>\n",
       "    </tr>\n",
       "    <tr>\n",
       "      <th>6727</th>\n",
       "      <td>15.0001</td>\n",
       "      <td>52.0</td>\n",
       "      <td>10.419355</td>\n",
       "      <td>1.136201</td>\n",
       "      <td>956.0</td>\n",
       "      <td>3.426523</td>\n",
       "      <td>34.12</td>\n",
       "      <td>-118.12</td>\n",
       "      <td>5.00001</td>\n",
       "    </tr>\n",
       "    <tr>\n",
       "      <th>6736</th>\n",
       "      <td>15.0001</td>\n",
       "      <td>47.0</td>\n",
       "      <td>8.592308</td>\n",
       "      <td>1.061538</td>\n",
       "      <td>749.0</td>\n",
       "      <td>2.880769</td>\n",
       "      <td>34.13</td>\n",
       "      <td>-118.10</td>\n",
       "      <td>5.00001</td>\n",
       "    </tr>\n",
       "    <tr>\n",
       "      <th>8805</th>\n",
       "      <td>15.0001</td>\n",
       "      <td>34.0</td>\n",
       "      <td>8.783019</td>\n",
       "      <td>1.059748</td>\n",
       "      <td>1871.0</td>\n",
       "      <td>2.941824</td>\n",
       "      <td>33.76</td>\n",
       "      <td>-118.34</td>\n",
       "      <td>5.00001</td>\n",
       "    </tr>\n",
       "    <tr>\n",
       "      <th>8846</th>\n",
       "      <td>15.0001</td>\n",
       "      <td>27.0</td>\n",
       "      <td>7.651923</td>\n",
       "      <td>0.980769</td>\n",
       "      <td>1351.0</td>\n",
       "      <td>2.598077</td>\n",
       "      <td>34.10</td>\n",
       "      <td>-118.40</td>\n",
       "      <td>5.00001</td>\n",
       "    </tr>\n",
       "    <tr>\n",
       "      <th>8847</th>\n",
       "      <td>15.0001</td>\n",
       "      <td>45.0</td>\n",
       "      <td>10.370656</td>\n",
       "      <td>1.092664</td>\n",
       "      <td>857.0</td>\n",
       "      <td>3.308880</td>\n",
       "      <td>34.09</td>\n",
       "      <td>-118.40</td>\n",
       "      <td>5.00001</td>\n",
       "    </tr>\n",
       "    <tr>\n",
       "      <th>8848</th>\n",
       "      <td>15.0001</td>\n",
       "      <td>52.0</td>\n",
       "      <td>8.907583</td>\n",
       "      <td>1.099526</td>\n",
       "      <td>1407.0</td>\n",
       "      <td>3.334123</td>\n",
       "      <td>34.08</td>\n",
       "      <td>-118.39</td>\n",
       "      <td>5.00001</td>\n",
       "    </tr>\n",
       "    <tr>\n",
       "      <th>8849</th>\n",
       "      <td>15.0001</td>\n",
       "      <td>52.0</td>\n",
       "      <td>9.237288</td>\n",
       "      <td>1.062954</td>\n",
       "      <td>1266.0</td>\n",
       "      <td>3.065375</td>\n",
       "      <td>34.08</td>\n",
       "      <td>-118.40</td>\n",
       "      <td>5.00001</td>\n",
       "    </tr>\n",
       "    <tr>\n",
       "      <th>8850</th>\n",
       "      <td>15.0001</td>\n",
       "      <td>37.0</td>\n",
       "      <td>9.333333</td>\n",
       "      <td>1.037801</td>\n",
       "      <td>809.0</td>\n",
       "      <td>2.780069</td>\n",
       "      <td>34.09</td>\n",
       "      <td>-118.41</td>\n",
       "      <td>5.00001</td>\n",
       "    </tr>\n",
       "    <tr>\n",
       "      <th>8851</th>\n",
       "      <td>15.0001</td>\n",
       "      <td>40.0</td>\n",
       "      <td>9.600000</td>\n",
       "      <td>1.059459</td>\n",
       "      <td>1024.0</td>\n",
       "      <td>2.767568</td>\n",
       "      <td>34.09</td>\n",
       "      <td>-118.42</td>\n",
       "      <td>5.00001</td>\n",
       "    </tr>\n",
       "    <tr>\n",
       "      <th>8852</th>\n",
       "      <td>15.0001</td>\n",
       "      <td>48.0</td>\n",
       "      <td>9.729839</td>\n",
       "      <td>1.052419</td>\n",
       "      <td>770.0</td>\n",
       "      <td>3.104839</td>\n",
       "      <td>34.08</td>\n",
       "      <td>-118.42</td>\n",
       "      <td>5.00001</td>\n",
       "    </tr>\n",
       "    <tr>\n",
       "      <th>8853</th>\n",
       "      <td>15.0001</td>\n",
       "      <td>52.0</td>\n",
       "      <td>9.867036</td>\n",
       "      <td>1.091413</td>\n",
       "      <td>1163.0</td>\n",
       "      <td>3.221607</td>\n",
       "      <td>34.07</td>\n",
       "      <td>-118.41</td>\n",
       "      <td>5.00001</td>\n",
       "    </tr>\n",
       "    <tr>\n",
       "      <th>8854</th>\n",
       "      <td>15.0001</td>\n",
       "      <td>52.0</td>\n",
       "      <td>8.710145</td>\n",
       "      <td>1.028986</td>\n",
       "      <td>408.0</td>\n",
       "      <td>2.956522</td>\n",
       "      <td>34.07</td>\n",
       "      <td>-118.41</td>\n",
       "      <td>5.00001</td>\n",
       "    </tr>\n",
       "    <tr>\n",
       "      <th>8878</th>\n",
       "      <td>15.0001</td>\n",
       "      <td>52.0</td>\n",
       "      <td>8.000000</td>\n",
       "      <td>0.997333</td>\n",
       "      <td>1143.0</td>\n",
       "      <td>3.048000</td>\n",
       "      <td>34.04</td>\n",
       "      <td>-118.50</td>\n",
       "      <td>5.00001</td>\n",
       "    </tr>\n",
       "    <tr>\n",
       "      <th>10673</th>\n",
       "      <td>15.0001</td>\n",
       "      <td>13.0</td>\n",
       "      <td>7.842900</td>\n",
       "      <td>0.993958</td>\n",
       "      <td>1865.0</td>\n",
       "      <td>2.817221</td>\n",
       "      <td>33.62</td>\n",
       "      <td>-117.85</td>\n",
       "      <td>5.00001</td>\n",
       "    </tr>\n",
       "    <tr>\n",
       "      <th>10760</th>\n",
       "      <td>15.0001</td>\n",
       "      <td>15.0</td>\n",
       "      <td>8.062044</td>\n",
       "      <td>1.003650</td>\n",
       "      <td>735.0</td>\n",
       "      <td>2.682482</td>\n",
       "      <td>33.62</td>\n",
       "      <td>-117.87</td>\n",
       "      <td>5.00001</td>\n",
       "    </tr>\n",
       "    <tr>\n",
       "      <th>11520</th>\n",
       "      <td>15.0001</td>\n",
       "      <td>14.0</td>\n",
       "      <td>8.354232</td>\n",
       "      <td>1.037618</td>\n",
       "      <td>964.0</td>\n",
       "      <td>3.021944</td>\n",
       "      <td>33.72</td>\n",
       "      <td>-118.06</td>\n",
       "      <td>5.00001</td>\n",
       "    </tr>\n",
       "    <tr>\n",
       "      <th>15241</th>\n",
       "      <td>15.0001</td>\n",
       "      <td>17.0</td>\n",
       "      <td>8.520376</td>\n",
       "      <td>1.021944</td>\n",
       "      <td>1011.0</td>\n",
       "      <td>3.169279</td>\n",
       "      <td>32.99</td>\n",
       "      <td>-117.23</td>\n",
       "      <td>5.00001</td>\n",
       "    </tr>\n",
       "    <tr>\n",
       "      <th>15693</th>\n",
       "      <td>15.0001</td>\n",
       "      <td>52.0</td>\n",
       "      <td>7.994475</td>\n",
       "      <td>1.027624</td>\n",
       "      <td>483.0</td>\n",
       "      <td>2.668508</td>\n",
       "      <td>37.79</td>\n",
       "      <td>-122.44</td>\n",
       "      <td>5.00001</td>\n",
       "    </tr>\n",
       "    <tr>\n",
       "      <th>16171</th>\n",
       "      <td>15.0001</td>\n",
       "      <td>52.0</td>\n",
       "      <td>8.000000</td>\n",
       "      <td>1.000000</td>\n",
       "      <td>13.0</td>\n",
       "      <td>13.000000</td>\n",
       "      <td>37.79</td>\n",
       "      <td>-122.50</td>\n",
       "      <td>5.00001</td>\n",
       "    </tr>\n",
       "    <tr>\n",
       "      <th>16910</th>\n",
       "      <td>15.0001</td>\n",
       "      <td>32.0</td>\n",
       "      <td>9.166341</td>\n",
       "      <td>1.056751</td>\n",
       "      <td>1512.0</td>\n",
       "      <td>2.958904</td>\n",
       "      <td>37.56</td>\n",
       "      <td>-122.36</td>\n",
       "      <td>5.00001</td>\n",
       "    </tr>\n",
       "    <tr>\n",
       "      <th>17107</th>\n",
       "      <td>15.0001</td>\n",
       "      <td>31.0</td>\n",
       "      <td>9.425101</td>\n",
       "      <td>1.093117</td>\n",
       "      <td>722.0</td>\n",
       "      <td>2.923077</td>\n",
       "      <td>37.44</td>\n",
       "      <td>-122.20</td>\n",
       "      <td>5.00001</td>\n",
       "    </tr>\n",
       "    <tr>\n",
       "      <th>17108</th>\n",
       "      <td>15.0001</td>\n",
       "      <td>32.0</td>\n",
       "      <td>8.845041</td>\n",
       "      <td>1.035124</td>\n",
       "      <td>1318.0</td>\n",
       "      <td>2.723140</td>\n",
       "      <td>37.44</td>\n",
       "      <td>-122.22</td>\n",
       "      <td>5.00001</td>\n",
       "    </tr>\n",
       "    <tr>\n",
       "      <th>17110</th>\n",
       "      <td>15.0001</td>\n",
       "      <td>40.0</td>\n",
       "      <td>8.584541</td>\n",
       "      <td>1.000000</td>\n",
       "      <td>577.0</td>\n",
       "      <td>2.787440</td>\n",
       "      <td>37.46</td>\n",
       "      <td>-122.21</td>\n",
       "      <td>5.00001</td>\n",
       "    </tr>\n",
       "    <tr>\n",
       "      <th>17111</th>\n",
       "      <td>15.0001</td>\n",
       "      <td>40.0</td>\n",
       "      <td>9.802326</td>\n",
       "      <td>1.135659</td>\n",
       "      <td>831.0</td>\n",
       "      <td>3.220930</td>\n",
       "      <td>37.46</td>\n",
       "      <td>-122.18</td>\n",
       "      <td>5.00001</td>\n",
       "    </tr>\n",
       "    <tr>\n",
       "      <th>17118</th>\n",
       "      <td>15.0001</td>\n",
       "      <td>46.0</td>\n",
       "      <td>6.000000</td>\n",
       "      <td>0.800000</td>\n",
       "      <td>13.0</td>\n",
       "      <td>2.600000</td>\n",
       "      <td>37.50</td>\n",
       "      <td>-122.14</td>\n",
       "      <td>5.00001</td>\n",
       "    </tr>\n",
       "    <tr>\n",
       "      <th>17166</th>\n",
       "      <td>15.0001</td>\n",
       "      <td>32.0</td>\n",
       "      <td>8.116608</td>\n",
       "      <td>1.014134</td>\n",
       "      <td>814.0</td>\n",
       "      <td>2.876325</td>\n",
       "      <td>37.40</td>\n",
       "      <td>-122.22</td>\n",
       "      <td>5.00001</td>\n",
       "    </tr>\n",
       "    <tr>\n",
       "      <th>17170</th>\n",
       "      <td>15.0001</td>\n",
       "      <td>33.0</td>\n",
       "      <td>7.446512</td>\n",
       "      <td>1.037209</td>\n",
       "      <td>629.0</td>\n",
       "      <td>2.925581</td>\n",
       "      <td>37.43</td>\n",
       "      <td>-122.27</td>\n",
       "      <td>5.00001</td>\n",
       "    </tr>\n",
       "    <tr>\n",
       "      <th>17858</th>\n",
       "      <td>15.0001</td>\n",
       "      <td>43.0</td>\n",
       "      <td>5.687500</td>\n",
       "      <td>0.750000</td>\n",
       "      <td>58.0</td>\n",
       "      <td>3.625000</td>\n",
       "      <td>37.46</td>\n",
       "      <td>-121.87</td>\n",
       "      <td>5.00001</td>\n",
       "    </tr>\n",
       "    <tr>\n",
       "      <th>18501</th>\n",
       "      <td>15.0001</td>\n",
       "      <td>52.0</td>\n",
       "      <td>8.461538</td>\n",
       "      <td>1.230769</td>\n",
       "      <td>55.0</td>\n",
       "      <td>2.115385</td>\n",
       "      <td>37.19</td>\n",
       "      <td>-121.59</td>\n",
       "      <td>1.31300</td>\n",
       "    </tr>\n",
       "    <tr>\n",
       "      <th>18504</th>\n",
       "      <td>15.0001</td>\n",
       "      <td>26.0</td>\n",
       "      <td>12.500000</td>\n",
       "      <td>1.250000</td>\n",
       "      <td>17.0</td>\n",
       "      <td>4.250000</td>\n",
       "      <td>37.13</td>\n",
       "      <td>-121.96</td>\n",
       "      <td>4.00000</td>\n",
       "    </tr>\n",
       "  </tbody>\n",
       "</table>\n",
       "</div>"
      ],
      "text/plain": [
       "        MedInc  HouseAge   AveRooms  AveBedrms  Population   AveOccup  \\\n",
       "1566   15.0001       2.0  22.222222   2.222222        25.0   2.777778   \n",
       "4352   15.0001      37.0   8.659574   1.425532       100.0   2.127660   \n",
       "4604   15.0001      52.0   8.444954   1.100917       693.0   3.178899   \n",
       "4605   15.0001      52.0   8.483019   0.962264       813.0   3.067925   \n",
       "4606   15.0001      52.0   9.204969   1.062112       531.0   3.298137   \n",
       "4626   15.0001      52.0   7.958333   0.833333       457.0   3.808333   \n",
       "4678   15.0001      52.0   8.780612   0.994898       688.0   3.510204   \n",
       "5242   15.0001      32.0   8.002869   1.080344      1567.0   2.248207   \n",
       "5247   15.0001      36.0   9.368263   1.173653       862.0   2.580838   \n",
       "5248   15.0001      46.0   8.365591   0.967742       238.0   2.559140   \n",
       "5257   15.0001      42.0   9.229032   1.161290       829.0   2.674194   \n",
       "5275   15.0001      36.0   7.549091   0.985455      1461.0   2.656364   \n",
       "5281   15.0001      42.0   8.562500   0.964286       632.0   2.821429   \n",
       "5291   15.0001      46.0   9.203947   0.973684       410.0   2.697368   \n",
       "6391   15.0001      37.0   8.761062   1.000000       697.0   3.084071   \n",
       "6399   15.0001      35.0   8.586207   1.068966       268.0   9.241379   \n",
       "6590   15.0001      48.0   8.845161   1.058065       528.0   3.406452   \n",
       "6591   15.0001      34.0   8.114173   1.023622       825.0   3.248031   \n",
       "6592   15.0001      38.0   8.954733   1.094650       798.0   3.283951   \n",
       "6727   15.0001      52.0  10.419355   1.136201       956.0   3.426523   \n",
       "6736   15.0001      47.0   8.592308   1.061538       749.0   2.880769   \n",
       "8805   15.0001      34.0   8.783019   1.059748      1871.0   2.941824   \n",
       "8846   15.0001      27.0   7.651923   0.980769      1351.0   2.598077   \n",
       "8847   15.0001      45.0  10.370656   1.092664       857.0   3.308880   \n",
       "8848   15.0001      52.0   8.907583   1.099526      1407.0   3.334123   \n",
       "8849   15.0001      52.0   9.237288   1.062954      1266.0   3.065375   \n",
       "8850   15.0001      37.0   9.333333   1.037801       809.0   2.780069   \n",
       "8851   15.0001      40.0   9.600000   1.059459      1024.0   2.767568   \n",
       "8852   15.0001      48.0   9.729839   1.052419       770.0   3.104839   \n",
       "8853   15.0001      52.0   9.867036   1.091413      1163.0   3.221607   \n",
       "8854   15.0001      52.0   8.710145   1.028986       408.0   2.956522   \n",
       "8878   15.0001      52.0   8.000000   0.997333      1143.0   3.048000   \n",
       "10673  15.0001      13.0   7.842900   0.993958      1865.0   2.817221   \n",
       "10760  15.0001      15.0   8.062044   1.003650       735.0   2.682482   \n",
       "11520  15.0001      14.0   8.354232   1.037618       964.0   3.021944   \n",
       "15241  15.0001      17.0   8.520376   1.021944      1011.0   3.169279   \n",
       "15693  15.0001      52.0   7.994475   1.027624       483.0   2.668508   \n",
       "16171  15.0001      52.0   8.000000   1.000000        13.0  13.000000   \n",
       "16910  15.0001      32.0   9.166341   1.056751      1512.0   2.958904   \n",
       "17107  15.0001      31.0   9.425101   1.093117       722.0   2.923077   \n",
       "17108  15.0001      32.0   8.845041   1.035124      1318.0   2.723140   \n",
       "17110  15.0001      40.0   8.584541   1.000000       577.0   2.787440   \n",
       "17111  15.0001      40.0   9.802326   1.135659       831.0   3.220930   \n",
       "17118  15.0001      46.0   6.000000   0.800000        13.0   2.600000   \n",
       "17166  15.0001      32.0   8.116608   1.014134       814.0   2.876325   \n",
       "17170  15.0001      33.0   7.446512   1.037209       629.0   2.925581   \n",
       "17858  15.0001      43.0   5.687500   0.750000        58.0   3.625000   \n",
       "18501  15.0001      52.0   8.461538   1.230769        55.0   2.115385   \n",
       "18504  15.0001      26.0  12.500000   1.250000        17.0   4.250000   \n",
       "\n",
       "       Latitude  Longitude  MedHouseVal  \n",
       "1566      37.74    -121.96      3.50000  \n",
       "4352      34.10    -118.37      5.00001  \n",
       "4604      34.06    -118.33      5.00001  \n",
       "4605      34.07    -118.33      5.00001  \n",
       "4606      34.07    -118.33      5.00001  \n",
       "4626      34.06    -118.32      5.00001  \n",
       "4678      34.08    -118.34      5.00001  \n",
       "5242      34.11    -118.40      5.00001  \n",
       "5247      34.09    -118.44      5.00001  \n",
       "5248      34.08    -118.43      5.00001  \n",
       "5257      34.06    -118.49      5.00001  \n",
       "5275      34.05    -118.50      5.00001  \n",
       "5281      34.05    -118.49      5.00001  \n",
       "5291      34.08    -118.42      5.00001  \n",
       "6391      34.15    -118.06      5.00001  \n",
       "6399      34.13    -118.04      5.00001  \n",
       "6590      34.19    -118.18      5.00001  \n",
       "6591      34.19    -118.19      5.00001  \n",
       "6592      34.19    -118.20      5.00001  \n",
       "6727      34.12    -118.12      5.00001  \n",
       "6736      34.13    -118.10      5.00001  \n",
       "8805      33.76    -118.34      5.00001  \n",
       "8846      34.10    -118.40      5.00001  \n",
       "8847      34.09    -118.40      5.00001  \n",
       "8848      34.08    -118.39      5.00001  \n",
       "8849      34.08    -118.40      5.00001  \n",
       "8850      34.09    -118.41      5.00001  \n",
       "8851      34.09    -118.42      5.00001  \n",
       "8852      34.08    -118.42      5.00001  \n",
       "8853      34.07    -118.41      5.00001  \n",
       "8854      34.07    -118.41      5.00001  \n",
       "8878      34.04    -118.50      5.00001  \n",
       "10673     33.62    -117.85      5.00001  \n",
       "10760     33.62    -117.87      5.00001  \n",
       "11520     33.72    -118.06      5.00001  \n",
       "15241     32.99    -117.23      5.00001  \n",
       "15693     37.79    -122.44      5.00001  \n",
       "16171     37.79    -122.50      5.00001  \n",
       "16910     37.56    -122.36      5.00001  \n",
       "17107     37.44    -122.20      5.00001  \n",
       "17108     37.44    -122.22      5.00001  \n",
       "17110     37.46    -122.21      5.00001  \n",
       "17111     37.46    -122.18      5.00001  \n",
       "17118     37.50    -122.14      5.00001  \n",
       "17166     37.40    -122.22      5.00001  \n",
       "17170     37.43    -122.27      5.00001  \n",
       "17858     37.46    -121.87      5.00001  \n",
       "18501     37.19    -121.59      1.31300  \n",
       "18504     37.13    -121.96      4.00000  "
      ]
     },
     "execution_count": 11,
     "metadata": {},
     "output_type": "execute_result"
    }
   ],
   "source": [
    "house_data[house_data.MedInc > 15]"
   ]
  },
  {
   "cell_type": "code",
   "execution_count": 12,
   "id": "2fd84dbd-76d1-46b4-aa7e-d2dbdb24add2",
   "metadata": {
    "scrolled": true
   },
   "outputs": [
    {
     "data": {
      "text/html": [
       "<div>\n",
       "<style scoped>\n",
       "    .dataframe tbody tr th:only-of-type {\n",
       "        vertical-align: middle;\n",
       "    }\n",
       "\n",
       "    .dataframe tbody tr th {\n",
       "        vertical-align: top;\n",
       "    }\n",
       "\n",
       "    .dataframe thead th {\n",
       "        text-align: right;\n",
       "    }\n",
       "</style>\n",
       "<table border=\"1\" class=\"dataframe\">\n",
       "  <thead>\n",
       "    <tr style=\"text-align: right;\">\n",
       "      <th></th>\n",
       "      <th>MedInc</th>\n",
       "      <th>HouseAge</th>\n",
       "      <th>AveRooms</th>\n",
       "      <th>AveBedrms</th>\n",
       "      <th>Population</th>\n",
       "      <th>AveOccup</th>\n",
       "      <th>Latitude</th>\n",
       "      <th>Longitude</th>\n",
       "      <th>MedHouseVal</th>\n",
       "    </tr>\n",
       "  </thead>\n",
       "  <tbody>\n",
       "    <tr>\n",
       "      <th>5304</th>\n",
       "      <td>14.2867</td>\n",
       "      <td>49.0</td>\n",
       "      <td>7.603774</td>\n",
       "      <td>0.946541</td>\n",
       "      <td>850.0</td>\n",
       "      <td>2.672956</td>\n",
       "      <td>34.07</td>\n",
       "      <td>-118.46</td>\n",
       "      <td>5.00001</td>\n",
       "    </tr>\n",
       "    <tr>\n",
       "      <th>15698</th>\n",
       "      <td>14.2959</td>\n",
       "      <td>52.0</td>\n",
       "      <td>8.172727</td>\n",
       "      <td>0.872727</td>\n",
       "      <td>304.0</td>\n",
       "      <td>2.763636</td>\n",
       "      <td>37.79</td>\n",
       "      <td>-122.46</td>\n",
       "      <td>5.00001</td>\n",
       "    </tr>\n",
       "    <tr>\n",
       "      <th>9811</th>\n",
       "      <td>14.4113</td>\n",
       "      <td>28.0</td>\n",
       "      <td>11.634686</td>\n",
       "      <td>1.509225</td>\n",
       "      <td>569.0</td>\n",
       "      <td>2.099631</td>\n",
       "      <td>36.57</td>\n",
       "      <td>-121.94</td>\n",
       "      <td>5.00001</td>\n",
       "    </tr>\n",
       "    <tr>\n",
       "      <th>16915</th>\n",
       "      <td>14.4219</td>\n",
       "      <td>52.0</td>\n",
       "      <td>8.253731</td>\n",
       "      <td>0.950249</td>\n",
       "      <td>519.0</td>\n",
       "      <td>2.582090</td>\n",
       "      <td>37.56</td>\n",
       "      <td>-122.35</td>\n",
       "      <td>5.00001</td>\n",
       "    </tr>\n",
       "    <tr>\n",
       "      <th>9370</th>\n",
       "      <td>14.5833</td>\n",
       "      <td>24.0</td>\n",
       "      <td>5.613333</td>\n",
       "      <td>0.853333</td>\n",
       "      <td>163.0</td>\n",
       "      <td>2.173333</td>\n",
       "      <td>37.92</td>\n",
       "      <td>-122.52</td>\n",
       "      <td>5.00001</td>\n",
       "    </tr>\n",
       "    <tr>\n",
       "      <th>10483</th>\n",
       "      <td>14.9009</td>\n",
       "      <td>8.0</td>\n",
       "      <td>9.860169</td>\n",
       "      <td>1.114407</td>\n",
       "      <td>899.0</td>\n",
       "      <td>3.809322</td>\n",
       "      <td>33.59</td>\n",
       "      <td>-117.68</td>\n",
       "      <td>5.00001</td>\n",
       "    </tr>\n",
       "    <tr>\n",
       "      <th>18052</th>\n",
       "      <td>15.0000</td>\n",
       "      <td>19.0</td>\n",
       "      <td>7.626263</td>\n",
       "      <td>0.939394</td>\n",
       "      <td>267.0</td>\n",
       "      <td>2.696970</td>\n",
       "      <td>37.25</td>\n",
       "      <td>-121.98</td>\n",
       "      <td>5.00001</td>\n",
       "    </tr>\n",
       "    <tr>\n",
       "      <th>5260</th>\n",
       "      <td>15.0000</td>\n",
       "      <td>39.0</td>\n",
       "      <td>9.293750</td>\n",
       "      <td>1.018750</td>\n",
       "      <td>414.0</td>\n",
       "      <td>2.587500</td>\n",
       "      <td>34.05</td>\n",
       "      <td>-118.50</td>\n",
       "      <td>5.00001</td>\n",
       "    </tr>\n",
       "    <tr>\n",
       "      <th>8853</th>\n",
       "      <td>15.0001</td>\n",
       "      <td>52.0</td>\n",
       "      <td>9.867036</td>\n",
       "      <td>1.091413</td>\n",
       "      <td>1163.0</td>\n",
       "      <td>3.221607</td>\n",
       "      <td>34.07</td>\n",
       "      <td>-118.41</td>\n",
       "      <td>5.00001</td>\n",
       "    </tr>\n",
       "    <tr>\n",
       "      <th>8854</th>\n",
       "      <td>15.0001</td>\n",
       "      <td>52.0</td>\n",
       "      <td>8.710145</td>\n",
       "      <td>1.028986</td>\n",
       "      <td>408.0</td>\n",
       "      <td>2.956522</td>\n",
       "      <td>34.07</td>\n",
       "      <td>-118.41</td>\n",
       "      <td>5.00001</td>\n",
       "    </tr>\n",
       "    <tr>\n",
       "      <th>8878</th>\n",
       "      <td>15.0001</td>\n",
       "      <td>52.0</td>\n",
       "      <td>8.000000</td>\n",
       "      <td>0.997333</td>\n",
       "      <td>1143.0</td>\n",
       "      <td>3.048000</td>\n",
       "      <td>34.04</td>\n",
       "      <td>-118.50</td>\n",
       "      <td>5.00001</td>\n",
       "    </tr>\n",
       "    <tr>\n",
       "      <th>10673</th>\n",
       "      <td>15.0001</td>\n",
       "      <td>13.0</td>\n",
       "      <td>7.842900</td>\n",
       "      <td>0.993958</td>\n",
       "      <td>1865.0</td>\n",
       "      <td>2.817221</td>\n",
       "      <td>33.62</td>\n",
       "      <td>-117.85</td>\n",
       "      <td>5.00001</td>\n",
       "    </tr>\n",
       "    <tr>\n",
       "      <th>10760</th>\n",
       "      <td>15.0001</td>\n",
       "      <td>15.0</td>\n",
       "      <td>8.062044</td>\n",
       "      <td>1.003650</td>\n",
       "      <td>735.0</td>\n",
       "      <td>2.682482</td>\n",
       "      <td>33.62</td>\n",
       "      <td>-117.87</td>\n",
       "      <td>5.00001</td>\n",
       "    </tr>\n",
       "    <tr>\n",
       "      <th>11520</th>\n",
       "      <td>15.0001</td>\n",
       "      <td>14.0</td>\n",
       "      <td>8.354232</td>\n",
       "      <td>1.037618</td>\n",
       "      <td>964.0</td>\n",
       "      <td>3.021944</td>\n",
       "      <td>33.72</td>\n",
       "      <td>-118.06</td>\n",
       "      <td>5.00001</td>\n",
       "    </tr>\n",
       "    <tr>\n",
       "      <th>15241</th>\n",
       "      <td>15.0001</td>\n",
       "      <td>17.0</td>\n",
       "      <td>8.520376</td>\n",
       "      <td>1.021944</td>\n",
       "      <td>1011.0</td>\n",
       "      <td>3.169279</td>\n",
       "      <td>32.99</td>\n",
       "      <td>-117.23</td>\n",
       "      <td>5.00001</td>\n",
       "    </tr>\n",
       "    <tr>\n",
       "      <th>15693</th>\n",
       "      <td>15.0001</td>\n",
       "      <td>52.0</td>\n",
       "      <td>7.994475</td>\n",
       "      <td>1.027624</td>\n",
       "      <td>483.0</td>\n",
       "      <td>2.668508</td>\n",
       "      <td>37.79</td>\n",
       "      <td>-122.44</td>\n",
       "      <td>5.00001</td>\n",
       "    </tr>\n",
       "    <tr>\n",
       "      <th>1566</th>\n",
       "      <td>15.0001</td>\n",
       "      <td>2.0</td>\n",
       "      <td>22.222222</td>\n",
       "      <td>2.222222</td>\n",
       "      <td>25.0</td>\n",
       "      <td>2.777778</td>\n",
       "      <td>37.74</td>\n",
       "      <td>-121.96</td>\n",
       "      <td>3.50000</td>\n",
       "    </tr>\n",
       "    <tr>\n",
       "      <th>16171</th>\n",
       "      <td>15.0001</td>\n",
       "      <td>52.0</td>\n",
       "      <td>8.000000</td>\n",
       "      <td>1.000000</td>\n",
       "      <td>13.0</td>\n",
       "      <td>13.000000</td>\n",
       "      <td>37.79</td>\n",
       "      <td>-122.50</td>\n",
       "      <td>5.00001</td>\n",
       "    </tr>\n",
       "    <tr>\n",
       "      <th>16910</th>\n",
       "      <td>15.0001</td>\n",
       "      <td>32.0</td>\n",
       "      <td>9.166341</td>\n",
       "      <td>1.056751</td>\n",
       "      <td>1512.0</td>\n",
       "      <td>2.958904</td>\n",
       "      <td>37.56</td>\n",
       "      <td>-122.36</td>\n",
       "      <td>5.00001</td>\n",
       "    </tr>\n",
       "    <tr>\n",
       "      <th>17107</th>\n",
       "      <td>15.0001</td>\n",
       "      <td>31.0</td>\n",
       "      <td>9.425101</td>\n",
       "      <td>1.093117</td>\n",
       "      <td>722.0</td>\n",
       "      <td>2.923077</td>\n",
       "      <td>37.44</td>\n",
       "      <td>-122.20</td>\n",
       "      <td>5.00001</td>\n",
       "    </tr>\n",
       "    <tr>\n",
       "      <th>17108</th>\n",
       "      <td>15.0001</td>\n",
       "      <td>32.0</td>\n",
       "      <td>8.845041</td>\n",
       "      <td>1.035124</td>\n",
       "      <td>1318.0</td>\n",
       "      <td>2.723140</td>\n",
       "      <td>37.44</td>\n",
       "      <td>-122.22</td>\n",
       "      <td>5.00001</td>\n",
       "    </tr>\n",
       "    <tr>\n",
       "      <th>17110</th>\n",
       "      <td>15.0001</td>\n",
       "      <td>40.0</td>\n",
       "      <td>8.584541</td>\n",
       "      <td>1.000000</td>\n",
       "      <td>577.0</td>\n",
       "      <td>2.787440</td>\n",
       "      <td>37.46</td>\n",
       "      <td>-122.21</td>\n",
       "      <td>5.00001</td>\n",
       "    </tr>\n",
       "    <tr>\n",
       "      <th>17111</th>\n",
       "      <td>15.0001</td>\n",
       "      <td>40.0</td>\n",
       "      <td>9.802326</td>\n",
       "      <td>1.135659</td>\n",
       "      <td>831.0</td>\n",
       "      <td>3.220930</td>\n",
       "      <td>37.46</td>\n",
       "      <td>-122.18</td>\n",
       "      <td>5.00001</td>\n",
       "    </tr>\n",
       "    <tr>\n",
       "      <th>17118</th>\n",
       "      <td>15.0001</td>\n",
       "      <td>46.0</td>\n",
       "      <td>6.000000</td>\n",
       "      <td>0.800000</td>\n",
       "      <td>13.0</td>\n",
       "      <td>2.600000</td>\n",
       "      <td>37.50</td>\n",
       "      <td>-122.14</td>\n",
       "      <td>5.00001</td>\n",
       "    </tr>\n",
       "    <tr>\n",
       "      <th>17166</th>\n",
       "      <td>15.0001</td>\n",
       "      <td>32.0</td>\n",
       "      <td>8.116608</td>\n",
       "      <td>1.014134</td>\n",
       "      <td>814.0</td>\n",
       "      <td>2.876325</td>\n",
       "      <td>37.40</td>\n",
       "      <td>-122.22</td>\n",
       "      <td>5.00001</td>\n",
       "    </tr>\n",
       "    <tr>\n",
       "      <th>17170</th>\n",
       "      <td>15.0001</td>\n",
       "      <td>33.0</td>\n",
       "      <td>7.446512</td>\n",
       "      <td>1.037209</td>\n",
       "      <td>629.0</td>\n",
       "      <td>2.925581</td>\n",
       "      <td>37.43</td>\n",
       "      <td>-122.27</td>\n",
       "      <td>5.00001</td>\n",
       "    </tr>\n",
       "    <tr>\n",
       "      <th>17858</th>\n",
       "      <td>15.0001</td>\n",
       "      <td>43.0</td>\n",
       "      <td>5.687500</td>\n",
       "      <td>0.750000</td>\n",
       "      <td>58.0</td>\n",
       "      <td>3.625000</td>\n",
       "      <td>37.46</td>\n",
       "      <td>-121.87</td>\n",
       "      <td>5.00001</td>\n",
       "    </tr>\n",
       "    <tr>\n",
       "      <th>8852</th>\n",
       "      <td>15.0001</td>\n",
       "      <td>48.0</td>\n",
       "      <td>9.729839</td>\n",
       "      <td>1.052419</td>\n",
       "      <td>770.0</td>\n",
       "      <td>3.104839</td>\n",
       "      <td>34.08</td>\n",
       "      <td>-118.42</td>\n",
       "      <td>5.00001</td>\n",
       "    </tr>\n",
       "    <tr>\n",
       "      <th>8851</th>\n",
       "      <td>15.0001</td>\n",
       "      <td>40.0</td>\n",
       "      <td>9.600000</td>\n",
       "      <td>1.059459</td>\n",
       "      <td>1024.0</td>\n",
       "      <td>2.767568</td>\n",
       "      <td>34.09</td>\n",
       "      <td>-118.42</td>\n",
       "      <td>5.00001</td>\n",
       "    </tr>\n",
       "    <tr>\n",
       "      <th>8850</th>\n",
       "      <td>15.0001</td>\n",
       "      <td>37.0</td>\n",
       "      <td>9.333333</td>\n",
       "      <td>1.037801</td>\n",
       "      <td>809.0</td>\n",
       "      <td>2.780069</td>\n",
       "      <td>34.09</td>\n",
       "      <td>-118.41</td>\n",
       "      <td>5.00001</td>\n",
       "    </tr>\n",
       "    <tr>\n",
       "      <th>8849</th>\n",
       "      <td>15.0001</td>\n",
       "      <td>52.0</td>\n",
       "      <td>9.237288</td>\n",
       "      <td>1.062954</td>\n",
       "      <td>1266.0</td>\n",
       "      <td>3.065375</td>\n",
       "      <td>34.08</td>\n",
       "      <td>-118.40</td>\n",
       "      <td>5.00001</td>\n",
       "    </tr>\n",
       "    <tr>\n",
       "      <th>4352</th>\n",
       "      <td>15.0001</td>\n",
       "      <td>37.0</td>\n",
       "      <td>8.659574</td>\n",
       "      <td>1.425532</td>\n",
       "      <td>100.0</td>\n",
       "      <td>2.127660</td>\n",
       "      <td>34.10</td>\n",
       "      <td>-118.37</td>\n",
       "      <td>5.00001</td>\n",
       "    </tr>\n",
       "    <tr>\n",
       "      <th>4604</th>\n",
       "      <td>15.0001</td>\n",
       "      <td>52.0</td>\n",
       "      <td>8.444954</td>\n",
       "      <td>1.100917</td>\n",
       "      <td>693.0</td>\n",
       "      <td>3.178899</td>\n",
       "      <td>34.06</td>\n",
       "      <td>-118.33</td>\n",
       "      <td>5.00001</td>\n",
       "    </tr>\n",
       "    <tr>\n",
       "      <th>4605</th>\n",
       "      <td>15.0001</td>\n",
       "      <td>52.0</td>\n",
       "      <td>8.483019</td>\n",
       "      <td>0.962264</td>\n",
       "      <td>813.0</td>\n",
       "      <td>3.067925</td>\n",
       "      <td>34.07</td>\n",
       "      <td>-118.33</td>\n",
       "      <td>5.00001</td>\n",
       "    </tr>\n",
       "    <tr>\n",
       "      <th>4606</th>\n",
       "      <td>15.0001</td>\n",
       "      <td>52.0</td>\n",
       "      <td>9.204969</td>\n",
       "      <td>1.062112</td>\n",
       "      <td>531.0</td>\n",
       "      <td>3.298137</td>\n",
       "      <td>34.07</td>\n",
       "      <td>-118.33</td>\n",
       "      <td>5.00001</td>\n",
       "    </tr>\n",
       "    <tr>\n",
       "      <th>4626</th>\n",
       "      <td>15.0001</td>\n",
       "      <td>52.0</td>\n",
       "      <td>7.958333</td>\n",
       "      <td>0.833333</td>\n",
       "      <td>457.0</td>\n",
       "      <td>3.808333</td>\n",
       "      <td>34.06</td>\n",
       "      <td>-118.32</td>\n",
       "      <td>5.00001</td>\n",
       "    </tr>\n",
       "    <tr>\n",
       "      <th>4678</th>\n",
       "      <td>15.0001</td>\n",
       "      <td>52.0</td>\n",
       "      <td>8.780612</td>\n",
       "      <td>0.994898</td>\n",
       "      <td>688.0</td>\n",
       "      <td>3.510204</td>\n",
       "      <td>34.08</td>\n",
       "      <td>-118.34</td>\n",
       "      <td>5.00001</td>\n",
       "    </tr>\n",
       "    <tr>\n",
       "      <th>5242</th>\n",
       "      <td>15.0001</td>\n",
       "      <td>32.0</td>\n",
       "      <td>8.002869</td>\n",
       "      <td>1.080344</td>\n",
       "      <td>1567.0</td>\n",
       "      <td>2.248207</td>\n",
       "      <td>34.11</td>\n",
       "      <td>-118.40</td>\n",
       "      <td>5.00001</td>\n",
       "    </tr>\n",
       "    <tr>\n",
       "      <th>5247</th>\n",
       "      <td>15.0001</td>\n",
       "      <td>36.0</td>\n",
       "      <td>9.368263</td>\n",
       "      <td>1.173653</td>\n",
       "      <td>862.0</td>\n",
       "      <td>2.580838</td>\n",
       "      <td>34.09</td>\n",
       "      <td>-118.44</td>\n",
       "      <td>5.00001</td>\n",
       "    </tr>\n",
       "    <tr>\n",
       "      <th>5248</th>\n",
       "      <td>15.0001</td>\n",
       "      <td>46.0</td>\n",
       "      <td>8.365591</td>\n",
       "      <td>0.967742</td>\n",
       "      <td>238.0</td>\n",
       "      <td>2.559140</td>\n",
       "      <td>34.08</td>\n",
       "      <td>-118.43</td>\n",
       "      <td>5.00001</td>\n",
       "    </tr>\n",
       "    <tr>\n",
       "      <th>5257</th>\n",
       "      <td>15.0001</td>\n",
       "      <td>42.0</td>\n",
       "      <td>9.229032</td>\n",
       "      <td>1.161290</td>\n",
       "      <td>829.0</td>\n",
       "      <td>2.674194</td>\n",
       "      <td>34.06</td>\n",
       "      <td>-118.49</td>\n",
       "      <td>5.00001</td>\n",
       "    </tr>\n",
       "    <tr>\n",
       "      <th>5275</th>\n",
       "      <td>15.0001</td>\n",
       "      <td>36.0</td>\n",
       "      <td>7.549091</td>\n",
       "      <td>0.985455</td>\n",
       "      <td>1461.0</td>\n",
       "      <td>2.656364</td>\n",
       "      <td>34.05</td>\n",
       "      <td>-118.50</td>\n",
       "      <td>5.00001</td>\n",
       "    </tr>\n",
       "    <tr>\n",
       "      <th>18501</th>\n",
       "      <td>15.0001</td>\n",
       "      <td>52.0</td>\n",
       "      <td>8.461538</td>\n",
       "      <td>1.230769</td>\n",
       "      <td>55.0</td>\n",
       "      <td>2.115385</td>\n",
       "      <td>37.19</td>\n",
       "      <td>-121.59</td>\n",
       "      <td>1.31300</td>\n",
       "    </tr>\n",
       "    <tr>\n",
       "      <th>5281</th>\n",
       "      <td>15.0001</td>\n",
       "      <td>42.0</td>\n",
       "      <td>8.562500</td>\n",
       "      <td>0.964286</td>\n",
       "      <td>632.0</td>\n",
       "      <td>2.821429</td>\n",
       "      <td>34.05</td>\n",
       "      <td>-118.49</td>\n",
       "      <td>5.00001</td>\n",
       "    </tr>\n",
       "    <tr>\n",
       "      <th>6391</th>\n",
       "      <td>15.0001</td>\n",
       "      <td>37.0</td>\n",
       "      <td>8.761062</td>\n",
       "      <td>1.000000</td>\n",
       "      <td>697.0</td>\n",
       "      <td>3.084071</td>\n",
       "      <td>34.15</td>\n",
       "      <td>-118.06</td>\n",
       "      <td>5.00001</td>\n",
       "    </tr>\n",
       "    <tr>\n",
       "      <th>6399</th>\n",
       "      <td>15.0001</td>\n",
       "      <td>35.0</td>\n",
       "      <td>8.586207</td>\n",
       "      <td>1.068966</td>\n",
       "      <td>268.0</td>\n",
       "      <td>9.241379</td>\n",
       "      <td>34.13</td>\n",
       "      <td>-118.04</td>\n",
       "      <td>5.00001</td>\n",
       "    </tr>\n",
       "    <tr>\n",
       "      <th>6590</th>\n",
       "      <td>15.0001</td>\n",
       "      <td>48.0</td>\n",
       "      <td>8.845161</td>\n",
       "      <td>1.058065</td>\n",
       "      <td>528.0</td>\n",
       "      <td>3.406452</td>\n",
       "      <td>34.19</td>\n",
       "      <td>-118.18</td>\n",
       "      <td>5.00001</td>\n",
       "    </tr>\n",
       "    <tr>\n",
       "      <th>6591</th>\n",
       "      <td>15.0001</td>\n",
       "      <td>34.0</td>\n",
       "      <td>8.114173</td>\n",
       "      <td>1.023622</td>\n",
       "      <td>825.0</td>\n",
       "      <td>3.248031</td>\n",
       "      <td>34.19</td>\n",
       "      <td>-118.19</td>\n",
       "      <td>5.00001</td>\n",
       "    </tr>\n",
       "    <tr>\n",
       "      <th>6592</th>\n",
       "      <td>15.0001</td>\n",
       "      <td>38.0</td>\n",
       "      <td>8.954733</td>\n",
       "      <td>1.094650</td>\n",
       "      <td>798.0</td>\n",
       "      <td>3.283951</td>\n",
       "      <td>34.19</td>\n",
       "      <td>-118.20</td>\n",
       "      <td>5.00001</td>\n",
       "    </tr>\n",
       "    <tr>\n",
       "      <th>6727</th>\n",
       "      <td>15.0001</td>\n",
       "      <td>52.0</td>\n",
       "      <td>10.419355</td>\n",
       "      <td>1.136201</td>\n",
       "      <td>956.0</td>\n",
       "      <td>3.426523</td>\n",
       "      <td>34.12</td>\n",
       "      <td>-118.12</td>\n",
       "      <td>5.00001</td>\n",
       "    </tr>\n",
       "    <tr>\n",
       "      <th>6736</th>\n",
       "      <td>15.0001</td>\n",
       "      <td>47.0</td>\n",
       "      <td>8.592308</td>\n",
       "      <td>1.061538</td>\n",
       "      <td>749.0</td>\n",
       "      <td>2.880769</td>\n",
       "      <td>34.13</td>\n",
       "      <td>-118.10</td>\n",
       "      <td>5.00001</td>\n",
       "    </tr>\n",
       "    <tr>\n",
       "      <th>8805</th>\n",
       "      <td>15.0001</td>\n",
       "      <td>34.0</td>\n",
       "      <td>8.783019</td>\n",
       "      <td>1.059748</td>\n",
       "      <td>1871.0</td>\n",
       "      <td>2.941824</td>\n",
       "      <td>33.76</td>\n",
       "      <td>-118.34</td>\n",
       "      <td>5.00001</td>\n",
       "    </tr>\n",
       "    <tr>\n",
       "      <th>8846</th>\n",
       "      <td>15.0001</td>\n",
       "      <td>27.0</td>\n",
       "      <td>7.651923</td>\n",
       "      <td>0.980769</td>\n",
       "      <td>1351.0</td>\n",
       "      <td>2.598077</td>\n",
       "      <td>34.10</td>\n",
       "      <td>-118.40</td>\n",
       "      <td>5.00001</td>\n",
       "    </tr>\n",
       "    <tr>\n",
       "      <th>8847</th>\n",
       "      <td>15.0001</td>\n",
       "      <td>45.0</td>\n",
       "      <td>10.370656</td>\n",
       "      <td>1.092664</td>\n",
       "      <td>857.0</td>\n",
       "      <td>3.308880</td>\n",
       "      <td>34.09</td>\n",
       "      <td>-118.40</td>\n",
       "      <td>5.00001</td>\n",
       "    </tr>\n",
       "    <tr>\n",
       "      <th>8848</th>\n",
       "      <td>15.0001</td>\n",
       "      <td>52.0</td>\n",
       "      <td>8.907583</td>\n",
       "      <td>1.099526</td>\n",
       "      <td>1407.0</td>\n",
       "      <td>3.334123</td>\n",
       "      <td>34.08</td>\n",
       "      <td>-118.39</td>\n",
       "      <td>5.00001</td>\n",
       "    </tr>\n",
       "    <tr>\n",
       "      <th>5291</th>\n",
       "      <td>15.0001</td>\n",
       "      <td>46.0</td>\n",
       "      <td>9.203947</td>\n",
       "      <td>0.973684</td>\n",
       "      <td>410.0</td>\n",
       "      <td>2.697368</td>\n",
       "      <td>34.08</td>\n",
       "      <td>-118.42</td>\n",
       "      <td>5.00001</td>\n",
       "    </tr>\n",
       "    <tr>\n",
       "      <th>18504</th>\n",
       "      <td>15.0001</td>\n",
       "      <td>26.0</td>\n",
       "      <td>12.500000</td>\n",
       "      <td>1.250000</td>\n",
       "      <td>17.0</td>\n",
       "      <td>4.250000</td>\n",
       "      <td>37.13</td>\n",
       "      <td>-121.96</td>\n",
       "      <td>4.00000</td>\n",
       "    </tr>\n",
       "  </tbody>\n",
       "</table>\n",
       "</div>"
      ],
      "text/plain": [
       "        MedInc  HouseAge   AveRooms  AveBedrms  Population   AveOccup  \\\n",
       "5304   14.2867      49.0   7.603774   0.946541       850.0   2.672956   \n",
       "15698  14.2959      52.0   8.172727   0.872727       304.0   2.763636   \n",
       "9811   14.4113      28.0  11.634686   1.509225       569.0   2.099631   \n",
       "16915  14.4219      52.0   8.253731   0.950249       519.0   2.582090   \n",
       "9370   14.5833      24.0   5.613333   0.853333       163.0   2.173333   \n",
       "10483  14.9009       8.0   9.860169   1.114407       899.0   3.809322   \n",
       "18052  15.0000      19.0   7.626263   0.939394       267.0   2.696970   \n",
       "5260   15.0000      39.0   9.293750   1.018750       414.0   2.587500   \n",
       "8853   15.0001      52.0   9.867036   1.091413      1163.0   3.221607   \n",
       "8854   15.0001      52.0   8.710145   1.028986       408.0   2.956522   \n",
       "8878   15.0001      52.0   8.000000   0.997333      1143.0   3.048000   \n",
       "10673  15.0001      13.0   7.842900   0.993958      1865.0   2.817221   \n",
       "10760  15.0001      15.0   8.062044   1.003650       735.0   2.682482   \n",
       "11520  15.0001      14.0   8.354232   1.037618       964.0   3.021944   \n",
       "15241  15.0001      17.0   8.520376   1.021944      1011.0   3.169279   \n",
       "15693  15.0001      52.0   7.994475   1.027624       483.0   2.668508   \n",
       "1566   15.0001       2.0  22.222222   2.222222        25.0   2.777778   \n",
       "16171  15.0001      52.0   8.000000   1.000000        13.0  13.000000   \n",
       "16910  15.0001      32.0   9.166341   1.056751      1512.0   2.958904   \n",
       "17107  15.0001      31.0   9.425101   1.093117       722.0   2.923077   \n",
       "17108  15.0001      32.0   8.845041   1.035124      1318.0   2.723140   \n",
       "17110  15.0001      40.0   8.584541   1.000000       577.0   2.787440   \n",
       "17111  15.0001      40.0   9.802326   1.135659       831.0   3.220930   \n",
       "17118  15.0001      46.0   6.000000   0.800000        13.0   2.600000   \n",
       "17166  15.0001      32.0   8.116608   1.014134       814.0   2.876325   \n",
       "17170  15.0001      33.0   7.446512   1.037209       629.0   2.925581   \n",
       "17858  15.0001      43.0   5.687500   0.750000        58.0   3.625000   \n",
       "8852   15.0001      48.0   9.729839   1.052419       770.0   3.104839   \n",
       "8851   15.0001      40.0   9.600000   1.059459      1024.0   2.767568   \n",
       "8850   15.0001      37.0   9.333333   1.037801       809.0   2.780069   \n",
       "8849   15.0001      52.0   9.237288   1.062954      1266.0   3.065375   \n",
       "4352   15.0001      37.0   8.659574   1.425532       100.0   2.127660   \n",
       "4604   15.0001      52.0   8.444954   1.100917       693.0   3.178899   \n",
       "4605   15.0001      52.0   8.483019   0.962264       813.0   3.067925   \n",
       "4606   15.0001      52.0   9.204969   1.062112       531.0   3.298137   \n",
       "4626   15.0001      52.0   7.958333   0.833333       457.0   3.808333   \n",
       "4678   15.0001      52.0   8.780612   0.994898       688.0   3.510204   \n",
       "5242   15.0001      32.0   8.002869   1.080344      1567.0   2.248207   \n",
       "5247   15.0001      36.0   9.368263   1.173653       862.0   2.580838   \n",
       "5248   15.0001      46.0   8.365591   0.967742       238.0   2.559140   \n",
       "5257   15.0001      42.0   9.229032   1.161290       829.0   2.674194   \n",
       "5275   15.0001      36.0   7.549091   0.985455      1461.0   2.656364   \n",
       "18501  15.0001      52.0   8.461538   1.230769        55.0   2.115385   \n",
       "5281   15.0001      42.0   8.562500   0.964286       632.0   2.821429   \n",
       "6391   15.0001      37.0   8.761062   1.000000       697.0   3.084071   \n",
       "6399   15.0001      35.0   8.586207   1.068966       268.0   9.241379   \n",
       "6590   15.0001      48.0   8.845161   1.058065       528.0   3.406452   \n",
       "6591   15.0001      34.0   8.114173   1.023622       825.0   3.248031   \n",
       "6592   15.0001      38.0   8.954733   1.094650       798.0   3.283951   \n",
       "6727   15.0001      52.0  10.419355   1.136201       956.0   3.426523   \n",
       "6736   15.0001      47.0   8.592308   1.061538       749.0   2.880769   \n",
       "8805   15.0001      34.0   8.783019   1.059748      1871.0   2.941824   \n",
       "8846   15.0001      27.0   7.651923   0.980769      1351.0   2.598077   \n",
       "8847   15.0001      45.0  10.370656   1.092664       857.0   3.308880   \n",
       "8848   15.0001      52.0   8.907583   1.099526      1407.0   3.334123   \n",
       "5291   15.0001      46.0   9.203947   0.973684       410.0   2.697368   \n",
       "18504  15.0001      26.0  12.500000   1.250000        17.0   4.250000   \n",
       "\n",
       "       Latitude  Longitude  MedHouseVal  \n",
       "5304      34.07    -118.46      5.00001  \n",
       "15698     37.79    -122.46      5.00001  \n",
       "9811      36.57    -121.94      5.00001  \n",
       "16915     37.56    -122.35      5.00001  \n",
       "9370      37.92    -122.52      5.00001  \n",
       "10483     33.59    -117.68      5.00001  \n",
       "18052     37.25    -121.98      5.00001  \n",
       "5260      34.05    -118.50      5.00001  \n",
       "8853      34.07    -118.41      5.00001  \n",
       "8854      34.07    -118.41      5.00001  \n",
       "8878      34.04    -118.50      5.00001  \n",
       "10673     33.62    -117.85      5.00001  \n",
       "10760     33.62    -117.87      5.00001  \n",
       "11520     33.72    -118.06      5.00001  \n",
       "15241     32.99    -117.23      5.00001  \n",
       "15693     37.79    -122.44      5.00001  \n",
       "1566      37.74    -121.96      3.50000  \n",
       "16171     37.79    -122.50      5.00001  \n",
       "16910     37.56    -122.36      5.00001  \n",
       "17107     37.44    -122.20      5.00001  \n",
       "17108     37.44    -122.22      5.00001  \n",
       "17110     37.46    -122.21      5.00001  \n",
       "17111     37.46    -122.18      5.00001  \n",
       "17118     37.50    -122.14      5.00001  \n",
       "17166     37.40    -122.22      5.00001  \n",
       "17170     37.43    -122.27      5.00001  \n",
       "17858     37.46    -121.87      5.00001  \n",
       "8852      34.08    -118.42      5.00001  \n",
       "8851      34.09    -118.42      5.00001  \n",
       "8850      34.09    -118.41      5.00001  \n",
       "8849      34.08    -118.40      5.00001  \n",
       "4352      34.10    -118.37      5.00001  \n",
       "4604      34.06    -118.33      5.00001  \n",
       "4605      34.07    -118.33      5.00001  \n",
       "4606      34.07    -118.33      5.00001  \n",
       "4626      34.06    -118.32      5.00001  \n",
       "4678      34.08    -118.34      5.00001  \n",
       "5242      34.11    -118.40      5.00001  \n",
       "5247      34.09    -118.44      5.00001  \n",
       "5248      34.08    -118.43      5.00001  \n",
       "5257      34.06    -118.49      5.00001  \n",
       "5275      34.05    -118.50      5.00001  \n",
       "18501     37.19    -121.59      1.31300  \n",
       "5281      34.05    -118.49      5.00001  \n",
       "6391      34.15    -118.06      5.00001  \n",
       "6399      34.13    -118.04      5.00001  \n",
       "6590      34.19    -118.18      5.00001  \n",
       "6591      34.19    -118.19      5.00001  \n",
       "6592      34.19    -118.20      5.00001  \n",
       "6727      34.12    -118.12      5.00001  \n",
       "6736      34.13    -118.10      5.00001  \n",
       "8805      33.76    -118.34      5.00001  \n",
       "8846      34.10    -118.40      5.00001  \n",
       "8847      34.09    -118.40      5.00001  \n",
       "8848      34.08    -118.39      5.00001  \n",
       "5291      34.08    -118.42      5.00001  \n",
       "18504     37.13    -121.96      4.00000  "
      ]
     },
     "execution_count": 12,
     "metadata": {},
     "output_type": "execute_result"
    }
   ],
   "source": [
    "house_data[house_data.MedInc > 14].sort_values('MedInc')"
   ]
  },
  {
   "cell_type": "code",
   "execution_count": 13,
   "id": "ad88edb5-47b1-49a8-b64e-84d105c01729",
   "metadata": {},
   "outputs": [
    {
     "data": {
      "text/plain": [
       "(20640, 9)"
      ]
     },
     "execution_count": 13,
     "metadata": {},
     "output_type": "execute_result"
    }
   ],
   "source": [
    "# is there duplications\n",
    "house_data.drop_duplicates().shape"
   ]
  },
  {
   "cell_type": "code",
   "execution_count": 14,
   "id": "65545aa5-f720-4704-b10e-a203f8a6a75e",
   "metadata": {},
   "outputs": [
    {
     "data": {
      "image/png": "[encoded data removed]",
      "text/plain": [
       "<Figure size 1600x1600 with 2 Axes>"
      ]
     },
     "metadata": {},
     "output_type": "display_data"
    }
   ],
   "source": [
    "# house_data.corr()\n",
    "plt.figure(figsize=(16, 16))\n",
    "sns.heatmap(house_data.corr(), annot=True, fmt='.2f', cmap='coolwarm', square=True, annot_kws={\"size\": 16})\n",
    "plt.title('Correlation Heatmap')\n",
    "plt.show()"
   ]
  },
  {
   "cell_type": "code",
   "execution_count": 15,
   "id": "03dae3d4-a9f0-4b88-b7ea-ab54911e3ab1",
   "metadata": {
    "scrolled": true
   },
   "outputs": [
    {
     "data": {
      "text/plain": [
       "HouseAge\n",
       "52.0    1273\n",
       "36.0     862\n",
       "35.0     824\n",
       "16.0     771\n",
       "17.0     698\n",
       "34.0     689\n",
       "26.0     619\n",
       "33.0     615\n",
       "18.0     570\n",
       "25.0     566\n",
       "32.0     565\n",
       "37.0     537\n",
       "15.0     512\n",
       "19.0     502\n",
       "27.0     488\n",
       "24.0     478\n",
       "30.0     476\n",
       "28.0     471\n",
       "20.0     465\n",
       "29.0     461\n",
       "31.0     458\n",
       "23.0     448\n",
       "21.0     446\n",
       "14.0     412\n",
       "22.0     399\n",
       "38.0     394\n",
       "39.0     369\n",
       "42.0     368\n",
       "44.0     356\n",
       "43.0     353\n",
       "40.0     304\n",
       "13.0     302\n",
       "41.0     296\n",
       "45.0     294\n",
       "10.0     264\n",
       "11.0     254\n",
       "46.0     245\n",
       "5.0      244\n",
       "12.0     238\n",
       "8.0      206\n",
       "9.0      205\n",
       "47.0     198\n",
       "4.0      191\n",
       "48.0     177\n",
       "7.0      175\n",
       "6.0      160\n",
       "50.0     136\n",
       "49.0     134\n",
       "3.0       62\n",
       "2.0       58\n",
       "51.0      48\n",
       "1.0        4\n",
       "Name: count, dtype: int64"
      ]
     },
     "execution_count": 15,
     "metadata": {},
     "output_type": "execute_result"
    }
   ],
   "source": [
    "house_data.HouseAge.value_counts()"
   ]
  },
  {
   "cell_type": "code",
   "execution_count": 16,
   "id": "9f65fc8c-33a6-4001-b65f-60593c90e0f4",
   "metadata": {
    "scrolled": true
   },
   "outputs": [
    {
     "data": {
      "text/plain": [
       "[1.0,\n",
       " 2.0,\n",
       " 3.0,\n",
       " 4.0,\n",
       " 5.0,\n",
       " 6.0,\n",
       " 7.0,\n",
       " 8.0,\n",
       " 9.0,\n",
       " 10.0,\n",
       " 11.0,\n",
       " 12.0,\n",
       " 13.0,\n",
       " 14.0,\n",
       " 15.0,\n",
       " 16.0,\n",
       " 17.0,\n",
       " 18.0,\n",
       " 19.0,\n",
       " 20.0,\n",
       " 21.0,\n",
       " 22.0,\n",
       " 23.0,\n",
       " 24.0,\n",
       " 25.0,\n",
       " 26.0,\n",
       " 27.0,\n",
       " 28.0,\n",
       " 29.0,\n",
       " 30.0,\n",
       " 31.0,\n",
       " 32.0,\n",
       " 33.0,\n",
       " 34.0,\n",
       " 35.0,\n",
       " 36.0,\n",
       " 37.0,\n",
       " 38.0,\n",
       " 39.0,\n",
       " 40.0,\n",
       " 41.0,\n",
       " 42.0,\n",
       " 43.0,\n",
       " 44.0,\n",
       " 45.0,\n",
       " 46.0,\n",
       " 47.0,\n",
       " 48.0,\n",
       " 49.0,\n",
       " 50.0,\n",
       " 51.0,\n",
       " 52.0]"
      ]
     },
     "execution_count": 16,
     "metadata": {},
     "output_type": "execute_result"
    }
   ],
   "source": [
    "house_data.HouseAge.sort_values().unique().tolist()"
   ]
  },
  {
   "cell_type": "code",
   "execution_count": 17,
   "id": "a1d9aac1-e5c3-41a8-92c4-998b8d60c15f",
   "metadata": {},
   "outputs": [
    {
     "data": {
      "image/png": "[encoded data removed]",
      "text/plain": [
       "<Figure size 1200x800 with 1 Axes>"
      ]
     },
     "metadata": {},
     "output_type": "display_data"
    }
   ],
   "source": [
    "plt.figure(figsize=(12, 8))\n",
    "plt.hist(house_data.HouseAge, bins = 'fd')\n",
    "plt.show()"
   ]
  },
  {
   "cell_type": "code",
   "execution_count": 18,
   "id": "cd64f73e-df2e-4ee3-9842-dfdccf60ecc5",
   "metadata": {},
   "outputs": [
    {
     "data": {
      "image/png": "[encoded data removed]",
      "text/plain": [
       "<Figure size 1200x800 with 1 Axes>"
      ]
     },
     "metadata": {},
     "output_type": "display_data"
    }
   ],
   "source": [
    "plt.figure(figsize=(12, 8))\n",
    "plt.hist(house_data.AveOccup, bins = 'fd')\n",
    "plt.show()"
   ]
  },
  {
   "cell_type": "code",
   "execution_count": 19,
   "id": "0e5bda6c-e4fa-47f3-b8a5-0e8ca228111b",
   "metadata": {},
   "outputs": [
    {
     "data": {
      "image/png": "[encoded data removed]",
      "text/plain": [
       "<Figure size 1200x800 with 1 Axes>"
      ]
     },
     "metadata": {},
     "output_type": "display_data"
    }
   ],
   "source": [
    "plt.figure(figsize=(12, 8))\n",
    "plt.hist(np.log10(house_data.AveOccup), bins = 'fd')\n",
    "plt.show()"
   ]
  },
  {
   "cell_type": "code",
   "execution_count": 20,
   "id": "5421fcb3-e899-4855-8139-8e95f2beac8b",
   "metadata": {},
   "outputs": [
    {
     "data": {
      "text/html": [
       "<div>\n",
       "<style scoped>\n",
       "    .dataframe tbody tr th:only-of-type {\n",
       "        vertical-align: middle;\n",
       "    }\n",
       "\n",
       "    .dataframe tbody tr th {\n",
       "        vertical-align: top;\n",
       "    }\n",
       "\n",
       "    .dataframe thead th {\n",
       "        text-align: right;\n",
       "    }\n",
       "</style>\n",
       "<table border=\"1\" class=\"dataframe\">\n",
       "  <thead>\n",
       "    <tr style=\"text-align: right;\">\n",
       "      <th></th>\n",
       "      <th>MedInc</th>\n",
       "      <th>HouseAge</th>\n",
       "      <th>AveRooms</th>\n",
       "      <th>AveBedrms</th>\n",
       "      <th>Population</th>\n",
       "      <th>AveOccup</th>\n",
       "      <th>Latitude</th>\n",
       "      <th>Longitude</th>\n",
       "      <th>MedHouseVal</th>\n",
       "    </tr>\n",
       "  </thead>\n",
       "  <tbody>\n",
       "    <tr>\n",
       "      <th>13366</th>\n",
       "      <td>4.2578</td>\n",
       "      <td>36.0</td>\n",
       "      <td>5.258824</td>\n",
       "      <td>1.117647</td>\n",
       "      <td>2886.0</td>\n",
       "      <td>33.952941</td>\n",
       "      <td>33.94</td>\n",
       "      <td>-117.63</td>\n",
       "      <td>1.83300</td>\n",
       "    </tr>\n",
       "    <tr>\n",
       "      <th>8874</th>\n",
       "      <td>9.3370</td>\n",
       "      <td>52.0</td>\n",
       "      <td>7.285714</td>\n",
       "      <td>1.214286</td>\n",
       "      <td>1154.0</td>\n",
       "      <td>41.214286</td>\n",
       "      <td>34.06</td>\n",
       "      <td>-118.45</td>\n",
       "      <td>5.00001</td>\n",
       "    </tr>\n",
       "    <tr>\n",
       "      <th>16420</th>\n",
       "      <td>5.7485</td>\n",
       "      <td>26.0</td>\n",
       "      <td>5.366667</td>\n",
       "      <td>0.900000</td>\n",
       "      <td>1542.0</td>\n",
       "      <td>51.400000</td>\n",
       "      <td>37.89</td>\n",
       "      <td>-121.29</td>\n",
       "      <td>1.62500</td>\n",
       "    </tr>\n",
       "    <tr>\n",
       "      <th>12104</th>\n",
       "      <td>1.6250</td>\n",
       "      <td>8.0</td>\n",
       "      <td>7.600000</td>\n",
       "      <td>0.950000</td>\n",
       "      <td>1275.0</td>\n",
       "      <td>63.750000</td>\n",
       "      <td>33.97</td>\n",
       "      <td>-117.33</td>\n",
       "      <td>1.62500</td>\n",
       "    </tr>\n",
       "    <tr>\n",
       "      <th>9172</th>\n",
       "      <td>4.2391</td>\n",
       "      <td>5.0</td>\n",
       "      <td>5.123810</td>\n",
       "      <td>0.933333</td>\n",
       "      <td>8733.0</td>\n",
       "      <td>83.171429</td>\n",
       "      <td>34.47</td>\n",
       "      <td>-118.59</td>\n",
       "      <td>1.54600</td>\n",
       "    </tr>\n",
       "    <tr>\n",
       "      <th>13034</th>\n",
       "      <td>6.1359</td>\n",
       "      <td>52.0</td>\n",
       "      <td>8.275862</td>\n",
       "      <td>1.517241</td>\n",
       "      <td>6675.0</td>\n",
       "      <td>230.172414</td>\n",
       "      <td>38.69</td>\n",
       "      <td>-121.15</td>\n",
       "      <td>2.25000</td>\n",
       "    </tr>\n",
       "    <tr>\n",
       "      <th>16669</th>\n",
       "      <td>4.2639</td>\n",
       "      <td>46.0</td>\n",
       "      <td>9.076923</td>\n",
       "      <td>1.307692</td>\n",
       "      <td>6532.0</td>\n",
       "      <td>502.461538</td>\n",
       "      <td>35.32</td>\n",
       "      <td>-120.70</td>\n",
       "      <td>3.50000</td>\n",
       "    </tr>\n",
       "    <tr>\n",
       "      <th>3364</th>\n",
       "      <td>5.5179</td>\n",
       "      <td>36.0</td>\n",
       "      <td>5.142857</td>\n",
       "      <td>1.142857</td>\n",
       "      <td>4198.0</td>\n",
       "      <td>599.714286</td>\n",
       "      <td>40.41</td>\n",
       "      <td>-120.51</td>\n",
       "      <td>0.67500</td>\n",
       "    </tr>\n",
       "    <tr>\n",
       "      <th>19006</th>\n",
       "      <td>10.2264</td>\n",
       "      <td>45.0</td>\n",
       "      <td>3.166667</td>\n",
       "      <td>0.833333</td>\n",
       "      <td>7460.0</td>\n",
       "      <td>1243.333333</td>\n",
       "      <td>38.32</td>\n",
       "      <td>-121.98</td>\n",
       "      <td>1.37500</td>\n",
       "    </tr>\n",
       "  </tbody>\n",
       "</table>\n",
       "</div>"
      ],
      "text/plain": [
       "        MedInc  HouseAge  AveRooms  AveBedrms  Population     AveOccup  \\\n",
       "13366   4.2578      36.0  5.258824   1.117647      2886.0    33.952941   \n",
       "8874    9.3370      52.0  7.285714   1.214286      1154.0    41.214286   \n",
       "16420   5.7485      26.0  5.366667   0.900000      1542.0    51.400000   \n",
       "12104   1.6250       8.0  7.600000   0.950000      1275.0    63.750000   \n",
       "9172    4.2391       5.0  5.123810   0.933333      8733.0    83.171429   \n",
       "13034   6.1359      52.0  8.275862   1.517241      6675.0   230.172414   \n",
       "16669   4.2639      46.0  9.076923   1.307692      6532.0   502.461538   \n",
       "3364    5.5179      36.0  5.142857   1.142857      4198.0   599.714286   \n",
       "19006  10.2264      45.0  3.166667   0.833333      7460.0  1243.333333   \n",
       "\n",
       "       Latitude  Longitude  MedHouseVal  \n",
       "13366     33.94    -117.63      1.83300  \n",
       "8874      34.06    -118.45      5.00001  \n",
       "16420     37.89    -121.29      1.62500  \n",
       "12104     33.97    -117.33      1.62500  \n",
       "9172      34.47    -118.59      1.54600  \n",
       "13034     38.69    -121.15      2.25000  \n",
       "16669     35.32    -120.70      3.50000  \n",
       "3364      40.41    -120.51      0.67500  \n",
       "19006     38.32    -121.98      1.37500  "
      ]
     },
     "execution_count": 20,
     "metadata": {},
     "output_type": "execute_result"
    }
   ],
   "source": [
    "house_data[np.log10(house_data.AveOccup) > 1.5].sort_values('AveOccup')"
   ]
  },
  {
   "cell_type": "markdown",
   "id": "a0592113-ed87-41a3-9393-70050ec36b69",
   "metadata": {},
   "source": [
    "# target exploration"
   ]
  },
  {
   "cell_type": "code",
   "execution_count": 21,
   "id": "f1237925-b429-463d-9feb-cf52b08b7bc8",
   "metadata": {},
   "outputs": [
    {
     "data": {
      "image/png": "[encoded data removed]",
      "text/plain": [
       "<Figure size 1200x800 with 1 Axes>"
      ]
     },
     "metadata": {},
     "output_type": "display_data"
    }
   ],
   "source": [
    "plt.figure(figsize=(12, 8))\n",
    "plt.hist(house_data.MedHouseVal, bins = 'fd')\n",
    "plt.show()"
   ]
  },
  {
   "cell_type": "code",
   "execution_count": 22,
   "id": "50800860-9d74-4ff1-90ed-14f63696aa64",
   "metadata": {},
   "outputs": [
    {
     "data": {
      "text/html": [
       "<div>\n",
       "<style scoped>\n",
       "    .dataframe tbody tr th:only-of-type {\n",
       "        vertical-align: middle;\n",
       "    }\n",
       "\n",
       "    .dataframe tbody tr th {\n",
       "        vertical-align: top;\n",
       "    }\n",
       "\n",
       "    .dataframe thead th {\n",
       "        text-align: right;\n",
       "    }\n",
       "</style>\n",
       "<table border=\"1\" class=\"dataframe\">\n",
       "  <thead>\n",
       "    <tr style=\"text-align: right;\">\n",
       "      <th></th>\n",
       "      <th>MedInc</th>\n",
       "      <th>HouseAge</th>\n",
       "      <th>AveRooms</th>\n",
       "      <th>AveBedrms</th>\n",
       "      <th>Population</th>\n",
       "      <th>AveOccup</th>\n",
       "      <th>Latitude</th>\n",
       "      <th>Longitude</th>\n",
       "      <th>MedHouseVal</th>\n",
       "    </tr>\n",
       "  </thead>\n",
       "  <tbody>\n",
       "    <tr>\n",
       "      <th>89</th>\n",
       "      <td>1.2434</td>\n",
       "      <td>52.0</td>\n",
       "      <td>2.929412</td>\n",
       "      <td>0.917647</td>\n",
       "      <td>396.0</td>\n",
       "      <td>4.658824</td>\n",
       "      <td>37.80</td>\n",
       "      <td>-122.27</td>\n",
       "      <td>5.00001</td>\n",
       "    </tr>\n",
       "    <tr>\n",
       "      <th>459</th>\n",
       "      <td>1.1696</td>\n",
       "      <td>52.0</td>\n",
       "      <td>2.436000</td>\n",
       "      <td>0.944000</td>\n",
       "      <td>1349.0</td>\n",
       "      <td>5.396000</td>\n",
       "      <td>37.87</td>\n",
       "      <td>-122.25</td>\n",
       "      <td>5.00001</td>\n",
       "    </tr>\n",
       "    <tr>\n",
       "      <th>493</th>\n",
       "      <td>7.8521</td>\n",
       "      <td>52.0</td>\n",
       "      <td>7.794393</td>\n",
       "      <td>1.051402</td>\n",
       "      <td>517.0</td>\n",
       "      <td>2.415888</td>\n",
       "      <td>37.86</td>\n",
       "      <td>-122.24</td>\n",
       "      <td>5.00001</td>\n",
       "    </tr>\n",
       "    <tr>\n",
       "      <th>494</th>\n",
       "      <td>9.3959</td>\n",
       "      <td>52.0</td>\n",
       "      <td>7.512097</td>\n",
       "      <td>0.955645</td>\n",
       "      <td>1366.0</td>\n",
       "      <td>2.754032</td>\n",
       "      <td>37.85</td>\n",
       "      <td>-122.24</td>\n",
       "      <td>5.00001</td>\n",
       "    </tr>\n",
       "    <tr>\n",
       "      <th>509</th>\n",
       "      <td>7.8772</td>\n",
       "      <td>52.0</td>\n",
       "      <td>8.282548</td>\n",
       "      <td>1.049861</td>\n",
       "      <td>947.0</td>\n",
       "      <td>2.623269</td>\n",
       "      <td>37.83</td>\n",
       "      <td>-122.23</td>\n",
       "      <td>5.00001</td>\n",
       "    </tr>\n",
       "    <tr>\n",
       "      <th>...</th>\n",
       "      <td>...</td>\n",
       "      <td>...</td>\n",
       "      <td>...</td>\n",
       "      <td>...</td>\n",
       "      <td>...</td>\n",
       "      <td>...</td>\n",
       "      <td>...</td>\n",
       "      <td>...</td>\n",
       "      <td>...</td>\n",
       "    </tr>\n",
       "    <tr>\n",
       "      <th>20422</th>\n",
       "      <td>5.1457</td>\n",
       "      <td>35.0</td>\n",
       "      <td>6.958333</td>\n",
       "      <td>1.217593</td>\n",
       "      <td>576.0</td>\n",
       "      <td>2.666667</td>\n",
       "      <td>34.14</td>\n",
       "      <td>-118.90</td>\n",
       "      <td>5.00001</td>\n",
       "    </tr>\n",
       "    <tr>\n",
       "      <th>20426</th>\n",
       "      <td>10.0472</td>\n",
       "      <td>11.0</td>\n",
       "      <td>9.890756</td>\n",
       "      <td>1.159664</td>\n",
       "      <td>415.0</td>\n",
       "      <td>3.487395</td>\n",
       "      <td>34.18</td>\n",
       "      <td>-118.69</td>\n",
       "      <td>5.00001</td>\n",
       "    </tr>\n",
       "    <tr>\n",
       "      <th>20427</th>\n",
       "      <td>8.6499</td>\n",
       "      <td>4.0</td>\n",
       "      <td>7.236059</td>\n",
       "      <td>1.032528</td>\n",
       "      <td>5495.0</td>\n",
       "      <td>2.553439</td>\n",
       "      <td>34.19</td>\n",
       "      <td>-118.80</td>\n",
       "      <td>5.00001</td>\n",
       "    </tr>\n",
       "    <tr>\n",
       "      <th>20436</th>\n",
       "      <td>12.5420</td>\n",
       "      <td>10.0</td>\n",
       "      <td>9.873315</td>\n",
       "      <td>1.102426</td>\n",
       "      <td>1179.0</td>\n",
       "      <td>3.177898</td>\n",
       "      <td>34.21</td>\n",
       "      <td>-118.69</td>\n",
       "      <td>5.00001</td>\n",
       "    </tr>\n",
       "    <tr>\n",
       "      <th>20443</th>\n",
       "      <td>3.3438</td>\n",
       "      <td>50.0</td>\n",
       "      <td>5.342857</td>\n",
       "      <td>0.942857</td>\n",
       "      <td>130.0</td>\n",
       "      <td>3.714286</td>\n",
       "      <td>34.27</td>\n",
       "      <td>-118.85</td>\n",
       "      <td>5.00001</td>\n",
       "    </tr>\n",
       "  </tbody>\n",
       "</table>\n",
       "<p>965 rows × 9 columns</p>\n",
       "</div>"
      ],
      "text/plain": [
       "        MedInc  HouseAge  AveRooms  AveBedrms  Population  AveOccup  Latitude  \\\n",
       "89      1.2434      52.0  2.929412   0.917647       396.0  4.658824     37.80   \n",
       "459     1.1696      52.0  2.436000   0.944000      1349.0  5.396000     37.87   \n",
       "493     7.8521      52.0  7.794393   1.051402       517.0  2.415888     37.86   \n",
       "494     9.3959      52.0  7.512097   0.955645      1366.0  2.754032     37.85   \n",
       "509     7.8772      52.0  8.282548   1.049861       947.0  2.623269     37.83   \n",
       "...        ...       ...       ...        ...         ...       ...       ...   \n",
       "20422   5.1457      35.0  6.958333   1.217593       576.0  2.666667     34.14   \n",
       "20426  10.0472      11.0  9.890756   1.159664       415.0  3.487395     34.18   \n",
       "20427   8.6499       4.0  7.236059   1.032528      5495.0  2.553439     34.19   \n",
       "20436  12.5420      10.0  9.873315   1.102426      1179.0  3.177898     34.21   \n",
       "20443   3.3438      50.0  5.342857   0.942857       130.0  3.714286     34.27   \n",
       "\n",
       "       Longitude  MedHouseVal  \n",
       "89       -122.27      5.00001  \n",
       "459      -122.25      5.00001  \n",
       "493      -122.24      5.00001  \n",
       "494      -122.24      5.00001  \n",
       "509      -122.23      5.00001  \n",
       "...          ...          ...  \n",
       "20422    -118.90      5.00001  \n",
       "20426    -118.69      5.00001  \n",
       "20427    -118.80      5.00001  \n",
       "20436    -118.69      5.00001  \n",
       "20443    -118.85      5.00001  \n",
       "\n",
       "[965 rows x 9 columns]"
      ]
     },
     "execution_count": 22,
     "metadata": {},
     "output_type": "execute_result"
    }
   ],
   "source": [
    "house_data[house_data.MedHouseVal > 5]"
   ]
  },
  {
   "cell_type": "code",
   "execution_count": 23,
   "id": "db6a9635-0141-4916-9d54-db95ea4abd3d",
   "metadata": {},
   "outputs": [
    {
     "data": {
      "text/plain": [
       "array([5.00001])"
      ]
     },
     "execution_count": 23,
     "metadata": {},
     "output_type": "execute_result"
    }
   ],
   "source": [
    "house_data[house_data.MedHouseVal > 5].MedHouseVal.unique()"
   ]
  },
  {
   "cell_type": "code",
   "execution_count": 24,
   "id": "5c87863f-0dfe-4e36-afd6-b49e920fdff2",
   "metadata": {},
   "outputs": [],
   "source": [
    "house_data = house_data[house_data.MedHouseVal <= 5] # remove the MedHouseVal > 5, since they are a special case and cover houses with values > 500 thousands"
   ]
  },
  {
   "cell_type": "markdown",
   "id": "8a30c350-acf3-4b62-9654-9dade6c67966",
   "metadata": {},
   "source": [
    "# Linear Regression"
   ]
  },
  {
   "cell_type": "markdown",
   "id": "95ca634a-e088-4d7f-87c8-3f147f3c39e3",
   "metadata": {},
   "source": [
    "# model fitting"
   ]
  },
  {
   "cell_type": "code",
   "execution_count": 25,
   "id": "075deffe-ecd9-44b8-9c5b-e415897c521f",
   "metadata": {},
   "outputs": [
    {
     "data": {
      "text/html": [
       "<style>#sk-container-id-1 {color: black;background-color: white;}#sk-container-id-1 pre{padding: 0;}#sk-container-id-1 div.sk-toggleable {background-color: white;}#sk-container-id-1 label.sk-toggleable__label {cursor: pointer;display: block;width: 100%;margin-bottom: 0;padding: 0.3em;box-sizing: border-box;text-align: center;}#sk-container-id-1 label.sk-toggleable__label-arrow:before {content: \"▸\";float: left;margin-right: 0.25em;color: #696969;}#sk-container-id-1 label.sk-toggleable__label-arrow:hover:before {color: black;}#sk-container-id-1 div.sk-estimator:hover label.sk-toggleable__label-arrow:before {color: black;}#sk-container-id-1 div.sk-toggleable__content {max-height: 0;max-width: 0;overflow: hidden;text-align: left;background-color: #f0f8ff;}#sk-container-id-1 div.sk-toggleable__content pre {margin: 0.2em;color: black;border-radius: 0.25em;background-color: #f0f8ff;}#sk-container-id-1 input.sk-toggleable__control:checked~div.sk-toggleable__content {max-height: 200px;max-width: 100%;overflow: auto;}#sk-container-id-1 input.sk-toggleable__control:checked~label.sk-toggleable__label-arrow:before {content: \"▾\";}#sk-container-id-1 div.sk-estimator input.sk-toggleable__control:checked~label.sk-toggleable__label {background-color: #d4ebff;}#sk-container-id-1 div.sk-label input.sk-toggleable__control:checked~label.sk-toggleable__label {background-color: #d4ebff;}#sk-container-id-1 input.sk-hidden--visually {border: 0;clip: rect(1px 1px 1px 1px);clip: rect(1px, 1px, 1px, 1px);height: 1px;margin: -1px;overflow: hidden;padding: 0;position: absolute;width: 1px;}#sk-container-id-1 div.sk-estimator {font-family: monospace;background-color: #f0f8ff;border: 1px dotted black;border-radius: 0.25em;box-sizing: border-box;margin-bottom: 0.5em;}#sk-container-id-1 div.sk-estimator:hover {background-color: #d4ebff;}#sk-container-id-1 div.sk-parallel-item::after {content: \"\";width: 100%;border-bottom: 1px solid gray;flex-grow: 1;}#sk-container-id-1 div.sk-label:hover label.sk-toggleable__label {background-color: #d4ebff;}#sk-container-id-1 div.sk-serial::before {content: \"\";position: absolute;border-left: 1px solid gray;box-sizing: border-box;top: 0;bottom: 0;left: 50%;z-index: 0;}#sk-container-id-1 div.sk-serial {display: flex;flex-direction: column;align-items: center;background-color: white;padding-right: 0.2em;padding-left: 0.2em;position: relative;}#sk-container-id-1 div.sk-item {position: relative;z-index: 1;}#sk-container-id-1 div.sk-parallel {display: flex;align-items: stretch;justify-content: center;background-color: white;position: relative;}#sk-container-id-1 div.sk-item::before, #sk-container-id-1 div.sk-parallel-item::before {content: \"\";position: absolute;border-left: 1px solid gray;box-sizing: border-box;top: 0;bottom: 0;left: 50%;z-index: -1;}#sk-container-id-1 div.sk-parallel-item {display: flex;flex-direction: column;z-index: 1;position: relative;background-color: white;}#sk-container-id-1 div.sk-parallel-item:first-child::after {align-self: flex-end;width: 50%;}#sk-container-id-1 div.sk-parallel-item:last-child::after {align-self: flex-start;width: 50%;}#sk-container-id-1 div.sk-parallel-item:only-child::after {width: 0;}#sk-container-id-1 div.sk-dashed-wrapped {border: 1px dashed gray;margin: 0 0.4em 0.5em 0.4em;box-sizing: border-box;padding-bottom: 0.4em;background-color: white;}#sk-container-id-1 div.sk-label label {font-family: monospace;font-weight: bold;display: inline-block;line-height: 1.2em;}#sk-container-id-1 div.sk-label-container {text-align: center;}#sk-container-id-1 div.sk-container {/* jupyter's `normalize.less` sets `[hidden] { display: none; }` but bootstrap.min.css set `[hidden] { display: none !important; }` so we also need the `!important` here to be able to override the default hidden behavior on the sphinx rendered scikit-learn.org. See: https://github.com/scikit-learn/scikit-learn/issues/21755 */display: inline-block !important;position: relative;}#sk-container-id-1 div.sk-text-repr-fallback {display: none;}</style><div id=\"sk-container-id-1\" class=\"sk-top-container\"><div class=\"sk-text-repr-fallback\"><pre>LinearRegression()</pre><b>In a Jupyter environment, please rerun this cell to show the HTML representation or trust the notebook. <br />On GitHub, the HTML representation is unable to render, please try loading this page with nbviewer.org.</b></div><div class=\"sk-container\" hidden><div class=\"sk-item\"><div class=\"sk-estimator sk-toggleable\"><input class=\"sk-toggleable__control sk-hidden--visually\" id=\"sk-estimator-id-1\" type=\"checkbox\" checked><label for=\"sk-estimator-id-1\" class=\"sk-toggleable__label sk-toggleable__label-arrow\">LinearRegression</label><div class=\"sk-toggleable__content\"><pre>LinearRegression()</pre></div></div></div></div></div>"
      ],
      "text/plain": [
       "LinearRegression()"
      ]
     },
     "execution_count": 25,
     "metadata": {},
     "output_type": "execute_result"
    }
   ],
   "source": [
    "house_model = LinearRegression()\n",
    "house_model"
   ]
  },
  {
   "cell_type": "markdown",
   "id": "d4379a2b-6218-4ed6-b392-630833345315",
   "metadata": {},
   "source": [
    "erronouse approach: input all data including the target"
   ]
  },
  {
   "cell_type": "code",
   "execution_count": 26,
   "id": "968d9905-9a94-4a76-a478-5a91ed2fed28",
   "metadata": {},
   "outputs": [
    {
     "data": {
      "text/html": [
       "<style>#sk-container-id-2 {color: black;background-color: white;}#sk-container-id-2 pre{padding: 0;}#sk-container-id-2 div.sk-toggleable {background-color: white;}#sk-container-id-2 label.sk-toggleable__label {cursor: pointer;display: block;width: 100%;margin-bottom: 0;padding: 0.3em;box-sizing: border-box;text-align: center;}#sk-container-id-2 label.sk-toggleable__label-arrow:before {content: \"▸\";float: left;margin-right: 0.25em;color: #696969;}#sk-container-id-2 label.sk-toggleable__label-arrow:hover:before {color: black;}#sk-container-id-2 div.sk-estimator:hover label.sk-toggleable__label-arrow:before {color: black;}#sk-container-id-2 div.sk-toggleable__content {max-height: 0;max-width: 0;overflow: hidden;text-align: left;background-color: #f0f8ff;}#sk-container-id-2 div.sk-toggleable__content pre {margin: 0.2em;color: black;border-radius: 0.25em;background-color: #f0f8ff;}#sk-container-id-2 input.sk-toggleable__control:checked~div.sk-toggleable__content {max-height: 200px;max-width: 100%;overflow: auto;}#sk-container-id-2 input.sk-toggleable__control:checked~label.sk-toggleable__label-arrow:before {content: \"▾\";}#sk-container-id-2 div.sk-estimator input.sk-toggleable__control:checked~label.sk-toggleable__label {background-color: #d4ebff;}#sk-container-id-2 div.sk-label input.sk-toggleable__control:checked~label.sk-toggleable__label {background-color: #d4ebff;}#sk-container-id-2 input.sk-hidden--visually {border: 0;clip: rect(1px 1px 1px 1px);clip: rect(1px, 1px, 1px, 1px);height: 1px;margin: -1px;overflow: hidden;padding: 0;position: absolute;width: 1px;}#sk-container-id-2 div.sk-estimator {font-family: monospace;background-color: #f0f8ff;border: 1px dotted black;border-radius: 0.25em;box-sizing: border-box;margin-bottom: 0.5em;}#sk-container-id-2 div.sk-estimator:hover {background-color: #d4ebff;}#sk-container-id-2 div.sk-parallel-item::after {content: \"\";width: 100%;border-bottom: 1px solid gray;flex-grow: 1;}#sk-container-id-2 div.sk-label:hover label.sk-toggleable__label {background-color: #d4ebff;}#sk-container-id-2 div.sk-serial::before {content: \"\";position: absolute;border-left: 1px solid gray;box-sizing: border-box;top: 0;bottom: 0;left: 50%;z-index: 0;}#sk-container-id-2 div.sk-serial {display: flex;flex-direction: column;align-items: center;background-color: white;padding-right: 0.2em;padding-left: 0.2em;position: relative;}#sk-container-id-2 div.sk-item {position: relative;z-index: 1;}#sk-container-id-2 div.sk-parallel {display: flex;align-items: stretch;justify-content: center;background-color: white;position: relative;}#sk-container-id-2 div.sk-item::before, #sk-container-id-2 div.sk-parallel-item::before {content: \"\";position: absolute;border-left: 1px solid gray;box-sizing: border-box;top: 0;bottom: 0;left: 50%;z-index: -1;}#sk-container-id-2 div.sk-parallel-item {display: flex;flex-direction: column;z-index: 1;position: relative;background-color: white;}#sk-container-id-2 div.sk-parallel-item:first-child::after {align-self: flex-end;width: 50%;}#sk-container-id-2 div.sk-parallel-item:last-child::after {align-self: flex-start;width: 50%;}#sk-container-id-2 div.sk-parallel-item:only-child::after {width: 0;}#sk-container-id-2 div.sk-dashed-wrapped {border: 1px dashed gray;margin: 0 0.4em 0.5em 0.4em;box-sizing: border-box;padding-bottom: 0.4em;background-color: white;}#sk-container-id-2 div.sk-label label {font-family: monospace;font-weight: bold;display: inline-block;line-height: 1.2em;}#sk-container-id-2 div.sk-label-container {text-align: center;}#sk-container-id-2 div.sk-container {/* jupyter's `normalize.less` sets `[hidden] { display: none; }` but bootstrap.min.css set `[hidden] { display: none !important; }` so we also need the `!important` here to be able to override the default hidden behavior on the sphinx rendered scikit-learn.org. See: https://github.com/scikit-learn/scikit-learn/issues/21755 */display: inline-block !important;position: relative;}#sk-container-id-2 div.sk-text-repr-fallback {display: none;}</style><div id=\"sk-container-id-2\" class=\"sk-top-container\"><div class=\"sk-text-repr-fallback\"><pre>LinearRegression()</pre><b>In a Jupyter environment, please rerun this cell to show the HTML representation or trust the notebook. <br />On GitHub, the HTML representation is unable to render, please try loading this page with nbviewer.org.</b></div><div class=\"sk-container\" hidden><div class=\"sk-item\"><div class=\"sk-estimator sk-toggleable\"><input class=\"sk-toggleable__control sk-hidden--visually\" id=\"sk-estimator-id-2\" type=\"checkbox\" checked><label for=\"sk-estimator-id-2\" class=\"sk-toggleable__label sk-toggleable__label-arrow\">LinearRegression</label><div class=\"sk-toggleable__content\"><pre>LinearRegression()</pre></div></div></div></div></div>"
      ],
      "text/plain": [
       "LinearRegression()"
      ]
     },
     "execution_count": 26,
     "metadata": {},
     "output_type": "execute_result"
    }
   ],
   "source": [
    "house_model.fit(house_data, house_data.MedHouseVal)"
   ]
  },
  {
   "cell_type": "code",
   "execution_count": 27,
   "id": "52aeb9a6-e4f4-4b8c-9cb3-f4a198a0ebfb",
   "metadata": {},
   "outputs": [
    {
     "data": {
      "text/plain": [
       "array([-1.30694079e-16,  2.83093037e-16,  6.94696861e-16, -2.02227071e-15,\n",
       "        8.57473195e-18, -8.34221399e-17, -6.50053972e-17,  5.31564515e-16,\n",
       "        1.00000000e+00])"
      ]
     },
     "execution_count": 27,
     "metadata": {},
     "output_type": "execute_result"
    }
   ],
   "source": [
    "house_model.coef_"
   ]
  },
  {
   "cell_type": "code",
   "execution_count": 28,
   "id": "a66b9d92-d161-4d73-b44b-89dc26d0d895",
   "metadata": {},
   "outputs": [
    {
     "data": {
      "text/plain": [
       "array(['MedInc', 'HouseAge', 'AveRooms', 'AveBedrms', 'Population',\n",
       "       'AveOccup', 'Latitude', 'Longitude', 'MedHouseVal'], dtype=object)"
      ]
     },
     "execution_count": 28,
     "metadata": {},
     "output_type": "execute_result"
    }
   ],
   "source": [
    "house_model.feature_names_in_"
   ]
  },
  {
   "cell_type": "code",
   "execution_count": 29,
   "id": "8fd0e41a-afda-4dc3-a0be-ad16f90d7d82",
   "metadata": {},
   "outputs": [
    {
     "data": {
      "text/plain": [
       "[('MedInc', -1.3069407856908105e-16),\n",
       " ('HouseAge', 2.830930367049993e-16),\n",
       " ('AveRooms', 6.946968607704144e-16),\n",
       " ('AveBedrms', -2.0222707103394475e-15),\n",
       " ('Population', 8.5747319463572e-18),\n",
       " ('AveOccup', -8.342213988122494e-17),\n",
       " ('Latitude', -6.50053971599871e-17),\n",
       " ('Longitude', 5.315645150786718e-16),\n",
       " ('MedHouseVal', 1.0000000000000007)]"
      ]
     },
     "execution_count": 29,
     "metadata": {},
     "output_type": "execute_result"
    }
   ],
   "source": [
    "list(zip(house_model.feature_names_in_, house_model.coef_))"
   ]
  },
  {
   "cell_type": "markdown",
   "id": "1b737719-9429-467b-b7d8-e21cbe9239c9",
   "metadata": {},
   "source": [
    "correct approach"
   ]
  },
  {
   "cell_type": "code",
   "execution_count": 30,
   "id": "c02ac84a-22ea-4077-baa3-f2771868c3f9",
   "metadata": {},
   "outputs": [],
   "source": [
    "house_attributes = house_data.drop(columns = ['MedHouseVal'])\n",
    "target = house_data.MedHouseVal"
   ]
  },
  {
   "cell_type": "code",
   "execution_count": 31,
   "id": "7e232172-82df-4b90-91cf-dd785aff15ba",
   "metadata": {},
   "outputs": [
    {
     "data": {
      "text/html": [
       "<style>#sk-container-id-3 {color: black;background-color: white;}#sk-container-id-3 pre{padding: 0;}#sk-container-id-3 div.sk-toggleable {background-color: white;}#sk-container-id-3 label.sk-toggleable__label {cursor: pointer;display: block;width: 100%;margin-bottom: 0;padding: 0.3em;box-sizing: border-box;text-align: center;}#sk-container-id-3 label.sk-toggleable__label-arrow:before {content: \"▸\";float: left;margin-right: 0.25em;color: #696969;}#sk-container-id-3 label.sk-toggleable__label-arrow:hover:before {color: black;}#sk-container-id-3 div.sk-estimator:hover label.sk-toggleable__label-arrow:before {color: black;}#sk-container-id-3 div.sk-toggleable__content {max-height: 0;max-width: 0;overflow: hidden;text-align: left;background-color: #f0f8ff;}#sk-container-id-3 div.sk-toggleable__content pre {margin: 0.2em;color: black;border-radius: 0.25em;background-color: #f0f8ff;}#sk-container-id-3 input.sk-toggleable__control:checked~div.sk-toggleable__content {max-height: 200px;max-width: 100%;overflow: auto;}#sk-container-id-3 input.sk-toggleable__control:checked~label.sk-toggleable__label-arrow:before {content: \"▾\";}#sk-container-id-3 div.sk-estimator input.sk-toggleable__control:checked~label.sk-toggleable__label {background-color: #d4ebff;}#sk-container-id-3 div.sk-label input.sk-toggleable__control:checked~label.sk-toggleable__label {background-color: #d4ebff;}#sk-container-id-3 input.sk-hidden--visually {border: 0;clip: rect(1px 1px 1px 1px);clip: rect(1px, 1px, 1px, 1px);height: 1px;margin: -1px;overflow: hidden;padding: 0;position: absolute;width: 1px;}#sk-container-id-3 div.sk-estimator {font-family: monospace;background-color: #f0f8ff;border: 1px dotted black;border-radius: 0.25em;box-sizing: border-box;margin-bottom: 0.5em;}#sk-container-id-3 div.sk-estimator:hover {background-color: #d4ebff;}#sk-container-id-3 div.sk-parallel-item::after {content: \"\";width: 100%;border-bottom: 1px solid gray;flex-grow: 1;}#sk-container-id-3 div.sk-label:hover label.sk-toggleable__label {background-color: #d4ebff;}#sk-container-id-3 div.sk-serial::before {content: \"\";position: absolute;border-left: 1px solid gray;box-sizing: border-box;top: 0;bottom: 0;left: 50%;z-index: 0;}#sk-container-id-3 div.sk-serial {display: flex;flex-direction: column;align-items: center;background-color: white;padding-right: 0.2em;padding-left: 0.2em;position: relative;}#sk-container-id-3 div.sk-item {position: relative;z-index: 1;}#sk-container-id-3 div.sk-parallel {display: flex;align-items: stretch;justify-content: center;background-color: white;position: relative;}#sk-container-id-3 div.sk-item::before, #sk-container-id-3 div.sk-parallel-item::before {content: \"\";position: absolute;border-left: 1px solid gray;box-sizing: border-box;top: 0;bottom: 0;left: 50%;z-index: -1;}#sk-container-id-3 div.sk-parallel-item {display: flex;flex-direction: column;z-index: 1;position: relative;background-color: white;}#sk-container-id-3 div.sk-parallel-item:first-child::after {align-self: flex-end;width: 50%;}#sk-container-id-3 div.sk-parallel-item:last-child::after {align-self: flex-start;width: 50%;}#sk-container-id-3 div.sk-parallel-item:only-child::after {width: 0;}#sk-container-id-3 div.sk-dashed-wrapped {border: 1px dashed gray;margin: 0 0.4em 0.5em 0.4em;box-sizing: border-box;padding-bottom: 0.4em;background-color: white;}#sk-container-id-3 div.sk-label label {font-family: monospace;font-weight: bold;display: inline-block;line-height: 1.2em;}#sk-container-id-3 div.sk-label-container {text-align: center;}#sk-container-id-3 div.sk-container {/* jupyter's `normalize.less` sets `[hidden] { display: none; }` but bootstrap.min.css set `[hidden] { display: none !important; }` so we also need the `!important` here to be able to override the default hidden behavior on the sphinx rendered scikit-learn.org. See: https://github.com/scikit-learn/scikit-learn/issues/21755 */display: inline-block !important;position: relative;}#sk-container-id-3 div.sk-text-repr-fallback {display: none;}</style><div id=\"sk-container-id-3\" class=\"sk-top-container\"><div class=\"sk-text-repr-fallback\"><pre>LinearRegression()</pre><b>In a Jupyter environment, please rerun this cell to show the HTML representation or trust the notebook. <br />On GitHub, the HTML representation is unable to render, please try loading this page with nbviewer.org.</b></div><div class=\"sk-container\" hidden><div class=\"sk-item\"><div class=\"sk-estimator sk-toggleable\"><input class=\"sk-toggleable__control sk-hidden--visually\" id=\"sk-estimator-id-3\" type=\"checkbox\" checked><label for=\"sk-estimator-id-3\" class=\"sk-toggleable__label sk-toggleable__label-arrow\">LinearRegression</label><div class=\"sk-toggleable__content\"><pre>LinearRegression()</pre></div></div></div></div></div>"
      ],
      "text/plain": [
       "LinearRegression()"
      ]
     },
     "execution_count": 31,
     "metadata": {},
     "output_type": "execute_result"
    }
   ],
   "source": [
    "house_model.fit(house_attributes, target)"
   ]
  },
  {
   "cell_type": "code",
   "execution_count": 32,
   "id": "4c675790-7914-4e1b-aecf-f568f7b7c193",
   "metadata": {},
   "outputs": [
    {
     "data": {
      "text/plain": [
       "[('MedInc', 0.43203999075155325),\n",
       " ('HouseAge', 0.008178957814135924),\n",
       " ('AveRooms', -0.11051221552017867),\n",
       " ('AveBedrms', 0.6134539079605462),\n",
       " ('Population', 4.5934758965291635e-06),\n",
       " ('AveOccup', -0.003447720551817134),\n",
       " ('Latitude', -0.3794033795650469),\n",
       " ('Longitude', -0.3959098468967255)]"
      ]
     },
     "execution_count": 32,
     "metadata": {},
     "output_type": "execute_result"
    }
   ],
   "source": [
    "list(zip(house_model.feature_names_in_, house_model.coef_))"
   ]
  },
  {
   "cell_type": "markdown",
   "id": "a49705f4-34e9-43c6-8fda-dcbcfdee2b9a",
   "metadata": {},
   "source": [
    "## MinMaxScaler"
   ]
  },
  {
   "cell_type": "code",
   "execution_count": 33,
   "id": "c85708f0-45b2-46cb-a97d-44c44dfb4387",
   "metadata": {},
   "outputs": [],
   "source": [
    "scaler = MinMaxScaler()"
   ]
  },
  {
   "cell_type": "code",
   "execution_count": 34,
   "id": "32c9bd14-d93f-48bd-9e2b-5ba282f8b465",
   "metadata": {},
   "outputs": [
    {
     "data": {
      "text/html": [
       "<style>#sk-container-id-4 {color: black;background-color: white;}#sk-container-id-4 pre{padding: 0;}#sk-container-id-4 div.sk-toggleable {background-color: white;}#sk-container-id-4 label.sk-toggleable__label {cursor: pointer;display: block;width: 100%;margin-bottom: 0;padding: 0.3em;box-sizing: border-box;text-align: center;}#sk-container-id-4 label.sk-toggleable__label-arrow:before {content: \"▸\";float: left;margin-right: 0.25em;color: #696969;}#sk-container-id-4 label.sk-toggleable__label-arrow:hover:before {color: black;}#sk-container-id-4 div.sk-estimator:hover label.sk-toggleable__label-arrow:before {color: black;}#sk-container-id-4 div.sk-toggleable__content {max-height: 0;max-width: 0;overflow: hidden;text-align: left;background-color: #f0f8ff;}#sk-container-id-4 div.sk-toggleable__content pre {margin: 0.2em;color: black;border-radius: 0.25em;background-color: #f0f8ff;}#sk-container-id-4 input.sk-toggleable__control:checked~div.sk-toggleable__content {max-height: 200px;max-width: 100%;overflow: auto;}#sk-container-id-4 input.sk-toggleable__control:checked~label.sk-toggleable__label-arrow:before {content: \"▾\";}#sk-container-id-4 div.sk-estimator input.sk-toggleable__control:checked~label.sk-toggleable__label {background-color: #d4ebff;}#sk-container-id-4 div.sk-label input.sk-toggleable__control:checked~label.sk-toggleable__label {background-color: #d4ebff;}#sk-container-id-4 input.sk-hidden--visually {border: 0;clip: rect(1px 1px 1px 1px);clip: rect(1px, 1px, 1px, 1px);height: 1px;margin: -1px;overflow: hidden;padding: 0;position: absolute;width: 1px;}#sk-container-id-4 div.sk-estimator {font-family: monospace;background-color: #f0f8ff;border: 1px dotted black;border-radius: 0.25em;box-sizing: border-box;margin-bottom: 0.5em;}#sk-container-id-4 div.sk-estimator:hover {background-color: #d4ebff;}#sk-container-id-4 div.sk-parallel-item::after {content: \"\";width: 100%;border-bottom: 1px solid gray;flex-grow: 1;}#sk-container-id-4 div.sk-label:hover label.sk-toggleable__label {background-color: #d4ebff;}#sk-container-id-4 div.sk-serial::before {content: \"\";position: absolute;border-left: 1px solid gray;box-sizing: border-box;top: 0;bottom: 0;left: 50%;z-index: 0;}#sk-container-id-4 div.sk-serial {display: flex;flex-direction: column;align-items: center;background-color: white;padding-right: 0.2em;padding-left: 0.2em;position: relative;}#sk-container-id-4 div.sk-item {position: relative;z-index: 1;}#sk-container-id-4 div.sk-parallel {display: flex;align-items: stretch;justify-content: center;background-color: white;position: relative;}#sk-container-id-4 div.sk-item::before, #sk-container-id-4 div.sk-parallel-item::before {content: \"\";position: absolute;border-left: 1px solid gray;box-sizing: border-box;top: 0;bottom: 0;left: 50%;z-index: -1;}#sk-container-id-4 div.sk-parallel-item {display: flex;flex-direction: column;z-index: 1;position: relative;background-color: white;}#sk-container-id-4 div.sk-parallel-item:first-child::after {align-self: flex-end;width: 50%;}#sk-container-id-4 div.sk-parallel-item:last-child::after {align-self: flex-start;width: 50%;}#sk-container-id-4 div.sk-parallel-item:only-child::after {width: 0;}#sk-container-id-4 div.sk-dashed-wrapped {border: 1px dashed gray;margin: 0 0.4em 0.5em 0.4em;box-sizing: border-box;padding-bottom: 0.4em;background-color: white;}#sk-container-id-4 div.sk-label label {font-family: monospace;font-weight: bold;display: inline-block;line-height: 1.2em;}#sk-container-id-4 div.sk-label-container {text-align: center;}#sk-container-id-4 div.sk-container {/* jupyter's `normalize.less` sets `[hidden] { display: none; }` but bootstrap.min.css set `[hidden] { display: none !important; }` so we also need the `!important` here to be able to override the default hidden behavior on the sphinx rendered scikit-learn.org. See: https://github.com/scikit-learn/scikit-learn/issues/21755 */display: inline-block !important;position: relative;}#sk-container-id-4 div.sk-text-repr-fallback {display: none;}</style><div id=\"sk-container-id-4\" class=\"sk-top-container\"><div class=\"sk-text-repr-fallback\"><pre>MinMaxScaler()</pre><b>In a Jupyter environment, please rerun this cell to show the HTML representation or trust the notebook. <br />On GitHub, the HTML representation is unable to render, please try loading this page with nbviewer.org.</b></div><div class=\"sk-container\" hidden><div class=\"sk-item\"><div class=\"sk-estimator sk-toggleable\"><input class=\"sk-toggleable__control sk-hidden--visually\" id=\"sk-estimator-id-4\" type=\"checkbox\" checked><label for=\"sk-estimator-id-4\" class=\"sk-toggleable__label sk-toggleable__label-arrow\">MinMaxScaler</label><div class=\"sk-toggleable__content\"><pre>MinMaxScaler()</pre></div></div></div></div></div>"
      ],
      "text/plain": [
       "MinMaxScaler()"
      ]
     },
     "execution_count": 34,
     "metadata": {},
     "output_type": "execute_result"
    }
   ],
   "source": [
    "scaler.fit(house_data) # the scaler learns the data"
   ]
  },
  {
   "cell_type": "code",
   "execution_count": 35,
   "id": "6ea9c381-26be-49fa-b47f-eb0e29cf8367",
   "metadata": {},
   "outputs": [
    {
     "data": {
      "text/plain": [
       "array([   0.4999    ,    1.        ,    0.84615385,    0.33333333,\n",
       "          3.        ,    0.69230769,   32.54      , -124.35      ,\n",
       "          0.14999   ])"
      ]
     },
     "execution_count": 35,
     "metadata": {},
     "output_type": "execute_result"
    }
   ],
   "source": [
    "scaler.data_min_"
   ]
  },
  {
   "cell_type": "code",
   "execution_count": 36,
   "id": "160a7e04-d2af-45be-89d6-8a80e45a3fc9",
   "metadata": {},
   "outputs": [
    {
     "data": {
      "text/plain": [
       "array([[0.53966842, 0.78431373, 0.04661026, ..., 0.5674814 , 0.21115538,\n",
       "        0.90226824],\n",
       "       [0.53802706, 0.39215686, 0.04094539, ..., 0.565356  , 0.21215139,\n",
       "        0.70824802],\n",
       "       [0.46602805, 1.        , 0.05651258, ..., 0.5642933 , 0.21015936,\n",
       "        0.69505218],\n",
       "       ...,\n",
       "       [0.08276438, 0.31372549, 0.03310413, ..., 0.73219979, 0.31175299,\n",
       "        0.15938318],\n",
       "       [0.09429525, 0.33333333, 0.03404552, ..., 0.73219979, 0.30179283,\n",
       "        0.14371311],\n",
       "       [0.13025338, 0.29411765, 0.03347754, ..., 0.72582359, 0.30976096,\n",
       "        0.15340381]])"
      ]
     },
     "execution_count": 36,
     "metadata": {},
     "output_type": "execute_result"
    }
   ],
   "source": [
    "scaler.transform(house_data)"
   ]
  },
  {
   "cell_type": "code",
   "execution_count": 37,
   "id": "87f45dfc-724d-465c-92d7-0cea02983581",
   "metadata": {},
   "outputs": [
    {
     "data": {
      "text/plain": [
       "MedInc           0.499900\n",
       "HouseAge         1.000000\n",
       "AveRooms         0.846154\n",
       "AveBedrms        0.333333\n",
       "Population       3.000000\n",
       "AveOccup         0.692308\n",
       "Latitude        32.540000\n",
       "Longitude     -124.350000\n",
       "MedHouseVal      0.149990\n",
       "dtype: float64"
      ]
     },
     "execution_count": 37,
     "metadata": {},
     "output_type": "execute_result"
    }
   ],
   "source": [
    "house_data.min(axis = 0)"
   ]
  },
  {
   "cell_type": "code",
   "execution_count": 38,
   "id": "c6cfae80-71e9-44e1-abea-8f7a52340bad",
   "metadata": {},
   "outputs": [
    {
     "data": {
      "text/plain": [
       "MedInc            15.000100\n",
       "HouseAge          52.000000\n",
       "AveRooms         132.533333\n",
       "AveBedrms         34.066667\n",
       "Population     35682.000000\n",
       "AveOccup        1243.333333\n",
       "Latitude          41.950000\n",
       "Longitude       -114.310000\n",
       "MedHouseVal        5.000000\n",
       "dtype: float64"
      ]
     },
     "execution_count": 38,
     "metadata": {},
     "output_type": "execute_result"
    }
   ],
   "source": [
    "house_data.max(axis = 0)"
   ]
  },
  {
   "cell_type": "code",
   "execution_count": 39,
   "id": "d0d4063d-d1de-410e-b97e-200e3116ca7b",
   "metadata": {},
   "outputs": [
    {
     "data": {
      "text/plain": [
       "array([[0.53966842, 0.78431373, 0.04661026, ..., 0.5674814 , 0.21115538,\n",
       "        0.90226824],\n",
       "       [0.53802706, 0.39215686, 0.04094539, ..., 0.565356  , 0.21215139,\n",
       "        0.70824802],\n",
       "       [0.46602805, 1.        , 0.05651258, ..., 0.5642933 , 0.21015936,\n",
       "        0.69505218],\n",
       "       ...,\n",
       "       [0.08276438, 0.31372549, 0.03310413, ..., 0.73219979, 0.31175299,\n",
       "        0.15938318],\n",
       "       [0.09429525, 0.33333333, 0.03404552, ..., 0.73219979, 0.30179283,\n",
       "        0.14371311],\n",
       "       [0.13025338, 0.29411765, 0.03347754, ..., 0.72582359, 0.30976096,\n",
       "        0.15340381]])"
      ]
     },
     "execution_count": 39,
     "metadata": {},
     "output_type": "execute_result"
    }
   ],
   "source": [
    "scaler.fit_transform(house_data)"
   ]
  },
  {
   "cell_type": "code",
   "execution_count": 40,
   "id": "e5920922-e32d-4256-956a-2e1a39a7e822",
   "metadata": {},
   "outputs": [],
   "source": [
    "house_attributes_scaled = scaler.fit_transform(house_attributes)"
   ]
  },
  {
   "cell_type": "code",
   "execution_count": 41,
   "id": "87fe60b5-10fd-4eea-9167-8338e082aa4d",
   "metadata": {},
   "outputs": [
    {
     "data": {
      "text/html": [
       "<style>#sk-container-id-5 {color: black;background-color: white;}#sk-container-id-5 pre{padding: 0;}#sk-container-id-5 div.sk-toggleable {background-color: white;}#sk-container-id-5 label.sk-toggleable__label {cursor: pointer;display: block;width: 100%;margin-bottom: 0;padding: 0.3em;box-sizing: border-box;text-align: center;}#sk-container-id-5 label.sk-toggleable__label-arrow:before {content: \"▸\";float: left;margin-right: 0.25em;color: #696969;}#sk-container-id-5 label.sk-toggleable__label-arrow:hover:before {color: black;}#sk-container-id-5 div.sk-estimator:hover label.sk-toggleable__label-arrow:before {color: black;}#sk-container-id-5 div.sk-toggleable__content {max-height: 0;max-width: 0;overflow: hidden;text-align: left;background-color: #f0f8ff;}#sk-container-id-5 div.sk-toggleable__content pre {margin: 0.2em;color: black;border-radius: 0.25em;background-color: #f0f8ff;}#sk-container-id-5 input.sk-toggleable__control:checked~div.sk-toggleable__content {max-height: 200px;max-width: 100%;overflow: auto;}#sk-container-id-5 input.sk-toggleable__control:checked~label.sk-toggleable__label-arrow:before {content: \"▾\";}#sk-container-id-5 div.sk-estimator input.sk-toggleable__control:checked~label.sk-toggleable__label {background-color: #d4ebff;}#sk-container-id-5 div.sk-label input.sk-toggleable__control:checked~label.sk-toggleable__label {background-color: #d4ebff;}#sk-container-id-5 input.sk-hidden--visually {border: 0;clip: rect(1px 1px 1px 1px);clip: rect(1px, 1px, 1px, 1px);height: 1px;margin: -1px;overflow: hidden;padding: 0;position: absolute;width: 1px;}#sk-container-id-5 div.sk-estimator {font-family: monospace;background-color: #f0f8ff;border: 1px dotted black;border-radius: 0.25em;box-sizing: border-box;margin-bottom: 0.5em;}#sk-container-id-5 div.sk-estimator:hover {background-color: #d4ebff;}#sk-container-id-5 div.sk-parallel-item::after {content: \"\";width: 100%;border-bottom: 1px solid gray;flex-grow: 1;}#sk-container-id-5 div.sk-label:hover label.sk-toggleable__label {background-color: #d4ebff;}#sk-container-id-5 div.sk-serial::before {content: \"\";position: absolute;border-left: 1px solid gray;box-sizing: border-box;top: 0;bottom: 0;left: 50%;z-index: 0;}#sk-container-id-5 div.sk-serial {display: flex;flex-direction: column;align-items: center;background-color: white;padding-right: 0.2em;padding-left: 0.2em;position: relative;}#sk-container-id-5 div.sk-item {position: relative;z-index: 1;}#sk-container-id-5 div.sk-parallel {display: flex;align-items: stretch;justify-content: center;background-color: white;position: relative;}#sk-container-id-5 div.sk-item::before, #sk-container-id-5 div.sk-parallel-item::before {content: \"\";position: absolute;border-left: 1px solid gray;box-sizing: border-box;top: 0;bottom: 0;left: 50%;z-index: -1;}#sk-container-id-5 div.sk-parallel-item {display: flex;flex-direction: column;z-index: 1;position: relative;background-color: white;}#sk-container-id-5 div.sk-parallel-item:first-child::after {align-self: flex-end;width: 50%;}#sk-container-id-5 div.sk-parallel-item:last-child::after {align-self: flex-start;width: 50%;}#sk-container-id-5 div.sk-parallel-item:only-child::after {width: 0;}#sk-container-id-5 div.sk-dashed-wrapped {border: 1px dashed gray;margin: 0 0.4em 0.5em 0.4em;box-sizing: border-box;padding-bottom: 0.4em;background-color: white;}#sk-container-id-5 div.sk-label label {font-family: monospace;font-weight: bold;display: inline-block;line-height: 1.2em;}#sk-container-id-5 div.sk-label-container {text-align: center;}#sk-container-id-5 div.sk-container {/* jupyter's `normalize.less` sets `[hidden] { display: none; }` but bootstrap.min.css set `[hidden] { display: none !important; }` so we also need the `!important` here to be able to override the default hidden behavior on the sphinx rendered scikit-learn.org. See: https://github.com/scikit-learn/scikit-learn/issues/21755 */display: inline-block !important;position: relative;}#sk-container-id-5 div.sk-text-repr-fallback {display: none;}</style><div id=\"sk-container-id-5\" class=\"sk-top-container\"><div class=\"sk-text-repr-fallback\"><pre>LinearRegression()</pre><b>In a Jupyter environment, please rerun this cell to show the HTML representation or trust the notebook. <br />On GitHub, the HTML representation is unable to render, please try loading this page with nbviewer.org.</b></div><div class=\"sk-container\" hidden><div class=\"sk-item\"><div class=\"sk-estimator sk-toggleable\"><input class=\"sk-toggleable__control sk-hidden--visually\" id=\"sk-estimator-id-5\" type=\"checkbox\" checked><label for=\"sk-estimator-id-5\" class=\"sk-toggleable__label sk-toggleable__label-arrow\">LinearRegression</label><div class=\"sk-toggleable__content\"><pre>LinearRegression()</pre></div></div></div></div></div>"
      ],
      "text/plain": [
       "LinearRegression()"
      ]
     },
     "execution_count": 41,
     "metadata": {},
     "output_type": "execute_result"
    }
   ],
   "source": [
    "house_model_scaled = LinearRegression()\n",
    "house_model_scaled.fit(house_attributes_scaled, target)"
   ]
  },
  {
   "cell_type": "code",
   "execution_count": 42,
   "id": "0b5583c5-59a3-4c7b-9b7b-ddc9d5a26663",
   "metadata": {},
   "outputs": [
    {
     "data": {
      "text/plain": [
       "[('MedInc', 6.2646662738956715),\n",
       " ('HouseAge', 0.41712684852093235),\n",
       " ('AveRooms', -14.553041960731635),\n",
       " ('AveBedrms', 20.693845161869014),\n",
       " ('Population', 0.16389062651233757),\n",
       " ('AveOccup', -4.2842790026338005),\n",
       " ('Latitude', -3.5701858017070993),\n",
       " ('Longitude', -3.9749348628431282)]"
      ]
     },
     "execution_count": 42,
     "metadata": {},
     "output_type": "execute_result"
    }
   ],
   "source": [
    "list(zip(house_model.feature_names_in_, house_model_scaled.coef_))"
   ]
  },
  {
   "cell_type": "markdown",
   "id": "63ec74e7-1cd9-4909-b16e-ac3387acd74e",
   "metadata": {},
   "source": [
    "## StandardScaler"
   ]
  },
  {
   "cell_type": "code",
   "execution_count": 43,
   "id": "8371a217-1eaf-4e03-a367-1c2aaeed0321",
   "metadata": {},
   "outputs": [],
   "source": [
    "z_score = StandardScaler()"
   ]
  },
  {
   "cell_type": "code",
   "execution_count": 44,
   "id": "4d93bd3c-5e83-4a20-a23f-1b1d55476e73",
   "metadata": {},
   "outputs": [],
   "source": [
    "z_score = z_score.fit_transform(house_attributes)"
   ]
  },
  {
   "cell_type": "code",
   "execution_count": 45,
   "id": "8bccece6-679a-4c46-b2cf-cc35632ba57f",
   "metadata": {},
   "outputs": [
    {
     "data": {
      "text/plain": [
       "array([[ 2.96038034,  1.00838834,  0.70806549, ..., -0.050757  ,\n",
       "         1.03650334, -1.32937755],\n",
       "       [ 2.94522334, -0.5904867 ,  0.3826581 , ..., -0.09268007,\n",
       "         1.02719992, -1.32439265],\n",
       "       [ 2.28035331,  1.88776961,  1.27688557, ..., -0.02755242,\n",
       "         1.02254821, -1.33436245],\n",
       "       ...,\n",
       "       [-1.25886958, -0.9102617 , -0.06776868, ..., -0.07238292,\n",
       "         1.75751838, -0.82590242],\n",
       "       [-1.15238848, -0.83031795, -0.0136918 , ..., -0.09142276,\n",
       "         1.75751838, -0.87575144],\n",
       "       [-0.82033558, -0.99020545, -0.04631844, ..., -0.04497942,\n",
       "         1.72960812, -0.83587222]])"
      ]
     },
     "execution_count": 45,
     "metadata": {},
     "output_type": "execute_result"
    }
   ],
   "source": [
    "z_score"
   ]
  },
  {
   "cell_type": "code",
   "execution_count": 46,
   "id": "3db6e71b-94ae-4ff0-aba0-595c0434f544",
   "metadata": {},
   "outputs": [
    {
     "data": {
      "text/plain": [
       "(19675, 8)"
      ]
     },
     "execution_count": 46,
     "metadata": {},
     "output_type": "execute_result"
    }
   ],
   "source": [
    "z_score.shape"
   ]
  },
  {
   "cell_type": "markdown",
   "id": "5ba03bf3-7cd5-427e-988b-6367cf6832db",
   "metadata": {},
   "source": [
    "## Modelling with z-score data"
   ]
  },
  {
   "cell_type": "code",
   "execution_count": 47,
   "id": "b2be1df1-14fc-4d84-b4af-c515faa75a6f",
   "metadata": {},
   "outputs": [],
   "source": [
    "z_score_model = LinearRegression()"
   ]
  },
  {
   "cell_type": "code",
   "execution_count": 48,
   "id": "2bbb360e-1f53-4792-bc30-93ef0967554d",
   "metadata": {},
   "outputs": [
    {
     "data": {
      "text/html": [
       "<style>#sk-container-id-6 {color: black;background-color: white;}#sk-container-id-6 pre{padding: 0;}#sk-container-id-6 div.sk-toggleable {background-color: white;}#sk-container-id-6 label.sk-toggleable__label {cursor: pointer;display: block;width: 100%;margin-bottom: 0;padding: 0.3em;box-sizing: border-box;text-align: center;}#sk-container-id-6 label.sk-toggleable__label-arrow:before {content: \"▸\";float: left;margin-right: 0.25em;color: #696969;}#sk-container-id-6 label.sk-toggleable__label-arrow:hover:before {color: black;}#sk-container-id-6 div.sk-estimator:hover label.sk-toggleable__label-arrow:before {color: black;}#sk-container-id-6 div.sk-toggleable__content {max-height: 0;max-width: 0;overflow: hidden;text-align: left;background-color: #f0f8ff;}#sk-container-id-6 div.sk-toggleable__content pre {margin: 0.2em;color: black;border-radius: 0.25em;background-color: #f0f8ff;}#sk-container-id-6 input.sk-toggleable__control:checked~div.sk-toggleable__content {max-height: 200px;max-width: 100%;overflow: auto;}#sk-container-id-6 input.sk-toggleable__control:checked~label.sk-toggleable__label-arrow:before {content: \"▾\";}#sk-container-id-6 div.sk-estimator input.sk-toggleable__control:checked~label.sk-toggleable__label {background-color: #d4ebff;}#sk-container-id-6 div.sk-label input.sk-toggleable__control:checked~label.sk-toggleable__label {background-color: #d4ebff;}#sk-container-id-6 input.sk-hidden--visually {border: 0;clip: rect(1px 1px 1px 1px);clip: rect(1px, 1px, 1px, 1px);height: 1px;margin: -1px;overflow: hidden;padding: 0;position: absolute;width: 1px;}#sk-container-id-6 div.sk-estimator {font-family: monospace;background-color: #f0f8ff;border: 1px dotted black;border-radius: 0.25em;box-sizing: border-box;margin-bottom: 0.5em;}#sk-container-id-6 div.sk-estimator:hover {background-color: #d4ebff;}#sk-container-id-6 div.sk-parallel-item::after {content: \"\";width: 100%;border-bottom: 1px solid gray;flex-grow: 1;}#sk-container-id-6 div.sk-label:hover label.sk-toggleable__label {background-color: #d4ebff;}#sk-container-id-6 div.sk-serial::before {content: \"\";position: absolute;border-left: 1px solid gray;box-sizing: border-box;top: 0;bottom: 0;left: 50%;z-index: 0;}#sk-container-id-6 div.sk-serial {display: flex;flex-direction: column;align-items: center;background-color: white;padding-right: 0.2em;padding-left: 0.2em;position: relative;}#sk-container-id-6 div.sk-item {position: relative;z-index: 1;}#sk-container-id-6 div.sk-parallel {display: flex;align-items: stretch;justify-content: center;background-color: white;position: relative;}#sk-container-id-6 div.sk-item::before, #sk-container-id-6 div.sk-parallel-item::before {content: \"\";position: absolute;border-left: 1px solid gray;box-sizing: border-box;top: 0;bottom: 0;left: 50%;z-index: -1;}#sk-container-id-6 div.sk-parallel-item {display: flex;flex-direction: column;z-index: 1;position: relative;background-color: white;}#sk-container-id-6 div.sk-parallel-item:first-child::after {align-self: flex-end;width: 50%;}#sk-container-id-6 div.sk-parallel-item:last-child::after {align-self: flex-start;width: 50%;}#sk-container-id-6 div.sk-parallel-item:only-child::after {width: 0;}#sk-container-id-6 div.sk-dashed-wrapped {border: 1px dashed gray;margin: 0 0.4em 0.5em 0.4em;box-sizing: border-box;padding-bottom: 0.4em;background-color: white;}#sk-container-id-6 div.sk-label label {font-family: monospace;font-weight: bold;display: inline-block;line-height: 1.2em;}#sk-container-id-6 div.sk-label-container {text-align: center;}#sk-container-id-6 div.sk-container {/* jupyter's `normalize.less` sets `[hidden] { display: none; }` but bootstrap.min.css set `[hidden] { display: none !important; }` so we also need the `!important` here to be able to override the default hidden behavior on the sphinx rendered scikit-learn.org. See: https://github.com/scikit-learn/scikit-learn/issues/21755 */display: inline-block !important;position: relative;}#sk-container-id-6 div.sk-text-repr-fallback {display: none;}</style><div id=\"sk-container-id-6\" class=\"sk-top-container\"><div class=\"sk-text-repr-fallback\"><pre>LinearRegression()</pre><b>In a Jupyter environment, please rerun this cell to show the HTML representation or trust the notebook. <br />On GitHub, the HTML representation is unable to render, please try loading this page with nbviewer.org.</b></div><div class=\"sk-container\" hidden><div class=\"sk-item\"><div class=\"sk-estimator sk-toggleable\"><input class=\"sk-toggleable__control sk-hidden--visually\" id=\"sk-estimator-id-6\" type=\"checkbox\" checked><label for=\"sk-estimator-id-6\" class=\"sk-toggleable__label sk-toggleable__label-arrow\">LinearRegression</label><div class=\"sk-toggleable__content\"><pre>LinearRegression()</pre></div></div></div></div></div>"
      ],
      "text/plain": [
       "LinearRegression()"
      ]
     },
     "execution_count": 48,
     "metadata": {},
     "output_type": "execute_result"
    }
   ],
   "source": [
    "z_score_model.fit(z_score, target)"
   ]
  },
  {
   "cell_type": "code",
   "execution_count": 49,
   "id": "a5476b9c-3e39-4afe-acac-431bb1f3a799",
   "metadata": {},
   "outputs": [
    {
     "data": {
      "text/plain": [
       "[('MedInc', 0.6784028909722377),\n",
       " ('HouseAge', 0.10230890631596948),\n",
       " ('AveRooms', -0.253347034732133),\n",
       " ('AveBedrms', 0.27717527061724145),\n",
       " ('Population', 0.005253189350408495),\n",
       " ('AveOccup', -0.0366551542212348),\n",
       " ('Latitude', -0.8156213233862962),\n",
       " ('Longitude', -0.7942178625015122)]"
      ]
     },
     "execution_count": 49,
     "metadata": {},
     "output_type": "execute_result"
    }
   ],
   "source": [
    "list(zip(house_model.feature_names_in_, z_score_model.coef_))"
   ]
  },
  {
   "cell_type": "code",
   "execution_count": 50,
   "id": "15ed4b40-61a4-4bb5-b8ef-0ed19795796c",
   "metadata": {},
   "outputs": [
    {
     "data": {
      "text/plain": [
       "0.5701011070331932"
      ]
     },
     "execution_count": 50,
     "metadata": {},
     "output_type": "execute_result"
    }
   ],
   "source": [
    "z_score_model.score(z_score, target) # R^2 coefficient of determination"
   ]
  },
  {
   "cell_type": "markdown",
   "id": "73611e96-b10f-47b2-b650-d3337f30db53",
   "metadata": {},
   "source": [
    "# Regression with outliers\n",
    "# Random Sample Consensus (RANSAM)"
   ]
  },
  {
   "cell_type": "code",
   "execution_count": 51,
   "id": "6b3e78d6-8f17-47d2-9a19-fcd29c368162",
   "metadata": {},
   "outputs": [],
   "source": [
    "ransac_model = RANSACRegressor()"
   ]
  },
  {
   "cell_type": "code",
   "execution_count": 52,
   "id": "39497504-465f-42ad-93b7-8d98843a8377",
   "metadata": {},
   "outputs": [
    {
     "data": {
      "text/html": [
       "<style>#sk-container-id-7 {color: black;background-color: white;}#sk-container-id-7 pre{padding: 0;}#sk-container-id-7 div.sk-toggleable {background-color: white;}#sk-container-id-7 label.sk-toggleable__label {cursor: pointer;display: block;width: 100%;margin-bottom: 0;padding: 0.3em;box-sizing: border-box;text-align: center;}#sk-container-id-7 label.sk-toggleable__label-arrow:before {content: \"▸\";float: left;margin-right: 0.25em;color: #696969;}#sk-container-id-7 label.sk-toggleable__label-arrow:hover:before {color: black;}#sk-container-id-7 div.sk-estimator:hover label.sk-toggleable__label-arrow:before {color: black;}#sk-container-id-7 div.sk-toggleable__content {max-height: 0;max-width: 0;overflow: hidden;text-align: left;background-color: #f0f8ff;}#sk-container-id-7 div.sk-toggleable__content pre {margin: 0.2em;color: black;border-radius: 0.25em;background-color: #f0f8ff;}#sk-container-id-7 input.sk-toggleable__control:checked~div.sk-toggleable__content {max-height: 200px;max-width: 100%;overflow: auto;}#sk-container-id-7 input.sk-toggleable__control:checked~label.sk-toggleable__label-arrow:before {content: \"▾\";}#sk-container-id-7 div.sk-estimator input.sk-toggleable__control:checked~label.sk-toggleable__label {background-color: #d4ebff;}#sk-container-id-7 div.sk-label input.sk-toggleable__control:checked~label.sk-toggleable__label {background-color: #d4ebff;}#sk-container-id-7 input.sk-hidden--visually {border: 0;clip: rect(1px 1px 1px 1px);clip: rect(1px, 1px, 1px, 1px);height: 1px;margin: -1px;overflow: hidden;padding: 0;position: absolute;width: 1px;}#sk-container-id-7 div.sk-estimator {font-family: monospace;background-color: #f0f8ff;border: 1px dotted black;border-radius: 0.25em;box-sizing: border-box;margin-bottom: 0.5em;}#sk-container-id-7 div.sk-estimator:hover {background-color: #d4ebff;}#sk-container-id-7 div.sk-parallel-item::after {content: \"\";width: 100%;border-bottom: 1px solid gray;flex-grow: 1;}#sk-container-id-7 div.sk-label:hover label.sk-toggleable__label {background-color: #d4ebff;}#sk-container-id-7 div.sk-serial::before {content: \"\";position: absolute;border-left: 1px solid gray;box-sizing: border-box;top: 0;bottom: 0;left: 50%;z-index: 0;}#sk-container-id-7 div.sk-serial {display: flex;flex-direction: column;align-items: center;background-color: white;padding-right: 0.2em;padding-left: 0.2em;position: relative;}#sk-container-id-7 div.sk-item {position: relative;z-index: 1;}#sk-container-id-7 div.sk-parallel {display: flex;align-items: stretch;justify-content: center;background-color: white;position: relative;}#sk-container-id-7 div.sk-item::before, #sk-container-id-7 div.sk-parallel-item::before {content: \"\";position: absolute;border-left: 1px solid gray;box-sizing: border-box;top: 0;bottom: 0;left: 50%;z-index: -1;}#sk-container-id-7 div.sk-parallel-item {display: flex;flex-direction: column;z-index: 1;position: relative;background-color: white;}#sk-container-id-7 div.sk-parallel-item:first-child::after {align-self: flex-end;width: 50%;}#sk-container-id-7 div.sk-parallel-item:last-child::after {align-self: flex-start;width: 50%;}#sk-container-id-7 div.sk-parallel-item:only-child::after {width: 0;}#sk-container-id-7 div.sk-dashed-wrapped {border: 1px dashed gray;margin: 0 0.4em 0.5em 0.4em;box-sizing: border-box;padding-bottom: 0.4em;background-color: white;}#sk-container-id-7 div.sk-label label {font-family: monospace;font-weight: bold;display: inline-block;line-height: 1.2em;}#sk-container-id-7 div.sk-label-container {text-align: center;}#sk-container-id-7 div.sk-container {/* jupyter's `normalize.less` sets `[hidden] { display: none; }` but bootstrap.min.css set `[hidden] { display: none !important; }` so we also need the `!important` here to be able to override the default hidden behavior on the sphinx rendered scikit-learn.org. See: https://github.com/scikit-learn/scikit-learn/issues/21755 */display: inline-block !important;position: relative;}#sk-container-id-7 div.sk-text-repr-fallback {display: none;}</style><div id=\"sk-container-id-7\" class=\"sk-top-container\"><div class=\"sk-text-repr-fallback\"><pre>RANSACRegressor()</pre><b>In a Jupyter environment, please rerun this cell to show the HTML representation or trust the notebook. <br />On GitHub, the HTML representation is unable to render, please try loading this page with nbviewer.org.</b></div><div class=\"sk-container\" hidden><div class=\"sk-item\"><div class=\"sk-estimator sk-toggleable\"><input class=\"sk-toggleable__control sk-hidden--visually\" id=\"sk-estimator-id-7\" type=\"checkbox\" checked><label for=\"sk-estimator-id-7\" class=\"sk-toggleable__label sk-toggleable__label-arrow\">RANSACRegressor</label><div class=\"sk-toggleable__content\"><pre>RANSACRegressor()</pre></div></div></div></div></div>"
      ],
      "text/plain": [
       "RANSACRegressor()"
      ]
     },
     "execution_count": 52,
     "metadata": {},
     "output_type": "execute_result"
    }
   ],
   "source": [
    "ransac_model.fit(house_attributes_scaled, target)"
   ]
  },
  {
   "cell_type": "code",
   "execution_count": 53,
   "id": "f7697dcc-9d8c-4737-a353-94acd3c70d47",
   "metadata": {},
   "outputs": [
    {
     "data": {
      "text/plain": [
       "array([   9.10746215,    0.57017749,  -37.25240463,   70.91302904,\n",
       "          0.17524302, -146.94279225,   -1.90611901,   -1.84273798])"
      ]
     },
     "execution_count": 53,
     "metadata": {},
     "output_type": "execute_result"
    }
   ],
   "source": [
    "ransac_model.estimator_.coef_"
   ]
  },
  {
   "cell_type": "code",
   "execution_count": 54,
   "id": "0971b537-3c89-4c35-bd2b-13155661e8ca",
   "metadata": {},
   "outputs": [
    {
     "data": {
      "text/plain": [
       "array([ True, False,  True, ..., False,  True,  True])"
      ]
     },
     "execution_count": 54,
     "metadata": {},
     "output_type": "execute_result"
    }
   ],
   "source": [
    "ransac_model.inlier_mask_ # how many of the data were in"
   ]
  },
  {
   "cell_type": "code",
   "execution_count": 55,
   "id": "962dacb1-cf3e-40b4-b341-1286f4d69272",
   "metadata": {},
   "outputs": [
    {
     "data": {
      "text/plain": [
       "14061"
      ]
     },
     "execution_count": 55,
     "metadata": {},
     "output_type": "execute_result"
    }
   ],
   "source": [
    "ransac_model.inlier_mask_.sum()"
   ]
  },
  {
   "cell_type": "code",
   "execution_count": 56,
   "id": "a40628d7-aebe-4c40-b2d8-deaf5d037ac6",
   "metadata": {},
   "outputs": [
    {
     "data": {
      "text/html": [
       "<div>\n",
       "<style scoped>\n",
       "    .dataframe tbody tr th:only-of-type {\n",
       "        vertical-align: middle;\n",
       "    }\n",
       "\n",
       "    .dataframe tbody tr th {\n",
       "        vertical-align: top;\n",
       "    }\n",
       "\n",
       "    .dataframe thead th {\n",
       "        text-align: right;\n",
       "    }\n",
       "</style>\n",
       "<table border=\"1\" class=\"dataframe\">\n",
       "  <thead>\n",
       "    <tr style=\"text-align: right;\">\n",
       "      <th></th>\n",
       "      <th>MedInc</th>\n",
       "      <th>HouseAge</th>\n",
       "      <th>AveRooms</th>\n",
       "      <th>AveBedrms</th>\n",
       "      <th>Population</th>\n",
       "      <th>AveOccup</th>\n",
       "      <th>Latitude</th>\n",
       "      <th>Longitude</th>\n",
       "    </tr>\n",
       "  </thead>\n",
       "  <tbody>\n",
       "    <tr>\n",
       "      <th>0</th>\n",
       "      <td>8.3252</td>\n",
       "      <td>41.0</td>\n",
       "      <td>6.984127</td>\n",
       "      <td>1.023810</td>\n",
       "      <td>322.0</td>\n",
       "      <td>2.555556</td>\n",
       "      <td>37.88</td>\n",
       "      <td>-122.23</td>\n",
       "    </tr>\n",
       "    <tr>\n",
       "      <th>2</th>\n",
       "      <td>7.2574</td>\n",
       "      <td>52.0</td>\n",
       "      <td>8.288136</td>\n",
       "      <td>1.073446</td>\n",
       "      <td>496.0</td>\n",
       "      <td>2.802260</td>\n",
       "      <td>37.85</td>\n",
       "      <td>-122.24</td>\n",
       "    </tr>\n",
       "    <tr>\n",
       "      <th>3</th>\n",
       "      <td>5.6431</td>\n",
       "      <td>52.0</td>\n",
       "      <td>5.817352</td>\n",
       "      <td>1.073059</td>\n",
       "      <td>558.0</td>\n",
       "      <td>2.547945</td>\n",
       "      <td>37.85</td>\n",
       "      <td>-122.25</td>\n",
       "    </tr>\n",
       "    <tr>\n",
       "      <th>5</th>\n",
       "      <td>4.0368</td>\n",
       "      <td>52.0</td>\n",
       "      <td>4.761658</td>\n",
       "      <td>1.103627</td>\n",
       "      <td>413.0</td>\n",
       "      <td>2.139896</td>\n",
       "      <td>37.85</td>\n",
       "      <td>-122.25</td>\n",
       "    </tr>\n",
       "    <tr>\n",
       "      <th>7</th>\n",
       "      <td>3.1200</td>\n",
       "      <td>52.0</td>\n",
       "      <td>4.797527</td>\n",
       "      <td>1.061824</td>\n",
       "      <td>1157.0</td>\n",
       "      <td>1.788253</td>\n",
       "      <td>37.84</td>\n",
       "      <td>-122.25</td>\n",
       "    </tr>\n",
       "    <tr>\n",
       "      <th>...</th>\n",
       "      <td>...</td>\n",
       "      <td>...</td>\n",
       "      <td>...</td>\n",
       "      <td>...</td>\n",
       "      <td>...</td>\n",
       "      <td>...</td>\n",
       "      <td>...</td>\n",
       "      <td>...</td>\n",
       "    </tr>\n",
       "    <tr>\n",
       "      <th>20634</th>\n",
       "      <td>3.7125</td>\n",
       "      <td>28.0</td>\n",
       "      <td>6.779070</td>\n",
       "      <td>1.148256</td>\n",
       "      <td>1041.0</td>\n",
       "      <td>3.026163</td>\n",
       "      <td>39.27</td>\n",
       "      <td>-121.56</td>\n",
       "    </tr>\n",
       "    <tr>\n",
       "      <th>20635</th>\n",
       "      <td>1.5603</td>\n",
       "      <td>25.0</td>\n",
       "      <td>5.045455</td>\n",
       "      <td>1.133333</td>\n",
       "      <td>845.0</td>\n",
       "      <td>2.560606</td>\n",
       "      <td>39.48</td>\n",
       "      <td>-121.09</td>\n",
       "    </tr>\n",
       "    <tr>\n",
       "      <th>20636</th>\n",
       "      <td>2.5568</td>\n",
       "      <td>18.0</td>\n",
       "      <td>6.114035</td>\n",
       "      <td>1.315789</td>\n",
       "      <td>356.0</td>\n",
       "      <td>3.122807</td>\n",
       "      <td>39.49</td>\n",
       "      <td>-121.21</td>\n",
       "    </tr>\n",
       "    <tr>\n",
       "      <th>20638</th>\n",
       "      <td>1.8672</td>\n",
       "      <td>18.0</td>\n",
       "      <td>5.329513</td>\n",
       "      <td>1.171920</td>\n",
       "      <td>741.0</td>\n",
       "      <td>2.123209</td>\n",
       "      <td>39.43</td>\n",
       "      <td>-121.32</td>\n",
       "    </tr>\n",
       "    <tr>\n",
       "      <th>20639</th>\n",
       "      <td>2.3886</td>\n",
       "      <td>16.0</td>\n",
       "      <td>5.254717</td>\n",
       "      <td>1.162264</td>\n",
       "      <td>1387.0</td>\n",
       "      <td>2.616981</td>\n",
       "      <td>39.37</td>\n",
       "      <td>-121.24</td>\n",
       "    </tr>\n",
       "  </tbody>\n",
       "</table>\n",
       "<p>14061 rows × 8 columns</p>\n",
       "</div>"
      ],
      "text/plain": [
       "       MedInc  HouseAge  AveRooms  AveBedrms  Population  AveOccup  Latitude  \\\n",
       "0      8.3252      41.0  6.984127   1.023810       322.0  2.555556     37.88   \n",
       "2      7.2574      52.0  8.288136   1.073446       496.0  2.802260     37.85   \n",
       "3      5.6431      52.0  5.817352   1.073059       558.0  2.547945     37.85   \n",
       "5      4.0368      52.0  4.761658   1.103627       413.0  2.139896     37.85   \n",
       "7      3.1200      52.0  4.797527   1.061824      1157.0  1.788253     37.84   \n",
       "...       ...       ...       ...        ...         ...       ...       ...   \n",
       "20634  3.7125      28.0  6.779070   1.148256      1041.0  3.026163     39.27   \n",
       "20635  1.5603      25.0  5.045455   1.133333       845.0  2.560606     39.48   \n",
       "20636  2.5568      18.0  6.114035   1.315789       356.0  3.122807     39.49   \n",
       "20638  1.8672      18.0  5.329513   1.171920       741.0  2.123209     39.43   \n",
       "20639  2.3886      16.0  5.254717   1.162264      1387.0  2.616981     39.37   \n",
       "\n",
       "       Longitude  \n",
       "0        -122.23  \n",
       "2        -122.24  \n",
       "3        -122.25  \n",
       "5        -122.25  \n",
       "7        -122.25  \n",
       "...          ...  \n",
       "20634    -121.56  \n",
       "20635    -121.09  \n",
       "20636    -121.21  \n",
       "20638    -121.32  \n",
       "20639    -121.24  \n",
       "\n",
       "[14061 rows x 8 columns]"
      ]
     },
     "execution_count": 56,
     "metadata": {},
     "output_type": "execute_result"
    }
   ],
   "source": [
    "house_attributes[ransac_model.inlier_mask_]  # data in the sample"
   ]
  },
  {
   "cell_type": "code",
   "execution_count": 57,
   "id": "65f4da14-7df8-49aa-8615-8ffc9947a337",
   "metadata": {},
   "outputs": [
    {
     "data": {
      "text/html": [
       "<div>\n",
       "<style scoped>\n",
       "    .dataframe tbody tr th:only-of-type {\n",
       "        vertical-align: middle;\n",
       "    }\n",
       "\n",
       "    .dataframe tbody tr th {\n",
       "        vertical-align: top;\n",
       "    }\n",
       "\n",
       "    .dataframe thead th {\n",
       "        text-align: right;\n",
       "    }\n",
       "</style>\n",
       "<table border=\"1\" class=\"dataframe\">\n",
       "  <thead>\n",
       "    <tr style=\"text-align: right;\">\n",
       "      <th></th>\n",
       "      <th>MedInc</th>\n",
       "      <th>HouseAge</th>\n",
       "      <th>AveRooms</th>\n",
       "      <th>AveBedrms</th>\n",
       "      <th>Population</th>\n",
       "      <th>AveOccup</th>\n",
       "      <th>Latitude</th>\n",
       "      <th>Longitude</th>\n",
       "    </tr>\n",
       "  </thead>\n",
       "  <tbody>\n",
       "    <tr>\n",
       "      <th>1</th>\n",
       "      <td>8.3014</td>\n",
       "      <td>21.0</td>\n",
       "      <td>6.238137</td>\n",
       "      <td>0.971880</td>\n",
       "      <td>2401.0</td>\n",
       "      <td>2.109842</td>\n",
       "      <td>37.86</td>\n",
       "      <td>-122.22</td>\n",
       "    </tr>\n",
       "    <tr>\n",
       "      <th>4</th>\n",
       "      <td>3.8462</td>\n",
       "      <td>52.0</td>\n",
       "      <td>6.281853</td>\n",
       "      <td>1.081081</td>\n",
       "      <td>565.0</td>\n",
       "      <td>2.181467</td>\n",
       "      <td>37.85</td>\n",
       "      <td>-122.25</td>\n",
       "    </tr>\n",
       "    <tr>\n",
       "      <th>6</th>\n",
       "      <td>3.6591</td>\n",
       "      <td>52.0</td>\n",
       "      <td>4.931907</td>\n",
       "      <td>0.951362</td>\n",
       "      <td>1094.0</td>\n",
       "      <td>2.128405</td>\n",
       "      <td>37.84</td>\n",
       "      <td>-122.25</td>\n",
       "    </tr>\n",
       "    <tr>\n",
       "      <th>8</th>\n",
       "      <td>2.0804</td>\n",
       "      <td>42.0</td>\n",
       "      <td>4.294118</td>\n",
       "      <td>1.117647</td>\n",
       "      <td>1206.0</td>\n",
       "      <td>2.026891</td>\n",
       "      <td>37.84</td>\n",
       "      <td>-122.26</td>\n",
       "    </tr>\n",
       "    <tr>\n",
       "      <th>10</th>\n",
       "      <td>3.2031</td>\n",
       "      <td>52.0</td>\n",
       "      <td>5.477612</td>\n",
       "      <td>1.079602</td>\n",
       "      <td>910.0</td>\n",
       "      <td>2.263682</td>\n",
       "      <td>37.85</td>\n",
       "      <td>-122.26</td>\n",
       "    </tr>\n",
       "    <tr>\n",
       "      <th>...</th>\n",
       "      <td>...</td>\n",
       "      <td>...</td>\n",
       "      <td>...</td>\n",
       "      <td>...</td>\n",
       "      <td>...</td>\n",
       "      <td>...</td>\n",
       "      <td>...</td>\n",
       "      <td>...</td>\n",
       "    </tr>\n",
       "    <tr>\n",
       "      <th>20625</th>\n",
       "      <td>4.1250</td>\n",
       "      <td>37.0</td>\n",
       "      <td>7.285714</td>\n",
       "      <td>1.214286</td>\n",
       "      <td>29.0</td>\n",
       "      <td>2.071429</td>\n",
       "      <td>39.12</td>\n",
       "      <td>-121.52</td>\n",
       "    </tr>\n",
       "    <tr>\n",
       "      <th>20626</th>\n",
       "      <td>2.1667</td>\n",
       "      <td>36.0</td>\n",
       "      <td>6.573099</td>\n",
       "      <td>1.076023</td>\n",
       "      <td>504.0</td>\n",
       "      <td>2.947368</td>\n",
       "      <td>39.18</td>\n",
       "      <td>-121.43</td>\n",
       "    </tr>\n",
       "    <tr>\n",
       "      <th>20627</th>\n",
       "      <td>3.0000</td>\n",
       "      <td>5.0</td>\n",
       "      <td>6.067797</td>\n",
       "      <td>1.101695</td>\n",
       "      <td>169.0</td>\n",
       "      <td>2.864407</td>\n",
       "      <td>39.13</td>\n",
       "      <td>-121.32</td>\n",
       "    </tr>\n",
       "    <tr>\n",
       "      <th>20629</th>\n",
       "      <td>2.0943</td>\n",
       "      <td>28.0</td>\n",
       "      <td>5.519802</td>\n",
       "      <td>1.020902</td>\n",
       "      <td>6912.0</td>\n",
       "      <td>3.801980</td>\n",
       "      <td>39.12</td>\n",
       "      <td>-121.39</td>\n",
       "    </tr>\n",
       "    <tr>\n",
       "      <th>20637</th>\n",
       "      <td>1.7000</td>\n",
       "      <td>17.0</td>\n",
       "      <td>5.205543</td>\n",
       "      <td>1.120092</td>\n",
       "      <td>1007.0</td>\n",
       "      <td>2.325635</td>\n",
       "      <td>39.43</td>\n",
       "      <td>-121.22</td>\n",
       "    </tr>\n",
       "  </tbody>\n",
       "</table>\n",
       "<p>5614 rows × 8 columns</p>\n",
       "</div>"
      ],
      "text/plain": [
       "       MedInc  HouseAge  AveRooms  AveBedrms  Population  AveOccup  Latitude  \\\n",
       "1      8.3014      21.0  6.238137   0.971880      2401.0  2.109842     37.86   \n",
       "4      3.8462      52.0  6.281853   1.081081       565.0  2.181467     37.85   \n",
       "6      3.6591      52.0  4.931907   0.951362      1094.0  2.128405     37.84   \n",
       "8      2.0804      42.0  4.294118   1.117647      1206.0  2.026891     37.84   \n",
       "10     3.2031      52.0  5.477612   1.079602       910.0  2.263682     37.85   \n",
       "...       ...       ...       ...        ...         ...       ...       ...   \n",
       "20625  4.1250      37.0  7.285714   1.214286        29.0  2.071429     39.12   \n",
       "20626  2.1667      36.0  6.573099   1.076023       504.0  2.947368     39.18   \n",
       "20627  3.0000       5.0  6.067797   1.101695       169.0  2.864407     39.13   \n",
       "20629  2.0943      28.0  5.519802   1.020902      6912.0  3.801980     39.12   \n",
       "20637  1.7000      17.0  5.205543   1.120092      1007.0  2.325635     39.43   \n",
       "\n",
       "       Longitude  \n",
       "1        -122.22  \n",
       "4        -122.25  \n",
       "6        -122.25  \n",
       "8        -122.26  \n",
       "10       -122.26  \n",
       "...          ...  \n",
       "20625    -121.52  \n",
       "20626    -121.43  \n",
       "20627    -121.32  \n",
       "20629    -121.39  \n",
       "20637    -121.22  \n",
       "\n",
       "[5614 rows x 8 columns]"
      ]
     },
     "execution_count": 57,
     "metadata": {},
     "output_type": "execute_result"
    }
   ],
   "source": [
    "house_attributes[~ransac_model.inlier_mask_] # data out of the sample"
   ]
  },
  {
   "cell_type": "code",
   "execution_count": 58,
   "id": "6c3742b2-949f-4483-9f4a-1fb8c974eb7f",
   "metadata": {},
   "outputs": [
    {
     "data": {
      "text/plain": [
       "0.5701011070331933"
      ]
     },
     "execution_count": 58,
     "metadata": {},
     "output_type": "execute_result"
    }
   ],
   "source": [
    "house_model_scaled.score(house_attributes_scaled, target)"
   ]
  },
  {
   "cell_type": "code",
   "execution_count": 59,
   "id": "72be0195-c3b1-4a35-a234-627146b43ea7",
   "metadata": {},
   "outputs": [
    {
     "data": {
      "text/plain": [
       "-1.154061914750303"
      ]
     },
     "execution_count": 59,
     "metadata": {},
     "output_type": "execute_result"
    }
   ],
   "source": [
    "ransac_model.score(house_attributes_scaled, target)"
   ]
  },
  {
   "cell_type": "markdown",
   "id": "b7a58509-05f9-446a-a6e6-17046f1742f3",
   "metadata": {},
   "source": [
    "A negative result indicates that the model predicting the arithmetic mean is better than this one."
   ]
  },
  {
   "cell_type": "code",
   "execution_count": 60,
   "id": "214cf3b7-8efb-41b9-9a6b-05378318ee2c",
   "metadata": {},
   "outputs": [
    {
     "data": {
      "text/plain": [
       "0.8640001685736634"
      ]
     },
     "execution_count": 60,
     "metadata": {},
     "output_type": "execute_result"
    }
   ],
   "source": [
    "ransac_model.score(house_attributes_scaled[ransac_model.inlier_mask_], target[ransac_model.inlier_mask_])"
   ]
  },
  {
   "cell_type": "markdown",
   "id": "f33a5393-6916-4ee8-bacf-ccebf78f06d2",
   "metadata": {},
   "source": [
    "RANSACRegressor(estimator = None) ? by default Linear Regression, but it could be any other ML algorithm RandomForest, MLP, etc."
   ]
  },
  {
   "cell_type": "code",
   "execution_count": 61,
   "id": "21364b3d-8e47-49c8-98d8-bccf971202bc",
   "metadata": {},
   "outputs": [],
   "source": [
    "ransac_model = RANSACRegressor(residual_threshold = 0.5)"
   ]
  },
  {
   "cell_type": "code",
   "execution_count": 62,
   "id": "24c373da-7765-4fcd-9dd4-4590e6f4e206",
   "metadata": {},
   "outputs": [
    {
     "data": {
      "text/html": [
       "<style>#sk-container-id-8 {color: black;background-color: white;}#sk-container-id-8 pre{padding: 0;}#sk-container-id-8 div.sk-toggleable {background-color: white;}#sk-container-id-8 label.sk-toggleable__label {cursor: pointer;display: block;width: 100%;margin-bottom: 0;padding: 0.3em;box-sizing: border-box;text-align: center;}#sk-container-id-8 label.sk-toggleable__label-arrow:before {content: \"▸\";float: left;margin-right: 0.25em;color: #696969;}#sk-container-id-8 label.sk-toggleable__label-arrow:hover:before {color: black;}#sk-container-id-8 div.sk-estimator:hover label.sk-toggleable__label-arrow:before {color: black;}#sk-container-id-8 div.sk-toggleable__content {max-height: 0;max-width: 0;overflow: hidden;text-align: left;background-color: #f0f8ff;}#sk-container-id-8 div.sk-toggleable__content pre {margin: 0.2em;color: black;border-radius: 0.25em;background-color: #f0f8ff;}#sk-container-id-8 input.sk-toggleable__control:checked~div.sk-toggleable__content {max-height: 200px;max-width: 100%;overflow: auto;}#sk-container-id-8 input.sk-toggleable__control:checked~label.sk-toggleable__label-arrow:before {content: \"▾\";}#sk-container-id-8 div.sk-estimator input.sk-toggleable__control:checked~label.sk-toggleable__label {background-color: #d4ebff;}#sk-container-id-8 div.sk-label input.sk-toggleable__control:checked~label.sk-toggleable__label {background-color: #d4ebff;}#sk-container-id-8 input.sk-hidden--visually {border: 0;clip: rect(1px 1px 1px 1px);clip: rect(1px, 1px, 1px, 1px);height: 1px;margin: -1px;overflow: hidden;padding: 0;position: absolute;width: 1px;}#sk-container-id-8 div.sk-estimator {font-family: monospace;background-color: #f0f8ff;border: 1px dotted black;border-radius: 0.25em;box-sizing: border-box;margin-bottom: 0.5em;}#sk-container-id-8 div.sk-estimator:hover {background-color: #d4ebff;}#sk-container-id-8 div.sk-parallel-item::after {content: \"\";width: 100%;border-bottom: 1px solid gray;flex-grow: 1;}#sk-container-id-8 div.sk-label:hover label.sk-toggleable__label {background-color: #d4ebff;}#sk-container-id-8 div.sk-serial::before {content: \"\";position: absolute;border-left: 1px solid gray;box-sizing: border-box;top: 0;bottom: 0;left: 50%;z-index: 0;}#sk-container-id-8 div.sk-serial {display: flex;flex-direction: column;align-items: center;background-color: white;padding-right: 0.2em;padding-left: 0.2em;position: relative;}#sk-container-id-8 div.sk-item {position: relative;z-index: 1;}#sk-container-id-8 div.sk-parallel {display: flex;align-items: stretch;justify-content: center;background-color: white;position: relative;}#sk-container-id-8 div.sk-item::before, #sk-container-id-8 div.sk-parallel-item::before {content: \"\";position: absolute;border-left: 1px solid gray;box-sizing: border-box;top: 0;bottom: 0;left: 50%;z-index: -1;}#sk-container-id-8 div.sk-parallel-item {display: flex;flex-direction: column;z-index: 1;position: relative;background-color: white;}#sk-container-id-8 div.sk-parallel-item:first-child::after {align-self: flex-end;width: 50%;}#sk-container-id-8 div.sk-parallel-item:last-child::after {align-self: flex-start;width: 50%;}#sk-container-id-8 div.sk-parallel-item:only-child::after {width: 0;}#sk-container-id-8 div.sk-dashed-wrapped {border: 1px dashed gray;margin: 0 0.4em 0.5em 0.4em;box-sizing: border-box;padding-bottom: 0.4em;background-color: white;}#sk-container-id-8 div.sk-label label {font-family: monospace;font-weight: bold;display: inline-block;line-height: 1.2em;}#sk-container-id-8 div.sk-label-container {text-align: center;}#sk-container-id-8 div.sk-container {/* jupyter's `normalize.less` sets `[hidden] { display: none; }` but bootstrap.min.css set `[hidden] { display: none !important; }` so we also need the `!important` here to be able to override the default hidden behavior on the sphinx rendered scikit-learn.org. See: https://github.com/scikit-learn/scikit-learn/issues/21755 */display: inline-block !important;position: relative;}#sk-container-id-8 div.sk-text-repr-fallback {display: none;}</style><div id=\"sk-container-id-8\" class=\"sk-top-container\"><div class=\"sk-text-repr-fallback\"><pre>RANSACRegressor(residual_threshold=0.5)</pre><b>In a Jupyter environment, please rerun this cell to show the HTML representation or trust the notebook. <br />On GitHub, the HTML representation is unable to render, please try loading this page with nbviewer.org.</b></div><div class=\"sk-container\" hidden><div class=\"sk-item\"><div class=\"sk-estimator sk-toggleable\"><input class=\"sk-toggleable__control sk-hidden--visually\" id=\"sk-estimator-id-8\" type=\"checkbox\" checked><label for=\"sk-estimator-id-8\" class=\"sk-toggleable__label sk-toggleable__label-arrow\">RANSACRegressor</label><div class=\"sk-toggleable__content\"><pre>RANSACRegressor(residual_threshold=0.5)</pre></div></div></div></div></div>"
      ],
      "text/plain": [
       "RANSACRegressor(residual_threshold=0.5)"
      ]
     },
     "execution_count": 62,
     "metadata": {},
     "output_type": "execute_result"
    }
   ],
   "source": [
    "ransac_model.fit(house_attributes_scaled, target)"
   ]
  },
  {
   "cell_type": "code",
   "execution_count": 63,
   "id": "a44677ab-1225-4642-a9dc-2b71a297f6d6",
   "metadata": {},
   "outputs": [
    {
     "data": {
      "text/plain": [
       "0.5720965692503177"
      ]
     },
     "execution_count": 63,
     "metadata": {},
     "output_type": "execute_result"
    }
   ],
   "source": [
    "ransac_model_threshold = ransac_model.fit(house_attributes_scaled, target)\n",
    "ransac_model_threshold.inlier_mask_.sum() / len(house_attributes_scaled)"
   ]
  },
  {
   "cell_type": "markdown",
   "id": "fcbb6723-0caf-4ff9-be34-6d7615059054",
   "metadata": {},
   "source": [
    "another threshold -> different number of inliers"
   ]
  },
  {
   "cell_type": "code",
   "execution_count": 64,
   "id": "96ba628a-7764-4fc5-95f5-3e59eb374db6",
   "metadata": {},
   "outputs": [],
   "source": [
    "ransac_model = RANSACRegressor(residual_threshold = 1)"
   ]
  },
  {
   "cell_type": "code",
   "execution_count": 65,
   "id": "1df8e467-a417-42a7-917d-5e240ed75a21",
   "metadata": {},
   "outputs": [
    {
     "data": {
      "text/html": [
       "<style>#sk-container-id-9 {color: black;background-color: white;}#sk-container-id-9 pre{padding: 0;}#sk-container-id-9 div.sk-toggleable {background-color: white;}#sk-container-id-9 label.sk-toggleable__label {cursor: pointer;display: block;width: 100%;margin-bottom: 0;padding: 0.3em;box-sizing: border-box;text-align: center;}#sk-container-id-9 label.sk-toggleable__label-arrow:before {content: \"▸\";float: left;margin-right: 0.25em;color: #696969;}#sk-container-id-9 label.sk-toggleable__label-arrow:hover:before {color: black;}#sk-container-id-9 div.sk-estimator:hover label.sk-toggleable__label-arrow:before {color: black;}#sk-container-id-9 div.sk-toggleable__content {max-height: 0;max-width: 0;overflow: hidden;text-align: left;background-color: #f0f8ff;}#sk-container-id-9 div.sk-toggleable__content pre {margin: 0.2em;color: black;border-radius: 0.25em;background-color: #f0f8ff;}#sk-container-id-9 input.sk-toggleable__control:checked~div.sk-toggleable__content {max-height: 200px;max-width: 100%;overflow: auto;}#sk-container-id-9 input.sk-toggleable__control:checked~label.sk-toggleable__label-arrow:before {content: \"▾\";}#sk-container-id-9 div.sk-estimator input.sk-toggleable__control:checked~label.sk-toggleable__label {background-color: #d4ebff;}#sk-container-id-9 div.sk-label input.sk-toggleable__control:checked~label.sk-toggleable__label {background-color: #d4ebff;}#sk-container-id-9 input.sk-hidden--visually {border: 0;clip: rect(1px 1px 1px 1px);clip: rect(1px, 1px, 1px, 1px);height: 1px;margin: -1px;overflow: hidden;padding: 0;position: absolute;width: 1px;}#sk-container-id-9 div.sk-estimator {font-family: monospace;background-color: #f0f8ff;border: 1px dotted black;border-radius: 0.25em;box-sizing: border-box;margin-bottom: 0.5em;}#sk-container-id-9 div.sk-estimator:hover {background-color: #d4ebff;}#sk-container-id-9 div.sk-parallel-item::after {content: \"\";width: 100%;border-bottom: 1px solid gray;flex-grow: 1;}#sk-container-id-9 div.sk-label:hover label.sk-toggleable__label {background-color: #d4ebff;}#sk-container-id-9 div.sk-serial::before {content: \"\";position: absolute;border-left: 1px solid gray;box-sizing: border-box;top: 0;bottom: 0;left: 50%;z-index: 0;}#sk-container-id-9 div.sk-serial {display: flex;flex-direction: column;align-items: center;background-color: white;padding-right: 0.2em;padding-left: 0.2em;position: relative;}#sk-container-id-9 div.sk-item {position: relative;z-index: 1;}#sk-container-id-9 div.sk-parallel {display: flex;align-items: stretch;justify-content: center;background-color: white;position: relative;}#sk-container-id-9 div.sk-item::before, #sk-container-id-9 div.sk-parallel-item::before {content: \"\";position: absolute;border-left: 1px solid gray;box-sizing: border-box;top: 0;bottom: 0;left: 50%;z-index: -1;}#sk-container-id-9 div.sk-parallel-item {display: flex;flex-direction: column;z-index: 1;position: relative;background-color: white;}#sk-container-id-9 div.sk-parallel-item:first-child::after {align-self: flex-end;width: 50%;}#sk-container-id-9 div.sk-parallel-item:last-child::after {align-self: flex-start;width: 50%;}#sk-container-id-9 div.sk-parallel-item:only-child::after {width: 0;}#sk-container-id-9 div.sk-dashed-wrapped {border: 1px dashed gray;margin: 0 0.4em 0.5em 0.4em;box-sizing: border-box;padding-bottom: 0.4em;background-color: white;}#sk-container-id-9 div.sk-label label {font-family: monospace;font-weight: bold;display: inline-block;line-height: 1.2em;}#sk-container-id-9 div.sk-label-container {text-align: center;}#sk-container-id-9 div.sk-container {/* jupyter's `normalize.less` sets `[hidden] { display: none; }` but bootstrap.min.css set `[hidden] { display: none !important; }` so we also need the `!important` here to be able to override the default hidden behavior on the sphinx rendered scikit-learn.org. See: https://github.com/scikit-learn/scikit-learn/issues/21755 */display: inline-block !important;position: relative;}#sk-container-id-9 div.sk-text-repr-fallback {display: none;}</style><div id=\"sk-container-id-9\" class=\"sk-top-container\"><div class=\"sk-text-repr-fallback\"><pre>RANSACRegressor(residual_threshold=1)</pre><b>In a Jupyter environment, please rerun this cell to show the HTML representation or trust the notebook. <br />On GitHub, the HTML representation is unable to render, please try loading this page with nbviewer.org.</b></div><div class=\"sk-container\" hidden><div class=\"sk-item\"><div class=\"sk-estimator sk-toggleable\"><input class=\"sk-toggleable__control sk-hidden--visually\" id=\"sk-estimator-id-9\" type=\"checkbox\" checked><label for=\"sk-estimator-id-9\" class=\"sk-toggleable__label sk-toggleable__label-arrow\">RANSACRegressor</label><div class=\"sk-toggleable__content\"><pre>RANSACRegressor(residual_threshold=1)</pre></div></div></div></div></div>"
      ],
      "text/plain": [
       "RANSACRegressor(residual_threshold=1)"
      ]
     },
     "execution_count": 65,
     "metadata": {},
     "output_type": "execute_result"
    }
   ],
   "source": [
    "ransac_model.fit(house_attributes_scaled, target)"
   ]
  },
  {
   "cell_type": "code",
   "execution_count": 66,
   "id": "2e50a3af-2692-48e5-abd4-017116e82749",
   "metadata": {},
   "outputs": [
    {
     "data": {
      "text/plain": [
       "0.7919695044472681"
      ]
     },
     "execution_count": 66,
     "metadata": {},
     "output_type": "execute_result"
    }
   ],
   "source": [
    "ransac_model_threshold = ransac_model.fit(house_attributes_scaled, target)\n",
    "ransac_model_threshold.inlier_mask_.sum() / len(house_attributes_scaled)"
   ]
  },
  {
   "cell_type": "markdown",
   "id": "bc84f525-1058-4823-9cc3-69d817541c5d",
   "metadata": {},
   "source": [
    "max_trials -> number of trials; more trials, more data to be covered and not missed"
   ]
  },
  {
   "cell_type": "code",
   "execution_count": 67,
   "id": "1c88c855-e105-4874-b430-f0f4bcd1ca1b",
   "metadata": {},
   "outputs": [],
   "source": [
    "ransac_model = RANSACRegressor(residual_threshold = 0.5, max_trials = 1000)"
   ]
  },
  {
   "cell_type": "code",
   "execution_count": 68,
   "id": "efa9e117-de3a-4a33-a6cd-c696ffd5a2ac",
   "metadata": {},
   "outputs": [
    {
     "data": {
      "text/html": [
       "<style>#sk-container-id-10 {color: black;background-color: white;}#sk-container-id-10 pre{padding: 0;}#sk-container-id-10 div.sk-toggleable {background-color: white;}#sk-container-id-10 label.sk-toggleable__label {cursor: pointer;display: block;width: 100%;margin-bottom: 0;padding: 0.3em;box-sizing: border-box;text-align: center;}#sk-container-id-10 label.sk-toggleable__label-arrow:before {content: \"▸\";float: left;margin-right: 0.25em;color: #696969;}#sk-container-id-10 label.sk-toggleable__label-arrow:hover:before {color: black;}#sk-container-id-10 div.sk-estimator:hover label.sk-toggleable__label-arrow:before {color: black;}#sk-container-id-10 div.sk-toggleable__content {max-height: 0;max-width: 0;overflow: hidden;text-align: left;background-color: #f0f8ff;}#sk-container-id-10 div.sk-toggleable__content pre {margin: 0.2em;color: black;border-radius: 0.25em;background-color: #f0f8ff;}#sk-container-id-10 input.sk-toggleable__control:checked~div.sk-toggleable__content {max-height: 200px;max-width: 100%;overflow: auto;}#sk-container-id-10 input.sk-toggleable__control:checked~label.sk-toggleable__label-arrow:before {content: \"▾\";}#sk-container-id-10 div.sk-estimator input.sk-toggleable__control:checked~label.sk-toggleable__label {background-color: #d4ebff;}#sk-container-id-10 div.sk-label input.sk-toggleable__control:checked~label.sk-toggleable__label {background-color: #d4ebff;}#sk-container-id-10 input.sk-hidden--visually {border: 0;clip: rect(1px 1px 1px 1px);clip: rect(1px, 1px, 1px, 1px);height: 1px;margin: -1px;overflow: hidden;padding: 0;position: absolute;width: 1px;}#sk-container-id-10 div.sk-estimator {font-family: monospace;background-color: #f0f8ff;border: 1px dotted black;border-radius: 0.25em;box-sizing: border-box;margin-bottom: 0.5em;}#sk-container-id-10 div.sk-estimator:hover {background-color: #d4ebff;}#sk-container-id-10 div.sk-parallel-item::after {content: \"\";width: 100%;border-bottom: 1px solid gray;flex-grow: 1;}#sk-container-id-10 div.sk-label:hover label.sk-toggleable__label {background-color: #d4ebff;}#sk-container-id-10 div.sk-serial::before {content: \"\";position: absolute;border-left: 1px solid gray;box-sizing: border-box;top: 0;bottom: 0;left: 50%;z-index: 0;}#sk-container-id-10 div.sk-serial {display: flex;flex-direction: column;align-items: center;background-color: white;padding-right: 0.2em;padding-left: 0.2em;position: relative;}#sk-container-id-10 div.sk-item {position: relative;z-index: 1;}#sk-container-id-10 div.sk-parallel {display: flex;align-items: stretch;justify-content: center;background-color: white;position: relative;}#sk-container-id-10 div.sk-item::before, #sk-container-id-10 div.sk-parallel-item::before {content: \"\";position: absolute;border-left: 1px solid gray;box-sizing: border-box;top: 0;bottom: 0;left: 50%;z-index: -1;}#sk-container-id-10 div.sk-parallel-item {display: flex;flex-direction: column;z-index: 1;position: relative;background-color: white;}#sk-container-id-10 div.sk-parallel-item:first-child::after {align-self: flex-end;width: 50%;}#sk-container-id-10 div.sk-parallel-item:last-child::after {align-self: flex-start;width: 50%;}#sk-container-id-10 div.sk-parallel-item:only-child::after {width: 0;}#sk-container-id-10 div.sk-dashed-wrapped {border: 1px dashed gray;margin: 0 0.4em 0.5em 0.4em;box-sizing: border-box;padding-bottom: 0.4em;background-color: white;}#sk-container-id-10 div.sk-label label {font-family: monospace;font-weight: bold;display: inline-block;line-height: 1.2em;}#sk-container-id-10 div.sk-label-container {text-align: center;}#sk-container-id-10 div.sk-container {/* jupyter's `normalize.less` sets `[hidden] { display: none; }` but bootstrap.min.css set `[hidden] { display: none !important; }` so we also need the `!important` here to be able to override the default hidden behavior on the sphinx rendered scikit-learn.org. See: https://github.com/scikit-learn/scikit-learn/issues/21755 */display: inline-block !important;position: relative;}#sk-container-id-10 div.sk-text-repr-fallback {display: none;}</style><div id=\"sk-container-id-10\" class=\"sk-top-container\"><div class=\"sk-text-repr-fallback\"><pre>RANSACRegressor(max_trials=1000, residual_threshold=0.5)</pre><b>In a Jupyter environment, please rerun this cell to show the HTML representation or trust the notebook. <br />On GitHub, the HTML representation is unable to render, please try loading this page with nbviewer.org.</b></div><div class=\"sk-container\" hidden><div class=\"sk-item\"><div class=\"sk-estimator sk-toggleable\"><input class=\"sk-toggleable__control sk-hidden--visually\" id=\"sk-estimator-id-10\" type=\"checkbox\" checked><label for=\"sk-estimator-id-10\" class=\"sk-toggleable__label sk-toggleable__label-arrow\">RANSACRegressor</label><div class=\"sk-toggleable__content\"><pre>RANSACRegressor(max_trials=1000, residual_threshold=0.5)</pre></div></div></div></div></div>"
      ],
      "text/plain": [
       "RANSACRegressor(max_trials=1000, residual_threshold=0.5)"
      ]
     },
     "execution_count": 68,
     "metadata": {},
     "output_type": "execute_result"
    }
   ],
   "source": [
    "ransac_model.fit(house_attributes_scaled, target)"
   ]
  },
  {
   "cell_type": "code",
   "execution_count": 69,
   "id": "1db7900b-9319-4f9e-9d7a-2d15366cc877",
   "metadata": {},
   "outputs": [
    {
     "data": {
      "text/plain": [
       "0.5833290978398984"
      ]
     },
     "execution_count": 69,
     "metadata": {},
     "output_type": "execute_result"
    }
   ],
   "source": [
    "ransac_model_threshold = ransac_model.fit(house_attributes_scaled, target)\n",
    "ransac_model_threshold.inlier_mask_.sum() / len(house_attributes_scaled)"
   ]
  },
  {
   "cell_type": "code",
   "execution_count": 70,
   "id": "20f59419-9e81-4e8e-b242-95b25aa5261e",
   "metadata": {},
   "outputs": [
    {
     "data": {
      "text/plain": [
       "<matplotlib.collections.PathCollection at 0x230a90a9450>"
      ]
     },
     "execution_count": 70,
     "metadata": {},
     "output_type": "execute_result"
    },
    {
     "data": {
      "image/png": "[encoded data removed]",
      "text/plain": [
       "<Figure size 640x480 with 1 Axes>"
      ]
     },
     "metadata": {},
     "output_type": "display_data"
    }
   ],
   "source": [
    "plt.scatter(house_attributes[ransac_model.inlier_mask_].HouseAge, house_attributes[ransac_model.inlier_mask_].AveRooms)"
   ]
  },
  {
   "cell_type": "code",
   "execution_count": 71,
   "id": "cdf53d08-315b-4b40-8084-d7946c6a676b",
   "metadata": {},
   "outputs": [
    {
     "data": {
      "text/plain": [
       "<matplotlib.collections.PathCollection at 0x230ab650590>"
      ]
     },
     "execution_count": 71,
     "metadata": {},
     "output_type": "execute_result"
    },
    {
     "data": {
      "image/png": "[encoded data removed]",
      "text/plain": [
       "<Figure size 640x480 with 1 Axes>"
      ]
     },
     "metadata": {},
     "output_type": "display_data"
    }
   ],
   "source": [
    "plt.scatter(house_attributes[~ransac_model.inlier_mask_].HouseAge, house_attributes[~ransac_model.inlier_mask_].AveRooms)"
   ]
  },
  {
   "cell_type": "code",
   "execution_count": 72,
   "id": "4b26b11b-8046-4a49-a69b-569e24376ccf",
   "metadata": {},
   "outputs": [
    {
     "data": {
      "text/plain": [
       "<matplotlib.collections.PathCollection at 0x230ab704950>"
      ]
     },
     "execution_count": 72,
     "metadata": {},
     "output_type": "execute_result"
    },
    {
     "data": {
      "image/png": "[encoded data removed]",
      "text/plain": [
       "<Figure size 640x480 with 1 Axes>"
      ]
     },
     "metadata": {},
     "output_type": "display_data"
    }
   ],
   "source": [
    "plt.scatter(house_attributes[ransac_model.inlier_mask_].HouseAge, house_attributes[ransac_model.inlier_mask_].AveRooms)\n",
    "plt.scatter(house_attributes[~ransac_model.inlier_mask_].HouseAge, house_attributes[~ransac_model.inlier_mask_].AveRooms, s = 2)"
   ]
  },
  {
   "cell_type": "markdown",
   "id": "94555739-4b15-4f85-b259-fd5b3d326dc4",
   "metadata": {},
   "source": [
    "# Polynomial regression"
   ]
  },
  {
   "cell_type": "code",
   "execution_count": 73,
   "id": "3d874849-7198-4af9-bcd1-c488387e8405",
   "metadata": {},
   "outputs": [
    {
     "data": {
      "text/plain": [
       "0        340.671954\n",
       "1        242.753076\n",
       "2        569.338486\n",
       "3        196.868367\n",
       "4        247.892488\n",
       "            ...    \n",
       "20635    128.440177\n",
       "20636    228.551344\n",
       "20637    141.058105\n",
       "20638    151.377926\n",
       "20639    145.093511\n",
       "Name: AveRooms, Length: 19675, dtype: float64"
      ]
     },
     "execution_count": 73,
     "metadata": {},
     "output_type": "execute_result"
    }
   ],
   "source": [
    "house_attributes.AveRooms ** 3"
   ]
  },
  {
   "cell_type": "code",
   "execution_count": 74,
   "id": "1fe65e67-d460-47be-987e-8d267ae8c2a1",
   "metadata": {},
   "outputs": [
    {
     "data": {
      "text/plain": [
       "0        58.144254\n",
       "1        51.785271\n",
       "2        60.150315\n",
       "3        32.827897\n",
       "4        24.161264\n",
       "           ...    \n",
       "20635     7.872423\n",
       "20636    15.632365\n",
       "20637     8.849423\n",
       "20638     9.951266\n",
       "20639    12.551417\n",
       "Length: 19675, dtype: float64"
      ]
     },
     "execution_count": 74,
     "metadata": {},
     "output_type": "execute_result"
    }
   ],
   "source": [
    "house_attributes.AveRooms * house_attributes.MedInc # ^2"
   ]
  },
  {
   "cell_type": "code",
   "execution_count": 76,
   "id": "64839e50-e47e-42ad-b5ed-444e56cae70a",
   "metadata": {},
   "outputs": [
    {
     "data": {
      "text/plain": [
       "0        59.528641\n",
       "1        50.329095\n",
       "2        64.568135\n",
       "3        35.226282\n",
       "4        26.120286\n",
       "           ...    \n",
       "20635     8.922079\n",
       "20636    20.568901\n",
       "20637     9.912171\n",
       "20638    11.662086\n",
       "20639    14.588062\n",
       "Length: 19675, dtype: float64"
      ]
     },
     "execution_count": 76,
     "metadata": {},
     "output_type": "execute_result"
    }
   ],
   "source": [
    "house_attributes.AveRooms * house_attributes.MedInc * house_attributes.AveBedrms # ^3"
   ]
  },
  {
   "cell_type": "code",
   "execution_count": 81,
   "id": "2c74fae9-7c99-41ca-9065-ac4bfed37670",
   "metadata": {},
   "outputs": [
    {
     "data": {
      "text/html": [
       "<style>#sk-container-id-12 {color: black;background-color: white;}#sk-container-id-12 pre{padding: 0;}#sk-container-id-12 div.sk-toggleable {background-color: white;}#sk-container-id-12 label.sk-toggleable__label {cursor: pointer;display: block;width: 100%;margin-bottom: 0;padding: 0.3em;box-sizing: border-box;text-align: center;}#sk-container-id-12 label.sk-toggleable__label-arrow:before {content: \"▸\";float: left;margin-right: 0.25em;color: #696969;}#sk-container-id-12 label.sk-toggleable__label-arrow:hover:before {color: black;}#sk-container-id-12 div.sk-estimator:hover label.sk-toggleable__label-arrow:before {color: black;}#sk-container-id-12 div.sk-toggleable__content {max-height: 0;max-width: 0;overflow: hidden;text-align: left;background-color: #f0f8ff;}#sk-container-id-12 div.sk-toggleable__content pre {margin: 0.2em;color: black;border-radius: 0.25em;background-color: #f0f8ff;}#sk-container-id-12 input.sk-toggleable__control:checked~div.sk-toggleable__content {max-height: 200px;max-width: 100%;overflow: auto;}#sk-container-id-12 input.sk-toggleable__control:checked~label.sk-toggleable__label-arrow:before {content: \"▾\";}#sk-container-id-12 div.sk-estimator input.sk-toggleable__control:checked~label.sk-toggleable__label {background-color: #d4ebff;}#sk-container-id-12 div.sk-label input.sk-toggleable__control:checked~label.sk-toggleable__label {background-color: #d4ebff;}#sk-container-id-12 input.sk-hidden--visually {border: 0;clip: rect(1px 1px 1px 1px);clip: rect(1px, 1px, 1px, 1px);height: 1px;margin: -1px;overflow: hidden;padding: 0;position: absolute;width: 1px;}#sk-container-id-12 div.sk-estimator {font-family: monospace;background-color: #f0f8ff;border: 1px dotted black;border-radius: 0.25em;box-sizing: border-box;margin-bottom: 0.5em;}#sk-container-id-12 div.sk-estimator:hover {background-color: #d4ebff;}#sk-container-id-12 div.sk-parallel-item::after {content: \"\";width: 100%;border-bottom: 1px solid gray;flex-grow: 1;}#sk-container-id-12 div.sk-label:hover label.sk-toggleable__label {background-color: #d4ebff;}#sk-container-id-12 div.sk-serial::before {content: \"\";position: absolute;border-left: 1px solid gray;box-sizing: border-box;top: 0;bottom: 0;left: 50%;z-index: 0;}#sk-container-id-12 div.sk-serial {display: flex;flex-direction: column;align-items: center;background-color: white;padding-right: 0.2em;padding-left: 0.2em;position: relative;}#sk-container-id-12 div.sk-item {position: relative;z-index: 1;}#sk-container-id-12 div.sk-parallel {display: flex;align-items: stretch;justify-content: center;background-color: white;position: relative;}#sk-container-id-12 div.sk-item::before, #sk-container-id-12 div.sk-parallel-item::before {content: \"\";position: absolute;border-left: 1px solid gray;box-sizing: border-box;top: 0;bottom: 0;left: 50%;z-index: -1;}#sk-container-id-12 div.sk-parallel-item {display: flex;flex-direction: column;z-index: 1;position: relative;background-color: white;}#sk-container-id-12 div.sk-parallel-item:first-child::after {align-self: flex-end;width: 50%;}#sk-container-id-12 div.sk-parallel-item:last-child::after {align-self: flex-start;width: 50%;}#sk-container-id-12 div.sk-parallel-item:only-child::after {width: 0;}#sk-container-id-12 div.sk-dashed-wrapped {border: 1px dashed gray;margin: 0 0.4em 0.5em 0.4em;box-sizing: border-box;padding-bottom: 0.4em;background-color: white;}#sk-container-id-12 div.sk-label label {font-family: monospace;font-weight: bold;display: inline-block;line-height: 1.2em;}#sk-container-id-12 div.sk-label-container {text-align: center;}#sk-container-id-12 div.sk-container {/* jupyter's `normalize.less` sets `[hidden] { display: none; }` but bootstrap.min.css set `[hidden] { display: none !important; }` so we also need the `!important` here to be able to override the default hidden behavior on the sphinx rendered scikit-learn.org. See: https://github.com/scikit-learn/scikit-learn/issues/21755 */display: inline-block !important;position: relative;}#sk-container-id-12 div.sk-text-repr-fallback {display: none;}</style><div id=\"sk-container-id-12\" class=\"sk-top-container\"><div class=\"sk-text-repr-fallback\"><pre>PolynomialFeatures(degree=3)</pre><b>In a Jupyter environment, please rerun this cell to show the HTML representation or trust the notebook. <br />On GitHub, the HTML representation is unable to render, please try loading this page with nbviewer.org.</b></div><div class=\"sk-container\" hidden><div class=\"sk-item\"><div class=\"sk-estimator sk-toggleable\"><input class=\"sk-toggleable__control sk-hidden--visually\" id=\"sk-estimator-id-12\" type=\"checkbox\" checked><label for=\"sk-estimator-id-12\" class=\"sk-toggleable__label sk-toggleable__label-arrow\">PolynomialFeatures</label><div class=\"sk-toggleable__content\"><pre>PolynomialFeatures(degree=3)</pre></div></div></div></div></div>"
      ],
      "text/plain": [
       "PolynomialFeatures(degree=3)"
      ]
     },
     "execution_count": 81,
     "metadata": {},
     "output_type": "execute_result"
    }
   ],
   "source": [
    "poly_transformer = PolynomialFeatures(degree = 3)\n",
    "poly_transformer.fit(house_attributes_scaled)"
   ]
  },
  {
   "cell_type": "code",
   "execution_count": 85,
   "id": "445b21a8-f823-46a0-a65f-cd3577db96ef",
   "metadata": {},
   "outputs": [
    {
     "data": {
      "text/plain": [
       "array(['1', 'x0', 'x1', 'x2', 'x3', 'x4', 'x5', 'x6', 'x7', 'x0^2',\n",
       "       'x0 x1', 'x0 x2', 'x0 x3', 'x0 x4', 'x0 x5', 'x0 x6', 'x0 x7',\n",
       "       'x1^2', 'x1 x2', 'x1 x3', 'x1 x4', 'x1 x5', 'x1 x6', 'x1 x7',\n",
       "       'x2^2', 'x2 x3', 'x2 x4', 'x2 x5', 'x2 x6', 'x2 x7', 'x3^2',\n",
       "       'x3 x4', 'x3 x5', 'x3 x6', 'x3 x7', 'x4^2', 'x4 x5', 'x4 x6',\n",
       "       'x4 x7', 'x5^2', 'x5 x6', 'x5 x7', 'x6^2', 'x6 x7', 'x7^2', 'x0^3',\n",
       "       'x0^2 x1', 'x0^2 x2', 'x0^2 x3', 'x0^2 x4', 'x0^2 x5', 'x0^2 x6',\n",
       "       'x0^2 x7', 'x0 x1^2', 'x0 x1 x2', 'x0 x1 x3', 'x0 x1 x4',\n",
       "       'x0 x1 x5', 'x0 x1 x6', 'x0 x1 x7', 'x0 x2^2', 'x0 x2 x3',\n",
       "       'x0 x2 x4', 'x0 x2 x5', 'x0 x2 x6', 'x0 x2 x7', 'x0 x3^2',\n",
       "       'x0 x3 x4', 'x0 x3 x5', 'x0 x3 x6', 'x0 x3 x7', 'x0 x4^2',\n",
       "       'x0 x4 x5', 'x0 x4 x6', 'x0 x4 x7', 'x0 x5^2', 'x0 x5 x6',\n",
       "       'x0 x5 x7', 'x0 x6^2', 'x0 x6 x7', 'x0 x7^2', 'x1^3', 'x1^2 x2',\n",
       "       'x1^2 x3', 'x1^2 x4', 'x1^2 x5', 'x1^2 x6', 'x1^2 x7', 'x1 x2^2',\n",
       "       'x1 x2 x3', 'x1 x2 x4', 'x1 x2 x5', 'x1 x2 x6', 'x1 x2 x7',\n",
       "       'x1 x3^2', 'x1 x3 x4', 'x1 x3 x5', 'x1 x3 x6', 'x1 x3 x7',\n",
       "       'x1 x4^2', 'x1 x4 x5', 'x1 x4 x6', 'x1 x4 x7', 'x1 x5^2',\n",
       "       'x1 x5 x6', 'x1 x5 x7', 'x1 x6^2', 'x1 x6 x7', 'x1 x7^2', 'x2^3',\n",
       "       'x2^2 x3', 'x2^2 x4', 'x2^2 x5', 'x2^2 x6', 'x2^2 x7', 'x2 x3^2',\n",
       "       'x2 x3 x4', 'x2 x3 x5', 'x2 x3 x6', 'x2 x3 x7', 'x2 x4^2',\n",
       "       'x2 x4 x5', 'x2 x4 x6', 'x2 x4 x7', 'x2 x5^2', 'x2 x5 x6',\n",
       "       'x2 x5 x7', 'x2 x6^2', 'x2 x6 x7', 'x2 x7^2', 'x3^3', 'x3^2 x4',\n",
       "       'x3^2 x5', 'x3^2 x6', 'x3^2 x7', 'x3 x4^2', 'x3 x4 x5', 'x3 x4 x6',\n",
       "       'x3 x4 x7', 'x3 x5^2', 'x3 x5 x6', 'x3 x5 x7', 'x3 x6^2',\n",
       "       'x3 x6 x7', 'x3 x7^2', 'x4^3', 'x4^2 x5', 'x4^2 x6', 'x4^2 x7',\n",
       "       'x4 x5^2', 'x4 x5 x6', 'x4 x5 x7', 'x4 x6^2', 'x4 x6 x7',\n",
       "       'x4 x7^2', 'x5^3', 'x5^2 x6', 'x5^2 x7', 'x5 x6^2', 'x5 x6 x7',\n",
       "       'x5 x7^2', 'x6^3', 'x6^2 x7', 'x6 x7^2', 'x7^3'], dtype=object)"
      ]
     },
     "execution_count": 85,
     "metadata": {},
     "output_type": "execute_result"
    }
   ],
   "source": [
    "poly_transformer.get_feature_names_out() # all combinations of 8 variables + bais to obtain polynom of 3rd degree"
   ]
  },
  {
   "cell_type": "code",
   "execution_count": 86,
   "id": "88472efc-40ea-4c21-b474-8f578bef8feb",
   "metadata": {},
   "outputs": [],
   "source": [
    "poly_regression = LinearRegression()"
   ]
  },
  {
   "cell_type": "code",
   "execution_count": 87,
   "id": "88d23cb3-4a89-47ca-ae81-b0e08e80cf3d",
   "metadata": {},
   "outputs": [
    {
     "data": {
      "text/html": [
       "<style>#sk-container-id-13 {color: black;background-color: white;}#sk-container-id-13 pre{padding: 0;}#sk-container-id-13 div.sk-toggleable {background-color: white;}#sk-container-id-13 label.sk-toggleable__label {cursor: pointer;display: block;width: 100%;margin-bottom: 0;padding: 0.3em;box-sizing: border-box;text-align: center;}#sk-container-id-13 label.sk-toggleable__label-arrow:before {content: \"▸\";float: left;margin-right: 0.25em;color: #696969;}#sk-container-id-13 label.sk-toggleable__label-arrow:hover:before {color: black;}#sk-container-id-13 div.sk-estimator:hover label.sk-toggleable__label-arrow:before {color: black;}#sk-container-id-13 div.sk-toggleable__content {max-height: 0;max-width: 0;overflow: hidden;text-align: left;background-color: #f0f8ff;}#sk-container-id-13 div.sk-toggleable__content pre {margin: 0.2em;color: black;border-radius: 0.25em;background-color: #f0f8ff;}#sk-container-id-13 input.sk-toggleable__control:checked~div.sk-toggleable__content {max-height: 200px;max-width: 100%;overflow: auto;}#sk-container-id-13 input.sk-toggleable__control:checked~label.sk-toggleable__label-arrow:before {content: \"▾\";}#sk-container-id-13 div.sk-estimator input.sk-toggleable__control:checked~label.sk-toggleable__label {background-color: #d4ebff;}#sk-container-id-13 div.sk-label input.sk-toggleable__control:checked~label.sk-toggleable__label {background-color: #d4ebff;}#sk-container-id-13 input.sk-hidden--visually {border: 0;clip: rect(1px 1px 1px 1px);clip: rect(1px, 1px, 1px, 1px);height: 1px;margin: -1px;overflow: hidden;padding: 0;position: absolute;width: 1px;}#sk-container-id-13 div.sk-estimator {font-family: monospace;background-color: #f0f8ff;border: 1px dotted black;border-radius: 0.25em;box-sizing: border-box;margin-bottom: 0.5em;}#sk-container-id-13 div.sk-estimator:hover {background-color: #d4ebff;}#sk-container-id-13 div.sk-parallel-item::after {content: \"\";width: 100%;border-bottom: 1px solid gray;flex-grow: 1;}#sk-container-id-13 div.sk-label:hover label.sk-toggleable__label {background-color: #d4ebff;}#sk-container-id-13 div.sk-serial::before {content: \"\";position: absolute;border-left: 1px solid gray;box-sizing: border-box;top: 0;bottom: 0;left: 50%;z-index: 0;}#sk-container-id-13 div.sk-serial {display: flex;flex-direction: column;align-items: center;background-color: white;padding-right: 0.2em;padding-left: 0.2em;position: relative;}#sk-container-id-13 div.sk-item {position: relative;z-index: 1;}#sk-container-id-13 div.sk-parallel {display: flex;align-items: stretch;justify-content: center;background-color: white;position: relative;}#sk-container-id-13 div.sk-item::before, #sk-container-id-13 div.sk-parallel-item::before {content: \"\";position: absolute;border-left: 1px solid gray;box-sizing: border-box;top: 0;bottom: 0;left: 50%;z-index: -1;}#sk-container-id-13 div.sk-parallel-item {display: flex;flex-direction: column;z-index: 1;position: relative;background-color: white;}#sk-container-id-13 div.sk-parallel-item:first-child::after {align-self: flex-end;width: 50%;}#sk-container-id-13 div.sk-parallel-item:last-child::after {align-self: flex-start;width: 50%;}#sk-container-id-13 div.sk-parallel-item:only-child::after {width: 0;}#sk-container-id-13 div.sk-dashed-wrapped {border: 1px dashed gray;margin: 0 0.4em 0.5em 0.4em;box-sizing: border-box;padding-bottom: 0.4em;background-color: white;}#sk-container-id-13 div.sk-label label {font-family: monospace;font-weight: bold;display: inline-block;line-height: 1.2em;}#sk-container-id-13 div.sk-label-container {text-align: center;}#sk-container-id-13 div.sk-container {/* jupyter's `normalize.less` sets `[hidden] { display: none; }` but bootstrap.min.css set `[hidden] { display: none !important; }` so we also need the `!important` here to be able to override the default hidden behavior on the sphinx rendered scikit-learn.org. See: https://github.com/scikit-learn/scikit-learn/issues/21755 */display: inline-block !important;position: relative;}#sk-container-id-13 div.sk-text-repr-fallback {display: none;}</style><div id=\"sk-container-id-13\" class=\"sk-top-container\"><div class=\"sk-text-repr-fallback\"><pre>LinearRegression()</pre><b>In a Jupyter environment, please rerun this cell to show the HTML representation or trust the notebook. <br />On GitHub, the HTML representation is unable to render, please try loading this page with nbviewer.org.</b></div><div class=\"sk-container\" hidden><div class=\"sk-item\"><div class=\"sk-estimator sk-toggleable\"><input class=\"sk-toggleable__control sk-hidden--visually\" id=\"sk-estimator-id-13\" type=\"checkbox\" checked><label for=\"sk-estimator-id-13\" class=\"sk-toggleable__label sk-toggleable__label-arrow\">LinearRegression</label><div class=\"sk-toggleable__content\"><pre>LinearRegression()</pre></div></div></div></div></div>"
      ],
      "text/plain": [
       "LinearRegression()"
      ]
     },
     "execution_count": 87,
     "metadata": {},
     "output_type": "execute_result"
    }
   ],
   "source": [
    "poly_regression.fit(poly_transformer.transform(house_attributes_scaled), target)"
   ]
  },
  {
   "cell_type": "code",
   "execution_count": 88,
   "id": "aeebe3d9-2147-4422-bb0f-7259bf59c8fb",
   "metadata": {
    "scrolled": true
   },
   "outputs": [
    {
     "data": {
      "text/plain": [
       "array([ 2.79015943e-06,  3.44534003e+01,  7.19457752e+00, -1.87714327e+02,\n",
       "        2.97331856e+02, -1.08809655e+01, -2.16974902e+03,  3.51804723e+01,\n",
       "        3.15310202e+01, -3.97933152e+00,  2.34414327e+01, -1.77968371e+01,\n",
       "       -4.06408204e+01,  5.29438454e+01, -4.62598508e+03, -5.56422339e+01,\n",
       "       -5.40604131e+01, -1.10416669e-01, -1.91680023e+02,  2.15497002e+02,\n",
       "        2.29560874e+01, -1.79078573e+02, -1.60594770e+01, -1.82260988e+01,\n",
       "        2.07307086e+03, -5.43599903e+03, -1.34323734e+03,  2.16326214e+04,\n",
       "        4.44518765e+02,  3.60882211e+02,  3.33173506e+03,  1.63388974e+03,\n",
       "        2.37878904e+04, -7.12511583e+02, -6.28118902e+02,  7.59238505e+01,\n",
       "        1.60107996e+03, -7.62068528e+00, -6.35827254e+00,  6.36282231e+04,\n",
       "        2.86321409e+03,  3.54719672e+03, -4.04771465e+01, -6.99466593e+01,\n",
       "       -3.01952362e+01, -9.12263917e+00, -1.13977595e+01,  6.78533214e+01,\n",
       "       -1.27957053e+02, -4.39700634e+01,  5.18629842e+03,  6.59117088e+00,\n",
       "        1.29641687e+01, -3.29158919e+00,  1.07156821e+02, -7.74318092e+01,\n",
       "        4.72292316e+01, -2.61414664e+03, -1.55982819e+01, -1.05613372e+01,\n",
       "       -1.18533205e+03,  2.35700425e+03,  2.01397359e+03, -7.51990680e+04,\n",
       "        1.67338395e+02,  1.19458946e+02, -1.16902335e+03, -1.78740366e+03,\n",
       "        9.22504467e+04, -1.21218304e+02,  1.54143898e+01, -1.40888471e+02,\n",
       "       -7.60413119e+03, -3.13417767e+01, -2.55962627e+00, -4.78290964e+04,\n",
       "        4.63113193e+03,  3.59144473e+03,  2.00604409e+01,  3.30950919e+01,\n",
       "        9.98467245e+00,  9.21923074e-01,  5.24619663e+01, -6.82769878e+01,\n",
       "        4.03614566e+00, -2.56765239e+02, -1.79479601e-01, -5.53668586e-01,\n",
       "       -3.31853867e+02,  1.39395749e+03, -4.28253872e+02,  1.73820216e+04,\n",
       "        8.36678156e+01,  7.95693655e+01, -1.16660431e+03, -3.17095077e+01,\n",
       "       -2.20572491e+04, -8.87514658e+01, -6.57605079e+01, -3.02358101e+01,\n",
       "       -2.01385587e+03, -7.28682001e+00, -1.54219584e+01,  3.83219608e+04,\n",
       "        1.11304052e+03,  2.23593988e+02,  6.24126828e+00,  1.70655480e+01,\n",
       "        1.00914951e+01,  1.96791713e+02, -2.35854214e+03, -1.45900420e+04,\n",
       "        1.72151968e+05, -1.44232867e+03, -1.49163336e+03,  5.42777472e+03,\n",
       "        4.29673537e+04, -1.94638370e+05,  3.48240816e+03,  3.13298787e+03,\n",
       "        1.79842800e+03,  9.06630385e+04,  4.38870790e+02,  3.05104312e+02,\n",
       "       -8.39370519e+05, -2.46480417e+04, -2.12341530e+04, -2.01096888e+02,\n",
       "       -4.30314826e+02, -9.40960311e+01, -3.21811379e+03, -3.16316419e+04,\n",
       "        3.83697595e+04, -2.00633937e+03, -1.65126036e+03, -4.71147074e+03,\n",
       "       -4.18631782e+04, -3.98132827e+02, -2.37685403e+01, -1.44678524e+05,\n",
       "       -1.97542172e+04, -4.71374741e+04,  3.41499834e+02,  7.86315953e+02,\n",
       "        2.70812039e+02, -2.58570335e+01,  1.10073980e+03,  7.48890117e+00,\n",
       "        1.47196711e+01, -1.03498530e+03,  2.24650812e+03, -2.57351337e+03,\n",
       "        7.69767986e+00, -2.51584235e+00,  2.91233652e+00, -2.65389638e+04,\n",
       "       -2.19235709e+04, -2.86945753e+04, -1.31910236e+03, -3.02478032e+03,\n",
       "       -5.08457616e+02,  1.60285580e+01,  3.93669346e+01,  3.37738189e+01,\n",
       "        6.73053776e+00])"
      ]
     },
     "execution_count": 88,
     "metadata": {},
     "output_type": "execute_result"
    }
   ],
   "source": [
    "poly_regression.coef_"
   ]
  },
  {
   "cell_type": "code",
   "execution_count": 90,
   "id": "5b6781d5-122d-456d-87f4-3bb466deebc5",
   "metadata": {
    "scrolled": true
   },
   "outputs": [
    {
     "data": {
      "text/plain": [
       "0.6998591049598404"
      ]
     },
     "execution_count": 90,
     "metadata": {},
     "output_type": "execute_result"
    }
   ],
   "source": [
    "poly_regression.score(poly_transformer.transform(house_attributes_scaled), target)"
   ]
  },
  {
   "cell_type": "code",
   "execution_count": null,
   "id": "bcfc6442-d953-42fb-b1a3-42919f2ca08a",
   "metadata": {},
   "outputs": [],
   "source": []
  },
  {
   "cell_type": "code",
   "execution_count": 91,
   "id": "bf4677d0-b03d-4dd9-98a9-ad7819ee3f32",
   "metadata": {},
   "outputs": [
    {
     "data": {
      "text/html": [
       "<style>#sk-container-id-14 {color: black;background-color: white;}#sk-container-id-14 pre{padding: 0;}#sk-container-id-14 div.sk-toggleable {background-color: white;}#sk-container-id-14 label.sk-toggleable__label {cursor: pointer;display: block;width: 100%;margin-bottom: 0;padding: 0.3em;box-sizing: border-box;text-align: center;}#sk-container-id-14 label.sk-toggleable__label-arrow:before {content: \"▸\";float: left;margin-right: 0.25em;color: #696969;}#sk-container-id-14 label.sk-toggleable__label-arrow:hover:before {color: black;}#sk-container-id-14 div.sk-estimator:hover label.sk-toggleable__label-arrow:before {color: black;}#sk-container-id-14 div.sk-toggleable__content {max-height: 0;max-width: 0;overflow: hidden;text-align: left;background-color: #f0f8ff;}#sk-container-id-14 div.sk-toggleable__content pre {margin: 0.2em;color: black;border-radius: 0.25em;background-color: #f0f8ff;}#sk-container-id-14 input.sk-toggleable__control:checked~div.sk-toggleable__content {max-height: 200px;max-width: 100%;overflow: auto;}#sk-container-id-14 input.sk-toggleable__control:checked~label.sk-toggleable__label-arrow:before {content: \"▾\";}#sk-container-id-14 div.sk-estimator input.sk-toggleable__control:checked~label.sk-toggleable__label {background-color: #d4ebff;}#sk-container-id-14 div.sk-label input.sk-toggleable__control:checked~label.sk-toggleable__label {background-color: #d4ebff;}#sk-container-id-14 input.sk-hidden--visually {border: 0;clip: rect(1px 1px 1px 1px);clip: rect(1px, 1px, 1px, 1px);height: 1px;margin: -1px;overflow: hidden;padding: 0;position: absolute;width: 1px;}#sk-container-id-14 div.sk-estimator {font-family: monospace;background-color: #f0f8ff;border: 1px dotted black;border-radius: 0.25em;box-sizing: border-box;margin-bottom: 0.5em;}#sk-container-id-14 div.sk-estimator:hover {background-color: #d4ebff;}#sk-container-id-14 div.sk-parallel-item::after {content: \"\";width: 100%;border-bottom: 1px solid gray;flex-grow: 1;}#sk-container-id-14 div.sk-label:hover label.sk-toggleable__label {background-color: #d4ebff;}#sk-container-id-14 div.sk-serial::before {content: \"\";position: absolute;border-left: 1px solid gray;box-sizing: border-box;top: 0;bottom: 0;left: 50%;z-index: 0;}#sk-container-id-14 div.sk-serial {display: flex;flex-direction: column;align-items: center;background-color: white;padding-right: 0.2em;padding-left: 0.2em;position: relative;}#sk-container-id-14 div.sk-item {position: relative;z-index: 1;}#sk-container-id-14 div.sk-parallel {display: flex;align-items: stretch;justify-content: center;background-color: white;position: relative;}#sk-container-id-14 div.sk-item::before, #sk-container-id-14 div.sk-parallel-item::before {content: \"\";position: absolute;border-left: 1px solid gray;box-sizing: border-box;top: 0;bottom: 0;left: 50%;z-index: -1;}#sk-container-id-14 div.sk-parallel-item {display: flex;flex-direction: column;z-index: 1;position: relative;background-color: white;}#sk-container-id-14 div.sk-parallel-item:first-child::after {align-self: flex-end;width: 50%;}#sk-container-id-14 div.sk-parallel-item:last-child::after {align-self: flex-start;width: 50%;}#sk-container-id-14 div.sk-parallel-item:only-child::after {width: 0;}#sk-container-id-14 div.sk-dashed-wrapped {border: 1px dashed gray;margin: 0 0.4em 0.5em 0.4em;box-sizing: border-box;padding-bottom: 0.4em;background-color: white;}#sk-container-id-14 div.sk-label label {font-family: monospace;font-weight: bold;display: inline-block;line-height: 1.2em;}#sk-container-id-14 div.sk-label-container {text-align: center;}#sk-container-id-14 div.sk-container {/* jupyter's `normalize.less` sets `[hidden] { display: none; }` but bootstrap.min.css set `[hidden] { display: none !important; }` so we also need the `!important` here to be able to override the default hidden behavior on the sphinx rendered scikit-learn.org. See: https://github.com/scikit-learn/scikit-learn/issues/21755 */display: inline-block !important;position: relative;}#sk-container-id-14 div.sk-text-repr-fallback {display: none;}</style><div id=\"sk-container-id-14\" class=\"sk-top-container\"><div class=\"sk-text-repr-fallback\"><pre>PolynomialFeatures(degree=5)</pre><b>In a Jupyter environment, please rerun this cell to show the HTML representation or trust the notebook. <br />On GitHub, the HTML representation is unable to render, please try loading this page with nbviewer.org.</b></div><div class=\"sk-container\" hidden><div class=\"sk-item\"><div class=\"sk-estimator sk-toggleable\"><input class=\"sk-toggleable__control sk-hidden--visually\" id=\"sk-estimator-id-14\" type=\"checkbox\" checked><label for=\"sk-estimator-id-14\" class=\"sk-toggleable__label sk-toggleable__label-arrow\">PolynomialFeatures</label><div class=\"sk-toggleable__content\"><pre>PolynomialFeatures(degree=5)</pre></div></div></div></div></div>"
      ],
      "text/plain": [
       "PolynomialFeatures(degree=5)"
      ]
     },
     "execution_count": 91,
     "metadata": {},
     "output_type": "execute_result"
    }
   ],
   "source": [
    "# 5th degree\n",
    "poly_transformer = PolynomialFeatures(degree = 5)\n",
    "poly_transformer.fit(house_attributes_scaled)"
   ]
  },
  {
   "cell_type": "code",
   "execution_count": 92,
   "id": "2d789984-1dd1-47e7-ad6b-1acef14e8c18",
   "metadata": {},
   "outputs": [
    {
     "data": {
      "text/plain": [
       "array(['1', 'x0', 'x1', ..., 'x6^2 x7^3', 'x6 x7^4', 'x7^5'], dtype=object)"
      ]
     },
     "execution_count": 92,
     "metadata": {},
     "output_type": "execute_result"
    }
   ],
   "source": [
    "poly_transformer.get_feature_names_out() # all combinations of 8 variables + bais to obtain polynom of 3rd degree"
   ]
  },
  {
   "cell_type": "code",
   "execution_count": 93,
   "id": "6939ca18-9efa-4608-9f7d-be0385ecc4f4",
   "metadata": {},
   "outputs": [],
   "source": [
    "poly_regression = LinearRegression()"
   ]
  },
  {
   "cell_type": "code",
   "execution_count": 94,
   "id": "7b092783-cd98-4ff6-b16c-d83a5f3dfcd7",
   "metadata": {},
   "outputs": [
    {
     "data": {
      "text/html": [
       "<style>#sk-container-id-15 {color: black;background-color: white;}#sk-container-id-15 pre{padding: 0;}#sk-container-id-15 div.sk-toggleable {background-color: white;}#sk-container-id-15 label.sk-toggleable__label {cursor: pointer;display: block;width: 100%;margin-bottom: 0;padding: 0.3em;box-sizing: border-box;text-align: center;}#sk-container-id-15 label.sk-toggleable__label-arrow:before {content: \"▸\";float: left;margin-right: 0.25em;color: #696969;}#sk-container-id-15 label.sk-toggleable__label-arrow:hover:before {color: black;}#sk-container-id-15 div.sk-estimator:hover label.sk-toggleable__label-arrow:before {color: black;}#sk-container-id-15 div.sk-toggleable__content {max-height: 0;max-width: 0;overflow: hidden;text-align: left;background-color: #f0f8ff;}#sk-container-id-15 div.sk-toggleable__content pre {margin: 0.2em;color: black;border-radius: 0.25em;background-color: #f0f8ff;}#sk-container-id-15 input.sk-toggleable__control:checked~div.sk-toggleable__content {max-height: 200px;max-width: 100%;overflow: auto;}#sk-container-id-15 input.sk-toggleable__control:checked~label.sk-toggleable__label-arrow:before {content: \"▾\";}#sk-container-id-15 div.sk-estimator input.sk-toggleable__control:checked~label.sk-toggleable__label {background-color: #d4ebff;}#sk-container-id-15 div.sk-label input.sk-toggleable__control:checked~label.sk-toggleable__label {background-color: #d4ebff;}#sk-container-id-15 input.sk-hidden--visually {border: 0;clip: rect(1px 1px 1px 1px);clip: rect(1px, 1px, 1px, 1px);height: 1px;margin: -1px;overflow: hidden;padding: 0;position: absolute;width: 1px;}#sk-container-id-15 div.sk-estimator {font-family: monospace;background-color: #f0f8ff;border: 1px dotted black;border-radius: 0.25em;box-sizing: border-box;margin-bottom: 0.5em;}#sk-container-id-15 div.sk-estimator:hover {background-color: #d4ebff;}#sk-container-id-15 div.sk-parallel-item::after {content: \"\";width: 100%;border-bottom: 1px solid gray;flex-grow: 1;}#sk-container-id-15 div.sk-label:hover label.sk-toggleable__label {background-color: #d4ebff;}#sk-container-id-15 div.sk-serial::before {content: \"\";position: absolute;border-left: 1px solid gray;box-sizing: border-box;top: 0;bottom: 0;left: 50%;z-index: 0;}#sk-container-id-15 div.sk-serial {display: flex;flex-direction: column;align-items: center;background-color: white;padding-right: 0.2em;padding-left: 0.2em;position: relative;}#sk-container-id-15 div.sk-item {position: relative;z-index: 1;}#sk-container-id-15 div.sk-parallel {display: flex;align-items: stretch;justify-content: center;background-color: white;position: relative;}#sk-container-id-15 div.sk-item::before, #sk-container-id-15 div.sk-parallel-item::before {content: \"\";position: absolute;border-left: 1px solid gray;box-sizing: border-box;top: 0;bottom: 0;left: 50%;z-index: -1;}#sk-container-id-15 div.sk-parallel-item {display: flex;flex-direction: column;z-index: 1;position: relative;background-color: white;}#sk-container-id-15 div.sk-parallel-item:first-child::after {align-self: flex-end;width: 50%;}#sk-container-id-15 div.sk-parallel-item:last-child::after {align-self: flex-start;width: 50%;}#sk-container-id-15 div.sk-parallel-item:only-child::after {width: 0;}#sk-container-id-15 div.sk-dashed-wrapped {border: 1px dashed gray;margin: 0 0.4em 0.5em 0.4em;box-sizing: border-box;padding-bottom: 0.4em;background-color: white;}#sk-container-id-15 div.sk-label label {font-family: monospace;font-weight: bold;display: inline-block;line-height: 1.2em;}#sk-container-id-15 div.sk-label-container {text-align: center;}#sk-container-id-15 div.sk-container {/* jupyter's `normalize.less` sets `[hidden] { display: none; }` but bootstrap.min.css set `[hidden] { display: none !important; }` so we also need the `!important` here to be able to override the default hidden behavior on the sphinx rendered scikit-learn.org. See: https://github.com/scikit-learn/scikit-learn/issues/21755 */display: inline-block !important;position: relative;}#sk-container-id-15 div.sk-text-repr-fallback {display: none;}</style><div id=\"sk-container-id-15\" class=\"sk-top-container\"><div class=\"sk-text-repr-fallback\"><pre>LinearRegression()</pre><b>In a Jupyter environment, please rerun this cell to show the HTML representation or trust the notebook. <br />On GitHub, the HTML representation is unable to render, please try loading this page with nbviewer.org.</b></div><div class=\"sk-container\" hidden><div class=\"sk-item\"><div class=\"sk-estimator sk-toggleable\"><input class=\"sk-toggleable__control sk-hidden--visually\" id=\"sk-estimator-id-15\" type=\"checkbox\" checked><label for=\"sk-estimator-id-15\" class=\"sk-toggleable__label sk-toggleable__label-arrow\">LinearRegression</label><div class=\"sk-toggleable__content\"><pre>LinearRegression()</pre></div></div></div></div></div>"
      ],
      "text/plain": [
       "LinearRegression()"
      ]
     },
     "execution_count": 94,
     "metadata": {},
     "output_type": "execute_result"
    }
   ],
   "source": [
    "poly_regression.fit(poly_transformer.transform(house_attributes_scaled), target)"
   ]
  },
  {
   "cell_type": "code",
   "execution_count": 95,
   "id": "50baa99f-4cf2-4a27-944b-de1f958dc821",
   "metadata": {
    "scrolled": true
   },
   "outputs": [
    {
     "data": {
      "text/plain": [
       "array([-2.87749532e+06, -1.54188758e+03,  1.48647078e+02, ...,\n",
       "        3.25514910e+03,  1.28484319e+03,  1.15452449e+02])"
      ]
     },
     "execution_count": 95,
     "metadata": {},
     "output_type": "execute_result"
    }
   ],
   "source": [
    "poly_regression.coef_"
   ]
  },
  {
   "cell_type": "code",
   "execution_count": 96,
   "id": "3073ce8d-fe27-4c2c-9aed-5e9b7c8ef63b",
   "metadata": {
    "scrolled": true
   },
   "outputs": [
    {
     "data": {
      "text/plain": [
       "0.7901232162487357"
      ]
     },
     "execution_count": 96,
     "metadata": {},
     "output_type": "execute_result"
    }
   ],
   "source": [
    "poly_regression.score(poly_transformer.transform(house_attributes_scaled), target)"
   ]
  },
  {
   "cell_type": "code",
   "execution_count": 97,
   "id": "17606a8e-db95-454a-a840-0ea6fe86f1c7",
   "metadata": {},
   "outputs": [
    {
     "data": {
      "text/plain": [
       "(19675, 1287)"
      ]
     },
     "execution_count": 97,
     "metadata": {},
     "output_type": "execute_result"
    }
   ],
   "source": [
    "poly_transformer.transform(house_attributes_scaled).shape"
   ]
  },
  {
   "cell_type": "markdown",
   "id": "05d054ad-9b58-4517-8508-5299c10bb330",
   "metadata": {},
   "source": [
    "scaling -> MinMaxScaling;\n",
    "standardization -> StandardScaling;\n",
    "Both are called normalization."
   ]
  },
  {
   "cell_type": "markdown",
   "id": "6e1bad9f-c8ea-49b3-ba0a-0268769e6042",
   "metadata": {},
   "source": [
    "Differentiation is a good way to center the data, expecially when data values are around a specific value."
   ]
  },
  {
   "cell_type": "markdown",
   "id": "0a8c3053-92ec-4f3d-89a1-6b2e370bb858",
   "metadata": {},
   "source": [
    "## Logistic regression"
   ]
  },
  {
   "cell_type": "code",
   "execution_count": 100,
   "id": "bc2aac2e-5c2a-4184-b254-3ad5bbb474d1",
   "metadata": {
    "scrolled": true
   },
   "outputs": [
    {
     "data": {
      "text/plain": [
       "{'data': array([[ 0.,  0.,  5., ...,  0.,  0.,  0.],\n",
       "        [ 0.,  0.,  0., ..., 10.,  0.,  0.],\n",
       "        [ 0.,  0.,  0., ..., 16.,  9.,  0.],\n",
       "        ...,\n",
       "        [ 0.,  0.,  1., ...,  6.,  0.,  0.],\n",
       "        [ 0.,  0.,  2., ..., 12.,  0.,  0.],\n",
       "        [ 0.,  0., 10., ..., 12.,  1.,  0.]]),\n",
       " 'target': array([0, 1, 2, ..., 8, 9, 8]),\n",
       " 'frame': None,\n",
       " 'feature_names': ['pixel_0_0',\n",
       "  'pixel_0_1',\n",
       "  'pixel_0_2',\n",
       "  'pixel_0_3',\n",
       "  'pixel_0_4',\n",
       "  'pixel_0_5',\n",
       "  'pixel_0_6',\n",
       "  'pixel_0_7',\n",
       "  'pixel_1_0',\n",
       "  'pixel_1_1',\n",
       "  'pixel_1_2',\n",
       "  'pixel_1_3',\n",
       "  'pixel_1_4',\n",
       "  'pixel_1_5',\n",
       "  'pixel_1_6',\n",
       "  'pixel_1_7',\n",
       "  'pixel_2_0',\n",
       "  'pixel_2_1',\n",
       "  'pixel_2_2',\n",
       "  'pixel_2_3',\n",
       "  'pixel_2_4',\n",
       "  'pixel_2_5',\n",
       "  'pixel_2_6',\n",
       "  'pixel_2_7',\n",
       "  'pixel_3_0',\n",
       "  'pixel_3_1',\n",
       "  'pixel_3_2',\n",
       "  'pixel_3_3',\n",
       "  'pixel_3_4',\n",
       "  'pixel_3_5',\n",
       "  'pixel_3_6',\n",
       "  'pixel_3_7',\n",
       "  'pixel_4_0',\n",
       "  'pixel_4_1',\n",
       "  'pixel_4_2',\n",
       "  'pixel_4_3',\n",
       "  'pixel_4_4',\n",
       "  'pixel_4_5',\n",
       "  'pixel_4_6',\n",
       "  'pixel_4_7',\n",
       "  'pixel_5_0',\n",
       "  'pixel_5_1',\n",
       "  'pixel_5_2',\n",
       "  'pixel_5_3',\n",
       "  'pixel_5_4',\n",
       "  'pixel_5_5',\n",
       "  'pixel_5_6',\n",
       "  'pixel_5_7',\n",
       "  'pixel_6_0',\n",
       "  'pixel_6_1',\n",
       "  'pixel_6_2',\n",
       "  'pixel_6_3',\n",
       "  'pixel_6_4',\n",
       "  'pixel_6_5',\n",
       "  'pixel_6_6',\n",
       "  'pixel_6_7',\n",
       "  'pixel_7_0',\n",
       "  'pixel_7_1',\n",
       "  'pixel_7_2',\n",
       "  'pixel_7_3',\n",
       "  'pixel_7_4',\n",
       "  'pixel_7_5',\n",
       "  'pixel_7_6',\n",
       "  'pixel_7_7'],\n",
       " 'target_names': array([0, 1, 2, 3, 4, 5, 6, 7, 8, 9]),\n",
       " 'images': array([[[ 0.,  0.,  5., ...,  1.,  0.,  0.],\n",
       "         [ 0.,  0., 13., ..., 15.,  5.,  0.],\n",
       "         [ 0.,  3., 15., ..., 11.,  8.,  0.],\n",
       "         ...,\n",
       "         [ 0.,  4., 11., ..., 12.,  7.,  0.],\n",
       "         [ 0.,  2., 14., ..., 12.,  0.,  0.],\n",
       "         [ 0.,  0.,  6., ...,  0.,  0.,  0.]],\n",
       " \n",
       "        [[ 0.,  0.,  0., ...,  5.,  0.,  0.],\n",
       "         [ 0.,  0.,  0., ...,  9.,  0.,  0.],\n",
       "         [ 0.,  0.,  3., ...,  6.,  0.,  0.],\n",
       "         ...,\n",
       "         [ 0.,  0.,  1., ...,  6.,  0.,  0.],\n",
       "         [ 0.,  0.,  1., ...,  6.,  0.,  0.],\n",
       "         [ 0.,  0.,  0., ..., 10.,  0.,  0.]],\n",
       " \n",
       "        [[ 0.,  0.,  0., ..., 12.,  0.,  0.],\n",
       "         [ 0.,  0.,  3., ..., 14.,  0.,  0.],\n",
       "         [ 0.,  0.,  8., ..., 16.,  0.,  0.],\n",
       "         ...,\n",
       "         [ 0.,  9., 16., ...,  0.,  0.,  0.],\n",
       "         [ 0.,  3., 13., ..., 11.,  5.,  0.],\n",
       "         [ 0.,  0.,  0., ..., 16.,  9.,  0.]],\n",
       " \n",
       "        ...,\n",
       " \n",
       "        [[ 0.,  0.,  1., ...,  1.,  0.,  0.],\n",
       "         [ 0.,  0., 13., ...,  2.,  1.,  0.],\n",
       "         [ 0.,  0., 16., ..., 16.,  5.,  0.],\n",
       "         ...,\n",
       "         [ 0.,  0., 16., ..., 15.,  0.,  0.],\n",
       "         [ 0.,  0., 15., ..., 16.,  0.,  0.],\n",
       "         [ 0.,  0.,  2., ...,  6.,  0.,  0.]],\n",
       " \n",
       "        [[ 0.,  0.,  2., ...,  0.,  0.,  0.],\n",
       "         [ 0.,  0., 14., ..., 15.,  1.,  0.],\n",
       "         [ 0.,  4., 16., ..., 16.,  7.,  0.],\n",
       "         ...,\n",
       "         [ 0.,  0.,  0., ..., 16.,  2.,  0.],\n",
       "         [ 0.,  0.,  4., ..., 16.,  2.,  0.],\n",
       "         [ 0.,  0.,  5., ..., 12.,  0.,  0.]],\n",
       " \n",
       "        [[ 0.,  0., 10., ...,  1.,  0.,  0.],\n",
       "         [ 0.,  2., 16., ...,  1.,  0.,  0.],\n",
       "         [ 0.,  0., 15., ..., 15.,  0.,  0.],\n",
       "         ...,\n",
       "         [ 0.,  4., 16., ..., 16.,  6.,  0.],\n",
       "         [ 0.,  8., 16., ..., 16.,  8.,  0.],\n",
       "         [ 0.,  1.,  8., ..., 12.,  1.,  0.]]]),\n",
       " 'DESCR': \".. _digits_dataset:\\n\\nOptical recognition of handwritten digits dataset\\n--------------------------------------------------\\n\\n**Data Set Characteristics:**\\n\\n    :Number of Instances: 1797\\n    :Number of Attributes: 64\\n    :Attribute Information: 8x8 image of integer pixels in the range 0..16.\\n    :Missing Attribute Values: None\\n    :Creator: E. Alpaydin (alpaydin '@' boun.edu.tr)\\n    :Date: July; 1998\\n\\nThis is a copy of the test set of the UCI ML hand-written digits datasets\\nhttps://archive.ics.uci.edu/ml/datasets/Optical+Recognition+of+Handwritten+Digits\\n\\nThe data set contains images of hand-written digits: 10 classes where\\neach class refers to a digit.\\n\\nPreprocessing programs made available by NIST were used to extract\\nnormalized bitmaps of handwritten digits from a preprinted form. From a\\ntotal of 43 people, 30 contributed to the training set and different 13\\nto the test set. 32x32 bitmaps are divided into nonoverlapping blocks of\\n4x4 and the number of on pixels are counted in each block. This generates\\nan input matrix of 8x8 where each element is an integer in the range\\n0..16. This reduces dimensionality and gives invariance to small\\ndistortions.\\n\\nFor info on NIST preprocessing routines, see M. D. Garris, J. L. Blue, G.\\nT. Candela, D. L. Dimmick, J. Geist, P. J. Grother, S. A. Janet, and C.\\nL. Wilson, NIST Form-Based Handprint Recognition System, NISTIR 5469,\\n1994.\\n\\n.. topic:: References\\n\\n  - C. Kaynak (1995) Methods of Combining Multiple Classifiers and Their\\n    Applications to Handwritten Digit Recognition, MSc Thesis, Institute of\\n    Graduate Studies in Science and Engineering, Bogazici University.\\n  - E. Alpaydin, C. Kaynak (1998) Cascading Classifiers, Kybernetika.\\n  - Ken Tang and Ponnuthurai N. Suganthan and Xi Yao and A. Kai Qin.\\n    Linear dimensionalityreduction using relevance weighted LDA. School of\\n    Electrical and Electronic Engineering Nanyang Technological University.\\n    2005.\\n  - Claudio Gentile. A New Approximate Maximal Margin Classification\\n    Algorithm. NIPS. 2000.\\n\"}"
      ]
     },
     "execution_count": 100,
     "metadata": {},
     "output_type": "execute_result"
    }
   ],
   "source": [
    "load_digits()"
   ]
  },
  {
   "cell_type": "code",
   "execution_count": 102,
   "id": "d9461308-23c6-46d2-b9b4-6ba8bed09a8e",
   "metadata": {},
   "outputs": [
    {
     "data": {
      "text/html": [
       "<div>\n",
       "<style scoped>\n",
       "    .dataframe tbody tr th:only-of-type {\n",
       "        vertical-align: middle;\n",
       "    }\n",
       "\n",
       "    .dataframe tbody tr th {\n",
       "        vertical-align: top;\n",
       "    }\n",
       "\n",
       "    .dataframe thead th {\n",
       "        text-align: right;\n",
       "    }\n",
       "</style>\n",
       "<table border=\"1\" class=\"dataframe\">\n",
       "  <thead>\n",
       "    <tr style=\"text-align: right;\">\n",
       "      <th></th>\n",
       "      <th>pixel_0_0</th>\n",
       "      <th>pixel_0_1</th>\n",
       "      <th>pixel_0_2</th>\n",
       "      <th>pixel_0_3</th>\n",
       "      <th>pixel_0_4</th>\n",
       "      <th>pixel_0_5</th>\n",
       "      <th>pixel_0_6</th>\n",
       "      <th>pixel_0_7</th>\n",
       "      <th>pixel_1_0</th>\n",
       "      <th>pixel_1_1</th>\n",
       "      <th>...</th>\n",
       "      <th>pixel_6_7</th>\n",
       "      <th>pixel_7_0</th>\n",
       "      <th>pixel_7_1</th>\n",
       "      <th>pixel_7_2</th>\n",
       "      <th>pixel_7_3</th>\n",
       "      <th>pixel_7_4</th>\n",
       "      <th>pixel_7_5</th>\n",
       "      <th>pixel_7_6</th>\n",
       "      <th>pixel_7_7</th>\n",
       "      <th>target</th>\n",
       "    </tr>\n",
       "  </thead>\n",
       "  <tbody>\n",
       "    <tr>\n",
       "      <th>0</th>\n",
       "      <td>0.0</td>\n",
       "      <td>0.0</td>\n",
       "      <td>5.0</td>\n",
       "      <td>13.0</td>\n",
       "      <td>9.0</td>\n",
       "      <td>1.0</td>\n",
       "      <td>0.0</td>\n",
       "      <td>0.0</td>\n",
       "      <td>0.0</td>\n",
       "      <td>0.0</td>\n",
       "      <td>...</td>\n",
       "      <td>0.0</td>\n",
       "      <td>0.0</td>\n",
       "      <td>0.0</td>\n",
       "      <td>6.0</td>\n",
       "      <td>13.0</td>\n",
       "      <td>10.0</td>\n",
       "      <td>0.0</td>\n",
       "      <td>0.0</td>\n",
       "      <td>0.0</td>\n",
       "      <td>0</td>\n",
       "    </tr>\n",
       "    <tr>\n",
       "      <th>1</th>\n",
       "      <td>0.0</td>\n",
       "      <td>0.0</td>\n",
       "      <td>0.0</td>\n",
       "      <td>12.0</td>\n",
       "      <td>13.0</td>\n",
       "      <td>5.0</td>\n",
       "      <td>0.0</td>\n",
       "      <td>0.0</td>\n",
       "      <td>0.0</td>\n",
       "      <td>0.0</td>\n",
       "      <td>...</td>\n",
       "      <td>0.0</td>\n",
       "      <td>0.0</td>\n",
       "      <td>0.0</td>\n",
       "      <td>0.0</td>\n",
       "      <td>11.0</td>\n",
       "      <td>16.0</td>\n",
       "      <td>10.0</td>\n",
       "      <td>0.0</td>\n",
       "      <td>0.0</td>\n",
       "      <td>1</td>\n",
       "    </tr>\n",
       "    <tr>\n",
       "      <th>2</th>\n",
       "      <td>0.0</td>\n",
       "      <td>0.0</td>\n",
       "      <td>0.0</td>\n",
       "      <td>4.0</td>\n",
       "      <td>15.0</td>\n",
       "      <td>12.0</td>\n",
       "      <td>0.0</td>\n",
       "      <td>0.0</td>\n",
       "      <td>0.0</td>\n",
       "      <td>0.0</td>\n",
       "      <td>...</td>\n",
       "      <td>0.0</td>\n",
       "      <td>0.0</td>\n",
       "      <td>0.0</td>\n",
       "      <td>0.0</td>\n",
       "      <td>3.0</td>\n",
       "      <td>11.0</td>\n",
       "      <td>16.0</td>\n",
       "      <td>9.0</td>\n",
       "      <td>0.0</td>\n",
       "      <td>2</td>\n",
       "    </tr>\n",
       "    <tr>\n",
       "      <th>3</th>\n",
       "      <td>0.0</td>\n",
       "      <td>0.0</td>\n",
       "      <td>7.0</td>\n",
       "      <td>15.0</td>\n",
       "      <td>13.0</td>\n",
       "      <td>1.0</td>\n",
       "      <td>0.0</td>\n",
       "      <td>0.0</td>\n",
       "      <td>0.0</td>\n",
       "      <td>8.0</td>\n",
       "      <td>...</td>\n",
       "      <td>0.0</td>\n",
       "      <td>0.0</td>\n",
       "      <td>0.0</td>\n",
       "      <td>7.0</td>\n",
       "      <td>13.0</td>\n",
       "      <td>13.0</td>\n",
       "      <td>9.0</td>\n",
       "      <td>0.0</td>\n",
       "      <td>0.0</td>\n",
       "      <td>3</td>\n",
       "    </tr>\n",
       "    <tr>\n",
       "      <th>4</th>\n",
       "      <td>0.0</td>\n",
       "      <td>0.0</td>\n",
       "      <td>0.0</td>\n",
       "      <td>1.0</td>\n",
       "      <td>11.0</td>\n",
       "      <td>0.0</td>\n",
       "      <td>0.0</td>\n",
       "      <td>0.0</td>\n",
       "      <td>0.0</td>\n",
       "      <td>0.0</td>\n",
       "      <td>...</td>\n",
       "      <td>0.0</td>\n",
       "      <td>0.0</td>\n",
       "      <td>0.0</td>\n",
       "      <td>0.0</td>\n",
       "      <td>2.0</td>\n",
       "      <td>16.0</td>\n",
       "      <td>4.0</td>\n",
       "      <td>0.0</td>\n",
       "      <td>0.0</td>\n",
       "      <td>4</td>\n",
       "    </tr>\n",
       "    <tr>\n",
       "      <th>...</th>\n",
       "      <td>...</td>\n",
       "      <td>...</td>\n",
       "      <td>...</td>\n",
       "      <td>...</td>\n",
       "      <td>...</td>\n",
       "      <td>...</td>\n",
       "      <td>...</td>\n",
       "      <td>...</td>\n",
       "      <td>...</td>\n",
       "      <td>...</td>\n",
       "      <td>...</td>\n",
       "      <td>...</td>\n",
       "      <td>...</td>\n",
       "      <td>...</td>\n",
       "      <td>...</td>\n",
       "      <td>...</td>\n",
       "      <td>...</td>\n",
       "      <td>...</td>\n",
       "      <td>...</td>\n",
       "      <td>...</td>\n",
       "      <td>...</td>\n",
       "    </tr>\n",
       "    <tr>\n",
       "      <th>1792</th>\n",
       "      <td>0.0</td>\n",
       "      <td>0.0</td>\n",
       "      <td>4.0</td>\n",
       "      <td>10.0</td>\n",
       "      <td>13.0</td>\n",
       "      <td>6.0</td>\n",
       "      <td>0.0</td>\n",
       "      <td>0.0</td>\n",
       "      <td>0.0</td>\n",
       "      <td>1.0</td>\n",
       "      <td>...</td>\n",
       "      <td>0.0</td>\n",
       "      <td>0.0</td>\n",
       "      <td>0.0</td>\n",
       "      <td>2.0</td>\n",
       "      <td>14.0</td>\n",
       "      <td>15.0</td>\n",
       "      <td>9.0</td>\n",
       "      <td>0.0</td>\n",
       "      <td>0.0</td>\n",
       "      <td>9</td>\n",
       "    </tr>\n",
       "    <tr>\n",
       "      <th>1793</th>\n",
       "      <td>0.0</td>\n",
       "      <td>0.0</td>\n",
       "      <td>6.0</td>\n",
       "      <td>16.0</td>\n",
       "      <td>13.0</td>\n",
       "      <td>11.0</td>\n",
       "      <td>1.0</td>\n",
       "      <td>0.0</td>\n",
       "      <td>0.0</td>\n",
       "      <td>0.0</td>\n",
       "      <td>...</td>\n",
       "      <td>0.0</td>\n",
       "      <td>0.0</td>\n",
       "      <td>0.0</td>\n",
       "      <td>6.0</td>\n",
       "      <td>16.0</td>\n",
       "      <td>14.0</td>\n",
       "      <td>6.0</td>\n",
       "      <td>0.0</td>\n",
       "      <td>0.0</td>\n",
       "      <td>0</td>\n",
       "    </tr>\n",
       "    <tr>\n",
       "      <th>1794</th>\n",
       "      <td>0.0</td>\n",
       "      <td>0.0</td>\n",
       "      <td>1.0</td>\n",
       "      <td>11.0</td>\n",
       "      <td>15.0</td>\n",
       "      <td>1.0</td>\n",
       "      <td>0.0</td>\n",
       "      <td>0.0</td>\n",
       "      <td>0.0</td>\n",
       "      <td>0.0</td>\n",
       "      <td>...</td>\n",
       "      <td>0.0</td>\n",
       "      <td>0.0</td>\n",
       "      <td>0.0</td>\n",
       "      <td>2.0</td>\n",
       "      <td>9.0</td>\n",
       "      <td>13.0</td>\n",
       "      <td>6.0</td>\n",
       "      <td>0.0</td>\n",
       "      <td>0.0</td>\n",
       "      <td>8</td>\n",
       "    </tr>\n",
       "    <tr>\n",
       "      <th>1795</th>\n",
       "      <td>0.0</td>\n",
       "      <td>0.0</td>\n",
       "      <td>2.0</td>\n",
       "      <td>10.0</td>\n",
       "      <td>7.0</td>\n",
       "      <td>0.0</td>\n",
       "      <td>0.0</td>\n",
       "      <td>0.0</td>\n",
       "      <td>0.0</td>\n",
       "      <td>0.0</td>\n",
       "      <td>...</td>\n",
       "      <td>0.0</td>\n",
       "      <td>0.0</td>\n",
       "      <td>0.0</td>\n",
       "      <td>5.0</td>\n",
       "      <td>12.0</td>\n",
       "      <td>16.0</td>\n",
       "      <td>12.0</td>\n",
       "      <td>0.0</td>\n",
       "      <td>0.0</td>\n",
       "      <td>9</td>\n",
       "    </tr>\n",
       "    <tr>\n",
       "      <th>1796</th>\n",
       "      <td>0.0</td>\n",
       "      <td>0.0</td>\n",
       "      <td>10.0</td>\n",
       "      <td>14.0</td>\n",
       "      <td>8.0</td>\n",
       "      <td>1.0</td>\n",
       "      <td>0.0</td>\n",
       "      <td>0.0</td>\n",
       "      <td>0.0</td>\n",
       "      <td>2.0</td>\n",
       "      <td>...</td>\n",
       "      <td>0.0</td>\n",
       "      <td>0.0</td>\n",
       "      <td>1.0</td>\n",
       "      <td>8.0</td>\n",
       "      <td>12.0</td>\n",
       "      <td>14.0</td>\n",
       "      <td>12.0</td>\n",
       "      <td>1.0</td>\n",
       "      <td>0.0</td>\n",
       "      <td>8</td>\n",
       "    </tr>\n",
       "  </tbody>\n",
       "</table>\n",
       "<p>1797 rows × 65 columns</p>\n",
       "</div>"
      ],
      "text/plain": [
       "      pixel_0_0  pixel_0_1  pixel_0_2  pixel_0_3  pixel_0_4  pixel_0_5  \\\n",
       "0           0.0        0.0        5.0       13.0        9.0        1.0   \n",
       "1           0.0        0.0        0.0       12.0       13.0        5.0   \n",
       "2           0.0        0.0        0.0        4.0       15.0       12.0   \n",
       "3           0.0        0.0        7.0       15.0       13.0        1.0   \n",
       "4           0.0        0.0        0.0        1.0       11.0        0.0   \n",
       "...         ...        ...        ...        ...        ...        ...   \n",
       "1792        0.0        0.0        4.0       10.0       13.0        6.0   \n",
       "1793        0.0        0.0        6.0       16.0       13.0       11.0   \n",
       "1794        0.0        0.0        1.0       11.0       15.0        1.0   \n",
       "1795        0.0        0.0        2.0       10.0        7.0        0.0   \n",
       "1796        0.0        0.0       10.0       14.0        8.0        1.0   \n",
       "\n",
       "      pixel_0_6  pixel_0_7  pixel_1_0  pixel_1_1  ...  pixel_6_7  pixel_7_0  \\\n",
       "0           0.0        0.0        0.0        0.0  ...        0.0        0.0   \n",
       "1           0.0        0.0        0.0        0.0  ...        0.0        0.0   \n",
       "2           0.0        0.0        0.0        0.0  ...        0.0        0.0   \n",
       "3           0.0        0.0        0.0        8.0  ...        0.0        0.0   \n",
       "4           0.0        0.0        0.0        0.0  ...        0.0        0.0   \n",
       "...         ...        ...        ...        ...  ...        ...        ...   \n",
       "1792        0.0        0.0        0.0        1.0  ...        0.0        0.0   \n",
       "1793        1.0        0.0        0.0        0.0  ...        0.0        0.0   \n",
       "1794        0.0        0.0        0.0        0.0  ...        0.0        0.0   \n",
       "1795        0.0        0.0        0.0        0.0  ...        0.0        0.0   \n",
       "1796        0.0        0.0        0.0        2.0  ...        0.0        0.0   \n",
       "\n",
       "      pixel_7_1  pixel_7_2  pixel_7_3  pixel_7_4  pixel_7_5  pixel_7_6  \\\n",
       "0           0.0        6.0       13.0       10.0        0.0        0.0   \n",
       "1           0.0        0.0       11.0       16.0       10.0        0.0   \n",
       "2           0.0        0.0        3.0       11.0       16.0        9.0   \n",
       "3           0.0        7.0       13.0       13.0        9.0        0.0   \n",
       "4           0.0        0.0        2.0       16.0        4.0        0.0   \n",
       "...         ...        ...        ...        ...        ...        ...   \n",
       "1792        0.0        2.0       14.0       15.0        9.0        0.0   \n",
       "1793        0.0        6.0       16.0       14.0        6.0        0.0   \n",
       "1794        0.0        2.0        9.0       13.0        6.0        0.0   \n",
       "1795        0.0        5.0       12.0       16.0       12.0        0.0   \n",
       "1796        1.0        8.0       12.0       14.0       12.0        1.0   \n",
       "\n",
       "      pixel_7_7  target  \n",
       "0           0.0       0  \n",
       "1           0.0       1  \n",
       "2           0.0       2  \n",
       "3           0.0       3  \n",
       "4           0.0       4  \n",
       "...         ...     ...  \n",
       "1792        0.0       9  \n",
       "1793        0.0       0  \n",
       "1794        0.0       8  \n",
       "1795        0.0       9  \n",
       "1796        0.0       8  \n",
       "\n",
       "[1797 rows x 65 columns]"
      ]
     },
     "execution_count": 102,
     "metadata": {},
     "output_type": "execute_result"
    }
   ],
   "source": [
    "load_digits(as_frame = True)['frame']"
   ]
  },
  {
   "cell_type": "code",
   "execution_count": 103,
   "id": "3591c762-1de4-4851-a5be-670bd7dec679",
   "metadata": {},
   "outputs": [],
   "source": [
    "mist_data = load_digits(as_frame = True)['frame']"
   ]
  },
  {
   "cell_type": "code",
   "execution_count": 140,
   "id": "b0e0991f-bec8-4cb3-848e-4c366a4ae185",
   "metadata": {},
   "outputs": [
    {
     "data": {
      "text/html": [
       "<div>\n",
       "<style scoped>\n",
       "    .dataframe tbody tr th:only-of-type {\n",
       "        vertical-align: middle;\n",
       "    }\n",
       "\n",
       "    .dataframe tbody tr th {\n",
       "        vertical-align: top;\n",
       "    }\n",
       "\n",
       "    .dataframe thead th {\n",
       "        text-align: right;\n",
       "    }\n",
       "</style>\n",
       "<table border=\"1\" class=\"dataframe\">\n",
       "  <thead>\n",
       "    <tr style=\"text-align: right;\">\n",
       "      <th></th>\n",
       "      <th>pixel_0_0</th>\n",
       "      <th>pixel_0_1</th>\n",
       "      <th>pixel_0_2</th>\n",
       "      <th>pixel_0_3</th>\n",
       "      <th>pixel_0_4</th>\n",
       "      <th>pixel_0_5</th>\n",
       "      <th>pixel_0_6</th>\n",
       "      <th>pixel_0_7</th>\n",
       "      <th>pixel_1_0</th>\n",
       "      <th>pixel_1_1</th>\n",
       "      <th>...</th>\n",
       "      <th>pixel_6_7</th>\n",
       "      <th>pixel_7_0</th>\n",
       "      <th>pixel_7_1</th>\n",
       "      <th>pixel_7_2</th>\n",
       "      <th>pixel_7_3</th>\n",
       "      <th>pixel_7_4</th>\n",
       "      <th>pixel_7_5</th>\n",
       "      <th>pixel_7_6</th>\n",
       "      <th>pixel_7_7</th>\n",
       "      <th>target</th>\n",
       "    </tr>\n",
       "  </thead>\n",
       "  <tbody>\n",
       "    <tr>\n",
       "      <th>929</th>\n",
       "      <td>0.0</td>\n",
       "      <td>0.0</td>\n",
       "      <td>0.0</td>\n",
       "      <td>2.0</td>\n",
       "      <td>15.0</td>\n",
       "      <td>7.0</td>\n",
       "      <td>0.0</td>\n",
       "      <td>0.0</td>\n",
       "      <td>0.0</td>\n",
       "      <td>0.0</td>\n",
       "      <td>...</td>\n",
       "      <td>0.0</td>\n",
       "      <td>0.0</td>\n",
       "      <td>0.0</td>\n",
       "      <td>0.0</td>\n",
       "      <td>3.0</td>\n",
       "      <td>16.0</td>\n",
       "      <td>7.0</td>\n",
       "      <td>0.0</td>\n",
       "      <td>0.0</td>\n",
       "      <td>4</td>\n",
       "    </tr>\n",
       "  </tbody>\n",
       "</table>\n",
       "<p>1 rows × 65 columns</p>\n",
       "</div>"
      ],
      "text/plain": [
       "     pixel_0_0  pixel_0_1  pixel_0_2  pixel_0_3  pixel_0_4  pixel_0_5  \\\n",
       "929        0.0        0.0        0.0        2.0       15.0        7.0   \n",
       "\n",
       "     pixel_0_6  pixel_0_7  pixel_1_0  pixel_1_1  ...  pixel_6_7  pixel_7_0  \\\n",
       "929        0.0        0.0        0.0        0.0  ...        0.0        0.0   \n",
       "\n",
       "     pixel_7_1  pixel_7_2  pixel_7_3  pixel_7_4  pixel_7_5  pixel_7_6  \\\n",
       "929        0.0        0.0        3.0       16.0        7.0        0.0   \n",
       "\n",
       "     pixel_7_7  target  \n",
       "929        0.0       4  \n",
       "\n",
       "[1 rows x 65 columns]"
      ]
     },
     "execution_count": 140,
     "metadata": {},
     "output_type": "execute_result"
    }
   ],
   "source": [
    "mist_data.sample(1)"
   ]
  },
  {
   "cell_type": "code",
   "execution_count": 153,
   "id": "680efd41-453d-4b21-9d95-270bd6faa6e7",
   "metadata": {},
   "outputs": [
    {
     "data": {
      "text/plain": [
       "pixel_0_0     0.0\n",
       "pixel_0_1     0.0\n",
       "pixel_0_2     0.0\n",
       "pixel_0_3     2.0\n",
       "pixel_0_4    15.0\n",
       "             ... \n",
       "pixel_7_4    16.0\n",
       "pixel_7_5     7.0\n",
       "pixel_7_6     0.0\n",
       "pixel_7_7     0.0\n",
       "target        4.0\n",
       "Name: 929, Length: 65, dtype: float64"
      ]
     },
     "execution_count": 153,
     "metadata": {},
     "output_type": "execute_result"
    }
   ],
   "source": [
    "mist_data.loc[929]"
   ]
  },
  {
   "cell_type": "code",
   "execution_count": 160,
   "id": "adf506c5-01fd-433e-a0b4-4ebe2380b07a",
   "metadata": {},
   "outputs": [
    {
     "data": {
      "text/plain": [
       "array([ 0.,  0.,  0.,  2., 15.,  7.,  0.,  0.,  0.,  0.,  0., 11., 15.,\n",
       "        2.,  5.,  0.,  0.,  0.,  5., 16.,  6.,  6., 16.,  0.,  0.,  2.,\n",
       "       16., 10.,  4., 13., 13.,  0.,  0., 13., 16., 16., 16., 16., 10.,\n",
       "        0.,  0.,  6.,  4.,  4., 11., 16.,  4.,  0.,  0.,  0.,  0.,  0.,\n",
       "       14., 14.,  0.,  0.,  0.,  0.,  0.,  3., 16.,  7.,  0.,  0.])"
      ]
     },
     "execution_count": 160,
     "metadata": {},
     "output_type": "execute_result"
    }
   ],
   "source": [
    "mist_data.loc[929].values[:-1]"
   ]
  },
  {
   "cell_type": "code",
   "execution_count": 161,
   "id": "bc7b339f-2d08-4c56-92a8-3f9ddba5c095",
   "metadata": {},
   "outputs": [
    {
     "data": {
      "text/plain": [
       "(64,)"
      ]
     },
     "execution_count": 161,
     "metadata": {},
     "output_type": "execute_result"
    }
   ],
   "source": [
    "mist_data.loc[929].values[:-1].shape"
   ]
  },
  {
   "cell_type": "code",
   "execution_count": 162,
   "id": "2f6d3fd3-80f3-46a6-bee3-06018f9da194",
   "metadata": {},
   "outputs": [
    {
     "data": {
      "text/plain": [
       "array([[ 0.,  0.,  0.,  2., 15.,  7.,  0.,  0.],\n",
       "       [ 0.,  0.,  0., 11., 15.,  2.,  5.,  0.],\n",
       "       [ 0.,  0.,  5., 16.,  6.,  6., 16.,  0.],\n",
       "       [ 0.,  2., 16., 10.,  4., 13., 13.,  0.],\n",
       "       [ 0., 13., 16., 16., 16., 16., 10.,  0.],\n",
       "       [ 0.,  6.,  4.,  4., 11., 16.,  4.,  0.],\n",
       "       [ 0.,  0.,  0.,  0., 14., 14.,  0.,  0.],\n",
       "       [ 0.,  0.,  0.,  3., 16.,  7.,  0.,  0.]])"
      ]
     },
     "execution_count": 162,
     "metadata": {},
     "output_type": "execute_result"
    }
   ],
   "source": [
    "mist_data.loc[929].values[:-1].reshape(8, 8)"
   ]
  },
  {
   "cell_type": "code",
   "execution_count": 163,
   "id": "02d364d7-be10-475f-85d1-1585928f8fd7",
   "metadata": {},
   "outputs": [
    {
     "data": {
      "text/plain": [
       "<matplotlib.image.AxesImage at 0x230a823b690>"
      ]
     },
     "execution_count": 163,
     "metadata": {},
     "output_type": "execute_result"
    },
    {
     "data": {
      "image/png": "[encoded data removed]",
      "text/plain": [
       "<Figure size 1200x1000 with 1 Axes>"
      ]
     },
     "metadata": {},
     "output_type": "display_data"
    }
   ],
   "source": [
    "plt.figure(figsize=(12, 10))\n",
    "plt.imshow(mist_data.loc[929].values[:-1].reshape(8, 8))"
   ]
  },
  {
   "cell_type": "code",
   "execution_count": 164,
   "id": "c833584f-f4db-491e-b6b3-f2264580e515",
   "metadata": {},
   "outputs": [
    {
     "data": {
      "text/plain": [
       "Text(0.5, 1.0, '4.0')"
      ]
     },
     "execution_count": 164,
     "metadata": {},
     "output_type": "execute_result"
    },
    {
     "data": {
      "image/png": "[encoded data removed]",
      "text/plain": [
       "<Figure size 1200x1000 with 1 Axes>"
      ]
     },
     "metadata": {},
     "output_type": "display_data"
    }
   ],
   "source": [
    "plt.figure(figsize=(12, 10))\n",
    "plt.imshow(mist_data.loc[929].values[:-1].reshape(8, 8), cmap = 'gray')\n",
    "plt.title(mist_data.loc[929].target)"
   ]
  },
  {
   "cell_type": "code",
   "execution_count": 166,
   "id": "37d385fe-0dc7-4438-8bd2-b84d7043e680",
   "metadata": {},
   "outputs": [
    {
     "data": {
      "text/plain": [
       "Text(0.5, 1.0, '2.0')"
      ]
     },
     "execution_count": 166,
     "metadata": {},
     "output_type": "execute_result"
    },
    {
     "data": {
      "image/png": "[encoded data removed]",
      "text/plain": [
       "<Figure size 1200x1000 with 1 Axes>"
      ]
     },
     "metadata": {},
     "output_type": "display_data"
    }
   ],
   "source": [
    "plt.figure(figsize=(12, 10))\n",
    "plt.imshow(mist_data.loc[443].values[:-1].reshape(8, 8), cmap = 'gray')\n",
    "plt.title(mist_data.loc[443].target)"
   ]
  },
  {
   "cell_type": "code",
   "execution_count": 167,
   "id": "97598367-aa2d-4ed1-a7aa-331979e0fe41",
   "metadata": {},
   "outputs": [
    {
     "data": {
      "text/plain": [
       "Text(0.5, 1.0, '5.0')"
      ]
     },
     "execution_count": 167,
     "metadata": {},
     "output_type": "execute_result"
    },
    {
     "data": {
      "image/png": "[encoded data removed]",
      "text/plain": [
       "<Figure size 1200x1000 with 1 Axes>"
      ]
     },
     "metadata": {},
     "output_type": "display_data"
    }
   ],
   "source": [
    "plt.figure(figsize=(12, 10))\n",
    "plt.imshow(mist_data.loc[1228].values[:-1].reshape(8, 8), cmap = 'gray')\n",
    "plt.title(mist_data.loc[1228].target)"
   ]
  },
  {
   "cell_type": "code",
   "execution_count": 169,
   "id": "01c44e63-d3ab-4970-bf3b-361d8e189bd9",
   "metadata": {},
   "outputs": [
    {
     "data": {
      "text/plain": [
       "array([0, 1, 2, 3, 4, 5, 6, 7, 8, 9])"
      ]
     },
     "execution_count": 169,
     "metadata": {},
     "output_type": "execute_result"
    }
   ],
   "source": [
    "mist_data.target.unique()"
   ]
  },
  {
   "cell_type": "code",
   "execution_count": 170,
   "id": "5b1ce622-b06d-4803-b775-0964c5348e30",
   "metadata": {},
   "outputs": [
    {
     "data": {
      "text/plain": [
       "target\n",
       "3    183\n",
       "1    182\n",
       "5    182\n",
       "4    181\n",
       "6    181\n",
       "9    180\n",
       "7    179\n",
       "0    178\n",
       "2    177\n",
       "8    174\n",
       "Name: count, dtype: int64"
      ]
     },
     "execution_count": 170,
     "metadata": {},
     "output_type": "execute_result"
    }
   ],
   "source": [
    "mist_data.target.value_counts()"
   ]
  },
  {
   "cell_type": "code",
   "execution_count": 172,
   "id": "da9060c7-86de-48f8-ae03-60fb1b827ad2",
   "metadata": {},
   "outputs": [],
   "source": [
    "digits_classifier = LogisticRegression(C = 1e12)"
   ]
  },
  {
   "cell_type": "code",
   "execution_count": 174,
   "id": "4a95d57b-f111-4b04-a64b-fefe09a7a8a7",
   "metadata": {},
   "outputs": [
    {
     "data": {
      "text/html": [
       "<style>#sk-container-id-16 {color: black;background-color: white;}#sk-container-id-16 pre{padding: 0;}#sk-container-id-16 div.sk-toggleable {background-color: white;}#sk-container-id-16 label.sk-toggleable__label {cursor: pointer;display: block;width: 100%;margin-bottom: 0;padding: 0.3em;box-sizing: border-box;text-align: center;}#sk-container-id-16 label.sk-toggleable__label-arrow:before {content: \"▸\";float: left;margin-right: 0.25em;color: #696969;}#sk-container-id-16 label.sk-toggleable__label-arrow:hover:before {color: black;}#sk-container-id-16 div.sk-estimator:hover label.sk-toggleable__label-arrow:before {color: black;}#sk-container-id-16 div.sk-toggleable__content {max-height: 0;max-width: 0;overflow: hidden;text-align: left;background-color: #f0f8ff;}#sk-container-id-16 div.sk-toggleable__content pre {margin: 0.2em;color: black;border-radius: 0.25em;background-color: #f0f8ff;}#sk-container-id-16 input.sk-toggleable__control:checked~div.sk-toggleable__content {max-height: 200px;max-width: 100%;overflow: auto;}#sk-container-id-16 input.sk-toggleable__control:checked~label.sk-toggleable__label-arrow:before {content: \"▾\";}#sk-container-id-16 div.sk-estimator input.sk-toggleable__control:checked~label.sk-toggleable__label {background-color: #d4ebff;}#sk-container-id-16 div.sk-label input.sk-toggleable__control:checked~label.sk-toggleable__label {background-color: #d4ebff;}#sk-container-id-16 input.sk-hidden--visually {border: 0;clip: rect(1px 1px 1px 1px);clip: rect(1px, 1px, 1px, 1px);height: 1px;margin: -1px;overflow: hidden;padding: 0;position: absolute;width: 1px;}#sk-container-id-16 div.sk-estimator {font-family: monospace;background-color: #f0f8ff;border: 1px dotted black;border-radius: 0.25em;box-sizing: border-box;margin-bottom: 0.5em;}#sk-container-id-16 div.sk-estimator:hover {background-color: #d4ebff;}#sk-container-id-16 div.sk-parallel-item::after {content: \"\";width: 100%;border-bottom: 1px solid gray;flex-grow: 1;}#sk-container-id-16 div.sk-label:hover label.sk-toggleable__label {background-color: #d4ebff;}#sk-container-id-16 div.sk-serial::before {content: \"\";position: absolute;border-left: 1px solid gray;box-sizing: border-box;top: 0;bottom: 0;left: 50%;z-index: 0;}#sk-container-id-16 div.sk-serial {display: flex;flex-direction: column;align-items: center;background-color: white;padding-right: 0.2em;padding-left: 0.2em;position: relative;}#sk-container-id-16 div.sk-item {position: relative;z-index: 1;}#sk-container-id-16 div.sk-parallel {display: flex;align-items: stretch;justify-content: center;background-color: white;position: relative;}#sk-container-id-16 div.sk-item::before, #sk-container-id-16 div.sk-parallel-item::before {content: \"\";position: absolute;border-left: 1px solid gray;box-sizing: border-box;top: 0;bottom: 0;left: 50%;z-index: -1;}#sk-container-id-16 div.sk-parallel-item {display: flex;flex-direction: column;z-index: 1;position: relative;background-color: white;}#sk-container-id-16 div.sk-parallel-item:first-child::after {align-self: flex-end;width: 50%;}#sk-container-id-16 div.sk-parallel-item:last-child::after {align-self: flex-start;width: 50%;}#sk-container-id-16 div.sk-parallel-item:only-child::after {width: 0;}#sk-container-id-16 div.sk-dashed-wrapped {border: 1px dashed gray;margin: 0 0.4em 0.5em 0.4em;box-sizing: border-box;padding-bottom: 0.4em;background-color: white;}#sk-container-id-16 div.sk-label label {font-family: monospace;font-weight: bold;display: inline-block;line-height: 1.2em;}#sk-container-id-16 div.sk-label-container {text-align: center;}#sk-container-id-16 div.sk-container {/* jupyter's `normalize.less` sets `[hidden] { display: none; }` but bootstrap.min.css set `[hidden] { display: none !important; }` so we also need the `!important` here to be able to override the default hidden behavior on the sphinx rendered scikit-learn.org. See: https://github.com/scikit-learn/scikit-learn/issues/21755 */display: inline-block !important;position: relative;}#sk-container-id-16 div.sk-text-repr-fallback {display: none;}</style><div id=\"sk-container-id-16\" class=\"sk-top-container\"><div class=\"sk-text-repr-fallback\"><pre>LogisticRegression(C=1000000000000.0)</pre><b>In a Jupyter environment, please rerun this cell to show the HTML representation or trust the notebook. <br />On GitHub, the HTML representation is unable to render, please try loading this page with nbviewer.org.</b></div><div class=\"sk-container\" hidden><div class=\"sk-item\"><div class=\"sk-estimator sk-toggleable\"><input class=\"sk-toggleable__control sk-hidden--visually\" id=\"sk-estimator-id-16\" type=\"checkbox\" checked><label for=\"sk-estimator-id-16\" class=\"sk-toggleable__label sk-toggleable__label-arrow\">LogisticRegression</label><div class=\"sk-toggleable__content\"><pre>LogisticRegression(C=1000000000000.0)</pre></div></div></div></div></div>"
      ],
      "text/plain": [
       "LogisticRegression(C=1000000000000.0)"
      ]
     },
     "execution_count": 174,
     "metadata": {},
     "output_type": "execute_result"
    }
   ],
   "source": [
    "digits_classifier.fit(mist_data.drop(columns = 'target'), mist_data.target)"
   ]
  },
  {
   "cell_type": "code",
   "execution_count": 175,
   "id": "b2f1f471-4be0-4d24-bd1b-e13bb59eabf6",
   "metadata": {
    "scrolled": true
   },
   "outputs": [
    {
     "data": {
      "text/plain": [
       "array([[ 0.00000000e+00, -1.22969933e-01, -6.65717297e-01,\n",
       "         1.43647679e+00, -3.06406489e-01, -2.00767246e+00,\n",
       "        -1.39174464e+00, -1.15781718e-01, -2.57257306e-03,\n",
       "        -5.37446101e-01,  3.47924139e-01,  1.25247169e+00,\n",
       "         1.28668590e+00,  1.95868164e+00, -7.36140741e-01,\n",
       "        -1.07510536e-01, -2.19732196e-03,  5.23346640e-01,\n",
       "         3.10617542e+00, -7.25341070e-01, -4.45075328e+00,\n",
       "         3.39572975e+00,  9.70693008e-01, -4.19854566e-02,\n",
       "        -9.70048760e-04,  1.62603265e+00,  2.78585388e+00,\n",
       "        -3.62239999e+00, -7.77383641e+00,  6.36241704e-01,\n",
       "         1.12138975e+00, -6.36233478e-03,  0.00000000e+00,\n",
       "         1.91471930e+00,  2.56029539e+00, -3.00422770e+00,\n",
       "        -5.87283183e+00, -4.98761524e-02,  7.36975777e-01,\n",
       "         0.00000000e+00, -1.48045651e-02, -2.69807619e-01,\n",
       "         3.69237951e+00, -2.02099373e+00, -1.37616418e+00,\n",
       "         7.11026657e-01,  3.54238103e-01, -1.26318084e-02,\n",
       "        -4.62642082e-02, -1.05751163e+00,  1.40725641e+00,\n",
       "         2.92940851e-02,  1.36656888e+00,  3.04990251e-01,\n",
       "        -1.09358891e+00, -1.67654436e-01, -2.79651237e-04,\n",
       "        -1.28980693e-01, -1.09417460e+00,  2.10376979e+00,\n",
       "        -7.09080681e-01, -1.93197465e+00, -9.96632547e-01,\n",
       "        -2.53331452e-01],\n",
       "       [ 0.00000000e+00, -3.85407753e-01, -1.98452404e+00,\n",
       "         2.00746505e+00, -7.85560776e+00,  4.66955982e+00,\n",
       "        -3.38672376e-01, -2.02428966e-01, -2.57949621e-02,\n",
       "        -3.03585068e+00, -3.90521299e+00, -3.25694806e+00,\n",
       "         1.19802407e+00, -1.60791170e+00, -3.22112404e+00,\n",
       "        -1.79631975e-01,  5.36415194e-01,  2.89946452e+00,\n",
       "        -1.35063415e+00,  7.02465548e+00,  2.95110598e+00,\n",
       "        -1.07269931e+00, -7.47121257e-01, -5.51111044e-02,\n",
       "         1.93594836e-01, -2.02260945e-01,  3.14587698e-02,\n",
       "         1.12299302e+00,  2.57224762e+00,  2.15913976e+00,\n",
       "        -8.25641565e-01, -1.45213604e-03,  0.00000000e+00,\n",
       "         3.04205804e-01,  2.07777522e+00, -9.97219080e-01,\n",
       "         1.69151304e+00,  2.06279495e+00, -2.57963138e+00,\n",
       "         0.00000000e+00, -4.36635595e-03, -2.56216479e+00,\n",
       "         1.14152304e-01,  3.98399829e+00, -9.57455752e-02,\n",
       "        -1.35149863e+00, -5.21517134e+00, -3.15033291e-02,\n",
       "        -2.70968574e-02, -1.46217468e+00, -6.83270051e-01,\n",
       "         1.19815596e+00,  1.55678498e+00, -5.33825236e-01,\n",
       "        -2.77536318e+00,  1.88281727e+00, -8.04696187e-03,\n",
       "        -1.94486981e-01, -2.86752889e+00,  6.86979488e-01,\n",
       "         1.85707530e+00,  2.13798216e+00,  2.53161358e+00,\n",
       "         3.35786947e+00],\n",
       "       [ 0.00000000e+00,  3.91935653e-01,  1.23835085e+00,\n",
       "         4.73337545e-01,  9.49314656e-01, -6.82979936e-01,\n",
       "        -7.63668377e-01, -6.67907504e-02, -3.97701541e-02,\n",
       "         2.62547799e+00,  1.25534636e-01, -1.62631231e+00,\n",
       "         3.30407897e+00, -4.34492258e-06, -6.91277014e-01,\n",
       "        -7.90128700e-02, -1.50823500e-02, -3.96699288e-01,\n",
       "        -1.98984640e+00, -2.70517141e+00,  2.71892345e+00,\n",
       "        -6.04479151e-01,  8.95397098e-01, -2.30586810e-02,\n",
       "        -9.03032203e-04, -2.47274107e+00, -7.80803000e+00,\n",
       "        -6.11921014e+00, -2.32418493e+00,  1.86870725e-01,\n",
       "        -5.08044458e-02, -1.01713559e-03,  0.00000000e+00,\n",
       "        -1.78555088e+00, -5.99697703e+00, -1.93580470e+00,\n",
       "        -1.56413451e-01, -3.50586883e+00, -2.26517137e+00,\n",
       "         0.00000000e+00, -4.06763783e-03,  8.55945720e-01,\n",
       "         5.88040946e-01,  5.69931409e+00, -3.61357241e+00,\n",
       "        -4.63125702e+00, -1.53852595e+00,  1.73139997e-02,\n",
       "         6.39290755e-02,  1.33260140e+00,  2.00305991e+00,\n",
       "         6.66809474e+00,  3.94375613e+00,  4.99583563e+00,\n",
       "         2.20273426e+00,  1.78305120e-01,  2.21598432e-02,\n",
       "         4.98694516e-01,  2.22938456e+00,  2.90955415e-01,\n",
       "         1.10756917e+00,  4.59676627e+00,  4.38131756e+00,\n",
       "         8.66374496e-01],\n",
       "       [ 0.00000000e+00,  6.89672007e-01, -4.95743603e-01,\n",
       "         1.19814682e+00,  5.15075273e+00,  2.50232068e+00,\n",
       "         6.43056634e-01, -2.00453146e-02, -2.48463529e-02,\n",
       "         1.36613878e+00,  2.80390424e+00,  1.37453959e+00,\n",
       "         2.08624261e+00,  9.81174277e-01,  2.78003746e+00,\n",
       "        -1.29019857e-01, -1.33643871e-03, -5.93734682e-01,\n",
       "        -5.48740823e+00, -5.71949860e+00,  7.59687194e-01,\n",
       "        -3.86108896e+00, -1.81156433e-01, -2.40604400e-02,\n",
       "        -5.08833598e-04, -1.33966482e+00, -5.09073850e+00,\n",
       "        -1.46098468e+00,  2.79252028e+00, -5.64195355e+00,\n",
       "        -3.52871509e+00, -1.01699701e-03,  0.00000000e+00,\n",
       "        -1.44165889e+00, -1.79100340e+00,  3.39214408e-01,\n",
       "         2.66881363e+00, -6.90202310e-01,  2.19457408e-01,\n",
       "         0.00000000e+00, -4.06674236e-03, -4.05696438e-01,\n",
       "        -3.82588098e+00, -6.20839513e+00,  1.03073577e+00,\n",
       "         3.25262979e+00,  4.39913391e+00, -3.25278370e-02,\n",
       "        -3.46192275e-03, -2.74190988e-01, -7.10800366e-01,\n",
       "        -2.80307174e+00,  1.56039063e+00,  2.36372814e+00,\n",
       "         5.10269355e+00, -3.39414557e-01, -3.06364298e-04,\n",
       "         6.45104100e-01,  2.37226671e+00,  1.84508456e+00,\n",
       "        -2.41272838e-01,  4.74972594e-01,  1.00331403e+00,\n",
       "        -1.21214766e+00],\n",
       "       [ 0.00000000e+00, -2.73818581e-01, -1.63745633e+00,\n",
       "        -5.47997848e+00, -3.13288233e+00, -4.84767440e+00,\n",
       "        -3.14981345e+00,  3.01146197e-01, -2.72451915e-03,\n",
       "         5.43597516e-01, -1.51425381e+00, -3.30079368e+00,\n",
       "        -5.94596325e+00, -2.32409104e+00, -1.67500528e+00,\n",
       "        -1.72382897e-01, -3.11392144e-02,  1.76370218e+00,\n",
       "         2.33372320e+00,  1.37598663e+00,  1.87798626e+00,\n",
       "         1.14543158e+00,  1.92530945e-02,  1.71954911e-01,\n",
       "         6.61895144e-02,  2.18802321e+00,  5.41584154e+00,\n",
       "         1.22613579e+00,  1.94367800e+00,  4.37783848e-01,\n",
       "         6.52139857e+00,  6.10359520e-02,  0.00000000e+00,\n",
       "         2.18611366e+00,  2.12756482e+00, -1.78313299e+00,\n",
       "         3.86116879e+00,  2.79027330e+00,  4.62254874e+00,\n",
       "         0.00000000e+00,  5.86302786e-02,  6.43598630e+00,\n",
       "        -1.32504940e-01,  7.71860217e+00,  5.46828224e+00,\n",
       "         1.40883227e+00,  8.70803481e-01, -1.35558246e-02,\n",
       "         9.68736248e-02,  2.89719745e+00, -1.97563948e+00,\n",
       "         2.24817471e+00,  7.35279153e-01, -2.52502896e+00,\n",
       "        -2.63777759e+00, -1.24101445e-01, -3.44641209e-04,\n",
       "        -3.73527467e-01, -8.51807679e-01, -4.31318096e+00,\n",
       "        -2.08264975e+00, -1.34607658e+00, -1.24821863e+00,\n",
       "        -1.70858676e-01],\n",
       "       [ 0.00000000e+00,  1.00931420e+00,  6.20081358e+00,\n",
       "        -2.22186360e+00,  9.61530577e-01,  4.92454190e+00,\n",
       "         4.28463009e+00, -6.20492490e-01, -5.41594402e-03,\n",
       "        -7.87052531e-01,  2.65787501e+00,  2.35888560e+00,\n",
       "         7.89118426e-01,  4.31145351e-01, -3.40016345e-01,\n",
       "        -2.58732783e-01, -6.85034792e-02, -7.01282440e-01,\n",
       "         7.42885194e-01,  1.15449415e+00, -6.81905878e+00,\n",
       "        -5.60797845e+00, -4.92656617e+00, -1.39247372e-01,\n",
       "        -3.33839393e-02,  2.41808063e+00,  3.30354618e+00,\n",
       "         4.90238381e-02,  3.41467698e+00, -2.70712842e+00,\n",
       "        -2.99488094e+00, -1.23191037e-03,  0.00000000e+00,\n",
       "         9.02987427e-02,  9.12780546e-01, -2.67436395e+00,\n",
       "        -2.96985379e+00,  3.69327062e-01,  2.20313239e+00,\n",
       "         0.00000000e+00, -4.07301103e-03, -2.78165293e+00,\n",
       "        -4.07186823e+00, -3.81297973e+00, -1.84183264e+00,\n",
       "         4.37691682e-01,  1.29781195e+00, -1.42649971e-02,\n",
       "        -3.33825787e-03, -8.81325237e-01, -9.75781382e-01,\n",
       "        -2.14821346e+00, -1.64754550e-02,  7.53325401e-01,\n",
       "        -2.43422509e+00, -1.25212876e-01, -2.61614147e-04,\n",
       "         7.34369435e-01,  5.34951296e+00,  3.52528564e+00,\n",
       "         2.91846317e-01, -6.09124640e-01, -3.57783505e+00,\n",
       "        -3.35323474e-01],\n",
       "       [ 0.00000000e+00, -2.28359855e-01, -2.97498676e+00,\n",
       "        -1.22125674e+00, -1.29049153e+00, -2.29143708e+00,\n",
       "        -5.06253793e-01, -6.00290256e-02, -3.17686390e-03,\n",
       "        -2.34519013e+00, -2.42397968e+00,  1.49972161e-01,\n",
       "        -4.22895441e+00, -5.05986330e-01,  1.71019082e-01,\n",
       "        -5.19727648e-02, -6.28542386e-02, -1.70059153e+00,\n",
       "         2.71087881e+00,  8.17593623e-01, -3.56350664e+00,\n",
       "        -3.89512104e+00, -9.42139710e-01, -2.88822490e-02,\n",
       "        -3.12225329e-02,  1.24477806e+00,  1.15739545e+00,\n",
       "         1.55916804e+00, -3.12982748e-01,  1.12527713e-02,\n",
       "        -2.77043071e+00, -4.91007531e-03,  0.00000000e+00,\n",
       "         2.24822351e+00,  2.55589310e+00,  3.32630713e+00,\n",
       "        -6.38535809e-01, -1.03036131e+00,  5.93069648e-01,\n",
       "         0.00000000e+00, -1.49642358e-02, -8.98956024e-01,\n",
       "         6.49462352e+00,  1.66537459e+00,  1.32761511e+00,\n",
       "        -3.36394839e-01,  2.91032437e+00,  1.18258976e-01,\n",
       "        -3.44250328e-02, -1.45601984e+00,  1.94041330e+00,\n",
       "         1.40977190e+00,  2.79428826e-01,  2.11612713e+00,\n",
       "         1.61506992e+00, -1.23814400e+00, -2.63535360e-04,\n",
       "        -2.20732255e-01, -3.08716643e+00, -2.08918802e+00,\n",
       "        -4.79591065e-01,  1.77216421e+00,  5.95841926e-02,\n",
       "        -1.03821267e+00],\n",
       "       [ 0.00000000e+00,  3.18704301e-01,  2.15517831e+00,\n",
       "         1.96578408e+00,  2.02606593e+00,  9.19771646e-01,\n",
       "         2.76115454e+00,  1.47632365e+00, -2.57760642e-03,\n",
       "         5.97260982e-01,  1.51040928e+00,  1.68460266e+00,\n",
       "         6.20752848e+00, -9.88779486e-01,  3.85145621e-01,\n",
       "         1.33173058e+00, -1.30382156e-03, -2.06562840e+00,\n",
       "        -4.10612374e+00, -2.39395114e+00,  1.49882168e+00,\n",
       "         9.05594174e-01,  2.21528788e+00,  2.07406303e-01,\n",
       "        -5.71069852e-04, -2.23283716e+00, -7.20967673e-01,\n",
       "        -3.58437841e+00, -1.47071421e-01,  3.34416632e+00,\n",
       "         2.29225624e+00, -3.59725830e-02,  0.00000000e+00,\n",
       "         8.53675879e-01, -6.93160545e-01, -7.11759156e-01,\n",
       "         1.36051361e+00,  4.94531031e+00,  2.74009237e+00,\n",
       "         0.00000000e+00, -4.06836510e-03,  7.31224386e-02,\n",
       "        -7.72115325e-01,  2.29795638e+00,  1.40862414e+00,\n",
       "         9.65598957e-02, -7.34651207e-01, -1.25095993e-02,\n",
       "        -3.96506720e-03, -5.29376652e-01, -1.14506932e+00,\n",
       "         1.12688858e+00, -2.99804456e+00, -5.41474712e+00,\n",
       "        -1.83600707e+00, -9.64817439e-02, -4.60586057e-04,\n",
       "        -4.72544075e-02,  1.88294322e+00, -3.32975469e+00,\n",
       "        -4.76071569e+00, -4.42497870e+00, -1.24744757e+00,\n",
       "        -1.72057977e-01],\n",
       "       [ 0.00000000e+00, -6.65957305e-01, -1.86550690e-02,\n",
       "        -1.88326329e+00,  1.04224632e+00, -1.88147296e+00,\n",
       "        -2.50519396e+00, -1.99367602e-01,  1.11392392e-01,\n",
       "        -9.02087215e-01, -3.16118762e-01,  2.37717194e-01,\n",
       "        -3.18864881e+00,  2.28005442e+00,  1.52912258e+00,\n",
       "        -1.33042887e-01, -3.50383735e-01, -3.34265207e-01,\n",
       "         2.43363797e+00, -3.05221944e-02,  1.87934454e+00,\n",
       "         3.50793941e+00,  1.38016559e+00, -3.81241897e-02,\n",
       "        -1.90904440e-01, -6.09014274e-01, -1.05121938e+00,\n",
       "         6.11159311e+00, -1.64672886e+00,  6.91490187e-01,\n",
       "        -8.85983614e-01, -2.13361141e-03,  0.00000000e+00,\n",
       "        -1.30682348e+00, -5.22754965e-01,  4.05550705e+00,\n",
       "         1.16797904e+00, -3.24416902e+00, -4.48034673e+00,\n",
       "         0.00000000e+00, -4.15171063e-03,  5.32451583e-01,\n",
       "         2.36316074e+00,  4.52355324e-01,  2.68452038e+00,\n",
       "         1.08005056e+00,  7.20855493e-01, -2.07259175e-02,\n",
       "        -3.88622358e-02,  1.02314562e+00,  1.81855664e+00,\n",
       "        -4.19689653e+00, -3.85184826e+00,  3.01115076e-01,\n",
       "         2.49869467e+00, -1.53316198e-01, -1.19156935e-02,\n",
       "        -2.23572651e-01, -3.90794360e+00,  5.03608049e-01,\n",
       "         2.98156884e+00, -6.22023691e-01, -1.09627886e+00,\n",
       "        -6.56825123e-01],\n",
       "       [ 0.00000000e+00, -7.33112737e-01, -1.81725964e+00,\n",
       "         3.72515181e+00,  2.45547790e+00, -1.30495720e+00,\n",
       "         9.66505345e-01, -4.92533978e-01, -4.51341640e-03,\n",
       "         2.47515138e+00,  7.13917927e-01,  1.12586514e+00,\n",
       "        -1.50811199e+00, -2.24282783e-01,  1.79823868e+00,\n",
       "        -2.20424006e-01, -3.61459450e-03,  6.05688205e-01,\n",
       "         1.60671192e+00,  1.20175453e+00,  3.14744961e+00,\n",
       "         6.08667200e+00,  1.31618689e+00, -2.88917219e-02,\n",
       "        -1.32045352e-03, -6.20396280e-01,  1.97685973e+00,\n",
       "         4.71805942e+00,  1.48168150e+00,  8.82136655e-01,\n",
       "         1.12141181e+00, -6.93916849e-03,  0.00000000e+00,\n",
       "        -3.06320365e+00, -1.23041314e+00,  3.38547898e+00,\n",
       "        -1.11235322e+00, -1.64722801e+00, -1.79012685e+00,\n",
       "         0.00000000e+00, -4.06765488e-03, -9.79228251e-01,\n",
       "        -4.44998754e+00, -9.77523223e+00, -4.99246283e+00,\n",
       "        -6.67640360e-01, -3.06481881e+00,  2.14633752e-03,\n",
       "        -3.38911837e-03,  4.07654565e-01, -1.67872566e+00,\n",
       "        -3.53219824e+00, -2.57584031e+00, -2.36152031e+00,\n",
       "        -6.42230578e-01,  1.83202866e-01, -2.80795545e-04,\n",
       "        -6.89613596e-01, -2.54862409e-02,  7.76440723e-01,\n",
       "         2.03525041e+00, -4.77069710e-02,  1.90583290e-01,\n",
       "        -3.85486935e-01]])"
      ]
     },
     "execution_count": 175,
     "metadata": {},
     "output_type": "execute_result"
    }
   ],
   "source": [
    "digits_classifier.coef_"
   ]
  },
  {
   "cell_type": "code",
   "execution_count": 176,
   "id": "3714b3b7-5198-4ffe-8f11-90acfdc7e536",
   "metadata": {},
   "outputs": [
    {
     "data": {
      "text/plain": [
       "(10, 64)"
      ]
     },
     "execution_count": 176,
     "metadata": {},
     "output_type": "execute_result"
    }
   ],
   "source": [
    "digits_classifier.coef_.shape"
   ]
  },
  {
   "cell_type": "code",
   "execution_count": 177,
   "id": "b48a9d7c-f171-41db-a43a-c48abaa9297c",
   "metadata": {},
   "outputs": [
    {
     "data": {
      "text/plain": [
       "array([-0.00699112, -0.2808233 , -0.01281669,  0.05335594,  0.25952637,\n",
       "        0.00496514, -0.08420006,  0.06252163,  0.16795635, -0.16349427])"
      ]
     },
     "execution_count": 177,
     "metadata": {},
     "output_type": "execute_result"
    }
   ],
   "source": [
    "digits_classifier.intercept_"
   ]
  },
  {
   "cell_type": "markdown",
   "id": "d1e4c6f3-d221-4c7f-a2f6-5c0b6a0cf469",
   "metadata": {},
   "source": [
    "Here we have 10 models."
   ]
  },
  {
   "cell_type": "markdown",
   "id": "957752e3-a5cd-412f-b57d-fe3ed87b73c7",
   "metadata": {},
   "source": [
    "## Logistic regression on scaled data"
   ]
  },
  {
   "cell_type": "code",
   "execution_count": 178,
   "id": "c913c070-1e8d-4162-b3e3-584ae14231d2",
   "metadata": {},
   "outputs": [],
   "source": [
    "scaler = MinMaxScaler()"
   ]
  },
  {
   "cell_type": "code",
   "execution_count": 179,
   "id": "e423031c-b353-4369-8be3-554752758a7b",
   "metadata": {},
   "outputs": [],
   "source": [
    "digits_scaled = scaler.fit_transform(mist_data.drop(columns = 'target'))"
   ]
  },
  {
   "cell_type": "code",
   "execution_count": 182,
   "id": "ff6046d0-4957-4660-91d5-69229365ef1c",
   "metadata": {},
   "outputs": [],
   "source": [
    "digits_classifier_scaled = LogisticRegression(C = 1e12)"
   ]
  },
  {
   "cell_type": "code",
   "execution_count": 183,
   "id": "e1091023-4b00-40b2-b427-8ba3ed1c5aef",
   "metadata": {},
   "outputs": [
    {
     "data": {
      "text/html": [
       "<style>#sk-container-id-17 {color: black;background-color: white;}#sk-container-id-17 pre{padding: 0;}#sk-container-id-17 div.sk-toggleable {background-color: white;}#sk-container-id-17 label.sk-toggleable__label {cursor: pointer;display: block;width: 100%;margin-bottom: 0;padding: 0.3em;box-sizing: border-box;text-align: center;}#sk-container-id-17 label.sk-toggleable__label-arrow:before {content: \"▸\";float: left;margin-right: 0.25em;color: #696969;}#sk-container-id-17 label.sk-toggleable__label-arrow:hover:before {color: black;}#sk-container-id-17 div.sk-estimator:hover label.sk-toggleable__label-arrow:before {color: black;}#sk-container-id-17 div.sk-toggleable__content {max-height: 0;max-width: 0;overflow: hidden;text-align: left;background-color: #f0f8ff;}#sk-container-id-17 div.sk-toggleable__content pre {margin: 0.2em;color: black;border-radius: 0.25em;background-color: #f0f8ff;}#sk-container-id-17 input.sk-toggleable__control:checked~div.sk-toggleable__content {max-height: 200px;max-width: 100%;overflow: auto;}#sk-container-id-17 input.sk-toggleable__control:checked~label.sk-toggleable__label-arrow:before {content: \"▾\";}#sk-container-id-17 div.sk-estimator input.sk-toggleable__control:checked~label.sk-toggleable__label {background-color: #d4ebff;}#sk-container-id-17 div.sk-label input.sk-toggleable__control:checked~label.sk-toggleable__label {background-color: #d4ebff;}#sk-container-id-17 input.sk-hidden--visually {border: 0;clip: rect(1px 1px 1px 1px);clip: rect(1px, 1px, 1px, 1px);height: 1px;margin: -1px;overflow: hidden;padding: 0;position: absolute;width: 1px;}#sk-container-id-17 div.sk-estimator {font-family: monospace;background-color: #f0f8ff;border: 1px dotted black;border-radius: 0.25em;box-sizing: border-box;margin-bottom: 0.5em;}#sk-container-id-17 div.sk-estimator:hover {background-color: #d4ebff;}#sk-container-id-17 div.sk-parallel-item::after {content: \"\";width: 100%;border-bottom: 1px solid gray;flex-grow: 1;}#sk-container-id-17 div.sk-label:hover label.sk-toggleable__label {background-color: #d4ebff;}#sk-container-id-17 div.sk-serial::before {content: \"\";position: absolute;border-left: 1px solid gray;box-sizing: border-box;top: 0;bottom: 0;left: 50%;z-index: 0;}#sk-container-id-17 div.sk-serial {display: flex;flex-direction: column;align-items: center;background-color: white;padding-right: 0.2em;padding-left: 0.2em;position: relative;}#sk-container-id-17 div.sk-item {position: relative;z-index: 1;}#sk-container-id-17 div.sk-parallel {display: flex;align-items: stretch;justify-content: center;background-color: white;position: relative;}#sk-container-id-17 div.sk-item::before, #sk-container-id-17 div.sk-parallel-item::before {content: \"\";position: absolute;border-left: 1px solid gray;box-sizing: border-box;top: 0;bottom: 0;left: 50%;z-index: -1;}#sk-container-id-17 div.sk-parallel-item {display: flex;flex-direction: column;z-index: 1;position: relative;background-color: white;}#sk-container-id-17 div.sk-parallel-item:first-child::after {align-self: flex-end;width: 50%;}#sk-container-id-17 div.sk-parallel-item:last-child::after {align-self: flex-start;width: 50%;}#sk-container-id-17 div.sk-parallel-item:only-child::after {width: 0;}#sk-container-id-17 div.sk-dashed-wrapped {border: 1px dashed gray;margin: 0 0.4em 0.5em 0.4em;box-sizing: border-box;padding-bottom: 0.4em;background-color: white;}#sk-container-id-17 div.sk-label label {font-family: monospace;font-weight: bold;display: inline-block;line-height: 1.2em;}#sk-container-id-17 div.sk-label-container {text-align: center;}#sk-container-id-17 div.sk-container {/* jupyter's `normalize.less` sets `[hidden] { display: none; }` but bootstrap.min.css set `[hidden] { display: none !important; }` so we also need the `!important` here to be able to override the default hidden behavior on the sphinx rendered scikit-learn.org. See: https://github.com/scikit-learn/scikit-learn/issues/21755 */display: inline-block !important;position: relative;}#sk-container-id-17 div.sk-text-repr-fallback {display: none;}</style><div id=\"sk-container-id-17\" class=\"sk-top-container\"><div class=\"sk-text-repr-fallback\"><pre>LogisticRegression(C=1000000000000.0)</pre><b>In a Jupyter environment, please rerun this cell to show the HTML representation or trust the notebook. <br />On GitHub, the HTML representation is unable to render, please try loading this page with nbviewer.org.</b></div><div class=\"sk-container\" hidden><div class=\"sk-item\"><div class=\"sk-estimator sk-toggleable\"><input class=\"sk-toggleable__control sk-hidden--visually\" id=\"sk-estimator-id-17\" type=\"checkbox\" checked><label for=\"sk-estimator-id-17\" class=\"sk-toggleable__label sk-toggleable__label-arrow\">LogisticRegression</label><div class=\"sk-toggleable__content\"><pre>LogisticRegression(C=1000000000000.0)</pre></div></div></div></div></div>"
      ],
      "text/plain": [
       "LogisticRegression(C=1000000000000.0)"
      ]
     },
     "execution_count": 183,
     "metadata": {},
     "output_type": "execute_result"
    }
   ],
   "source": [
    "digits_classifier_scaled.fit(digits_scaled, mist_data.target)"
   ]
  },
  {
   "cell_type": "code",
   "execution_count": 185,
   "id": "7756e72d-f023-41cd-b55c-fc574b7c30f2",
   "metadata": {
    "scrolled": true
   },
   "outputs": [
    {
     "data": {
      "text/plain": [
       "array([[ 0.00000000e+00, -3.32783533e+00, -1.02986861e+01,\n",
       "         1.72449618e+01, -7.52322470e+00, -2.73889493e+01,\n",
       "        -1.66604006e+01, -1.36384732e+00, -2.59681180e-01,\n",
       "        -7.70882211e+00,  5.82169139e+00,  1.45551780e+01,\n",
       "         1.68975497e+01,  2.57717566e+01, -1.02078522e+01,\n",
       "        -1.62028748e+00, -2.16338756e-01,  7.16158960e+00,\n",
       "         3.67728998e+01, -1.17478571e+01, -5.38158937e+01,\n",
       "         4.64194565e+01,  1.21919831e+01, -9.80164765e-01,\n",
       "        -1.80487403e-01,  2.16788652e+01,  3.46707768e+01,\n",
       "        -4.98803226e+01, -9.57481670e+01,  1.18152249e+01,\n",
       "         1.57720167e+01, -8.43442025e-01,  0.00000000e+00,\n",
       "         2.61114823e+01,  3.36941092e+01, -3.88762159e+01,\n",
       "        -7.23400820e+01, -1.68600896e+00,  1.15148760e+01,\n",
       "         0.00000000e+00, -5.92989452e-01, -3.63219783e+00,\n",
       "         4.58335049e+01, -2.65465915e+01, -1.87600997e+01,\n",
       "         8.45612295e+00,  3.91510265e+00, -4.71395081e-01,\n",
       "        -7.08064302e-01, -1.34408963e+01,  1.72366721e+01,\n",
       "         2.37617791e+00,  1.64950341e+01,  6.35996947e+00,\n",
       "        -1.57290745e+01, -2.33246449e+00, -8.21980857e-02,\n",
       "        -2.94652430e+00, -1.56184994e+01,  2.48115230e+01,\n",
       "        -9.17524402e+00, -2.61865845e+01, -1.33835634e+01,\n",
       "        -2.86416935e+00],\n",
       "       [ 0.00000000e+00, -8.94033433e+00, -2.39582220e+01,\n",
       "         2.33936229e+01, -8.49036578e+01,  4.99600699e+01,\n",
       "        -4.76054552e+00, -2.53515745e+00, -1.49689175e+00,\n",
       "        -3.84205746e+01, -5.05681961e+01, -2.70396964e+01,\n",
       "         1.81367469e+01, -1.42139122e+01, -3.49970039e+01,\n",
       "        -2.52815797e+00,  2.51528430e+01,  2.23055547e+01,\n",
       "        -1.31023751e+01,  8.68681919e+01,  4.54625102e+01,\n",
       "        -1.16039961e+01, -6.04952133e+00, -1.34672063e+00,\n",
       "         1.54099948e+01, -5.48852145e+00,  4.60278276e+00,\n",
       "         1.66446193e+01,  3.19536194e+01,  2.68206689e+01,\n",
       "        -1.05181937e+01, -3.83274085e-01,  0.00000000e+00,\n",
       "         8.94773882e+00,  2.94655209e+01, -1.02663373e+01,\n",
       "         1.65783827e+01,  2.69859782e+01, -3.08851602e+01,\n",
       "         0.00000000e+00, -3.63397449e-01, -2.60492776e+01,\n",
       "         3.14915799e+00,  4.24199116e+01,  4.04080522e-01,\n",
       "        -1.77396864e+01, -5.92959280e+01, -7.86151644e-01,\n",
       "        -5.42032442e-01, -1.41222428e+01, -4.54173578e+00,\n",
       "         1.12999260e+01,  2.01080462e+01, -8.46774258e+00,\n",
       "        -3.24805568e+01,  2.70105876e+01, -1.15009942e+00,\n",
       "        -4.83293441e+00, -3.60364470e+01,  3.66344264e+00,\n",
       "         1.96985759e+01,  3.06330937e+01,  3.05756568e+01,\n",
       "         3.70199842e+01],\n",
       "       [ 0.00000000e+00,  9.44166918e+00,  1.58269577e+01,\n",
       "         4.85317008e+00,  1.27619096e+01, -3.87038489e+00,\n",
       "        -7.68163835e+00, -8.22699745e-01, -2.52536108e+00,\n",
       "         3.36715729e+01,  4.23945641e+00, -1.82503131e+01,\n",
       "         3.47974782e+01,  3.38072711e+00, -5.82995591e+00,\n",
       "        -1.17069457e+00, -1.08649049e+00, -1.39559853e+00,\n",
       "        -2.42611665e+01, -3.23515088e+01,  3.17361925e+01,\n",
       "        -5.67792516e+00,  1.18054489e+01, -3.82737887e-01,\n",
       "        -2.03174812e-01, -2.84044904e+01, -9.14280845e+01,\n",
       "        -6.96926975e+01, -1.99912470e+01,  3.53670947e-01,\n",
       "        -9.34819780e-01, -1.37498258e-01,  0.00000000e+00,\n",
       "        -2.24549855e+01, -7.19216006e+01, -2.14054414e+01,\n",
       "         2.22632729e+00, -4.34831679e+01, -2.92309753e+01,\n",
       "         0.00000000e+00, -1.56492958e-01,  7.16148932e+00,\n",
       "         4.22544439e+00,  6.79269813e+01, -3.86657389e+01,\n",
       "        -5.57397589e+01, -1.97081113e+01,  4.04461353e-01,\n",
       "         1.10224443e+00,  1.17474609e+01,  2.24778632e+01,\n",
       "         7.34494730e+01,  4.05848241e+01,  5.15308258e+01,\n",
       "         2.57957102e+01,  2.41912398e+00,  3.08056337e+00,\n",
       "         9.92069142e+00,  2.70633461e+01,  4.05051003e+00,\n",
       "         1.18300043e+01,  5.02667199e+01,  4.94731257e+01,\n",
       "         6.84618545e+00],\n",
       "       [ 0.00000000e+00,  1.40183895e+01, -3.96709823e+00,\n",
       "         1.39819372e+01,  5.84830268e+01,  3.00470870e+01,\n",
       "         4.89199079e+00, -4.98287919e-01, -2.02923365e+00,\n",
       "         1.66770675e+01,  2.91924675e+01,  9.12703472e+00,\n",
       "         2.17163564e+01,  9.10302476e+00,  3.16856605e+01,\n",
       "        -2.47394176e+00, -4.23844020e-02, -6.52102549e+00,\n",
       "        -7.00965516e+01, -6.92882876e+01,  1.17044614e+01,\n",
       "        -3.82335886e+01,  1.20182194e+00, -5.96621186e-01,\n",
       "        -7.81093290e-02, -1.57534078e+01, -6.44791534e+01,\n",
       "        -1.16960507e+01,  3.52718993e+01, -6.37785372e+01,\n",
       "        -4.06370754e+01, -1.75079204e-01,  0.00000000e+00,\n",
       "        -1.89601030e+01, -2.19926610e+01,  1.23521441e+01,\n",
       "         3.01012586e+01, -1.29286798e+01,  1.29118514e+00,\n",
       "         0.00000000e+00, -1.50600929e-01, -3.51585377e+00,\n",
       "        -3.83477001e+01, -7.00804360e+01,  1.35568992e+01,\n",
       "         3.82162021e+01,  4.64573493e+01, -9.37236370e-01,\n",
       "        -8.38883776e-02, -1.26560626e+00, -9.96273431e+00,\n",
       "        -2.94802850e+01,  2.23011302e+01,  2.97633716e+01,\n",
       "         5.38048238e+01, -4.01096938e+00, -7.79659983e-02,\n",
       "         1.24514577e+01,  2.64792211e+01,  2.18050509e+01,\n",
       "        -7.03746602e-02,  2.35983305e+00,  8.22664108e+00,\n",
       "        -1.04578979e+01],\n",
       "       [ 0.00000000e+00, -6.03023273e+00, -1.77875712e+01,\n",
       "        -6.64930831e+01, -3.98679052e+01, -6.05973047e+01,\n",
       "        -3.80939805e+01,  2.12801848e+00, -2.38415795e-01,\n",
       "         5.45705376e+00, -1.67887097e+01, -3.85971639e+01,\n",
       "        -6.70885409e+01, -2.65336847e+01, -2.09145279e+01,\n",
       "        -2.29267502e+00, -2.51519210e+00,  1.36766197e+01,\n",
       "         2.56174591e+01,  1.44358888e+01,  2.45744158e+01,\n",
       "         1.36608660e+01,  1.13564985e-01,  4.21636383e+00,\n",
       "         8.42387944e+00,  2.42140957e+01,  5.87205885e+01,\n",
       "         1.04296915e+01,  1.37940063e+01, -2.35237481e+00,\n",
       "         8.12520388e+01,  8.62419240e+00,  0.00000000e+00,\n",
       "         2.44628272e+01,  1.57342683e+01, -2.96353147e+01,\n",
       "         3.98472279e+01,  2.86774940e+01,  5.36011054e+01,\n",
       "         0.00000000e+00,  2.65488634e+00,  7.31691086e+01,\n",
       "        -7.00090805e+00,  8.52406037e+01,  6.65047567e+01,\n",
       "         1.64874157e+01,  6.75405594e+00, -5.76388738e-01,\n",
       "         1.41823680e+00,  3.32079045e+01, -1.89432893e+01,\n",
       "         3.07551351e+01,  1.39955135e+01, -2.85170611e+01,\n",
       "        -3.06747693e+01, -1.98166512e+00, -9.66320263e-02,\n",
       "        -7.01084821e+00, -8.61111778e+00, -5.00344359e+01,\n",
       "        -2.21459068e+01, -1.65627304e+01, -1.47913389e+01,\n",
       "        -2.10641968e+00],\n",
       "       [ 0.00000000e+00,  1.97275274e+01,  7.21602766e+01,\n",
       "        -2.29176947e+01,  1.01749590e+01,  5.73090613e+01,\n",
       "         4.88133381e+01, -7.61757021e+00, -3.22395663e-01,\n",
       "        -1.11183516e+01,  3.22058932e+01,  2.48845028e+01,\n",
       "         8.02228938e+00, -2.96130768e+00, -4.85599248e-01,\n",
       "        -3.53851789e+00, -6.34930962e+00, -9.43830820e+00,\n",
       "         1.74713657e+01,  1.40515277e+01, -7.86109726e+01,\n",
       "        -6.79951422e+01, -5.09741226e+01, -3.27721699e+00,\n",
       "        -6.36592392e+00,  2.20076458e+01,  3.28852355e+01,\n",
       "        -3.21824818e+00,  3.73735171e+01, -2.69101768e+01,\n",
       "        -3.60284450e+01, -3.03507500e-01,  0.00000000e+00,\n",
       "        -6.80430908e-01,  7.28812133e+00, -2.40381768e+01,\n",
       "        -2.54794405e+01,  4.77627470e+00,  2.38703069e+01,\n",
       "         0.00000000e+00, -2.06761678e-01, -3.13902382e+01,\n",
       "        -4.77004672e+01, -4.11638778e+01, -2.55882909e+01,\n",
       "         8.13205807e+00,  1.29125305e+01, -4.38834421e-01,\n",
       "        -8.82477457e-02, -1.02484625e+01, -9.32730515e+00,\n",
       "        -2.75977802e+01, -9.06695601e-01,  1.07508274e+01,\n",
       "        -3.04517971e+01, -2.11975917e+00, -6.48543766e-02,\n",
       "         1.35110569e+01,  6.60366054e+01,  3.92011096e+01,\n",
       "         1.10356258e+00, -1.11517445e+01, -3.88845651e+01,\n",
       "        -4.49844741e+00],\n",
       "       [ 0.00000000e+00, -4.89208538e+00, -3.40762232e+01,\n",
       "        -1.37111161e+01, -1.42070729e+01, -2.70939973e+01,\n",
       "        -5.53181925e+00, -7.60052631e-01, -3.51383801e-01,\n",
       "        -2.47535450e+01, -2.69777640e+01,  4.05640621e+00,\n",
       "        -5.14987925e+01, -9.16829986e+00,  7.92452780e-01,\n",
       "        -9.05418537e-01, -3.22970660e+00, -1.79074775e+01,\n",
       "         3.63391932e+01,  9.24870309e+00, -4.70667303e+01,\n",
       "        -4.51556929e+01, -1.23217801e+01, -8.23778793e-01,\n",
       "        -3.20871586e+00,  1.62222865e+01,  1.79732723e+01,\n",
       "         1.64546123e+01, -8.45348166e+00, -1.30308105e-01,\n",
       "        -3.57278047e+01, -4.78918996e-01,  0.00000000e+00,\n",
       "         3.00769318e+01,  3.66921929e+01,  4.22116063e+01,\n",
       "        -6.13893187e+00, -7.78124044e+00,  8.75005805e+00,\n",
       "         0.00000000e+00, -5.70829096e-01, -9.21188027e+00,\n",
       "         8.03582561e+01,  1.99468780e+01,  8.44911769e+00,\n",
       "        -2.08332359e+00,  4.03803224e+01,  3.76841100e+00,\n",
       "        -3.18073154e-01, -1.57778928e+01,  2.03815011e+01,\n",
       "         1.65168600e+01, -3.00558510e+00,  2.43149142e+01,\n",
       "         2.40364857e+01, -1.80685562e+01, -6.11791848e-02,\n",
       "        -4.38594939e+00, -3.56879179e+01, -2.34857473e+01,\n",
       "        -1.32232627e+00,  2.57378534e+01,  4.80250563e+00,\n",
       "        -1.16301247e+01],\n",
       "       [ 0.00000000e+00,  6.94206201e+00,  2.33821610e+01,\n",
       "         2.01477285e+01,  2.06309905e+01,  1.41351766e+01,\n",
       "         3.52994746e+01,  1.71799417e+01, -2.32596914e-01,\n",
       "         5.32043717e+00,  1.79289649e+01,  1.97858667e+01,\n",
       "         6.87981450e+01, -9.16996174e+00,  6.27332431e+00,\n",
       "         1.73583836e+01, -1.18359691e-01, -2.41746086e+01,\n",
       "        -4.63533518e+01, -3.08461089e+01,  1.43075825e+01,\n",
       "         1.49447896e+01,  1.82731172e+01,  4.08180699e+00,\n",
       "        -1.20483466e-01, -2.66560930e+01, -1.00214508e+01,\n",
       "        -4.14325850e+01, -1.38992591e+00,  3.81791873e+01,\n",
       "         2.33388921e+01, -5.34502768e+00,  0.00000000e+00,\n",
       "         9.81726620e+00, -8.50433504e+00, -1.16052263e+01,\n",
       "         1.31558748e+01,  6.00424563e+01,  3.85832329e+01,\n",
       "         0.00000000e+00, -1.84665378e-01, -1.81415539e-01,\n",
       "        -9.47843612e+00,  2.38054291e+01,  1.67474193e+01,\n",
       "         1.62426301e-01, -7.09965492e+00, -3.09970046e-01,\n",
       "        -8.84582715e-02, -5.45563769e+00, -1.70643859e+01,\n",
       "         1.94033293e+01, -3.45501200e+01, -6.10603133e+01,\n",
       "        -1.96013532e+01, -1.16939371e+00, -9.95626071e-02,\n",
       "        -1.15369922e+00,  2.04481526e+01, -3.72802127e+01,\n",
       "        -5.54705971e+01, -5.19920958e+01, -1.45584504e+01,\n",
       "        -1.80501792e+00],\n",
       "       [ 0.00000000e+00, -1.32141912e+01, -3.72958179e+00,\n",
       "        -2.12098070e+01,  7.23935998e+00, -2.01762921e+01,\n",
       "        -2.69496924e+01, -2.21722010e+00,  7.91568411e+00,\n",
       "        -1.14041071e+01, -5.35258809e+00, -3.95314553e+00,\n",
       "        -3.38118735e+01,  2.30395497e+01,  1.07112872e+01,\n",
       "        -1.97932133e+00, -1.12898669e+01, -1.19184131e+00,\n",
       "         2.31466336e+01,  3.60205805e+00,  1.70016349e+01,\n",
       "         3.11932901e+01,  1.45216179e+01, -9.87426050e-01,\n",
       "        -1.34897624e+01, -7.84212907e+00, -5.16379775e+00,\n",
       "         7.14254691e+01, -1.92624785e+01,  3.81123559e+00,\n",
       "        -7.35153801e+00, -4.03855058e-01,  0.00000000e+00,\n",
       "        -1.76679754e+01, -8.94323650e+00,  4.45773681e+01,\n",
       "         1.64992934e+01, -3.66506113e+01, -5.25174196e+01,\n",
       "         0.00000000e+00, -2.63299606e-01,  7.54994334e+00,\n",
       "         2.53295539e+01,  9.36068408e+00,  3.01114260e+01,\n",
       "         1.21510074e+01,  5.98361383e+00, -7.10472285e-01,\n",
       "        -6.04872532e-01,  9.47282974e+00,  2.06577706e+01,\n",
       "        -5.41101123e+01, -4.44953298e+01,  4.33369121e+00,\n",
       "         2.76947525e+01, -2.14024182e+00, -1.37820863e+00,\n",
       "        -4.38134674e+00, -4.56416202e+01,  7.56478688e+00,\n",
       "         3.26576050e+01, -4.69136938e+00, -1.33825924e+01,\n",
       "        -6.80681749e+00],\n",
       "       [ 0.00000000e+00, -1.37249691e+01, -1.75520128e+01,\n",
       "         4.47102803e+01,  3.72116147e+01, -1.23244666e+01,\n",
       "         1.06732732e+01, -3.49312485e+00, -4.59724264e-01,\n",
       "         3.22792691e+01,  1.02987846e+01,  1.54313305e+01,\n",
       "        -1.59693586e+01,  7.52107904e-01,  2.29722144e+01,\n",
       "        -8.49369077e-01, -3.05194376e-01,  1.74850956e+01,\n",
       "         1.44658936e+01,  1.60273928e+01,  3.47067993e+01,\n",
       "         6.24479427e+01,  1.12378700e+01,  9.64954754e-02,\n",
       "        -1.87217040e-01,  2.17485342e-02,  2.22398308e+01,\n",
       "         6.09655118e+01,  2.64522580e+01,  1.21914093e+01,\n",
       "         1.08349290e+01, -5.53589587e-01,  0.00000000e+00,\n",
       "        -3.96527516e+01, -1.15123795e+01,  3.66855939e+01,\n",
       "        -1.44499103e+01, -1.79524948e+01, -2.49772093e+01,\n",
       "         0.00000000e+00, -1.65849791e-01, -1.38996780e+01,\n",
       "        -5.63684058e+01, -1.10909583e+02, -5.27595699e+01,\n",
       "        -8.04246362e+00, -3.02992804e+01,  5.75762281e-02,\n",
       "        -8.68443977e-02,  5.88254319e+00, -2.09143566e+01,\n",
       "        -4.26127239e+01, -3.05268176e+01, -2.90084828e+01,\n",
       "        -2.39422117e+00,  2.39333833e+00, -6.98630474e-02,\n",
       "        -1.11719038e+01,  1.56827703e+00,  9.70397275e+00,\n",
       "         2.28947011e+01,  1.58702438e+00,  1.92258102e+00,\n",
       "        -3.69727519e+00]])"
      ]
     },
     "execution_count": 185,
     "metadata": {},
     "output_type": "execute_result"
    }
   ],
   "source": [
    "digits_classifier_scaled.coef_"
   ]
  },
  {
   "cell_type": "code",
   "execution_count": 186,
   "id": "486afe83-86ac-4618-b184-700aaad5e498",
   "metadata": {},
   "outputs": [
    {
     "data": {
      "text/plain": [
       "array([ -3.21803905, -37.4553492 ,  -2.75028966,   8.44265431,\n",
       "        38.6858833 ,  -0.37853637, -12.86463986,   8.03899197,\n",
       "        23.7757919 , -22.27646734])"
      ]
     },
     "execution_count": 186,
     "metadata": {},
     "output_type": "execute_result"
    }
   ],
   "source": [
    "digits_classifier_scaled.intercept_"
   ]
  },
  {
   "cell_type": "code",
   "execution_count": null,
   "id": "800ea9e6-b1db-4c7c-a23b-b5295f851863",
   "metadata": {},
   "outputs": [],
   "source": []
  }
 ],
 "metadata": {
  "kernelspec": {
   "display_name": "Python 3 (ipykernel)",
   "language": "python",
   "name": "python3"
  },
  "language_info": {
   "codemirror_mode": {
    "name": "ipython",
    "version": 3
   },
   "file_extension": ".py",
   "mimetype": "text/x-python",
   "name": "python",
   "nbconvert_exporter": "python",
   "pygments_lexer": "ipython3",
   "version": "3.11.7"
  }
 },
 "nbformat": 4,
 "nbformat_minor": 5
}
