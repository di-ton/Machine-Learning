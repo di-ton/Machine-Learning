{
 "cells": [
  {
   "cell_type": "code",
   "execution_count": 1,
   "id": "787d73ab-49e6-436b-a008-80a2051acc1f",
   "metadata": {},
   "outputs": [],
   "source": [
    "%matplotlib inline"
   ]
  },
  {
   "cell_type": "code",
   "execution_count": 121,
   "id": "7a49efd5-99b1-441b-8a23-c6ed6dc25ebc",
   "metadata": {},
   "outputs": [],
   "source": [
    "import numpy as np\n",
    "import pandas as pd\n",
    "import matplotlib.pyplot as plt\n",
    "import seaborn as sns\n",
    "\n",
    "from sklearn.datasets import fetch_california_housing\n",
    "\n",
    "from sklearn.preprocessing import MinMaxScaler, StandardScaler, OneHotEncoder, LabelEncoder\n",
    "from sklearn.linear_model import LinearRegression, LogisticRegression, RANSACRegressor"
   ]
  },
  {
   "cell_type": "markdown",
   "id": "8e86193d-ac77-4567-bcdf-7c880f9fbe15",
   "metadata": {},
   "source": [
    "# Linear and Logistic Regression"
   ]
  },
  {
   "cell_type": "code",
   "execution_count": 4,
   "id": "bc82933b-9c01-4d5e-ad71-667b4e24d0e2",
   "metadata": {
    "scrolled": true
   },
   "outputs": [
    {
     "data": {
      "text/plain": [
       "{'data': array([[   8.3252    ,   41.        ,    6.98412698, ...,    2.55555556,\n",
       "           37.88      , -122.23      ],\n",
       "        [   8.3014    ,   21.        ,    6.23813708, ...,    2.10984183,\n",
       "           37.86      , -122.22      ],\n",
       "        [   7.2574    ,   52.        ,    8.28813559, ...,    2.80225989,\n",
       "           37.85      , -122.24      ],\n",
       "        ...,\n",
       "        [   1.7       ,   17.        ,    5.20554273, ...,    2.3256351 ,\n",
       "           39.43      , -121.22      ],\n",
       "        [   1.8672    ,   18.        ,    5.32951289, ...,    2.12320917,\n",
       "           39.43      , -121.32      ],\n",
       "        [   2.3886    ,   16.        ,    5.25471698, ...,    2.61698113,\n",
       "           39.37      , -121.24      ]]),\n",
       " 'target': array([4.526, 3.585, 3.521, ..., 0.923, 0.847, 0.894]),\n",
       " 'frame': None,\n",
       " 'target_names': ['MedHouseVal'],\n",
       " 'feature_names': ['MedInc',\n",
       "  'HouseAge',\n",
       "  'AveRooms',\n",
       "  'AveBedrms',\n",
       "  'Population',\n",
       "  'AveOccup',\n",
       "  'Latitude',\n",
       "  'Longitude'],\n",
       " 'DESCR': '.. _california_housing_dataset:\\n\\nCalifornia Housing dataset\\n--------------------------\\n\\n**Data Set Characteristics:**\\n\\n    :Number of Instances: 20640\\n\\n    :Number of Attributes: 8 numeric, predictive attributes and the target\\n\\n    :Attribute Information:\\n        - MedInc        median income in block group\\n        - HouseAge      median house age in block group\\n        - AveRooms      average number of rooms per household\\n        - AveBedrms     average number of bedrooms per household\\n        - Population    block group population\\n        - AveOccup      average number of household members\\n        - Latitude      block group latitude\\n        - Longitude     block group longitude\\n\\n    :Missing Attribute Values: None\\n\\nThis dataset was obtained from the StatLib repository.\\nhttps://www.dcc.fc.up.pt/~ltorgo/Regression/cal_housing.html\\n\\nThe target variable is the median house value for California districts,\\nexpressed in hundreds of thousands of dollars ($100,000).\\n\\nThis dataset was derived from the 1990 U.S. census, using one row per census\\nblock group. A block group is the smallest geographical unit for which the U.S.\\nCensus Bureau publishes sample data (a block group typically has a population\\nof 600 to 3,000 people).\\n\\nA household is a group of people residing within a home. Since the average\\nnumber of rooms and bedrooms in this dataset are provided per household, these\\ncolumns may take surprisingly large values for block groups with few households\\nand many empty houses, such as vacation resorts.\\n\\nIt can be downloaded/loaded using the\\n:func:`sklearn.datasets.fetch_california_housing` function.\\n\\n.. topic:: References\\n\\n    - Pace, R. Kelley and Ronald Barry, Sparse Spatial Autoregressions,\\n      Statistics and Probability Letters, 33 (1997) 291-297\\n'}"
      ]
     },
     "execution_count": 4,
     "metadata": {},
     "output_type": "execute_result"
    }
   ],
   "source": [
    "fetch_california_housing()"
   ]
  },
  {
   "cell_type": "code",
   "execution_count": 5,
   "id": "3b7b1c70-b83c-467e-b839-0e26e56c9dc5",
   "metadata": {},
   "outputs": [
    {
     "data": {
      "text/plain": [
       "dict_keys(['data', 'target', 'frame', 'target_names', 'feature_names', 'DESCR'])"
      ]
     },
     "execution_count": 5,
     "metadata": {},
     "output_type": "execute_result"
    }
   ],
   "source": [
    "fetch_california_housing().keys()"
   ]
  },
  {
   "cell_type": "code",
   "execution_count": 6,
   "id": "b736871e-c731-4f0c-a756-660a5d5543c5",
   "metadata": {},
   "outputs": [],
   "source": [
    "dataset = fetch_california_housing()"
   ]
  },
  {
   "cell_type": "code",
   "execution_count": 8,
   "id": "563bca89-ebc4-4733-890b-042c911ee1fa",
   "metadata": {
    "scrolled": true
   },
   "outputs": [
    {
     "name": "stdout",
     "output_type": "stream",
     "text": [
      ".. _california_housing_dataset:\n",
      "\n",
      "California Housing dataset\n",
      "--------------------------\n",
      "\n",
      "**Data Set Characteristics:**\n",
      "\n",
      "    :Number of Instances: 20640\n",
      "\n",
      "    :Number of Attributes: 8 numeric, predictive attributes and the target\n",
      "\n",
      "    :Attribute Information:\n",
      "        - MedInc        median income in block group\n",
      "        - HouseAge      median house age in block group\n",
      "        - AveRooms      average number of rooms per household\n",
      "        - AveBedrms     average number of bedrooms per household\n",
      "        - Population    block group population\n",
      "        - AveOccup      average number of household members\n",
      "        - Latitude      block group latitude\n",
      "        - Longitude     block group longitude\n",
      "\n",
      "    :Missing Attribute Values: None\n",
      "\n",
      "This dataset was obtained from the StatLib repository.\n",
      "https://www.dcc.fc.up.pt/~ltorgo/Regression/cal_housing.html\n",
      "\n",
      "The target variable is the median house value for California districts,\n",
      "expressed in hundreds of thousands of dollars ($100,000).\n",
      "\n",
      "This dataset was derived from the 1990 U.S. census, using one row per census\n",
      "block group. A block group is the smallest geographical unit for which the U.S.\n",
      "Census Bureau publishes sample data (a block group typically has a population\n",
      "of 600 to 3,000 people).\n",
      "\n",
      "A household is a group of people residing within a home. Since the average\n",
      "number of rooms and bedrooms in this dataset are provided per household, these\n",
      "columns may take surprisingly large values for block groups with few households\n",
      "and many empty houses, such as vacation resorts.\n",
      "\n",
      "It can be downloaded/loaded using the\n",
      ":func:`sklearn.datasets.fetch_california_housing` function.\n",
      "\n",
      ".. topic:: References\n",
      "\n",
      "    - Pace, R. Kelley and Ronald Barry, Sparse Spatial Autoregressions,\n",
      "      Statistics and Probability Letters, 33 (1997) 291-297\n",
      "\n"
     ]
    }
   ],
   "source": [
    "print(dataset.DESCR)"
   ]
  },
  {
   "cell_type": "code",
   "execution_count": 9,
   "id": "4ad169ff-99d0-400a-9d2b-fec1577931b6",
   "metadata": {},
   "outputs": [
    {
     "data": {
      "text/plain": [
       "array([[   8.3252    ,   41.        ,    6.98412698, ...,    2.55555556,\n",
       "          37.88      , -122.23      ],\n",
       "       [   8.3014    ,   21.        ,    6.23813708, ...,    2.10984183,\n",
       "          37.86      , -122.22      ],\n",
       "       [   7.2574    ,   52.        ,    8.28813559, ...,    2.80225989,\n",
       "          37.85      , -122.24      ],\n",
       "       ...,\n",
       "       [   1.7       ,   17.        ,    5.20554273, ...,    2.3256351 ,\n",
       "          39.43      , -121.22      ],\n",
       "       [   1.8672    ,   18.        ,    5.32951289, ...,    2.12320917,\n",
       "          39.43      , -121.32      ],\n",
       "       [   2.3886    ,   16.        ,    5.25471698, ...,    2.61698113,\n",
       "          39.37      , -121.24      ]])"
      ]
     },
     "execution_count": 9,
     "metadata": {},
     "output_type": "execute_result"
    }
   ],
   "source": [
    "dataset.data # sklearn-format 2-dimentional numpy array "
   ]
  },
  {
   "cell_type": "code",
   "execution_count": 13,
   "id": "bb96e73c-dd13-4e99-9dac-eb379485c4d4",
   "metadata": {},
   "outputs": [
    {
     "data": {
      "text/html": [
       "<div>\n",
       "<style scoped>\n",
       "    .dataframe tbody tr th:only-of-type {\n",
       "        vertical-align: middle;\n",
       "    }\n",
       "\n",
       "    .dataframe tbody tr th {\n",
       "        vertical-align: top;\n",
       "    }\n",
       "\n",
       "    .dataframe thead th {\n",
       "        text-align: right;\n",
       "    }\n",
       "</style>\n",
       "<table border=\"1\" class=\"dataframe\">\n",
       "  <thead>\n",
       "    <tr style=\"text-align: right;\">\n",
       "      <th></th>\n",
       "      <th>MedInc</th>\n",
       "      <th>HouseAge</th>\n",
       "      <th>AveRooms</th>\n",
       "      <th>AveBedrms</th>\n",
       "      <th>Population</th>\n",
       "      <th>AveOccup</th>\n",
       "      <th>Latitude</th>\n",
       "      <th>Longitude</th>\n",
       "      <th>MedHouseVal</th>\n",
       "    </tr>\n",
       "  </thead>\n",
       "  <tbody>\n",
       "    <tr>\n",
       "      <th>0</th>\n",
       "      <td>8.3252</td>\n",
       "      <td>41.0</td>\n",
       "      <td>6.984127</td>\n",
       "      <td>1.023810</td>\n",
       "      <td>322.0</td>\n",
       "      <td>2.555556</td>\n",
       "      <td>37.88</td>\n",
       "      <td>-122.23</td>\n",
       "      <td>4.526</td>\n",
       "    </tr>\n",
       "    <tr>\n",
       "      <th>1</th>\n",
       "      <td>8.3014</td>\n",
       "      <td>21.0</td>\n",
       "      <td>6.238137</td>\n",
       "      <td>0.971880</td>\n",
       "      <td>2401.0</td>\n",
       "      <td>2.109842</td>\n",
       "      <td>37.86</td>\n",
       "      <td>-122.22</td>\n",
       "      <td>3.585</td>\n",
       "    </tr>\n",
       "    <tr>\n",
       "      <th>2</th>\n",
       "      <td>7.2574</td>\n",
       "      <td>52.0</td>\n",
       "      <td>8.288136</td>\n",
       "      <td>1.073446</td>\n",
       "      <td>496.0</td>\n",
       "      <td>2.802260</td>\n",
       "      <td>37.85</td>\n",
       "      <td>-122.24</td>\n",
       "      <td>3.521</td>\n",
       "    </tr>\n",
       "    <tr>\n",
       "      <th>3</th>\n",
       "      <td>5.6431</td>\n",
       "      <td>52.0</td>\n",
       "      <td>5.817352</td>\n",
       "      <td>1.073059</td>\n",
       "      <td>558.0</td>\n",
       "      <td>2.547945</td>\n",
       "      <td>37.85</td>\n",
       "      <td>-122.25</td>\n",
       "      <td>3.413</td>\n",
       "    </tr>\n",
       "    <tr>\n",
       "      <th>4</th>\n",
       "      <td>3.8462</td>\n",
       "      <td>52.0</td>\n",
       "      <td>6.281853</td>\n",
       "      <td>1.081081</td>\n",
       "      <td>565.0</td>\n",
       "      <td>2.181467</td>\n",
       "      <td>37.85</td>\n",
       "      <td>-122.25</td>\n",
       "      <td>3.422</td>\n",
       "    </tr>\n",
       "    <tr>\n",
       "      <th>...</th>\n",
       "      <td>...</td>\n",
       "      <td>...</td>\n",
       "      <td>...</td>\n",
       "      <td>...</td>\n",
       "      <td>...</td>\n",
       "      <td>...</td>\n",
       "      <td>...</td>\n",
       "      <td>...</td>\n",
       "      <td>...</td>\n",
       "    </tr>\n",
       "    <tr>\n",
       "      <th>20635</th>\n",
       "      <td>1.5603</td>\n",
       "      <td>25.0</td>\n",
       "      <td>5.045455</td>\n",
       "      <td>1.133333</td>\n",
       "      <td>845.0</td>\n",
       "      <td>2.560606</td>\n",
       "      <td>39.48</td>\n",
       "      <td>-121.09</td>\n",
       "      <td>0.781</td>\n",
       "    </tr>\n",
       "    <tr>\n",
       "      <th>20636</th>\n",
       "      <td>2.5568</td>\n",
       "      <td>18.0</td>\n",
       "      <td>6.114035</td>\n",
       "      <td>1.315789</td>\n",
       "      <td>356.0</td>\n",
       "      <td>3.122807</td>\n",
       "      <td>39.49</td>\n",
       "      <td>-121.21</td>\n",
       "      <td>0.771</td>\n",
       "    </tr>\n",
       "    <tr>\n",
       "      <th>20637</th>\n",
       "      <td>1.7000</td>\n",
       "      <td>17.0</td>\n",
       "      <td>5.205543</td>\n",
       "      <td>1.120092</td>\n",
       "      <td>1007.0</td>\n",
       "      <td>2.325635</td>\n",
       "      <td>39.43</td>\n",
       "      <td>-121.22</td>\n",
       "      <td>0.923</td>\n",
       "    </tr>\n",
       "    <tr>\n",
       "      <th>20638</th>\n",
       "      <td>1.8672</td>\n",
       "      <td>18.0</td>\n",
       "      <td>5.329513</td>\n",
       "      <td>1.171920</td>\n",
       "      <td>741.0</td>\n",
       "      <td>2.123209</td>\n",
       "      <td>39.43</td>\n",
       "      <td>-121.32</td>\n",
       "      <td>0.847</td>\n",
       "    </tr>\n",
       "    <tr>\n",
       "      <th>20639</th>\n",
       "      <td>2.3886</td>\n",
       "      <td>16.0</td>\n",
       "      <td>5.254717</td>\n",
       "      <td>1.162264</td>\n",
       "      <td>1387.0</td>\n",
       "      <td>2.616981</td>\n",
       "      <td>39.37</td>\n",
       "      <td>-121.24</td>\n",
       "      <td>0.894</td>\n",
       "    </tr>\n",
       "  </tbody>\n",
       "</table>\n",
       "<p>20640 rows × 9 columns</p>\n",
       "</div>"
      ],
      "text/plain": [
       "       MedInc  HouseAge  AveRooms  AveBedrms  Population  AveOccup  Latitude  \\\n",
       "0      8.3252      41.0  6.984127   1.023810       322.0  2.555556     37.88   \n",
       "1      8.3014      21.0  6.238137   0.971880      2401.0  2.109842     37.86   \n",
       "2      7.2574      52.0  8.288136   1.073446       496.0  2.802260     37.85   \n",
       "3      5.6431      52.0  5.817352   1.073059       558.0  2.547945     37.85   \n",
       "4      3.8462      52.0  6.281853   1.081081       565.0  2.181467     37.85   \n",
       "...       ...       ...       ...        ...         ...       ...       ...   \n",
       "20635  1.5603      25.0  5.045455   1.133333       845.0  2.560606     39.48   \n",
       "20636  2.5568      18.0  6.114035   1.315789       356.0  3.122807     39.49   \n",
       "20637  1.7000      17.0  5.205543   1.120092      1007.0  2.325635     39.43   \n",
       "20638  1.8672      18.0  5.329513   1.171920       741.0  2.123209     39.43   \n",
       "20639  2.3886      16.0  5.254717   1.162264      1387.0  2.616981     39.37   \n",
       "\n",
       "       Longitude  MedHouseVal  \n",
       "0        -122.23        4.526  \n",
       "1        -122.22        3.585  \n",
       "2        -122.24        3.521  \n",
       "3        -122.25        3.413  \n",
       "4        -122.25        3.422  \n",
       "...          ...          ...  \n",
       "20635    -121.09        0.781  \n",
       "20636    -121.21        0.771  \n",
       "20637    -121.22        0.923  \n",
       "20638    -121.32        0.847  \n",
       "20639    -121.24        0.894  \n",
       "\n",
       "[20640 rows x 9 columns]"
      ]
     },
     "execution_count": 13,
     "metadata": {},
     "output_type": "execute_result"
    }
   ],
   "source": [
    "dataset = fetch_california_housing(as_frame = True)\n",
    "dataset.frame"
   ]
  },
  {
   "cell_type": "code",
   "execution_count": 14,
   "id": "42c46d20-ed9c-4328-aee1-3a5e41152136",
   "metadata": {},
   "outputs": [],
   "source": [
    "house_data = dataset.frame"
   ]
  },
  {
   "cell_type": "code",
   "execution_count": 22,
   "id": "d1f4b654-a2d2-4372-b4a7-b451c83f9098",
   "metadata": {},
   "outputs": [
    {
     "data": {
      "image/png": "[encoded data removed]",
      "text/plain": [
       "<Figure size 1200x800 with 1 Axes>"
      ]
     },
     "metadata": {},
     "output_type": "display_data"
    }
   ],
   "source": [
    "plt.figure(figsize=(12, 8))\n",
    "plt.hist(house_data.MedInc, bins = 'fd')\n",
    "plt.show()"
   ]
  },
  {
   "cell_type": "code",
   "execution_count": 25,
   "id": "5bdcf51b-6cc0-4022-ac70-4f0efd53b38c",
   "metadata": {
    "scrolled": true
   },
   "outputs": [
    {
     "data": {
      "text/html": [
       "<div>\n",
       "<style scoped>\n",
       "    .dataframe tbody tr th:only-of-type {\n",
       "        vertical-align: middle;\n",
       "    }\n",
       "\n",
       "    .dataframe tbody tr th {\n",
       "        vertical-align: top;\n",
       "    }\n",
       "\n",
       "    .dataframe thead th {\n",
       "        text-align: right;\n",
       "    }\n",
       "</style>\n",
       "<table border=\"1\" class=\"dataframe\">\n",
       "  <thead>\n",
       "    <tr style=\"text-align: right;\">\n",
       "      <th></th>\n",
       "      <th>MedInc</th>\n",
       "      <th>HouseAge</th>\n",
       "      <th>AveRooms</th>\n",
       "      <th>AveBedrms</th>\n",
       "      <th>Population</th>\n",
       "      <th>AveOccup</th>\n",
       "      <th>Latitude</th>\n",
       "      <th>Longitude</th>\n",
       "      <th>MedHouseVal</th>\n",
       "    </tr>\n",
       "  </thead>\n",
       "  <tbody>\n",
       "    <tr>\n",
       "      <th>1566</th>\n",
       "      <td>15.0001</td>\n",
       "      <td>2.0</td>\n",
       "      <td>22.222222</td>\n",
       "      <td>2.222222</td>\n",
       "      <td>25.0</td>\n",
       "      <td>2.777778</td>\n",
       "      <td>37.74</td>\n",
       "      <td>-121.96</td>\n",
       "      <td>3.50000</td>\n",
       "    </tr>\n",
       "    <tr>\n",
       "      <th>4352</th>\n",
       "      <td>15.0001</td>\n",
       "      <td>37.0</td>\n",
       "      <td>8.659574</td>\n",
       "      <td>1.425532</td>\n",
       "      <td>100.0</td>\n",
       "      <td>2.127660</td>\n",
       "      <td>34.10</td>\n",
       "      <td>-118.37</td>\n",
       "      <td>5.00001</td>\n",
       "    </tr>\n",
       "    <tr>\n",
       "      <th>4604</th>\n",
       "      <td>15.0001</td>\n",
       "      <td>52.0</td>\n",
       "      <td>8.444954</td>\n",
       "      <td>1.100917</td>\n",
       "      <td>693.0</td>\n",
       "      <td>3.178899</td>\n",
       "      <td>34.06</td>\n",
       "      <td>-118.33</td>\n",
       "      <td>5.00001</td>\n",
       "    </tr>\n",
       "    <tr>\n",
       "      <th>4605</th>\n",
       "      <td>15.0001</td>\n",
       "      <td>52.0</td>\n",
       "      <td>8.483019</td>\n",
       "      <td>0.962264</td>\n",
       "      <td>813.0</td>\n",
       "      <td>3.067925</td>\n",
       "      <td>34.07</td>\n",
       "      <td>-118.33</td>\n",
       "      <td>5.00001</td>\n",
       "    </tr>\n",
       "    <tr>\n",
       "      <th>4606</th>\n",
       "      <td>15.0001</td>\n",
       "      <td>52.0</td>\n",
       "      <td>9.204969</td>\n",
       "      <td>1.062112</td>\n",
       "      <td>531.0</td>\n",
       "      <td>3.298137</td>\n",
       "      <td>34.07</td>\n",
       "      <td>-118.33</td>\n",
       "      <td>5.00001</td>\n",
       "    </tr>\n",
       "    <tr>\n",
       "      <th>4626</th>\n",
       "      <td>15.0001</td>\n",
       "      <td>52.0</td>\n",
       "      <td>7.958333</td>\n",
       "      <td>0.833333</td>\n",
       "      <td>457.0</td>\n",
       "      <td>3.808333</td>\n",
       "      <td>34.06</td>\n",
       "      <td>-118.32</td>\n",
       "      <td>5.00001</td>\n",
       "    </tr>\n",
       "    <tr>\n",
       "      <th>4678</th>\n",
       "      <td>15.0001</td>\n",
       "      <td>52.0</td>\n",
       "      <td>8.780612</td>\n",
       "      <td>0.994898</td>\n",
       "      <td>688.0</td>\n",
       "      <td>3.510204</td>\n",
       "      <td>34.08</td>\n",
       "      <td>-118.34</td>\n",
       "      <td>5.00001</td>\n",
       "    </tr>\n",
       "    <tr>\n",
       "      <th>5242</th>\n",
       "      <td>15.0001</td>\n",
       "      <td>32.0</td>\n",
       "      <td>8.002869</td>\n",
       "      <td>1.080344</td>\n",
       "      <td>1567.0</td>\n",
       "      <td>2.248207</td>\n",
       "      <td>34.11</td>\n",
       "      <td>-118.40</td>\n",
       "      <td>5.00001</td>\n",
       "    </tr>\n",
       "    <tr>\n",
       "      <th>5247</th>\n",
       "      <td>15.0001</td>\n",
       "      <td>36.0</td>\n",
       "      <td>9.368263</td>\n",
       "      <td>1.173653</td>\n",
       "      <td>862.0</td>\n",
       "      <td>2.580838</td>\n",
       "      <td>34.09</td>\n",
       "      <td>-118.44</td>\n",
       "      <td>5.00001</td>\n",
       "    </tr>\n",
       "    <tr>\n",
       "      <th>5248</th>\n",
       "      <td>15.0001</td>\n",
       "      <td>46.0</td>\n",
       "      <td>8.365591</td>\n",
       "      <td>0.967742</td>\n",
       "      <td>238.0</td>\n",
       "      <td>2.559140</td>\n",
       "      <td>34.08</td>\n",
       "      <td>-118.43</td>\n",
       "      <td>5.00001</td>\n",
       "    </tr>\n",
       "    <tr>\n",
       "      <th>5257</th>\n",
       "      <td>15.0001</td>\n",
       "      <td>42.0</td>\n",
       "      <td>9.229032</td>\n",
       "      <td>1.161290</td>\n",
       "      <td>829.0</td>\n",
       "      <td>2.674194</td>\n",
       "      <td>34.06</td>\n",
       "      <td>-118.49</td>\n",
       "      <td>5.00001</td>\n",
       "    </tr>\n",
       "    <tr>\n",
       "      <th>5275</th>\n",
       "      <td>15.0001</td>\n",
       "      <td>36.0</td>\n",
       "      <td>7.549091</td>\n",
       "      <td>0.985455</td>\n",
       "      <td>1461.0</td>\n",
       "      <td>2.656364</td>\n",
       "      <td>34.05</td>\n",
       "      <td>-118.50</td>\n",
       "      <td>5.00001</td>\n",
       "    </tr>\n",
       "    <tr>\n",
       "      <th>5281</th>\n",
       "      <td>15.0001</td>\n",
       "      <td>42.0</td>\n",
       "      <td>8.562500</td>\n",
       "      <td>0.964286</td>\n",
       "      <td>632.0</td>\n",
       "      <td>2.821429</td>\n",
       "      <td>34.05</td>\n",
       "      <td>-118.49</td>\n",
       "      <td>5.00001</td>\n",
       "    </tr>\n",
       "    <tr>\n",
       "      <th>5291</th>\n",
       "      <td>15.0001</td>\n",
       "      <td>46.0</td>\n",
       "      <td>9.203947</td>\n",
       "      <td>0.973684</td>\n",
       "      <td>410.0</td>\n",
       "      <td>2.697368</td>\n",
       "      <td>34.08</td>\n",
       "      <td>-118.42</td>\n",
       "      <td>5.00001</td>\n",
       "    </tr>\n",
       "    <tr>\n",
       "      <th>6391</th>\n",
       "      <td>15.0001</td>\n",
       "      <td>37.0</td>\n",
       "      <td>8.761062</td>\n",
       "      <td>1.000000</td>\n",
       "      <td>697.0</td>\n",
       "      <td>3.084071</td>\n",
       "      <td>34.15</td>\n",
       "      <td>-118.06</td>\n",
       "      <td>5.00001</td>\n",
       "    </tr>\n",
       "    <tr>\n",
       "      <th>6399</th>\n",
       "      <td>15.0001</td>\n",
       "      <td>35.0</td>\n",
       "      <td>8.586207</td>\n",
       "      <td>1.068966</td>\n",
       "      <td>268.0</td>\n",
       "      <td>9.241379</td>\n",
       "      <td>34.13</td>\n",
       "      <td>-118.04</td>\n",
       "      <td>5.00001</td>\n",
       "    </tr>\n",
       "    <tr>\n",
       "      <th>6590</th>\n",
       "      <td>15.0001</td>\n",
       "      <td>48.0</td>\n",
       "      <td>8.845161</td>\n",
       "      <td>1.058065</td>\n",
       "      <td>528.0</td>\n",
       "      <td>3.406452</td>\n",
       "      <td>34.19</td>\n",
       "      <td>-118.18</td>\n",
       "      <td>5.00001</td>\n",
       "    </tr>\n",
       "    <tr>\n",
       "      <th>6591</th>\n",
       "      <td>15.0001</td>\n",
       "      <td>34.0</td>\n",
       "      <td>8.114173</td>\n",
       "      <td>1.023622</td>\n",
       "      <td>825.0</td>\n",
       "      <td>3.248031</td>\n",
       "      <td>34.19</td>\n",
       "      <td>-118.19</td>\n",
       "      <td>5.00001</td>\n",
       "    </tr>\n",
       "    <tr>\n",
       "      <th>6592</th>\n",
       "      <td>15.0001</td>\n",
       "      <td>38.0</td>\n",
       "      <td>8.954733</td>\n",
       "      <td>1.094650</td>\n",
       "      <td>798.0</td>\n",
       "      <td>3.283951</td>\n",
       "      <td>34.19</td>\n",
       "      <td>-118.20</td>\n",
       "      <td>5.00001</td>\n",
       "    </tr>\n",
       "    <tr>\n",
       "      <th>6727</th>\n",
       "      <td>15.0001</td>\n",
       "      <td>52.0</td>\n",
       "      <td>10.419355</td>\n",
       "      <td>1.136201</td>\n",
       "      <td>956.0</td>\n",
       "      <td>3.426523</td>\n",
       "      <td>34.12</td>\n",
       "      <td>-118.12</td>\n",
       "      <td>5.00001</td>\n",
       "    </tr>\n",
       "    <tr>\n",
       "      <th>6736</th>\n",
       "      <td>15.0001</td>\n",
       "      <td>47.0</td>\n",
       "      <td>8.592308</td>\n",
       "      <td>1.061538</td>\n",
       "      <td>749.0</td>\n",
       "      <td>2.880769</td>\n",
       "      <td>34.13</td>\n",
       "      <td>-118.10</td>\n",
       "      <td>5.00001</td>\n",
       "    </tr>\n",
       "    <tr>\n",
       "      <th>8805</th>\n",
       "      <td>15.0001</td>\n",
       "      <td>34.0</td>\n",
       "      <td>8.783019</td>\n",
       "      <td>1.059748</td>\n",
       "      <td>1871.0</td>\n",
       "      <td>2.941824</td>\n",
       "      <td>33.76</td>\n",
       "      <td>-118.34</td>\n",
       "      <td>5.00001</td>\n",
       "    </tr>\n",
       "    <tr>\n",
       "      <th>8846</th>\n",
       "      <td>15.0001</td>\n",
       "      <td>27.0</td>\n",
       "      <td>7.651923</td>\n",
       "      <td>0.980769</td>\n",
       "      <td>1351.0</td>\n",
       "      <td>2.598077</td>\n",
       "      <td>34.10</td>\n",
       "      <td>-118.40</td>\n",
       "      <td>5.00001</td>\n",
       "    </tr>\n",
       "    <tr>\n",
       "      <th>8847</th>\n",
       "      <td>15.0001</td>\n",
       "      <td>45.0</td>\n",
       "      <td>10.370656</td>\n",
       "      <td>1.092664</td>\n",
       "      <td>857.0</td>\n",
       "      <td>3.308880</td>\n",
       "      <td>34.09</td>\n",
       "      <td>-118.40</td>\n",
       "      <td>5.00001</td>\n",
       "    </tr>\n",
       "    <tr>\n",
       "      <th>8848</th>\n",
       "      <td>15.0001</td>\n",
       "      <td>52.0</td>\n",
       "      <td>8.907583</td>\n",
       "      <td>1.099526</td>\n",
       "      <td>1407.0</td>\n",
       "      <td>3.334123</td>\n",
       "      <td>34.08</td>\n",
       "      <td>-118.39</td>\n",
       "      <td>5.00001</td>\n",
       "    </tr>\n",
       "    <tr>\n",
       "      <th>8849</th>\n",
       "      <td>15.0001</td>\n",
       "      <td>52.0</td>\n",
       "      <td>9.237288</td>\n",
       "      <td>1.062954</td>\n",
       "      <td>1266.0</td>\n",
       "      <td>3.065375</td>\n",
       "      <td>34.08</td>\n",
       "      <td>-118.40</td>\n",
       "      <td>5.00001</td>\n",
       "    </tr>\n",
       "    <tr>\n",
       "      <th>8850</th>\n",
       "      <td>15.0001</td>\n",
       "      <td>37.0</td>\n",
       "      <td>9.333333</td>\n",
       "      <td>1.037801</td>\n",
       "      <td>809.0</td>\n",
       "      <td>2.780069</td>\n",
       "      <td>34.09</td>\n",
       "      <td>-118.41</td>\n",
       "      <td>5.00001</td>\n",
       "    </tr>\n",
       "    <tr>\n",
       "      <th>8851</th>\n",
       "      <td>15.0001</td>\n",
       "      <td>40.0</td>\n",
       "      <td>9.600000</td>\n",
       "      <td>1.059459</td>\n",
       "      <td>1024.0</td>\n",
       "      <td>2.767568</td>\n",
       "      <td>34.09</td>\n",
       "      <td>-118.42</td>\n",
       "      <td>5.00001</td>\n",
       "    </tr>\n",
       "    <tr>\n",
       "      <th>8852</th>\n",
       "      <td>15.0001</td>\n",
       "      <td>48.0</td>\n",
       "      <td>9.729839</td>\n",
       "      <td>1.052419</td>\n",
       "      <td>770.0</td>\n",
       "      <td>3.104839</td>\n",
       "      <td>34.08</td>\n",
       "      <td>-118.42</td>\n",
       "      <td>5.00001</td>\n",
       "    </tr>\n",
       "    <tr>\n",
       "      <th>8853</th>\n",
       "      <td>15.0001</td>\n",
       "      <td>52.0</td>\n",
       "      <td>9.867036</td>\n",
       "      <td>1.091413</td>\n",
       "      <td>1163.0</td>\n",
       "      <td>3.221607</td>\n",
       "      <td>34.07</td>\n",
       "      <td>-118.41</td>\n",
       "      <td>5.00001</td>\n",
       "    </tr>\n",
       "    <tr>\n",
       "      <th>8854</th>\n",
       "      <td>15.0001</td>\n",
       "      <td>52.0</td>\n",
       "      <td>8.710145</td>\n",
       "      <td>1.028986</td>\n",
       "      <td>408.0</td>\n",
       "      <td>2.956522</td>\n",
       "      <td>34.07</td>\n",
       "      <td>-118.41</td>\n",
       "      <td>5.00001</td>\n",
       "    </tr>\n",
       "    <tr>\n",
       "      <th>8878</th>\n",
       "      <td>15.0001</td>\n",
       "      <td>52.0</td>\n",
       "      <td>8.000000</td>\n",
       "      <td>0.997333</td>\n",
       "      <td>1143.0</td>\n",
       "      <td>3.048000</td>\n",
       "      <td>34.04</td>\n",
       "      <td>-118.50</td>\n",
       "      <td>5.00001</td>\n",
       "    </tr>\n",
       "    <tr>\n",
       "      <th>10673</th>\n",
       "      <td>15.0001</td>\n",
       "      <td>13.0</td>\n",
       "      <td>7.842900</td>\n",
       "      <td>0.993958</td>\n",
       "      <td>1865.0</td>\n",
       "      <td>2.817221</td>\n",
       "      <td>33.62</td>\n",
       "      <td>-117.85</td>\n",
       "      <td>5.00001</td>\n",
       "    </tr>\n",
       "    <tr>\n",
       "      <th>10760</th>\n",
       "      <td>15.0001</td>\n",
       "      <td>15.0</td>\n",
       "      <td>8.062044</td>\n",
       "      <td>1.003650</td>\n",
       "      <td>735.0</td>\n",
       "      <td>2.682482</td>\n",
       "      <td>33.62</td>\n",
       "      <td>-117.87</td>\n",
       "      <td>5.00001</td>\n",
       "    </tr>\n",
       "    <tr>\n",
       "      <th>11520</th>\n",
       "      <td>15.0001</td>\n",
       "      <td>14.0</td>\n",
       "      <td>8.354232</td>\n",
       "      <td>1.037618</td>\n",
       "      <td>964.0</td>\n",
       "      <td>3.021944</td>\n",
       "      <td>33.72</td>\n",
       "      <td>-118.06</td>\n",
       "      <td>5.00001</td>\n",
       "    </tr>\n",
       "    <tr>\n",
       "      <th>15241</th>\n",
       "      <td>15.0001</td>\n",
       "      <td>17.0</td>\n",
       "      <td>8.520376</td>\n",
       "      <td>1.021944</td>\n",
       "      <td>1011.0</td>\n",
       "      <td>3.169279</td>\n",
       "      <td>32.99</td>\n",
       "      <td>-117.23</td>\n",
       "      <td>5.00001</td>\n",
       "    </tr>\n",
       "    <tr>\n",
       "      <th>15693</th>\n",
       "      <td>15.0001</td>\n",
       "      <td>52.0</td>\n",
       "      <td>7.994475</td>\n",
       "      <td>1.027624</td>\n",
       "      <td>483.0</td>\n",
       "      <td>2.668508</td>\n",
       "      <td>37.79</td>\n",
       "      <td>-122.44</td>\n",
       "      <td>5.00001</td>\n",
       "    </tr>\n",
       "    <tr>\n",
       "      <th>16171</th>\n",
       "      <td>15.0001</td>\n",
       "      <td>52.0</td>\n",
       "      <td>8.000000</td>\n",
       "      <td>1.000000</td>\n",
       "      <td>13.0</td>\n",
       "      <td>13.000000</td>\n",
       "      <td>37.79</td>\n",
       "      <td>-122.50</td>\n",
       "      <td>5.00001</td>\n",
       "    </tr>\n",
       "    <tr>\n",
       "      <th>16910</th>\n",
       "      <td>15.0001</td>\n",
       "      <td>32.0</td>\n",
       "      <td>9.166341</td>\n",
       "      <td>1.056751</td>\n",
       "      <td>1512.0</td>\n",
       "      <td>2.958904</td>\n",
       "      <td>37.56</td>\n",
       "      <td>-122.36</td>\n",
       "      <td>5.00001</td>\n",
       "    </tr>\n",
       "    <tr>\n",
       "      <th>17107</th>\n",
       "      <td>15.0001</td>\n",
       "      <td>31.0</td>\n",
       "      <td>9.425101</td>\n",
       "      <td>1.093117</td>\n",
       "      <td>722.0</td>\n",
       "      <td>2.923077</td>\n",
       "      <td>37.44</td>\n",
       "      <td>-122.20</td>\n",
       "      <td>5.00001</td>\n",
       "    </tr>\n",
       "    <tr>\n",
       "      <th>17108</th>\n",
       "      <td>15.0001</td>\n",
       "      <td>32.0</td>\n",
       "      <td>8.845041</td>\n",
       "      <td>1.035124</td>\n",
       "      <td>1318.0</td>\n",
       "      <td>2.723140</td>\n",
       "      <td>37.44</td>\n",
       "      <td>-122.22</td>\n",
       "      <td>5.00001</td>\n",
       "    </tr>\n",
       "    <tr>\n",
       "      <th>17110</th>\n",
       "      <td>15.0001</td>\n",
       "      <td>40.0</td>\n",
       "      <td>8.584541</td>\n",
       "      <td>1.000000</td>\n",
       "      <td>577.0</td>\n",
       "      <td>2.787440</td>\n",
       "      <td>37.46</td>\n",
       "      <td>-122.21</td>\n",
       "      <td>5.00001</td>\n",
       "    </tr>\n",
       "    <tr>\n",
       "      <th>17111</th>\n",
       "      <td>15.0001</td>\n",
       "      <td>40.0</td>\n",
       "      <td>9.802326</td>\n",
       "      <td>1.135659</td>\n",
       "      <td>831.0</td>\n",
       "      <td>3.220930</td>\n",
       "      <td>37.46</td>\n",
       "      <td>-122.18</td>\n",
       "      <td>5.00001</td>\n",
       "    </tr>\n",
       "    <tr>\n",
       "      <th>17118</th>\n",
       "      <td>15.0001</td>\n",
       "      <td>46.0</td>\n",
       "      <td>6.000000</td>\n",
       "      <td>0.800000</td>\n",
       "      <td>13.0</td>\n",
       "      <td>2.600000</td>\n",
       "      <td>37.50</td>\n",
       "      <td>-122.14</td>\n",
       "      <td>5.00001</td>\n",
       "    </tr>\n",
       "    <tr>\n",
       "      <th>17166</th>\n",
       "      <td>15.0001</td>\n",
       "      <td>32.0</td>\n",
       "      <td>8.116608</td>\n",
       "      <td>1.014134</td>\n",
       "      <td>814.0</td>\n",
       "      <td>2.876325</td>\n",
       "      <td>37.40</td>\n",
       "      <td>-122.22</td>\n",
       "      <td>5.00001</td>\n",
       "    </tr>\n",
       "    <tr>\n",
       "      <th>17170</th>\n",
       "      <td>15.0001</td>\n",
       "      <td>33.0</td>\n",
       "      <td>7.446512</td>\n",
       "      <td>1.037209</td>\n",
       "      <td>629.0</td>\n",
       "      <td>2.925581</td>\n",
       "      <td>37.43</td>\n",
       "      <td>-122.27</td>\n",
       "      <td>5.00001</td>\n",
       "    </tr>\n",
       "    <tr>\n",
       "      <th>17858</th>\n",
       "      <td>15.0001</td>\n",
       "      <td>43.0</td>\n",
       "      <td>5.687500</td>\n",
       "      <td>0.750000</td>\n",
       "      <td>58.0</td>\n",
       "      <td>3.625000</td>\n",
       "      <td>37.46</td>\n",
       "      <td>-121.87</td>\n",
       "      <td>5.00001</td>\n",
       "    </tr>\n",
       "    <tr>\n",
       "      <th>18501</th>\n",
       "      <td>15.0001</td>\n",
       "      <td>52.0</td>\n",
       "      <td>8.461538</td>\n",
       "      <td>1.230769</td>\n",
       "      <td>55.0</td>\n",
       "      <td>2.115385</td>\n",
       "      <td>37.19</td>\n",
       "      <td>-121.59</td>\n",
       "      <td>1.31300</td>\n",
       "    </tr>\n",
       "    <tr>\n",
       "      <th>18504</th>\n",
       "      <td>15.0001</td>\n",
       "      <td>26.0</td>\n",
       "      <td>12.500000</td>\n",
       "      <td>1.250000</td>\n",
       "      <td>17.0</td>\n",
       "      <td>4.250000</td>\n",
       "      <td>37.13</td>\n",
       "      <td>-121.96</td>\n",
       "      <td>4.00000</td>\n",
       "    </tr>\n",
       "  </tbody>\n",
       "</table>\n",
       "</div>"
      ],
      "text/plain": [
       "        MedInc  HouseAge   AveRooms  AveBedrms  Population   AveOccup  \\\n",
       "1566   15.0001       2.0  22.222222   2.222222        25.0   2.777778   \n",
       "4352   15.0001      37.0   8.659574   1.425532       100.0   2.127660   \n",
       "4604   15.0001      52.0   8.444954   1.100917       693.0   3.178899   \n",
       "4605   15.0001      52.0   8.483019   0.962264       813.0   3.067925   \n",
       "4606   15.0001      52.0   9.204969   1.062112       531.0   3.298137   \n",
       "4626   15.0001      52.0   7.958333   0.833333       457.0   3.808333   \n",
       "4678   15.0001      52.0   8.780612   0.994898       688.0   3.510204   \n",
       "5242   15.0001      32.0   8.002869   1.080344      1567.0   2.248207   \n",
       "5247   15.0001      36.0   9.368263   1.173653       862.0   2.580838   \n",
       "5248   15.0001      46.0   8.365591   0.967742       238.0   2.559140   \n",
       "5257   15.0001      42.0   9.229032   1.161290       829.0   2.674194   \n",
       "5275   15.0001      36.0   7.549091   0.985455      1461.0   2.656364   \n",
       "5281   15.0001      42.0   8.562500   0.964286       632.0   2.821429   \n",
       "5291   15.0001      46.0   9.203947   0.973684       410.0   2.697368   \n",
       "6391   15.0001      37.0   8.761062   1.000000       697.0   3.084071   \n",
       "6399   15.0001      35.0   8.586207   1.068966       268.0   9.241379   \n",
       "6590   15.0001      48.0   8.845161   1.058065       528.0   3.406452   \n",
       "6591   15.0001      34.0   8.114173   1.023622       825.0   3.248031   \n",
       "6592   15.0001      38.0   8.954733   1.094650       798.0   3.283951   \n",
       "6727   15.0001      52.0  10.419355   1.136201       956.0   3.426523   \n",
       "6736   15.0001      47.0   8.592308   1.061538       749.0   2.880769   \n",
       "8805   15.0001      34.0   8.783019   1.059748      1871.0   2.941824   \n",
       "8846   15.0001      27.0   7.651923   0.980769      1351.0   2.598077   \n",
       "8847   15.0001      45.0  10.370656   1.092664       857.0   3.308880   \n",
       "8848   15.0001      52.0   8.907583   1.099526      1407.0   3.334123   \n",
       "8849   15.0001      52.0   9.237288   1.062954      1266.0   3.065375   \n",
       "8850   15.0001      37.0   9.333333   1.037801       809.0   2.780069   \n",
       "8851   15.0001      40.0   9.600000   1.059459      1024.0   2.767568   \n",
       "8852   15.0001      48.0   9.729839   1.052419       770.0   3.104839   \n",
       "8853   15.0001      52.0   9.867036   1.091413      1163.0   3.221607   \n",
       "8854   15.0001      52.0   8.710145   1.028986       408.0   2.956522   \n",
       "8878   15.0001      52.0   8.000000   0.997333      1143.0   3.048000   \n",
       "10673  15.0001      13.0   7.842900   0.993958      1865.0   2.817221   \n",
       "10760  15.0001      15.0   8.062044   1.003650       735.0   2.682482   \n",
       "11520  15.0001      14.0   8.354232   1.037618       964.0   3.021944   \n",
       "15241  15.0001      17.0   8.520376   1.021944      1011.0   3.169279   \n",
       "15693  15.0001      52.0   7.994475   1.027624       483.0   2.668508   \n",
       "16171  15.0001      52.0   8.000000   1.000000        13.0  13.000000   \n",
       "16910  15.0001      32.0   9.166341   1.056751      1512.0   2.958904   \n",
       "17107  15.0001      31.0   9.425101   1.093117       722.0   2.923077   \n",
       "17108  15.0001      32.0   8.845041   1.035124      1318.0   2.723140   \n",
       "17110  15.0001      40.0   8.584541   1.000000       577.0   2.787440   \n",
       "17111  15.0001      40.0   9.802326   1.135659       831.0   3.220930   \n",
       "17118  15.0001      46.0   6.000000   0.800000        13.0   2.600000   \n",
       "17166  15.0001      32.0   8.116608   1.014134       814.0   2.876325   \n",
       "17170  15.0001      33.0   7.446512   1.037209       629.0   2.925581   \n",
       "17858  15.0001      43.0   5.687500   0.750000        58.0   3.625000   \n",
       "18501  15.0001      52.0   8.461538   1.230769        55.0   2.115385   \n",
       "18504  15.0001      26.0  12.500000   1.250000        17.0   4.250000   \n",
       "\n",
       "       Latitude  Longitude  MedHouseVal  \n",
       "1566      37.74    -121.96      3.50000  \n",
       "4352      34.10    -118.37      5.00001  \n",
       "4604      34.06    -118.33      5.00001  \n",
       "4605      34.07    -118.33      5.00001  \n",
       "4606      34.07    -118.33      5.00001  \n",
       "4626      34.06    -118.32      5.00001  \n",
       "4678      34.08    -118.34      5.00001  \n",
       "5242      34.11    -118.40      5.00001  \n",
       "5247      34.09    -118.44      5.00001  \n",
       "5248      34.08    -118.43      5.00001  \n",
       "5257      34.06    -118.49      5.00001  \n",
       "5275      34.05    -118.50      5.00001  \n",
       "5281      34.05    -118.49      5.00001  \n",
       "5291      34.08    -118.42      5.00001  \n",
       "6391      34.15    -118.06      5.00001  \n",
       "6399      34.13    -118.04      5.00001  \n",
       "6590      34.19    -118.18      5.00001  \n",
       "6591      34.19    -118.19      5.00001  \n",
       "6592      34.19    -118.20      5.00001  \n",
       "6727      34.12    -118.12      5.00001  \n",
       "6736      34.13    -118.10      5.00001  \n",
       "8805      33.76    -118.34      5.00001  \n",
       "8846      34.10    -118.40      5.00001  \n",
       "8847      34.09    -118.40      5.00001  \n",
       "8848      34.08    -118.39      5.00001  \n",
       "8849      34.08    -118.40      5.00001  \n",
       "8850      34.09    -118.41      5.00001  \n",
       "8851      34.09    -118.42      5.00001  \n",
       "8852      34.08    -118.42      5.00001  \n",
       "8853      34.07    -118.41      5.00001  \n",
       "8854      34.07    -118.41      5.00001  \n",
       "8878      34.04    -118.50      5.00001  \n",
       "10673     33.62    -117.85      5.00001  \n",
       "10760     33.62    -117.87      5.00001  \n",
       "11520     33.72    -118.06      5.00001  \n",
       "15241     32.99    -117.23      5.00001  \n",
       "15693     37.79    -122.44      5.00001  \n",
       "16171     37.79    -122.50      5.00001  \n",
       "16910     37.56    -122.36      5.00001  \n",
       "17107     37.44    -122.20      5.00001  \n",
       "17108     37.44    -122.22      5.00001  \n",
       "17110     37.46    -122.21      5.00001  \n",
       "17111     37.46    -122.18      5.00001  \n",
       "17118     37.50    -122.14      5.00001  \n",
       "17166     37.40    -122.22      5.00001  \n",
       "17170     37.43    -122.27      5.00001  \n",
       "17858     37.46    -121.87      5.00001  \n",
       "18501     37.19    -121.59      1.31300  \n",
       "18504     37.13    -121.96      4.00000  "
      ]
     },
     "execution_count": 25,
     "metadata": {},
     "output_type": "execute_result"
    }
   ],
   "source": [
    "house_data[house_data.MedInc > 15]"
   ]
  },
  {
   "cell_type": "code",
   "execution_count": 26,
   "id": "2fd84dbd-76d1-46b4-aa7e-d2dbdb24add2",
   "metadata": {
    "scrolled": true
   },
   "outputs": [
    {
     "data": {
      "text/html": [
       "<div>\n",
       "<style scoped>\n",
       "    .dataframe tbody tr th:only-of-type {\n",
       "        vertical-align: middle;\n",
       "    }\n",
       "\n",
       "    .dataframe tbody tr th {\n",
       "        vertical-align: top;\n",
       "    }\n",
       "\n",
       "    .dataframe thead th {\n",
       "        text-align: right;\n",
       "    }\n",
       "</style>\n",
       "<table border=\"1\" class=\"dataframe\">\n",
       "  <thead>\n",
       "    <tr style=\"text-align: right;\">\n",
       "      <th></th>\n",
       "      <th>MedInc</th>\n",
       "      <th>HouseAge</th>\n",
       "      <th>AveRooms</th>\n",
       "      <th>AveBedrms</th>\n",
       "      <th>Population</th>\n",
       "      <th>AveOccup</th>\n",
       "      <th>Latitude</th>\n",
       "      <th>Longitude</th>\n",
       "      <th>MedHouseVal</th>\n",
       "    </tr>\n",
       "  </thead>\n",
       "  <tbody>\n",
       "    <tr>\n",
       "      <th>5304</th>\n",
       "      <td>14.2867</td>\n",
       "      <td>49.0</td>\n",
       "      <td>7.603774</td>\n",
       "      <td>0.946541</td>\n",
       "      <td>850.0</td>\n",
       "      <td>2.672956</td>\n",
       "      <td>34.07</td>\n",
       "      <td>-118.46</td>\n",
       "      <td>5.00001</td>\n",
       "    </tr>\n",
       "    <tr>\n",
       "      <th>15698</th>\n",
       "      <td>14.2959</td>\n",
       "      <td>52.0</td>\n",
       "      <td>8.172727</td>\n",
       "      <td>0.872727</td>\n",
       "      <td>304.0</td>\n",
       "      <td>2.763636</td>\n",
       "      <td>37.79</td>\n",
       "      <td>-122.46</td>\n",
       "      <td>5.00001</td>\n",
       "    </tr>\n",
       "    <tr>\n",
       "      <th>9811</th>\n",
       "      <td>14.4113</td>\n",
       "      <td>28.0</td>\n",
       "      <td>11.634686</td>\n",
       "      <td>1.509225</td>\n",
       "      <td>569.0</td>\n",
       "      <td>2.099631</td>\n",
       "      <td>36.57</td>\n",
       "      <td>-121.94</td>\n",
       "      <td>5.00001</td>\n",
       "    </tr>\n",
       "    <tr>\n",
       "      <th>16915</th>\n",
       "      <td>14.4219</td>\n",
       "      <td>52.0</td>\n",
       "      <td>8.253731</td>\n",
       "      <td>0.950249</td>\n",
       "      <td>519.0</td>\n",
       "      <td>2.582090</td>\n",
       "      <td>37.56</td>\n",
       "      <td>-122.35</td>\n",
       "      <td>5.00001</td>\n",
       "    </tr>\n",
       "    <tr>\n",
       "      <th>9370</th>\n",
       "      <td>14.5833</td>\n",
       "      <td>24.0</td>\n",
       "      <td>5.613333</td>\n",
       "      <td>0.853333</td>\n",
       "      <td>163.0</td>\n",
       "      <td>2.173333</td>\n",
       "      <td>37.92</td>\n",
       "      <td>-122.52</td>\n",
       "      <td>5.00001</td>\n",
       "    </tr>\n",
       "    <tr>\n",
       "      <th>10483</th>\n",
       "      <td>14.9009</td>\n",
       "      <td>8.0</td>\n",
       "      <td>9.860169</td>\n",
       "      <td>1.114407</td>\n",
       "      <td>899.0</td>\n",
       "      <td>3.809322</td>\n",
       "      <td>33.59</td>\n",
       "      <td>-117.68</td>\n",
       "      <td>5.00001</td>\n",
       "    </tr>\n",
       "    <tr>\n",
       "      <th>18052</th>\n",
       "      <td>15.0000</td>\n",
       "      <td>19.0</td>\n",
       "      <td>7.626263</td>\n",
       "      <td>0.939394</td>\n",
       "      <td>267.0</td>\n",
       "      <td>2.696970</td>\n",
       "      <td>37.25</td>\n",
       "      <td>-121.98</td>\n",
       "      <td>5.00001</td>\n",
       "    </tr>\n",
       "    <tr>\n",
       "      <th>5260</th>\n",
       "      <td>15.0000</td>\n",
       "      <td>39.0</td>\n",
       "      <td>9.293750</td>\n",
       "      <td>1.018750</td>\n",
       "      <td>414.0</td>\n",
       "      <td>2.587500</td>\n",
       "      <td>34.05</td>\n",
       "      <td>-118.50</td>\n",
       "      <td>5.00001</td>\n",
       "    </tr>\n",
       "    <tr>\n",
       "      <th>8853</th>\n",
       "      <td>15.0001</td>\n",
       "      <td>52.0</td>\n",
       "      <td>9.867036</td>\n",
       "      <td>1.091413</td>\n",
       "      <td>1163.0</td>\n",
       "      <td>3.221607</td>\n",
       "      <td>34.07</td>\n",
       "      <td>-118.41</td>\n",
       "      <td>5.00001</td>\n",
       "    </tr>\n",
       "    <tr>\n",
       "      <th>8854</th>\n",
       "      <td>15.0001</td>\n",
       "      <td>52.0</td>\n",
       "      <td>8.710145</td>\n",
       "      <td>1.028986</td>\n",
       "      <td>408.0</td>\n",
       "      <td>2.956522</td>\n",
       "      <td>34.07</td>\n",
       "      <td>-118.41</td>\n",
       "      <td>5.00001</td>\n",
       "    </tr>\n",
       "    <tr>\n",
       "      <th>8878</th>\n",
       "      <td>15.0001</td>\n",
       "      <td>52.0</td>\n",
       "      <td>8.000000</td>\n",
       "      <td>0.997333</td>\n",
       "      <td>1143.0</td>\n",
       "      <td>3.048000</td>\n",
       "      <td>34.04</td>\n",
       "      <td>-118.50</td>\n",
       "      <td>5.00001</td>\n",
       "    </tr>\n",
       "    <tr>\n",
       "      <th>10673</th>\n",
       "      <td>15.0001</td>\n",
       "      <td>13.0</td>\n",
       "      <td>7.842900</td>\n",
       "      <td>0.993958</td>\n",
       "      <td>1865.0</td>\n",
       "      <td>2.817221</td>\n",
       "      <td>33.62</td>\n",
       "      <td>-117.85</td>\n",
       "      <td>5.00001</td>\n",
       "    </tr>\n",
       "    <tr>\n",
       "      <th>10760</th>\n",
       "      <td>15.0001</td>\n",
       "      <td>15.0</td>\n",
       "      <td>8.062044</td>\n",
       "      <td>1.003650</td>\n",
       "      <td>735.0</td>\n",
       "      <td>2.682482</td>\n",
       "      <td>33.62</td>\n",
       "      <td>-117.87</td>\n",
       "      <td>5.00001</td>\n",
       "    </tr>\n",
       "    <tr>\n",
       "      <th>11520</th>\n",
       "      <td>15.0001</td>\n",
       "      <td>14.0</td>\n",
       "      <td>8.354232</td>\n",
       "      <td>1.037618</td>\n",
       "      <td>964.0</td>\n",
       "      <td>3.021944</td>\n",
       "      <td>33.72</td>\n",
       "      <td>-118.06</td>\n",
       "      <td>5.00001</td>\n",
       "    </tr>\n",
       "    <tr>\n",
       "      <th>15241</th>\n",
       "      <td>15.0001</td>\n",
       "      <td>17.0</td>\n",
       "      <td>8.520376</td>\n",
       "      <td>1.021944</td>\n",
       "      <td>1011.0</td>\n",
       "      <td>3.169279</td>\n",
       "      <td>32.99</td>\n",
       "      <td>-117.23</td>\n",
       "      <td>5.00001</td>\n",
       "    </tr>\n",
       "    <tr>\n",
       "      <th>15693</th>\n",
       "      <td>15.0001</td>\n",
       "      <td>52.0</td>\n",
       "      <td>7.994475</td>\n",
       "      <td>1.027624</td>\n",
       "      <td>483.0</td>\n",
       "      <td>2.668508</td>\n",
       "      <td>37.79</td>\n",
       "      <td>-122.44</td>\n",
       "      <td>5.00001</td>\n",
       "    </tr>\n",
       "    <tr>\n",
       "      <th>1566</th>\n",
       "      <td>15.0001</td>\n",
       "      <td>2.0</td>\n",
       "      <td>22.222222</td>\n",
       "      <td>2.222222</td>\n",
       "      <td>25.0</td>\n",
       "      <td>2.777778</td>\n",
       "      <td>37.74</td>\n",
       "      <td>-121.96</td>\n",
       "      <td>3.50000</td>\n",
       "    </tr>\n",
       "    <tr>\n",
       "      <th>16171</th>\n",
       "      <td>15.0001</td>\n",
       "      <td>52.0</td>\n",
       "      <td>8.000000</td>\n",
       "      <td>1.000000</td>\n",
       "      <td>13.0</td>\n",
       "      <td>13.000000</td>\n",
       "      <td>37.79</td>\n",
       "      <td>-122.50</td>\n",
       "      <td>5.00001</td>\n",
       "    </tr>\n",
       "    <tr>\n",
       "      <th>16910</th>\n",
       "      <td>15.0001</td>\n",
       "      <td>32.0</td>\n",
       "      <td>9.166341</td>\n",
       "      <td>1.056751</td>\n",
       "      <td>1512.0</td>\n",
       "      <td>2.958904</td>\n",
       "      <td>37.56</td>\n",
       "      <td>-122.36</td>\n",
       "      <td>5.00001</td>\n",
       "    </tr>\n",
       "    <tr>\n",
       "      <th>17107</th>\n",
       "      <td>15.0001</td>\n",
       "      <td>31.0</td>\n",
       "      <td>9.425101</td>\n",
       "      <td>1.093117</td>\n",
       "      <td>722.0</td>\n",
       "      <td>2.923077</td>\n",
       "      <td>37.44</td>\n",
       "      <td>-122.20</td>\n",
       "      <td>5.00001</td>\n",
       "    </tr>\n",
       "    <tr>\n",
       "      <th>17108</th>\n",
       "      <td>15.0001</td>\n",
       "      <td>32.0</td>\n",
       "      <td>8.845041</td>\n",
       "      <td>1.035124</td>\n",
       "      <td>1318.0</td>\n",
       "      <td>2.723140</td>\n",
       "      <td>37.44</td>\n",
       "      <td>-122.22</td>\n",
       "      <td>5.00001</td>\n",
       "    </tr>\n",
       "    <tr>\n",
       "      <th>17110</th>\n",
       "      <td>15.0001</td>\n",
       "      <td>40.0</td>\n",
       "      <td>8.584541</td>\n",
       "      <td>1.000000</td>\n",
       "      <td>577.0</td>\n",
       "      <td>2.787440</td>\n",
       "      <td>37.46</td>\n",
       "      <td>-122.21</td>\n",
       "      <td>5.00001</td>\n",
       "    </tr>\n",
       "    <tr>\n",
       "      <th>17111</th>\n",
       "      <td>15.0001</td>\n",
       "      <td>40.0</td>\n",
       "      <td>9.802326</td>\n",
       "      <td>1.135659</td>\n",
       "      <td>831.0</td>\n",
       "      <td>3.220930</td>\n",
       "      <td>37.46</td>\n",
       "      <td>-122.18</td>\n",
       "      <td>5.00001</td>\n",
       "    </tr>\n",
       "    <tr>\n",
       "      <th>17118</th>\n",
       "      <td>15.0001</td>\n",
       "      <td>46.0</td>\n",
       "      <td>6.000000</td>\n",
       "      <td>0.800000</td>\n",
       "      <td>13.0</td>\n",
       "      <td>2.600000</td>\n",
       "      <td>37.50</td>\n",
       "      <td>-122.14</td>\n",
       "      <td>5.00001</td>\n",
       "    </tr>\n",
       "    <tr>\n",
       "      <th>17166</th>\n",
       "      <td>15.0001</td>\n",
       "      <td>32.0</td>\n",
       "      <td>8.116608</td>\n",
       "      <td>1.014134</td>\n",
       "      <td>814.0</td>\n",
       "      <td>2.876325</td>\n",
       "      <td>37.40</td>\n",
       "      <td>-122.22</td>\n",
       "      <td>5.00001</td>\n",
       "    </tr>\n",
       "    <tr>\n",
       "      <th>17170</th>\n",
       "      <td>15.0001</td>\n",
       "      <td>33.0</td>\n",
       "      <td>7.446512</td>\n",
       "      <td>1.037209</td>\n",
       "      <td>629.0</td>\n",
       "      <td>2.925581</td>\n",
       "      <td>37.43</td>\n",
       "      <td>-122.27</td>\n",
       "      <td>5.00001</td>\n",
       "    </tr>\n",
       "    <tr>\n",
       "      <th>17858</th>\n",
       "      <td>15.0001</td>\n",
       "      <td>43.0</td>\n",
       "      <td>5.687500</td>\n",
       "      <td>0.750000</td>\n",
       "      <td>58.0</td>\n",
       "      <td>3.625000</td>\n",
       "      <td>37.46</td>\n",
       "      <td>-121.87</td>\n",
       "      <td>5.00001</td>\n",
       "    </tr>\n",
       "    <tr>\n",
       "      <th>8852</th>\n",
       "      <td>15.0001</td>\n",
       "      <td>48.0</td>\n",
       "      <td>9.729839</td>\n",
       "      <td>1.052419</td>\n",
       "      <td>770.0</td>\n",
       "      <td>3.104839</td>\n",
       "      <td>34.08</td>\n",
       "      <td>-118.42</td>\n",
       "      <td>5.00001</td>\n",
       "    </tr>\n",
       "    <tr>\n",
       "      <th>8851</th>\n",
       "      <td>15.0001</td>\n",
       "      <td>40.0</td>\n",
       "      <td>9.600000</td>\n",
       "      <td>1.059459</td>\n",
       "      <td>1024.0</td>\n",
       "      <td>2.767568</td>\n",
       "      <td>34.09</td>\n",
       "      <td>-118.42</td>\n",
       "      <td>5.00001</td>\n",
       "    </tr>\n",
       "    <tr>\n",
       "      <th>8850</th>\n",
       "      <td>15.0001</td>\n",
       "      <td>37.0</td>\n",
       "      <td>9.333333</td>\n",
       "      <td>1.037801</td>\n",
       "      <td>809.0</td>\n",
       "      <td>2.780069</td>\n",
       "      <td>34.09</td>\n",
       "      <td>-118.41</td>\n",
       "      <td>5.00001</td>\n",
       "    </tr>\n",
       "    <tr>\n",
       "      <th>8849</th>\n",
       "      <td>15.0001</td>\n",
       "      <td>52.0</td>\n",
       "      <td>9.237288</td>\n",
       "      <td>1.062954</td>\n",
       "      <td>1266.0</td>\n",
       "      <td>3.065375</td>\n",
       "      <td>34.08</td>\n",
       "      <td>-118.40</td>\n",
       "      <td>5.00001</td>\n",
       "    </tr>\n",
       "    <tr>\n",
       "      <th>4352</th>\n",
       "      <td>15.0001</td>\n",
       "      <td>37.0</td>\n",
       "      <td>8.659574</td>\n",
       "      <td>1.425532</td>\n",
       "      <td>100.0</td>\n",
       "      <td>2.127660</td>\n",
       "      <td>34.10</td>\n",
       "      <td>-118.37</td>\n",
       "      <td>5.00001</td>\n",
       "    </tr>\n",
       "    <tr>\n",
       "      <th>4604</th>\n",
       "      <td>15.0001</td>\n",
       "      <td>52.0</td>\n",
       "      <td>8.444954</td>\n",
       "      <td>1.100917</td>\n",
       "      <td>693.0</td>\n",
       "      <td>3.178899</td>\n",
       "      <td>34.06</td>\n",
       "      <td>-118.33</td>\n",
       "      <td>5.00001</td>\n",
       "    </tr>\n",
       "    <tr>\n",
       "      <th>4605</th>\n",
       "      <td>15.0001</td>\n",
       "      <td>52.0</td>\n",
       "      <td>8.483019</td>\n",
       "      <td>0.962264</td>\n",
       "      <td>813.0</td>\n",
       "      <td>3.067925</td>\n",
       "      <td>34.07</td>\n",
       "      <td>-118.33</td>\n",
       "      <td>5.00001</td>\n",
       "    </tr>\n",
       "    <tr>\n",
       "      <th>4606</th>\n",
       "      <td>15.0001</td>\n",
       "      <td>52.0</td>\n",
       "      <td>9.204969</td>\n",
       "      <td>1.062112</td>\n",
       "      <td>531.0</td>\n",
       "      <td>3.298137</td>\n",
       "      <td>34.07</td>\n",
       "      <td>-118.33</td>\n",
       "      <td>5.00001</td>\n",
       "    </tr>\n",
       "    <tr>\n",
       "      <th>4626</th>\n",
       "      <td>15.0001</td>\n",
       "      <td>52.0</td>\n",
       "      <td>7.958333</td>\n",
       "      <td>0.833333</td>\n",
       "      <td>457.0</td>\n",
       "      <td>3.808333</td>\n",
       "      <td>34.06</td>\n",
       "      <td>-118.32</td>\n",
       "      <td>5.00001</td>\n",
       "    </tr>\n",
       "    <tr>\n",
       "      <th>4678</th>\n",
       "      <td>15.0001</td>\n",
       "      <td>52.0</td>\n",
       "      <td>8.780612</td>\n",
       "      <td>0.994898</td>\n",
       "      <td>688.0</td>\n",
       "      <td>3.510204</td>\n",
       "      <td>34.08</td>\n",
       "      <td>-118.34</td>\n",
       "      <td>5.00001</td>\n",
       "    </tr>\n",
       "    <tr>\n",
       "      <th>5242</th>\n",
       "      <td>15.0001</td>\n",
       "      <td>32.0</td>\n",
       "      <td>8.002869</td>\n",
       "      <td>1.080344</td>\n",
       "      <td>1567.0</td>\n",
       "      <td>2.248207</td>\n",
       "      <td>34.11</td>\n",
       "      <td>-118.40</td>\n",
       "      <td>5.00001</td>\n",
       "    </tr>\n",
       "    <tr>\n",
       "      <th>5247</th>\n",
       "      <td>15.0001</td>\n",
       "      <td>36.0</td>\n",
       "      <td>9.368263</td>\n",
       "      <td>1.173653</td>\n",
       "      <td>862.0</td>\n",
       "      <td>2.580838</td>\n",
       "      <td>34.09</td>\n",
       "      <td>-118.44</td>\n",
       "      <td>5.00001</td>\n",
       "    </tr>\n",
       "    <tr>\n",
       "      <th>5248</th>\n",
       "      <td>15.0001</td>\n",
       "      <td>46.0</td>\n",
       "      <td>8.365591</td>\n",
       "      <td>0.967742</td>\n",
       "      <td>238.0</td>\n",
       "      <td>2.559140</td>\n",
       "      <td>34.08</td>\n",
       "      <td>-118.43</td>\n",
       "      <td>5.00001</td>\n",
       "    </tr>\n",
       "    <tr>\n",
       "      <th>5257</th>\n",
       "      <td>15.0001</td>\n",
       "      <td>42.0</td>\n",
       "      <td>9.229032</td>\n",
       "      <td>1.161290</td>\n",
       "      <td>829.0</td>\n",
       "      <td>2.674194</td>\n",
       "      <td>34.06</td>\n",
       "      <td>-118.49</td>\n",
       "      <td>5.00001</td>\n",
       "    </tr>\n",
       "    <tr>\n",
       "      <th>5275</th>\n",
       "      <td>15.0001</td>\n",
       "      <td>36.0</td>\n",
       "      <td>7.549091</td>\n",
       "      <td>0.985455</td>\n",
       "      <td>1461.0</td>\n",
       "      <td>2.656364</td>\n",
       "      <td>34.05</td>\n",
       "      <td>-118.50</td>\n",
       "      <td>5.00001</td>\n",
       "    </tr>\n",
       "    <tr>\n",
       "      <th>18501</th>\n",
       "      <td>15.0001</td>\n",
       "      <td>52.0</td>\n",
       "      <td>8.461538</td>\n",
       "      <td>1.230769</td>\n",
       "      <td>55.0</td>\n",
       "      <td>2.115385</td>\n",
       "      <td>37.19</td>\n",
       "      <td>-121.59</td>\n",
       "      <td>1.31300</td>\n",
       "    </tr>\n",
       "    <tr>\n",
       "      <th>5281</th>\n",
       "      <td>15.0001</td>\n",
       "      <td>42.0</td>\n",
       "      <td>8.562500</td>\n",
       "      <td>0.964286</td>\n",
       "      <td>632.0</td>\n",
       "      <td>2.821429</td>\n",
       "      <td>34.05</td>\n",
       "      <td>-118.49</td>\n",
       "      <td>5.00001</td>\n",
       "    </tr>\n",
       "    <tr>\n",
       "      <th>6391</th>\n",
       "      <td>15.0001</td>\n",
       "      <td>37.0</td>\n",
       "      <td>8.761062</td>\n",
       "      <td>1.000000</td>\n",
       "      <td>697.0</td>\n",
       "      <td>3.084071</td>\n",
       "      <td>34.15</td>\n",
       "      <td>-118.06</td>\n",
       "      <td>5.00001</td>\n",
       "    </tr>\n",
       "    <tr>\n",
       "      <th>6399</th>\n",
       "      <td>15.0001</td>\n",
       "      <td>35.0</td>\n",
       "      <td>8.586207</td>\n",
       "      <td>1.068966</td>\n",
       "      <td>268.0</td>\n",
       "      <td>9.241379</td>\n",
       "      <td>34.13</td>\n",
       "      <td>-118.04</td>\n",
       "      <td>5.00001</td>\n",
       "    </tr>\n",
       "    <tr>\n",
       "      <th>6590</th>\n",
       "      <td>15.0001</td>\n",
       "      <td>48.0</td>\n",
       "      <td>8.845161</td>\n",
       "      <td>1.058065</td>\n",
       "      <td>528.0</td>\n",
       "      <td>3.406452</td>\n",
       "      <td>34.19</td>\n",
       "      <td>-118.18</td>\n",
       "      <td>5.00001</td>\n",
       "    </tr>\n",
       "    <tr>\n",
       "      <th>6591</th>\n",
       "      <td>15.0001</td>\n",
       "      <td>34.0</td>\n",
       "      <td>8.114173</td>\n",
       "      <td>1.023622</td>\n",
       "      <td>825.0</td>\n",
       "      <td>3.248031</td>\n",
       "      <td>34.19</td>\n",
       "      <td>-118.19</td>\n",
       "      <td>5.00001</td>\n",
       "    </tr>\n",
       "    <tr>\n",
       "      <th>6592</th>\n",
       "      <td>15.0001</td>\n",
       "      <td>38.0</td>\n",
       "      <td>8.954733</td>\n",
       "      <td>1.094650</td>\n",
       "      <td>798.0</td>\n",
       "      <td>3.283951</td>\n",
       "      <td>34.19</td>\n",
       "      <td>-118.20</td>\n",
       "      <td>5.00001</td>\n",
       "    </tr>\n",
       "    <tr>\n",
       "      <th>6727</th>\n",
       "      <td>15.0001</td>\n",
       "      <td>52.0</td>\n",
       "      <td>10.419355</td>\n",
       "      <td>1.136201</td>\n",
       "      <td>956.0</td>\n",
       "      <td>3.426523</td>\n",
       "      <td>34.12</td>\n",
       "      <td>-118.12</td>\n",
       "      <td>5.00001</td>\n",
       "    </tr>\n",
       "    <tr>\n",
       "      <th>6736</th>\n",
       "      <td>15.0001</td>\n",
       "      <td>47.0</td>\n",
       "      <td>8.592308</td>\n",
       "      <td>1.061538</td>\n",
       "      <td>749.0</td>\n",
       "      <td>2.880769</td>\n",
       "      <td>34.13</td>\n",
       "      <td>-118.10</td>\n",
       "      <td>5.00001</td>\n",
       "    </tr>\n",
       "    <tr>\n",
       "      <th>8805</th>\n",
       "      <td>15.0001</td>\n",
       "      <td>34.0</td>\n",
       "      <td>8.783019</td>\n",
       "      <td>1.059748</td>\n",
       "      <td>1871.0</td>\n",
       "      <td>2.941824</td>\n",
       "      <td>33.76</td>\n",
       "      <td>-118.34</td>\n",
       "      <td>5.00001</td>\n",
       "    </tr>\n",
       "    <tr>\n",
       "      <th>8846</th>\n",
       "      <td>15.0001</td>\n",
       "      <td>27.0</td>\n",
       "      <td>7.651923</td>\n",
       "      <td>0.980769</td>\n",
       "      <td>1351.0</td>\n",
       "      <td>2.598077</td>\n",
       "      <td>34.10</td>\n",
       "      <td>-118.40</td>\n",
       "      <td>5.00001</td>\n",
       "    </tr>\n",
       "    <tr>\n",
       "      <th>8847</th>\n",
       "      <td>15.0001</td>\n",
       "      <td>45.0</td>\n",
       "      <td>10.370656</td>\n",
       "      <td>1.092664</td>\n",
       "      <td>857.0</td>\n",
       "      <td>3.308880</td>\n",
       "      <td>34.09</td>\n",
       "      <td>-118.40</td>\n",
       "      <td>5.00001</td>\n",
       "    </tr>\n",
       "    <tr>\n",
       "      <th>8848</th>\n",
       "      <td>15.0001</td>\n",
       "      <td>52.0</td>\n",
       "      <td>8.907583</td>\n",
       "      <td>1.099526</td>\n",
       "      <td>1407.0</td>\n",
       "      <td>3.334123</td>\n",
       "      <td>34.08</td>\n",
       "      <td>-118.39</td>\n",
       "      <td>5.00001</td>\n",
       "    </tr>\n",
       "    <tr>\n",
       "      <th>5291</th>\n",
       "      <td>15.0001</td>\n",
       "      <td>46.0</td>\n",
       "      <td>9.203947</td>\n",
       "      <td>0.973684</td>\n",
       "      <td>410.0</td>\n",
       "      <td>2.697368</td>\n",
       "      <td>34.08</td>\n",
       "      <td>-118.42</td>\n",
       "      <td>5.00001</td>\n",
       "    </tr>\n",
       "    <tr>\n",
       "      <th>18504</th>\n",
       "      <td>15.0001</td>\n",
       "      <td>26.0</td>\n",
       "      <td>12.500000</td>\n",
       "      <td>1.250000</td>\n",
       "      <td>17.0</td>\n",
       "      <td>4.250000</td>\n",
       "      <td>37.13</td>\n",
       "      <td>-121.96</td>\n",
       "      <td>4.00000</td>\n",
       "    </tr>\n",
       "  </tbody>\n",
       "</table>\n",
       "</div>"
      ],
      "text/plain": [
       "        MedInc  HouseAge   AveRooms  AveBedrms  Population   AveOccup  \\\n",
       "5304   14.2867      49.0   7.603774   0.946541       850.0   2.672956   \n",
       "15698  14.2959      52.0   8.172727   0.872727       304.0   2.763636   \n",
       "9811   14.4113      28.0  11.634686   1.509225       569.0   2.099631   \n",
       "16915  14.4219      52.0   8.253731   0.950249       519.0   2.582090   \n",
       "9370   14.5833      24.0   5.613333   0.853333       163.0   2.173333   \n",
       "10483  14.9009       8.0   9.860169   1.114407       899.0   3.809322   \n",
       "18052  15.0000      19.0   7.626263   0.939394       267.0   2.696970   \n",
       "5260   15.0000      39.0   9.293750   1.018750       414.0   2.587500   \n",
       "8853   15.0001      52.0   9.867036   1.091413      1163.0   3.221607   \n",
       "8854   15.0001      52.0   8.710145   1.028986       408.0   2.956522   \n",
       "8878   15.0001      52.0   8.000000   0.997333      1143.0   3.048000   \n",
       "10673  15.0001      13.0   7.842900   0.993958      1865.0   2.817221   \n",
       "10760  15.0001      15.0   8.062044   1.003650       735.0   2.682482   \n",
       "11520  15.0001      14.0   8.354232   1.037618       964.0   3.021944   \n",
       "15241  15.0001      17.0   8.520376   1.021944      1011.0   3.169279   \n",
       "15693  15.0001      52.0   7.994475   1.027624       483.0   2.668508   \n",
       "1566   15.0001       2.0  22.222222   2.222222        25.0   2.777778   \n",
       "16171  15.0001      52.0   8.000000   1.000000        13.0  13.000000   \n",
       "16910  15.0001      32.0   9.166341   1.056751      1512.0   2.958904   \n",
       "17107  15.0001      31.0   9.425101   1.093117       722.0   2.923077   \n",
       "17108  15.0001      32.0   8.845041   1.035124      1318.0   2.723140   \n",
       "17110  15.0001      40.0   8.584541   1.000000       577.0   2.787440   \n",
       "17111  15.0001      40.0   9.802326   1.135659       831.0   3.220930   \n",
       "17118  15.0001      46.0   6.000000   0.800000        13.0   2.600000   \n",
       "17166  15.0001      32.0   8.116608   1.014134       814.0   2.876325   \n",
       "17170  15.0001      33.0   7.446512   1.037209       629.0   2.925581   \n",
       "17858  15.0001      43.0   5.687500   0.750000        58.0   3.625000   \n",
       "8852   15.0001      48.0   9.729839   1.052419       770.0   3.104839   \n",
       "8851   15.0001      40.0   9.600000   1.059459      1024.0   2.767568   \n",
       "8850   15.0001      37.0   9.333333   1.037801       809.0   2.780069   \n",
       "8849   15.0001      52.0   9.237288   1.062954      1266.0   3.065375   \n",
       "4352   15.0001      37.0   8.659574   1.425532       100.0   2.127660   \n",
       "4604   15.0001      52.0   8.444954   1.100917       693.0   3.178899   \n",
       "4605   15.0001      52.0   8.483019   0.962264       813.0   3.067925   \n",
       "4606   15.0001      52.0   9.204969   1.062112       531.0   3.298137   \n",
       "4626   15.0001      52.0   7.958333   0.833333       457.0   3.808333   \n",
       "4678   15.0001      52.0   8.780612   0.994898       688.0   3.510204   \n",
       "5242   15.0001      32.0   8.002869   1.080344      1567.0   2.248207   \n",
       "5247   15.0001      36.0   9.368263   1.173653       862.0   2.580838   \n",
       "5248   15.0001      46.0   8.365591   0.967742       238.0   2.559140   \n",
       "5257   15.0001      42.0   9.229032   1.161290       829.0   2.674194   \n",
       "5275   15.0001      36.0   7.549091   0.985455      1461.0   2.656364   \n",
       "18501  15.0001      52.0   8.461538   1.230769        55.0   2.115385   \n",
       "5281   15.0001      42.0   8.562500   0.964286       632.0   2.821429   \n",
       "6391   15.0001      37.0   8.761062   1.000000       697.0   3.084071   \n",
       "6399   15.0001      35.0   8.586207   1.068966       268.0   9.241379   \n",
       "6590   15.0001      48.0   8.845161   1.058065       528.0   3.406452   \n",
       "6591   15.0001      34.0   8.114173   1.023622       825.0   3.248031   \n",
       "6592   15.0001      38.0   8.954733   1.094650       798.0   3.283951   \n",
       "6727   15.0001      52.0  10.419355   1.136201       956.0   3.426523   \n",
       "6736   15.0001      47.0   8.592308   1.061538       749.0   2.880769   \n",
       "8805   15.0001      34.0   8.783019   1.059748      1871.0   2.941824   \n",
       "8846   15.0001      27.0   7.651923   0.980769      1351.0   2.598077   \n",
       "8847   15.0001      45.0  10.370656   1.092664       857.0   3.308880   \n",
       "8848   15.0001      52.0   8.907583   1.099526      1407.0   3.334123   \n",
       "5291   15.0001      46.0   9.203947   0.973684       410.0   2.697368   \n",
       "18504  15.0001      26.0  12.500000   1.250000        17.0   4.250000   \n",
       "\n",
       "       Latitude  Longitude  MedHouseVal  \n",
       "5304      34.07    -118.46      5.00001  \n",
       "15698     37.79    -122.46      5.00001  \n",
       "9811      36.57    -121.94      5.00001  \n",
       "16915     37.56    -122.35      5.00001  \n",
       "9370      37.92    -122.52      5.00001  \n",
       "10483     33.59    -117.68      5.00001  \n",
       "18052     37.25    -121.98      5.00001  \n",
       "5260      34.05    -118.50      5.00001  \n",
       "8853      34.07    -118.41      5.00001  \n",
       "8854      34.07    -118.41      5.00001  \n",
       "8878      34.04    -118.50      5.00001  \n",
       "10673     33.62    -117.85      5.00001  \n",
       "10760     33.62    -117.87      5.00001  \n",
       "11520     33.72    -118.06      5.00001  \n",
       "15241     32.99    -117.23      5.00001  \n",
       "15693     37.79    -122.44      5.00001  \n",
       "1566      37.74    -121.96      3.50000  \n",
       "16171     37.79    -122.50      5.00001  \n",
       "16910     37.56    -122.36      5.00001  \n",
       "17107     37.44    -122.20      5.00001  \n",
       "17108     37.44    -122.22      5.00001  \n",
       "17110     37.46    -122.21      5.00001  \n",
       "17111     37.46    -122.18      5.00001  \n",
       "17118     37.50    -122.14      5.00001  \n",
       "17166     37.40    -122.22      5.00001  \n",
       "17170     37.43    -122.27      5.00001  \n",
       "17858     37.46    -121.87      5.00001  \n",
       "8852      34.08    -118.42      5.00001  \n",
       "8851      34.09    -118.42      5.00001  \n",
       "8850      34.09    -118.41      5.00001  \n",
       "8849      34.08    -118.40      5.00001  \n",
       "4352      34.10    -118.37      5.00001  \n",
       "4604      34.06    -118.33      5.00001  \n",
       "4605      34.07    -118.33      5.00001  \n",
       "4606      34.07    -118.33      5.00001  \n",
       "4626      34.06    -118.32      5.00001  \n",
       "4678      34.08    -118.34      5.00001  \n",
       "5242      34.11    -118.40      5.00001  \n",
       "5247      34.09    -118.44      5.00001  \n",
       "5248      34.08    -118.43      5.00001  \n",
       "5257      34.06    -118.49      5.00001  \n",
       "5275      34.05    -118.50      5.00001  \n",
       "18501     37.19    -121.59      1.31300  \n",
       "5281      34.05    -118.49      5.00001  \n",
       "6391      34.15    -118.06      5.00001  \n",
       "6399      34.13    -118.04      5.00001  \n",
       "6590      34.19    -118.18      5.00001  \n",
       "6591      34.19    -118.19      5.00001  \n",
       "6592      34.19    -118.20      5.00001  \n",
       "6727      34.12    -118.12      5.00001  \n",
       "6736      34.13    -118.10      5.00001  \n",
       "8805      33.76    -118.34      5.00001  \n",
       "8846      34.10    -118.40      5.00001  \n",
       "8847      34.09    -118.40      5.00001  \n",
       "8848      34.08    -118.39      5.00001  \n",
       "5291      34.08    -118.42      5.00001  \n",
       "18504     37.13    -121.96      4.00000  "
      ]
     },
     "execution_count": 26,
     "metadata": {},
     "output_type": "execute_result"
    }
   ],
   "source": [
    "house_data[house_data.MedInc > 14].sort_values('MedInc')"
   ]
  },
  {
   "cell_type": "code",
   "execution_count": 27,
   "id": "ad88edb5-47b1-49a8-b64e-84d105c01729",
   "metadata": {},
   "outputs": [
    {
     "data": {
      "text/plain": [
       "(20640, 9)"
      ]
     },
     "execution_count": 27,
     "metadata": {},
     "output_type": "execute_result"
    }
   ],
   "source": [
    "# is there duplications\n",
    "house_data.drop_duplicates().shape"
   ]
  },
  {
   "cell_type": "code",
   "execution_count": 38,
   "id": "65545aa5-f720-4704-b10e-a203f8a6a75e",
   "metadata": {},
   "outputs": [
    {
     "data": {
      "image/png": "[encoded data removed]",
      "text/plain": [
       "<Figure size 1600x1600 with 2 Axes>"
      ]
     },
     "metadata": {},
     "output_type": "display_data"
    }
   ],
   "source": [
    "# house_data.corr()\n",
    "plt.figure(figsize=(16, 16))\n",
    "sns.heatmap(house_data.corr(), annot=True, fmt='.2f', cmap='coolwarm', square=True, annot_kws={\"size\": 16})\n",
    "plt.title('Correlation Heatmap')\n",
    "plt.show()"
   ]
  },
  {
   "cell_type": "code",
   "execution_count": 42,
   "id": "03dae3d4-a9f0-4b88-b7ea-ab54911e3ab1",
   "metadata": {
    "scrolled": true
   },
   "outputs": [
    {
     "data": {
      "text/plain": [
       "HouseAge\n",
       "52.0    1273\n",
       "36.0     862\n",
       "35.0     824\n",
       "16.0     771\n",
       "17.0     698\n",
       "34.0     689\n",
       "26.0     619\n",
       "33.0     615\n",
       "18.0     570\n",
       "25.0     566\n",
       "32.0     565\n",
       "37.0     537\n",
       "15.0     512\n",
       "19.0     502\n",
       "27.0     488\n",
       "24.0     478\n",
       "30.0     476\n",
       "28.0     471\n",
       "20.0     465\n",
       "29.0     461\n",
       "31.0     458\n",
       "23.0     448\n",
       "21.0     446\n",
       "14.0     412\n",
       "22.0     399\n",
       "38.0     394\n",
       "39.0     369\n",
       "42.0     368\n",
       "44.0     356\n",
       "43.0     353\n",
       "40.0     304\n",
       "13.0     302\n",
       "41.0     296\n",
       "45.0     294\n",
       "10.0     264\n",
       "11.0     254\n",
       "46.0     245\n",
       "5.0      244\n",
       "12.0     238\n",
       "8.0      206\n",
       "9.0      205\n",
       "47.0     198\n",
       "4.0      191\n",
       "48.0     177\n",
       "7.0      175\n",
       "6.0      160\n",
       "50.0     136\n",
       "49.0     134\n",
       "3.0       62\n",
       "2.0       58\n",
       "51.0      48\n",
       "1.0        4\n",
       "Name: count, dtype: int64"
      ]
     },
     "execution_count": 42,
     "metadata": {},
     "output_type": "execute_result"
    }
   ],
   "source": [
    "house_data.HouseAge.value_counts()"
   ]
  },
  {
   "cell_type": "code",
   "execution_count": 43,
   "id": "9f65fc8c-33a6-4001-b65f-60593c90e0f4",
   "metadata": {
    "scrolled": true
   },
   "outputs": [
    {
     "data": {
      "text/plain": [
       "[1.0,\n",
       " 2.0,\n",
       " 3.0,\n",
       " 4.0,\n",
       " 5.0,\n",
       " 6.0,\n",
       " 7.0,\n",
       " 8.0,\n",
       " 9.0,\n",
       " 10.0,\n",
       " 11.0,\n",
       " 12.0,\n",
       " 13.0,\n",
       " 14.0,\n",
       " 15.0,\n",
       " 16.0,\n",
       " 17.0,\n",
       " 18.0,\n",
       " 19.0,\n",
       " 20.0,\n",
       " 21.0,\n",
       " 22.0,\n",
       " 23.0,\n",
       " 24.0,\n",
       " 25.0,\n",
       " 26.0,\n",
       " 27.0,\n",
       " 28.0,\n",
       " 29.0,\n",
       " 30.0,\n",
       " 31.0,\n",
       " 32.0,\n",
       " 33.0,\n",
       " 34.0,\n",
       " 35.0,\n",
       " 36.0,\n",
       " 37.0,\n",
       " 38.0,\n",
       " 39.0,\n",
       " 40.0,\n",
       " 41.0,\n",
       " 42.0,\n",
       " 43.0,\n",
       " 44.0,\n",
       " 45.0,\n",
       " 46.0,\n",
       " 47.0,\n",
       " 48.0,\n",
       " 49.0,\n",
       " 50.0,\n",
       " 51.0,\n",
       " 52.0]"
      ]
     },
     "execution_count": 43,
     "metadata": {},
     "output_type": "execute_result"
    }
   ],
   "source": [
    "house_data.HouseAge.sort_values().unique().tolist()"
   ]
  },
  {
   "cell_type": "code",
   "execution_count": 39,
   "id": "a1d9aac1-e5c3-41a8-92c4-998b8d60c15f",
   "metadata": {},
   "outputs": [
    {
     "data": {
      "image/png": "[encoded data removed]",
      "text/plain": [
       "<Figure size 1200x800 with 1 Axes>"
      ]
     },
     "metadata": {},
     "output_type": "display_data"
    }
   ],
   "source": [
    "plt.figure(figsize=(12, 8))\n",
    "plt.hist(house_data.HouseAge, bins = 'fd')\n",
    "plt.show()"
   ]
  },
  {
   "cell_type": "code",
   "execution_count": 44,
   "id": "cd64f73e-df2e-4ee3-9842-dfdccf60ecc5",
   "metadata": {},
   "outputs": [
    {
     "data": {
      "image/png": "[encoded data removed]",
      "text/plain": [
       "<Figure size 1200x800 with 1 Axes>"
      ]
     },
     "metadata": {},
     "output_type": "display_data"
    }
   ],
   "source": [
    "plt.figure(figsize=(12, 8))\n",
    "plt.hist(house_data.AveOccup, bins = 'fd')\n",
    "plt.show()"
   ]
  },
  {
   "cell_type": "code",
   "execution_count": 45,
   "id": "0e5bda6c-e4fa-47f3-b8a5-0e8ca228111b",
   "metadata": {},
   "outputs": [
    {
     "data": {
      "image/png": "[encoded data removed]",
      "text/plain": [
       "<Figure size 1200x800 with 1 Axes>"
      ]
     },
     "metadata": {},
     "output_type": "display_data"
    }
   ],
   "source": [
    "plt.figure(figsize=(12, 8))\n",
    "plt.hist(np.log10(house_data.AveOccup), bins = 'fd')\n",
    "plt.show()"
   ]
  },
  {
   "cell_type": "code",
   "execution_count": 48,
   "id": "5421fcb3-e899-4855-8139-8e95f2beac8b",
   "metadata": {},
   "outputs": [
    {
     "data": {
      "text/html": [
       "<div>\n",
       "<style scoped>\n",
       "    .dataframe tbody tr th:only-of-type {\n",
       "        vertical-align: middle;\n",
       "    }\n",
       "\n",
       "    .dataframe tbody tr th {\n",
       "        vertical-align: top;\n",
       "    }\n",
       "\n",
       "    .dataframe thead th {\n",
       "        text-align: right;\n",
       "    }\n",
       "</style>\n",
       "<table border=\"1\" class=\"dataframe\">\n",
       "  <thead>\n",
       "    <tr style=\"text-align: right;\">\n",
       "      <th></th>\n",
       "      <th>MedInc</th>\n",
       "      <th>HouseAge</th>\n",
       "      <th>AveRooms</th>\n",
       "      <th>AveBedrms</th>\n",
       "      <th>Population</th>\n",
       "      <th>AveOccup</th>\n",
       "      <th>Latitude</th>\n",
       "      <th>Longitude</th>\n",
       "      <th>MedHouseVal</th>\n",
       "    </tr>\n",
       "  </thead>\n",
       "  <tbody>\n",
       "    <tr>\n",
       "      <th>13366</th>\n",
       "      <td>4.2578</td>\n",
       "      <td>36.0</td>\n",
       "      <td>5.258824</td>\n",
       "      <td>1.117647</td>\n",
       "      <td>2886.0</td>\n",
       "      <td>33.952941</td>\n",
       "      <td>33.94</td>\n",
       "      <td>-117.63</td>\n",
       "      <td>1.83300</td>\n",
       "    </tr>\n",
       "    <tr>\n",
       "      <th>8874</th>\n",
       "      <td>9.3370</td>\n",
       "      <td>52.0</td>\n",
       "      <td>7.285714</td>\n",
       "      <td>1.214286</td>\n",
       "      <td>1154.0</td>\n",
       "      <td>41.214286</td>\n",
       "      <td>34.06</td>\n",
       "      <td>-118.45</td>\n",
       "      <td>5.00001</td>\n",
       "    </tr>\n",
       "    <tr>\n",
       "      <th>16420</th>\n",
       "      <td>5.7485</td>\n",
       "      <td>26.0</td>\n",
       "      <td>5.366667</td>\n",
       "      <td>0.900000</td>\n",
       "      <td>1542.0</td>\n",
       "      <td>51.400000</td>\n",
       "      <td>37.89</td>\n",
       "      <td>-121.29</td>\n",
       "      <td>1.62500</td>\n",
       "    </tr>\n",
       "    <tr>\n",
       "      <th>12104</th>\n",
       "      <td>1.6250</td>\n",
       "      <td>8.0</td>\n",
       "      <td>7.600000</td>\n",
       "      <td>0.950000</td>\n",
       "      <td>1275.0</td>\n",
       "      <td>63.750000</td>\n",
       "      <td>33.97</td>\n",
       "      <td>-117.33</td>\n",
       "      <td>1.62500</td>\n",
       "    </tr>\n",
       "    <tr>\n",
       "      <th>9172</th>\n",
       "      <td>4.2391</td>\n",
       "      <td>5.0</td>\n",
       "      <td>5.123810</td>\n",
       "      <td>0.933333</td>\n",
       "      <td>8733.0</td>\n",
       "      <td>83.171429</td>\n",
       "      <td>34.47</td>\n",
       "      <td>-118.59</td>\n",
       "      <td>1.54600</td>\n",
       "    </tr>\n",
       "    <tr>\n",
       "      <th>13034</th>\n",
       "      <td>6.1359</td>\n",
       "      <td>52.0</td>\n",
       "      <td>8.275862</td>\n",
       "      <td>1.517241</td>\n",
       "      <td>6675.0</td>\n",
       "      <td>230.172414</td>\n",
       "      <td>38.69</td>\n",
       "      <td>-121.15</td>\n",
       "      <td>2.25000</td>\n",
       "    </tr>\n",
       "    <tr>\n",
       "      <th>16669</th>\n",
       "      <td>4.2639</td>\n",
       "      <td>46.0</td>\n",
       "      <td>9.076923</td>\n",
       "      <td>1.307692</td>\n",
       "      <td>6532.0</td>\n",
       "      <td>502.461538</td>\n",
       "      <td>35.32</td>\n",
       "      <td>-120.70</td>\n",
       "      <td>3.50000</td>\n",
       "    </tr>\n",
       "    <tr>\n",
       "      <th>3364</th>\n",
       "      <td>5.5179</td>\n",
       "      <td>36.0</td>\n",
       "      <td>5.142857</td>\n",
       "      <td>1.142857</td>\n",
       "      <td>4198.0</td>\n",
       "      <td>599.714286</td>\n",
       "      <td>40.41</td>\n",
       "      <td>-120.51</td>\n",
       "      <td>0.67500</td>\n",
       "    </tr>\n",
       "    <tr>\n",
       "      <th>19006</th>\n",
       "      <td>10.2264</td>\n",
       "      <td>45.0</td>\n",
       "      <td>3.166667</td>\n",
       "      <td>0.833333</td>\n",
       "      <td>7460.0</td>\n",
       "      <td>1243.333333</td>\n",
       "      <td>38.32</td>\n",
       "      <td>-121.98</td>\n",
       "      <td>1.37500</td>\n",
       "    </tr>\n",
       "  </tbody>\n",
       "</table>\n",
       "</div>"
      ],
      "text/plain": [
       "        MedInc  HouseAge  AveRooms  AveBedrms  Population     AveOccup  \\\n",
       "13366   4.2578      36.0  5.258824   1.117647      2886.0    33.952941   \n",
       "8874    9.3370      52.0  7.285714   1.214286      1154.0    41.214286   \n",
       "16420   5.7485      26.0  5.366667   0.900000      1542.0    51.400000   \n",
       "12104   1.6250       8.0  7.600000   0.950000      1275.0    63.750000   \n",
       "9172    4.2391       5.0  5.123810   0.933333      8733.0    83.171429   \n",
       "13034   6.1359      52.0  8.275862   1.517241      6675.0   230.172414   \n",
       "16669   4.2639      46.0  9.076923   1.307692      6532.0   502.461538   \n",
       "3364    5.5179      36.0  5.142857   1.142857      4198.0   599.714286   \n",
       "19006  10.2264      45.0  3.166667   0.833333      7460.0  1243.333333   \n",
       "\n",
       "       Latitude  Longitude  MedHouseVal  \n",
       "13366     33.94    -117.63      1.83300  \n",
       "8874      34.06    -118.45      5.00001  \n",
       "16420     37.89    -121.29      1.62500  \n",
       "12104     33.97    -117.33      1.62500  \n",
       "9172      34.47    -118.59      1.54600  \n",
       "13034     38.69    -121.15      2.25000  \n",
       "16669     35.32    -120.70      3.50000  \n",
       "3364      40.41    -120.51      0.67500  \n",
       "19006     38.32    -121.98      1.37500  "
      ]
     },
     "execution_count": 48,
     "metadata": {},
     "output_type": "execute_result"
    }
   ],
   "source": [
    "house_data[np.log10(house_data.AveOccup) > 1.5].sort_values('AveOccup')"
   ]
  },
  {
   "cell_type": "markdown",
   "id": "a0592113-ed87-41a3-9393-70050ec36b69",
   "metadata": {},
   "source": [
    "# target exploration"
   ]
  },
  {
   "cell_type": "code",
   "execution_count": 77,
   "id": "f1237925-b429-463d-9feb-cf52b08b7bc8",
   "metadata": {},
   "outputs": [
    {
     "data": {
      "image/png": "[encoded data removed]",
      "text/plain": [
       "<Figure size 1200x800 with 1 Axes>"
      ]
     },
     "metadata": {},
     "output_type": "display_data"
    }
   ],
   "source": [
    "plt.figure(figsize=(12, 8))\n",
    "plt.hist(house_data.MedHouseVal, bins = 'fd')\n",
    "plt.show()"
   ]
  },
  {
   "cell_type": "code",
   "execution_count": 80,
   "id": "50800860-9d74-4ff1-90ed-14f63696aa64",
   "metadata": {},
   "outputs": [
    {
     "data": {
      "text/html": [
       "<div>\n",
       "<style scoped>\n",
       "    .dataframe tbody tr th:only-of-type {\n",
       "        vertical-align: middle;\n",
       "    }\n",
       "\n",
       "    .dataframe tbody tr th {\n",
       "        vertical-align: top;\n",
       "    }\n",
       "\n",
       "    .dataframe thead th {\n",
       "        text-align: right;\n",
       "    }\n",
       "</style>\n",
       "<table border=\"1\" class=\"dataframe\">\n",
       "  <thead>\n",
       "    <tr style=\"text-align: right;\">\n",
       "      <th></th>\n",
       "      <th>MedInc</th>\n",
       "      <th>HouseAge</th>\n",
       "      <th>AveRooms</th>\n",
       "      <th>AveBedrms</th>\n",
       "      <th>Population</th>\n",
       "      <th>AveOccup</th>\n",
       "      <th>Latitude</th>\n",
       "      <th>Longitude</th>\n",
       "      <th>MedHouseVal</th>\n",
       "    </tr>\n",
       "  </thead>\n",
       "  <tbody>\n",
       "    <tr>\n",
       "      <th>89</th>\n",
       "      <td>1.2434</td>\n",
       "      <td>52.0</td>\n",
       "      <td>2.929412</td>\n",
       "      <td>0.917647</td>\n",
       "      <td>396.0</td>\n",
       "      <td>4.658824</td>\n",
       "      <td>37.80</td>\n",
       "      <td>-122.27</td>\n",
       "      <td>5.00001</td>\n",
       "    </tr>\n",
       "    <tr>\n",
       "      <th>459</th>\n",
       "      <td>1.1696</td>\n",
       "      <td>52.0</td>\n",
       "      <td>2.436000</td>\n",
       "      <td>0.944000</td>\n",
       "      <td>1349.0</td>\n",
       "      <td>5.396000</td>\n",
       "      <td>37.87</td>\n",
       "      <td>-122.25</td>\n",
       "      <td>5.00001</td>\n",
       "    </tr>\n",
       "    <tr>\n",
       "      <th>493</th>\n",
       "      <td>7.8521</td>\n",
       "      <td>52.0</td>\n",
       "      <td>7.794393</td>\n",
       "      <td>1.051402</td>\n",
       "      <td>517.0</td>\n",
       "      <td>2.415888</td>\n",
       "      <td>37.86</td>\n",
       "      <td>-122.24</td>\n",
       "      <td>5.00001</td>\n",
       "    </tr>\n",
       "    <tr>\n",
       "      <th>494</th>\n",
       "      <td>9.3959</td>\n",
       "      <td>52.0</td>\n",
       "      <td>7.512097</td>\n",
       "      <td>0.955645</td>\n",
       "      <td>1366.0</td>\n",
       "      <td>2.754032</td>\n",
       "      <td>37.85</td>\n",
       "      <td>-122.24</td>\n",
       "      <td>5.00001</td>\n",
       "    </tr>\n",
       "    <tr>\n",
       "      <th>509</th>\n",
       "      <td>7.8772</td>\n",
       "      <td>52.0</td>\n",
       "      <td>8.282548</td>\n",
       "      <td>1.049861</td>\n",
       "      <td>947.0</td>\n",
       "      <td>2.623269</td>\n",
       "      <td>37.83</td>\n",
       "      <td>-122.23</td>\n",
       "      <td>5.00001</td>\n",
       "    </tr>\n",
       "    <tr>\n",
       "      <th>...</th>\n",
       "      <td>...</td>\n",
       "      <td>...</td>\n",
       "      <td>...</td>\n",
       "      <td>...</td>\n",
       "      <td>...</td>\n",
       "      <td>...</td>\n",
       "      <td>...</td>\n",
       "      <td>...</td>\n",
       "      <td>...</td>\n",
       "    </tr>\n",
       "    <tr>\n",
       "      <th>20422</th>\n",
       "      <td>5.1457</td>\n",
       "      <td>35.0</td>\n",
       "      <td>6.958333</td>\n",
       "      <td>1.217593</td>\n",
       "      <td>576.0</td>\n",
       "      <td>2.666667</td>\n",
       "      <td>34.14</td>\n",
       "      <td>-118.90</td>\n",
       "      <td>5.00001</td>\n",
       "    </tr>\n",
       "    <tr>\n",
       "      <th>20426</th>\n",
       "      <td>10.0472</td>\n",
       "      <td>11.0</td>\n",
       "      <td>9.890756</td>\n",
       "      <td>1.159664</td>\n",
       "      <td>415.0</td>\n",
       "      <td>3.487395</td>\n",
       "      <td>34.18</td>\n",
       "      <td>-118.69</td>\n",
       "      <td>5.00001</td>\n",
       "    </tr>\n",
       "    <tr>\n",
       "      <th>20427</th>\n",
       "      <td>8.6499</td>\n",
       "      <td>4.0</td>\n",
       "      <td>7.236059</td>\n",
       "      <td>1.032528</td>\n",
       "      <td>5495.0</td>\n",
       "      <td>2.553439</td>\n",
       "      <td>34.19</td>\n",
       "      <td>-118.80</td>\n",
       "      <td>5.00001</td>\n",
       "    </tr>\n",
       "    <tr>\n",
       "      <th>20436</th>\n",
       "      <td>12.5420</td>\n",
       "      <td>10.0</td>\n",
       "      <td>9.873315</td>\n",
       "      <td>1.102426</td>\n",
       "      <td>1179.0</td>\n",
       "      <td>3.177898</td>\n",
       "      <td>34.21</td>\n",
       "      <td>-118.69</td>\n",
       "      <td>5.00001</td>\n",
       "    </tr>\n",
       "    <tr>\n",
       "      <th>20443</th>\n",
       "      <td>3.3438</td>\n",
       "      <td>50.0</td>\n",
       "      <td>5.342857</td>\n",
       "      <td>0.942857</td>\n",
       "      <td>130.0</td>\n",
       "      <td>3.714286</td>\n",
       "      <td>34.27</td>\n",
       "      <td>-118.85</td>\n",
       "      <td>5.00001</td>\n",
       "    </tr>\n",
       "  </tbody>\n",
       "</table>\n",
       "<p>965 rows × 9 columns</p>\n",
       "</div>"
      ],
      "text/plain": [
       "        MedInc  HouseAge  AveRooms  AveBedrms  Population  AveOccup  Latitude  \\\n",
       "89      1.2434      52.0  2.929412   0.917647       396.0  4.658824     37.80   \n",
       "459     1.1696      52.0  2.436000   0.944000      1349.0  5.396000     37.87   \n",
       "493     7.8521      52.0  7.794393   1.051402       517.0  2.415888     37.86   \n",
       "494     9.3959      52.0  7.512097   0.955645      1366.0  2.754032     37.85   \n",
       "509     7.8772      52.0  8.282548   1.049861       947.0  2.623269     37.83   \n",
       "...        ...       ...       ...        ...         ...       ...       ...   \n",
       "20422   5.1457      35.0  6.958333   1.217593       576.0  2.666667     34.14   \n",
       "20426  10.0472      11.0  9.890756   1.159664       415.0  3.487395     34.18   \n",
       "20427   8.6499       4.0  7.236059   1.032528      5495.0  2.553439     34.19   \n",
       "20436  12.5420      10.0  9.873315   1.102426      1179.0  3.177898     34.21   \n",
       "20443   3.3438      50.0  5.342857   0.942857       130.0  3.714286     34.27   \n",
       "\n",
       "       Longitude  MedHouseVal  \n",
       "89       -122.27      5.00001  \n",
       "459      -122.25      5.00001  \n",
       "493      -122.24      5.00001  \n",
       "494      -122.24      5.00001  \n",
       "509      -122.23      5.00001  \n",
       "...          ...          ...  \n",
       "20422    -118.90      5.00001  \n",
       "20426    -118.69      5.00001  \n",
       "20427    -118.80      5.00001  \n",
       "20436    -118.69      5.00001  \n",
       "20443    -118.85      5.00001  \n",
       "\n",
       "[965 rows x 9 columns]"
      ]
     },
     "execution_count": 80,
     "metadata": {},
     "output_type": "execute_result"
    }
   ],
   "source": [
    "house_data[house_data.MedHouseVal > 5]"
   ]
  },
  {
   "cell_type": "code",
   "execution_count": 81,
   "id": "db6a9635-0141-4916-9d54-db95ea4abd3d",
   "metadata": {},
   "outputs": [
    {
     "data": {
      "text/plain": [
       "array([5.00001])"
      ]
     },
     "execution_count": 81,
     "metadata": {},
     "output_type": "execute_result"
    }
   ],
   "source": [
    "house_data[house_data.MedHouseVal > 5].MedHouseVal.unique()"
   ]
  },
  {
   "cell_type": "code",
   "execution_count": 83,
   "id": "5c87863f-0dfe-4e36-afd6-b49e920fdff2",
   "metadata": {},
   "outputs": [],
   "source": [
    "house_data = house_data[house_data.MedHouseVal <= 5] # remove the MedHouseVal > 5, since they are a special case and cover houses with values > 500 thousands"
   ]
  },
  {
   "cell_type": "markdown",
   "id": "8a30c350-acf3-4b62-9654-9dade6c67966",
   "metadata": {},
   "source": [
    "# Linear Regression"
   ]
  },
  {
   "cell_type": "markdown",
   "id": "95ca634a-e088-4d7f-87c8-3f147f3c39e3",
   "metadata": {},
   "source": [
    "# model fitting"
   ]
  },
  {
   "cell_type": "code",
   "execution_count": 84,
   "id": "075deffe-ecd9-44b8-9c5b-e415897c521f",
   "metadata": {},
   "outputs": [
    {
     "data": {
      "text/html": [
       "<style>#sk-container-id-7 {color: black;background-color: white;}#sk-container-id-7 pre{padding: 0;}#sk-container-id-7 div.sk-toggleable {background-color: white;}#sk-container-id-7 label.sk-toggleable__label {cursor: pointer;display: block;width: 100%;margin-bottom: 0;padding: 0.3em;box-sizing: border-box;text-align: center;}#sk-container-id-7 label.sk-toggleable__label-arrow:before {content: \"▸\";float: left;margin-right: 0.25em;color: #696969;}#sk-container-id-7 label.sk-toggleable__label-arrow:hover:before {color: black;}#sk-container-id-7 div.sk-estimator:hover label.sk-toggleable__label-arrow:before {color: black;}#sk-container-id-7 div.sk-toggleable__content {max-height: 0;max-width: 0;overflow: hidden;text-align: left;background-color: #f0f8ff;}#sk-container-id-7 div.sk-toggleable__content pre {margin: 0.2em;color: black;border-radius: 0.25em;background-color: #f0f8ff;}#sk-container-id-7 input.sk-toggleable__control:checked~div.sk-toggleable__content {max-height: 200px;max-width: 100%;overflow: auto;}#sk-container-id-7 input.sk-toggleable__control:checked~label.sk-toggleable__label-arrow:before {content: \"▾\";}#sk-container-id-7 div.sk-estimator input.sk-toggleable__control:checked~label.sk-toggleable__label {background-color: #d4ebff;}#sk-container-id-7 div.sk-label input.sk-toggleable__control:checked~label.sk-toggleable__label {background-color: #d4ebff;}#sk-container-id-7 input.sk-hidden--visually {border: 0;clip: rect(1px 1px 1px 1px);clip: rect(1px, 1px, 1px, 1px);height: 1px;margin: -1px;overflow: hidden;padding: 0;position: absolute;width: 1px;}#sk-container-id-7 div.sk-estimator {font-family: monospace;background-color: #f0f8ff;border: 1px dotted black;border-radius: 0.25em;box-sizing: border-box;margin-bottom: 0.5em;}#sk-container-id-7 div.sk-estimator:hover {background-color: #d4ebff;}#sk-container-id-7 div.sk-parallel-item::after {content: \"\";width: 100%;border-bottom: 1px solid gray;flex-grow: 1;}#sk-container-id-7 div.sk-label:hover label.sk-toggleable__label {background-color: #d4ebff;}#sk-container-id-7 div.sk-serial::before {content: \"\";position: absolute;border-left: 1px solid gray;box-sizing: border-box;top: 0;bottom: 0;left: 50%;z-index: 0;}#sk-container-id-7 div.sk-serial {display: flex;flex-direction: column;align-items: center;background-color: white;padding-right: 0.2em;padding-left: 0.2em;position: relative;}#sk-container-id-7 div.sk-item {position: relative;z-index: 1;}#sk-container-id-7 div.sk-parallel {display: flex;align-items: stretch;justify-content: center;background-color: white;position: relative;}#sk-container-id-7 div.sk-item::before, #sk-container-id-7 div.sk-parallel-item::before {content: \"\";position: absolute;border-left: 1px solid gray;box-sizing: border-box;top: 0;bottom: 0;left: 50%;z-index: -1;}#sk-container-id-7 div.sk-parallel-item {display: flex;flex-direction: column;z-index: 1;position: relative;background-color: white;}#sk-container-id-7 div.sk-parallel-item:first-child::after {align-self: flex-end;width: 50%;}#sk-container-id-7 div.sk-parallel-item:last-child::after {align-self: flex-start;width: 50%;}#sk-container-id-7 div.sk-parallel-item:only-child::after {width: 0;}#sk-container-id-7 div.sk-dashed-wrapped {border: 1px dashed gray;margin: 0 0.4em 0.5em 0.4em;box-sizing: border-box;padding-bottom: 0.4em;background-color: white;}#sk-container-id-7 div.sk-label label {font-family: monospace;font-weight: bold;display: inline-block;line-height: 1.2em;}#sk-container-id-7 div.sk-label-container {text-align: center;}#sk-container-id-7 div.sk-container {/* jupyter's `normalize.less` sets `[hidden] { display: none; }` but bootstrap.min.css set `[hidden] { display: none !important; }` so we also need the `!important` here to be able to override the default hidden behavior on the sphinx rendered scikit-learn.org. See: https://github.com/scikit-learn/scikit-learn/issues/21755 */display: inline-block !important;position: relative;}#sk-container-id-7 div.sk-text-repr-fallback {display: none;}</style><div id=\"sk-container-id-7\" class=\"sk-top-container\"><div class=\"sk-text-repr-fallback\"><pre>LinearRegression()</pre><b>In a Jupyter environment, please rerun this cell to show the HTML representation or trust the notebook. <br />On GitHub, the HTML representation is unable to render, please try loading this page with nbviewer.org.</b></div><div class=\"sk-container\" hidden><div class=\"sk-item\"><div class=\"sk-estimator sk-toggleable\"><input class=\"sk-toggleable__control sk-hidden--visually\" id=\"sk-estimator-id-7\" type=\"checkbox\" checked><label for=\"sk-estimator-id-7\" class=\"sk-toggleable__label sk-toggleable__label-arrow\">LinearRegression</label><div class=\"sk-toggleable__content\"><pre>LinearRegression()</pre></div></div></div></div></div>"
      ],
      "text/plain": [
       "LinearRegression()"
      ]
     },
     "execution_count": 84,
     "metadata": {},
     "output_type": "execute_result"
    }
   ],
   "source": [
    "house_model = LinearRegression()\n",
    "house_model"
   ]
  },
  {
   "cell_type": "markdown",
   "id": "d4379a2b-6218-4ed6-b392-630833345315",
   "metadata": {},
   "source": [
    "erronouse approach: input all data including the target"
   ]
  },
  {
   "cell_type": "code",
   "execution_count": 85,
   "id": "968d9905-9a94-4a76-a478-5a91ed2fed28",
   "metadata": {},
   "outputs": [
    {
     "data": {
      "text/html": [
       "<style>#sk-container-id-8 {color: black;background-color: white;}#sk-container-id-8 pre{padding: 0;}#sk-container-id-8 div.sk-toggleable {background-color: white;}#sk-container-id-8 label.sk-toggleable__label {cursor: pointer;display: block;width: 100%;margin-bottom: 0;padding: 0.3em;box-sizing: border-box;text-align: center;}#sk-container-id-8 label.sk-toggleable__label-arrow:before {content: \"▸\";float: left;margin-right: 0.25em;color: #696969;}#sk-container-id-8 label.sk-toggleable__label-arrow:hover:before {color: black;}#sk-container-id-8 div.sk-estimator:hover label.sk-toggleable__label-arrow:before {color: black;}#sk-container-id-8 div.sk-toggleable__content {max-height: 0;max-width: 0;overflow: hidden;text-align: left;background-color: #f0f8ff;}#sk-container-id-8 div.sk-toggleable__content pre {margin: 0.2em;color: black;border-radius: 0.25em;background-color: #f0f8ff;}#sk-container-id-8 input.sk-toggleable__control:checked~div.sk-toggleable__content {max-height: 200px;max-width: 100%;overflow: auto;}#sk-container-id-8 input.sk-toggleable__control:checked~label.sk-toggleable__label-arrow:before {content: \"▾\";}#sk-container-id-8 div.sk-estimator input.sk-toggleable__control:checked~label.sk-toggleable__label {background-color: #d4ebff;}#sk-container-id-8 div.sk-label input.sk-toggleable__control:checked~label.sk-toggleable__label {background-color: #d4ebff;}#sk-container-id-8 input.sk-hidden--visually {border: 0;clip: rect(1px 1px 1px 1px);clip: rect(1px, 1px, 1px, 1px);height: 1px;margin: -1px;overflow: hidden;padding: 0;position: absolute;width: 1px;}#sk-container-id-8 div.sk-estimator {font-family: monospace;background-color: #f0f8ff;border: 1px dotted black;border-radius: 0.25em;box-sizing: border-box;margin-bottom: 0.5em;}#sk-container-id-8 div.sk-estimator:hover {background-color: #d4ebff;}#sk-container-id-8 div.sk-parallel-item::after {content: \"\";width: 100%;border-bottom: 1px solid gray;flex-grow: 1;}#sk-container-id-8 div.sk-label:hover label.sk-toggleable__label {background-color: #d4ebff;}#sk-container-id-8 div.sk-serial::before {content: \"\";position: absolute;border-left: 1px solid gray;box-sizing: border-box;top: 0;bottom: 0;left: 50%;z-index: 0;}#sk-container-id-8 div.sk-serial {display: flex;flex-direction: column;align-items: center;background-color: white;padding-right: 0.2em;padding-left: 0.2em;position: relative;}#sk-container-id-8 div.sk-item {position: relative;z-index: 1;}#sk-container-id-8 div.sk-parallel {display: flex;align-items: stretch;justify-content: center;background-color: white;position: relative;}#sk-container-id-8 div.sk-item::before, #sk-container-id-8 div.sk-parallel-item::before {content: \"\";position: absolute;border-left: 1px solid gray;box-sizing: border-box;top: 0;bottom: 0;left: 50%;z-index: -1;}#sk-container-id-8 div.sk-parallel-item {display: flex;flex-direction: column;z-index: 1;position: relative;background-color: white;}#sk-container-id-8 div.sk-parallel-item:first-child::after {align-self: flex-end;width: 50%;}#sk-container-id-8 div.sk-parallel-item:last-child::after {align-self: flex-start;width: 50%;}#sk-container-id-8 div.sk-parallel-item:only-child::after {width: 0;}#sk-container-id-8 div.sk-dashed-wrapped {border: 1px dashed gray;margin: 0 0.4em 0.5em 0.4em;box-sizing: border-box;padding-bottom: 0.4em;background-color: white;}#sk-container-id-8 div.sk-label label {font-family: monospace;font-weight: bold;display: inline-block;line-height: 1.2em;}#sk-container-id-8 div.sk-label-container {text-align: center;}#sk-container-id-8 div.sk-container {/* jupyter's `normalize.less` sets `[hidden] { display: none; }` but bootstrap.min.css set `[hidden] { display: none !important; }` so we also need the `!important` here to be able to override the default hidden behavior on the sphinx rendered scikit-learn.org. See: https://github.com/scikit-learn/scikit-learn/issues/21755 */display: inline-block !important;position: relative;}#sk-container-id-8 div.sk-text-repr-fallback {display: none;}</style><div id=\"sk-container-id-8\" class=\"sk-top-container\"><div class=\"sk-text-repr-fallback\"><pre>LinearRegression()</pre><b>In a Jupyter environment, please rerun this cell to show the HTML representation or trust the notebook. <br />On GitHub, the HTML representation is unable to render, please try loading this page with nbviewer.org.</b></div><div class=\"sk-container\" hidden><div class=\"sk-item\"><div class=\"sk-estimator sk-toggleable\"><input class=\"sk-toggleable__control sk-hidden--visually\" id=\"sk-estimator-id-8\" type=\"checkbox\" checked><label for=\"sk-estimator-id-8\" class=\"sk-toggleable__label sk-toggleable__label-arrow\">LinearRegression</label><div class=\"sk-toggleable__content\"><pre>LinearRegression()</pre></div></div></div></div></div>"
      ],
      "text/plain": [
       "LinearRegression()"
      ]
     },
     "execution_count": 85,
     "metadata": {},
     "output_type": "execute_result"
    }
   ],
   "source": [
    "house_model.fit(house_data, house_data.MedHouseVal)"
   ]
  },
  {
   "cell_type": "code",
   "execution_count": 86,
   "id": "52aeb9a6-e4f4-4b8c-9cb3-f4a198a0ebfb",
   "metadata": {},
   "outputs": [
    {
     "data": {
      "text/plain": [
       "array([-1.30694079e-16,  2.83093037e-16,  6.94696861e-16, -2.02227071e-15,\n",
       "        8.57473195e-18, -8.34221399e-17, -6.50053972e-17,  5.31564515e-16,\n",
       "        1.00000000e+00])"
      ]
     },
     "execution_count": 86,
     "metadata": {},
     "output_type": "execute_result"
    }
   ],
   "source": [
    "house_model.coef_"
   ]
  },
  {
   "cell_type": "code",
   "execution_count": 87,
   "id": "a66b9d92-d161-4d73-b44b-89dc26d0d895",
   "metadata": {},
   "outputs": [
    {
     "data": {
      "text/plain": [
       "array(['MedInc', 'HouseAge', 'AveRooms', 'AveBedrms', 'Population',\n",
       "       'AveOccup', 'Latitude', 'Longitude', 'MedHouseVal'], dtype=object)"
      ]
     },
     "execution_count": 87,
     "metadata": {},
     "output_type": "execute_result"
    }
   ],
   "source": [
    "house_model.feature_names_in_"
   ]
  },
  {
   "cell_type": "code",
   "execution_count": 88,
   "id": "8fd0e41a-afda-4dc3-a0be-ad16f90d7d82",
   "metadata": {},
   "outputs": [
    {
     "data": {
      "text/plain": [
       "[('MedInc', -1.3069407856908105e-16),\n",
       " ('HouseAge', 2.830930367049993e-16),\n",
       " ('AveRooms', 6.946968607704144e-16),\n",
       " ('AveBedrms', -2.0222707103394475e-15),\n",
       " ('Population', 8.5747319463572e-18),\n",
       " ('AveOccup', -8.342213988122494e-17),\n",
       " ('Latitude', -6.50053971599871e-17),\n",
       " ('Longitude', 5.315645150786718e-16),\n",
       " ('MedHouseVal', 1.0000000000000007)]"
      ]
     },
     "execution_count": 88,
     "metadata": {},
     "output_type": "execute_result"
    }
   ],
   "source": [
    "list(zip(house_model.feature_names_in_, house_model.coef_))"
   ]
  },
  {
   "cell_type": "markdown",
   "id": "1b737719-9429-467b-b7d8-e21cbe9239c9",
   "metadata": {},
   "source": [
    "correct approach"
   ]
  },
  {
   "cell_type": "code",
   "execution_count": 89,
   "id": "c02ac84a-22ea-4077-baa3-f2771868c3f9",
   "metadata": {},
   "outputs": [],
   "source": [
    "house_attributes = house_data.drop(columns = ['MedHouseVal'])\n",
    "target = house_data.MedHouseVal"
   ]
  },
  {
   "cell_type": "code",
   "execution_count": 90,
   "id": "7e232172-82df-4b90-91cf-dd785aff15ba",
   "metadata": {},
   "outputs": [
    {
     "data": {
      "text/html": [
       "<style>#sk-container-id-9 {color: black;background-color: white;}#sk-container-id-9 pre{padding: 0;}#sk-container-id-9 div.sk-toggleable {background-color: white;}#sk-container-id-9 label.sk-toggleable__label {cursor: pointer;display: block;width: 100%;margin-bottom: 0;padding: 0.3em;box-sizing: border-box;text-align: center;}#sk-container-id-9 label.sk-toggleable__label-arrow:before {content: \"▸\";float: left;margin-right: 0.25em;color: #696969;}#sk-container-id-9 label.sk-toggleable__label-arrow:hover:before {color: black;}#sk-container-id-9 div.sk-estimator:hover label.sk-toggleable__label-arrow:before {color: black;}#sk-container-id-9 div.sk-toggleable__content {max-height: 0;max-width: 0;overflow: hidden;text-align: left;background-color: #f0f8ff;}#sk-container-id-9 div.sk-toggleable__content pre {margin: 0.2em;color: black;border-radius: 0.25em;background-color: #f0f8ff;}#sk-container-id-9 input.sk-toggleable__control:checked~div.sk-toggleable__content {max-height: 200px;max-width: 100%;overflow: auto;}#sk-container-id-9 input.sk-toggleable__control:checked~label.sk-toggleable__label-arrow:before {content: \"▾\";}#sk-container-id-9 div.sk-estimator input.sk-toggleable__control:checked~label.sk-toggleable__label {background-color: #d4ebff;}#sk-container-id-9 div.sk-label input.sk-toggleable__control:checked~label.sk-toggleable__label {background-color: #d4ebff;}#sk-container-id-9 input.sk-hidden--visually {border: 0;clip: rect(1px 1px 1px 1px);clip: rect(1px, 1px, 1px, 1px);height: 1px;margin: -1px;overflow: hidden;padding: 0;position: absolute;width: 1px;}#sk-container-id-9 div.sk-estimator {font-family: monospace;background-color: #f0f8ff;border: 1px dotted black;border-radius: 0.25em;box-sizing: border-box;margin-bottom: 0.5em;}#sk-container-id-9 div.sk-estimator:hover {background-color: #d4ebff;}#sk-container-id-9 div.sk-parallel-item::after {content: \"\";width: 100%;border-bottom: 1px solid gray;flex-grow: 1;}#sk-container-id-9 div.sk-label:hover label.sk-toggleable__label {background-color: #d4ebff;}#sk-container-id-9 div.sk-serial::before {content: \"\";position: absolute;border-left: 1px solid gray;box-sizing: border-box;top: 0;bottom: 0;left: 50%;z-index: 0;}#sk-container-id-9 div.sk-serial {display: flex;flex-direction: column;align-items: center;background-color: white;padding-right: 0.2em;padding-left: 0.2em;position: relative;}#sk-container-id-9 div.sk-item {position: relative;z-index: 1;}#sk-container-id-9 div.sk-parallel {display: flex;align-items: stretch;justify-content: center;background-color: white;position: relative;}#sk-container-id-9 div.sk-item::before, #sk-container-id-9 div.sk-parallel-item::before {content: \"\";position: absolute;border-left: 1px solid gray;box-sizing: border-box;top: 0;bottom: 0;left: 50%;z-index: -1;}#sk-container-id-9 div.sk-parallel-item {display: flex;flex-direction: column;z-index: 1;position: relative;background-color: white;}#sk-container-id-9 div.sk-parallel-item:first-child::after {align-self: flex-end;width: 50%;}#sk-container-id-9 div.sk-parallel-item:last-child::after {align-self: flex-start;width: 50%;}#sk-container-id-9 div.sk-parallel-item:only-child::after {width: 0;}#sk-container-id-9 div.sk-dashed-wrapped {border: 1px dashed gray;margin: 0 0.4em 0.5em 0.4em;box-sizing: border-box;padding-bottom: 0.4em;background-color: white;}#sk-container-id-9 div.sk-label label {font-family: monospace;font-weight: bold;display: inline-block;line-height: 1.2em;}#sk-container-id-9 div.sk-label-container {text-align: center;}#sk-container-id-9 div.sk-container {/* jupyter's `normalize.less` sets `[hidden] { display: none; }` but bootstrap.min.css set `[hidden] { display: none !important; }` so we also need the `!important` here to be able to override the default hidden behavior on the sphinx rendered scikit-learn.org. See: https://github.com/scikit-learn/scikit-learn/issues/21755 */display: inline-block !important;position: relative;}#sk-container-id-9 div.sk-text-repr-fallback {display: none;}</style><div id=\"sk-container-id-9\" class=\"sk-top-container\"><div class=\"sk-text-repr-fallback\"><pre>LinearRegression()</pre><b>In a Jupyter environment, please rerun this cell to show the HTML representation or trust the notebook. <br />On GitHub, the HTML representation is unable to render, please try loading this page with nbviewer.org.</b></div><div class=\"sk-container\" hidden><div class=\"sk-item\"><div class=\"sk-estimator sk-toggleable\"><input class=\"sk-toggleable__control sk-hidden--visually\" id=\"sk-estimator-id-9\" type=\"checkbox\" checked><label for=\"sk-estimator-id-9\" class=\"sk-toggleable__label sk-toggleable__label-arrow\">LinearRegression</label><div class=\"sk-toggleable__content\"><pre>LinearRegression()</pre></div></div></div></div></div>"
      ],
      "text/plain": [
       "LinearRegression()"
      ]
     },
     "execution_count": 90,
     "metadata": {},
     "output_type": "execute_result"
    }
   ],
   "source": [
    "house_model.fit(house_attributes, target)"
   ]
  },
  {
   "cell_type": "code",
   "execution_count": 91,
   "id": "4c675790-7914-4e1b-aecf-f568f7b7c193",
   "metadata": {},
   "outputs": [
    {
     "data": {
      "text/plain": [
       "[('MedInc', 0.43203999075155325),\n",
       " ('HouseAge', 0.008178957814135924),\n",
       " ('AveRooms', -0.11051221552017867),\n",
       " ('AveBedrms', 0.6134539079605462),\n",
       " ('Population', 4.5934758965291635e-06),\n",
       " ('AveOccup', -0.003447720551817134),\n",
       " ('Latitude', -0.3794033795650469),\n",
       " ('Longitude', -0.3959098468967255)]"
      ]
     },
     "execution_count": 91,
     "metadata": {},
     "output_type": "execute_result"
    }
   ],
   "source": [
    "list(zip(house_model.feature_names_in_, house_model.coef_))"
   ]
  },
  {
   "cell_type": "markdown",
   "id": "a49705f4-34e9-43c6-8fda-dcbcfdee2b9a",
   "metadata": {},
   "source": [
    "## MinMaxScaler"
   ]
  },
  {
   "cell_type": "code",
   "execution_count": 92,
   "id": "c85708f0-45b2-46cb-a97d-44c44dfb4387",
   "metadata": {},
   "outputs": [],
   "source": [
    "scaler = MinMaxScaler()"
   ]
  },
  {
   "cell_type": "code",
   "execution_count": 93,
   "id": "32c9bd14-d93f-48bd-9e2b-5ba282f8b465",
   "metadata": {},
   "outputs": [
    {
     "data": {
      "text/html": [
       "<style>#sk-container-id-10 {color: black;background-color: white;}#sk-container-id-10 pre{padding: 0;}#sk-container-id-10 div.sk-toggleable {background-color: white;}#sk-container-id-10 label.sk-toggleable__label {cursor: pointer;display: block;width: 100%;margin-bottom: 0;padding: 0.3em;box-sizing: border-box;text-align: center;}#sk-container-id-10 label.sk-toggleable__label-arrow:before {content: \"▸\";float: left;margin-right: 0.25em;color: #696969;}#sk-container-id-10 label.sk-toggleable__label-arrow:hover:before {color: black;}#sk-container-id-10 div.sk-estimator:hover label.sk-toggleable__label-arrow:before {color: black;}#sk-container-id-10 div.sk-toggleable__content {max-height: 0;max-width: 0;overflow: hidden;text-align: left;background-color: #f0f8ff;}#sk-container-id-10 div.sk-toggleable__content pre {margin: 0.2em;color: black;border-radius: 0.25em;background-color: #f0f8ff;}#sk-container-id-10 input.sk-toggleable__control:checked~div.sk-toggleable__content {max-height: 200px;max-width: 100%;overflow: auto;}#sk-container-id-10 input.sk-toggleable__control:checked~label.sk-toggleable__label-arrow:before {content: \"▾\";}#sk-container-id-10 div.sk-estimator input.sk-toggleable__control:checked~label.sk-toggleable__label {background-color: #d4ebff;}#sk-container-id-10 div.sk-label input.sk-toggleable__control:checked~label.sk-toggleable__label {background-color: #d4ebff;}#sk-container-id-10 input.sk-hidden--visually {border: 0;clip: rect(1px 1px 1px 1px);clip: rect(1px, 1px, 1px, 1px);height: 1px;margin: -1px;overflow: hidden;padding: 0;position: absolute;width: 1px;}#sk-container-id-10 div.sk-estimator {font-family: monospace;background-color: #f0f8ff;border: 1px dotted black;border-radius: 0.25em;box-sizing: border-box;margin-bottom: 0.5em;}#sk-container-id-10 div.sk-estimator:hover {background-color: #d4ebff;}#sk-container-id-10 div.sk-parallel-item::after {content: \"\";width: 100%;border-bottom: 1px solid gray;flex-grow: 1;}#sk-container-id-10 div.sk-label:hover label.sk-toggleable__label {background-color: #d4ebff;}#sk-container-id-10 div.sk-serial::before {content: \"\";position: absolute;border-left: 1px solid gray;box-sizing: border-box;top: 0;bottom: 0;left: 50%;z-index: 0;}#sk-container-id-10 div.sk-serial {display: flex;flex-direction: column;align-items: center;background-color: white;padding-right: 0.2em;padding-left: 0.2em;position: relative;}#sk-container-id-10 div.sk-item {position: relative;z-index: 1;}#sk-container-id-10 div.sk-parallel {display: flex;align-items: stretch;justify-content: center;background-color: white;position: relative;}#sk-container-id-10 div.sk-item::before, #sk-container-id-10 div.sk-parallel-item::before {content: \"\";position: absolute;border-left: 1px solid gray;box-sizing: border-box;top: 0;bottom: 0;left: 50%;z-index: -1;}#sk-container-id-10 div.sk-parallel-item {display: flex;flex-direction: column;z-index: 1;position: relative;background-color: white;}#sk-container-id-10 div.sk-parallel-item:first-child::after {align-self: flex-end;width: 50%;}#sk-container-id-10 div.sk-parallel-item:last-child::after {align-self: flex-start;width: 50%;}#sk-container-id-10 div.sk-parallel-item:only-child::after {width: 0;}#sk-container-id-10 div.sk-dashed-wrapped {border: 1px dashed gray;margin: 0 0.4em 0.5em 0.4em;box-sizing: border-box;padding-bottom: 0.4em;background-color: white;}#sk-container-id-10 div.sk-label label {font-family: monospace;font-weight: bold;display: inline-block;line-height: 1.2em;}#sk-container-id-10 div.sk-label-container {text-align: center;}#sk-container-id-10 div.sk-container {/* jupyter's `normalize.less` sets `[hidden] { display: none; }` but bootstrap.min.css set `[hidden] { display: none !important; }` so we also need the `!important` here to be able to override the default hidden behavior on the sphinx rendered scikit-learn.org. See: https://github.com/scikit-learn/scikit-learn/issues/21755 */display: inline-block !important;position: relative;}#sk-container-id-10 div.sk-text-repr-fallback {display: none;}</style><div id=\"sk-container-id-10\" class=\"sk-top-container\"><div class=\"sk-text-repr-fallback\"><pre>MinMaxScaler()</pre><b>In a Jupyter environment, please rerun this cell to show the HTML representation or trust the notebook. <br />On GitHub, the HTML representation is unable to render, please try loading this page with nbviewer.org.</b></div><div class=\"sk-container\" hidden><div class=\"sk-item\"><div class=\"sk-estimator sk-toggleable\"><input class=\"sk-toggleable__control sk-hidden--visually\" id=\"sk-estimator-id-10\" type=\"checkbox\" checked><label for=\"sk-estimator-id-10\" class=\"sk-toggleable__label sk-toggleable__label-arrow\">MinMaxScaler</label><div class=\"sk-toggleable__content\"><pre>MinMaxScaler()</pre></div></div></div></div></div>"
      ],
      "text/plain": [
       "MinMaxScaler()"
      ]
     },
     "execution_count": 93,
     "metadata": {},
     "output_type": "execute_result"
    }
   ],
   "source": [
    "scaler.fit(house_data) # the scaler learns the data"
   ]
  },
  {
   "cell_type": "code",
   "execution_count": 94,
   "id": "6ea9c381-26be-49fa-b47f-eb0e29cf8367",
   "metadata": {},
   "outputs": [
    {
     "data": {
      "text/plain": [
       "array([   0.4999    ,    1.        ,    0.84615385,    0.33333333,\n",
       "          3.        ,    0.69230769,   32.54      , -124.35      ,\n",
       "          0.14999   ])"
      ]
     },
     "execution_count": 94,
     "metadata": {},
     "output_type": "execute_result"
    }
   ],
   "source": [
    "scaler.data_min_"
   ]
  },
  {
   "cell_type": "code",
   "execution_count": 95,
   "id": "160a7e04-d2af-45be-89d6-8a80e45a3fc9",
   "metadata": {},
   "outputs": [
    {
     "data": {
      "text/plain": [
       "array([[0.53966842, 0.78431373, 0.04661026, ..., 0.5674814 , 0.21115538,\n",
       "        0.90226824],\n",
       "       [0.53802706, 0.39215686, 0.04094539, ..., 0.565356  , 0.21215139,\n",
       "        0.70824802],\n",
       "       [0.46602805, 1.        , 0.05651258, ..., 0.5642933 , 0.21015936,\n",
       "        0.69505218],\n",
       "       ...,\n",
       "       [0.08276438, 0.31372549, 0.03310413, ..., 0.73219979, 0.31175299,\n",
       "        0.15938318],\n",
       "       [0.09429525, 0.33333333, 0.03404552, ..., 0.73219979, 0.30179283,\n",
       "        0.14371311],\n",
       "       [0.13025338, 0.29411765, 0.03347754, ..., 0.72582359, 0.30976096,\n",
       "        0.15340381]])"
      ]
     },
     "execution_count": 95,
     "metadata": {},
     "output_type": "execute_result"
    }
   ],
   "source": [
    "scaler.transform(house_data)"
   ]
  },
  {
   "cell_type": "code",
   "execution_count": 96,
   "id": "87f45dfc-724d-465c-92d7-0cea02983581",
   "metadata": {},
   "outputs": [
    {
     "data": {
      "text/plain": [
       "MedInc           0.499900\n",
       "HouseAge         1.000000\n",
       "AveRooms         0.846154\n",
       "AveBedrms        0.333333\n",
       "Population       3.000000\n",
       "AveOccup         0.692308\n",
       "Latitude        32.540000\n",
       "Longitude     -124.350000\n",
       "MedHouseVal      0.149990\n",
       "dtype: float64"
      ]
     },
     "execution_count": 96,
     "metadata": {},
     "output_type": "execute_result"
    }
   ],
   "source": [
    "house_data.min(axis = 0)"
   ]
  },
  {
   "cell_type": "code",
   "execution_count": 97,
   "id": "c6cfae80-71e9-44e1-abea-8f7a52340bad",
   "metadata": {},
   "outputs": [
    {
     "data": {
      "text/plain": [
       "MedInc            15.000100\n",
       "HouseAge          52.000000\n",
       "AveRooms         132.533333\n",
       "AveBedrms         34.066667\n",
       "Population     35682.000000\n",
       "AveOccup        1243.333333\n",
       "Latitude          41.950000\n",
       "Longitude       -114.310000\n",
       "MedHouseVal        5.000000\n",
       "dtype: float64"
      ]
     },
     "execution_count": 97,
     "metadata": {},
     "output_type": "execute_result"
    }
   ],
   "source": [
    "house_data.max(axis = 0)"
   ]
  },
  {
   "cell_type": "code",
   "execution_count": 98,
   "id": "d0d4063d-d1de-410e-b97e-200e3116ca7b",
   "metadata": {},
   "outputs": [
    {
     "data": {
      "text/plain": [
       "array([[0.53966842, 0.78431373, 0.04661026, ..., 0.5674814 , 0.21115538,\n",
       "        0.90226824],\n",
       "       [0.53802706, 0.39215686, 0.04094539, ..., 0.565356  , 0.21215139,\n",
       "        0.70824802],\n",
       "       [0.46602805, 1.        , 0.05651258, ..., 0.5642933 , 0.21015936,\n",
       "        0.69505218],\n",
       "       ...,\n",
       "       [0.08276438, 0.31372549, 0.03310413, ..., 0.73219979, 0.31175299,\n",
       "        0.15938318],\n",
       "       [0.09429525, 0.33333333, 0.03404552, ..., 0.73219979, 0.30179283,\n",
       "        0.14371311],\n",
       "       [0.13025338, 0.29411765, 0.03347754, ..., 0.72582359, 0.30976096,\n",
       "        0.15340381]])"
      ]
     },
     "execution_count": 98,
     "metadata": {},
     "output_type": "execute_result"
    }
   ],
   "source": [
    "scaler.fit_transform(house_data)"
   ]
  },
  {
   "cell_type": "code",
   "execution_count": 102,
   "id": "e5920922-e32d-4256-956a-2e1a39a7e822",
   "metadata": {},
   "outputs": [],
   "source": [
    "house_attributes_scaled = scaler.fit_transform(house_attributes)"
   ]
  },
  {
   "cell_type": "code",
   "execution_count": 103,
   "id": "87fe60b5-10fd-4eea-9167-8338e082aa4d",
   "metadata": {},
   "outputs": [
    {
     "data": {
      "text/html": [
       "<style>#sk-container-id-12 {color: black;background-color: white;}#sk-container-id-12 pre{padding: 0;}#sk-container-id-12 div.sk-toggleable {background-color: white;}#sk-container-id-12 label.sk-toggleable__label {cursor: pointer;display: block;width: 100%;margin-bottom: 0;padding: 0.3em;box-sizing: border-box;text-align: center;}#sk-container-id-12 label.sk-toggleable__label-arrow:before {content: \"▸\";float: left;margin-right: 0.25em;color: #696969;}#sk-container-id-12 label.sk-toggleable__label-arrow:hover:before {color: black;}#sk-container-id-12 div.sk-estimator:hover label.sk-toggleable__label-arrow:before {color: black;}#sk-container-id-12 div.sk-toggleable__content {max-height: 0;max-width: 0;overflow: hidden;text-align: left;background-color: #f0f8ff;}#sk-container-id-12 div.sk-toggleable__content pre {margin: 0.2em;color: black;border-radius: 0.25em;background-color: #f0f8ff;}#sk-container-id-12 input.sk-toggleable__control:checked~div.sk-toggleable__content {max-height: 200px;max-width: 100%;overflow: auto;}#sk-container-id-12 input.sk-toggleable__control:checked~label.sk-toggleable__label-arrow:before {content: \"▾\";}#sk-container-id-12 div.sk-estimator input.sk-toggleable__control:checked~label.sk-toggleable__label {background-color: #d4ebff;}#sk-container-id-12 div.sk-label input.sk-toggleable__control:checked~label.sk-toggleable__label {background-color: #d4ebff;}#sk-container-id-12 input.sk-hidden--visually {border: 0;clip: rect(1px 1px 1px 1px);clip: rect(1px, 1px, 1px, 1px);height: 1px;margin: -1px;overflow: hidden;padding: 0;position: absolute;width: 1px;}#sk-container-id-12 div.sk-estimator {font-family: monospace;background-color: #f0f8ff;border: 1px dotted black;border-radius: 0.25em;box-sizing: border-box;margin-bottom: 0.5em;}#sk-container-id-12 div.sk-estimator:hover {background-color: #d4ebff;}#sk-container-id-12 div.sk-parallel-item::after {content: \"\";width: 100%;border-bottom: 1px solid gray;flex-grow: 1;}#sk-container-id-12 div.sk-label:hover label.sk-toggleable__label {background-color: #d4ebff;}#sk-container-id-12 div.sk-serial::before {content: \"\";position: absolute;border-left: 1px solid gray;box-sizing: border-box;top: 0;bottom: 0;left: 50%;z-index: 0;}#sk-container-id-12 div.sk-serial {display: flex;flex-direction: column;align-items: center;background-color: white;padding-right: 0.2em;padding-left: 0.2em;position: relative;}#sk-container-id-12 div.sk-item {position: relative;z-index: 1;}#sk-container-id-12 div.sk-parallel {display: flex;align-items: stretch;justify-content: center;background-color: white;position: relative;}#sk-container-id-12 div.sk-item::before, #sk-container-id-12 div.sk-parallel-item::before {content: \"\";position: absolute;border-left: 1px solid gray;box-sizing: border-box;top: 0;bottom: 0;left: 50%;z-index: -1;}#sk-container-id-12 div.sk-parallel-item {display: flex;flex-direction: column;z-index: 1;position: relative;background-color: white;}#sk-container-id-12 div.sk-parallel-item:first-child::after {align-self: flex-end;width: 50%;}#sk-container-id-12 div.sk-parallel-item:last-child::after {align-self: flex-start;width: 50%;}#sk-container-id-12 div.sk-parallel-item:only-child::after {width: 0;}#sk-container-id-12 div.sk-dashed-wrapped {border: 1px dashed gray;margin: 0 0.4em 0.5em 0.4em;box-sizing: border-box;padding-bottom: 0.4em;background-color: white;}#sk-container-id-12 div.sk-label label {font-family: monospace;font-weight: bold;display: inline-block;line-height: 1.2em;}#sk-container-id-12 div.sk-label-container {text-align: center;}#sk-container-id-12 div.sk-container {/* jupyter's `normalize.less` sets `[hidden] { display: none; }` but bootstrap.min.css set `[hidden] { display: none !important; }` so we also need the `!important` here to be able to override the default hidden behavior on the sphinx rendered scikit-learn.org. See: https://github.com/scikit-learn/scikit-learn/issues/21755 */display: inline-block !important;position: relative;}#sk-container-id-12 div.sk-text-repr-fallback {display: none;}</style><div id=\"sk-container-id-12\" class=\"sk-top-container\"><div class=\"sk-text-repr-fallback\"><pre>LinearRegression()</pre><b>In a Jupyter environment, please rerun this cell to show the HTML representation or trust the notebook. <br />On GitHub, the HTML representation is unable to render, please try loading this page with nbviewer.org.</b></div><div class=\"sk-container\" hidden><div class=\"sk-item\"><div class=\"sk-estimator sk-toggleable\"><input class=\"sk-toggleable__control sk-hidden--visually\" id=\"sk-estimator-id-12\" type=\"checkbox\" checked><label for=\"sk-estimator-id-12\" class=\"sk-toggleable__label sk-toggleable__label-arrow\">LinearRegression</label><div class=\"sk-toggleable__content\"><pre>LinearRegression()</pre></div></div></div></div></div>"
      ],
      "text/plain": [
       "LinearRegression()"
      ]
     },
     "execution_count": 103,
     "metadata": {},
     "output_type": "execute_result"
    }
   ],
   "source": [
    "house_model_scaled = LinearRegression()\n",
    "house_model_scaled.fit(house_attributes_scaled, target)"
   ]
  },
  {
   "cell_type": "code",
   "execution_count": 105,
   "id": "0b5583c5-59a3-4c7b-9b7b-ddc9d5a26663",
   "metadata": {},
   "outputs": [
    {
     "data": {
      "text/plain": [
       "[('MedInc', 6.2646662738956715),\n",
       " ('HouseAge', 0.41712684852093235),\n",
       " ('AveRooms', -14.553041960731635),\n",
       " ('AveBedrms', 20.693845161869014),\n",
       " ('Population', 0.16389062651233757),\n",
       " ('AveOccup', -4.2842790026338005),\n",
       " ('Latitude', -3.5701858017070993),\n",
       " ('Longitude', -3.9749348628431282)]"
      ]
     },
     "execution_count": 105,
     "metadata": {},
     "output_type": "execute_result"
    }
   ],
   "source": [
    "list(zip(house_model.feature_names_in_, house_model_scaled.coef_))"
   ]
  },
  {
   "cell_type": "markdown",
   "id": "63ec74e7-1cd9-4909-b16e-ac3387acd74e",
   "metadata": {},
   "source": [
    "## StandardScaler"
   ]
  },
  {
   "cell_type": "code",
   "execution_count": 108,
   "id": "8371a217-1eaf-4e03-a367-1c2aaeed0321",
   "metadata": {},
   "outputs": [],
   "source": [
    "z_score = StandardScaler()"
   ]
  },
  {
   "cell_type": "code",
   "execution_count": 111,
   "id": "4d93bd3c-5e83-4a20-a23f-1b1d55476e73",
   "metadata": {},
   "outputs": [],
   "source": [
    "z_score = z_score.fit_transform(house_attributes)"
   ]
  },
  {
   "cell_type": "code",
   "execution_count": 112,
   "id": "8bccece6-679a-4c46-b2cf-cc35632ba57f",
   "metadata": {},
   "outputs": [
    {
     "data": {
      "text/plain": [
       "array([[ 2.96038034,  1.00838834,  0.70806549, ..., -0.050757  ,\n",
       "         1.03650334, -1.32937755],\n",
       "       [ 2.94522334, -0.5904867 ,  0.3826581 , ..., -0.09268007,\n",
       "         1.02719992, -1.32439265],\n",
       "       [ 2.28035331,  1.88776961,  1.27688557, ..., -0.02755242,\n",
       "         1.02254821, -1.33436245],\n",
       "       ...,\n",
       "       [-1.25886958, -0.9102617 , -0.06776868, ..., -0.07238292,\n",
       "         1.75751838, -0.82590242],\n",
       "       [-1.15238848, -0.83031795, -0.0136918 , ..., -0.09142276,\n",
       "         1.75751838, -0.87575144],\n",
       "       [-0.82033558, -0.99020545, -0.04631844, ..., -0.04497942,\n",
       "         1.72960812, -0.83587222]])"
      ]
     },
     "execution_count": 112,
     "metadata": {},
     "output_type": "execute_result"
    }
   ],
   "source": [
    "z_score"
   ]
  },
  {
   "cell_type": "code",
   "execution_count": 113,
   "id": "3db6e71b-94ae-4ff0-aba0-595c0434f544",
   "metadata": {},
   "outputs": [
    {
     "data": {
      "text/plain": [
       "(19675, 8)"
      ]
     },
     "execution_count": 113,
     "metadata": {},
     "output_type": "execute_result"
    }
   ],
   "source": [
    "z_score.shape"
   ]
  },
  {
   "cell_type": "markdown",
   "id": "5ba03bf3-7cd5-427e-988b-6367cf6832db",
   "metadata": {},
   "source": [
    "## Modelling with z-score data"
   ]
  },
  {
   "cell_type": "code",
   "execution_count": 116,
   "id": "b2be1df1-14fc-4d84-b4af-c515faa75a6f",
   "metadata": {},
   "outputs": [],
   "source": [
    "z_score_model = LinearRegression()"
   ]
  },
  {
   "cell_type": "code",
   "execution_count": 117,
   "id": "2bbb360e-1f53-4792-bc30-93ef0967554d",
   "metadata": {},
   "outputs": [
    {
     "data": {
      "text/html": [
       "<style>#sk-container-id-13 {color: black;background-color: white;}#sk-container-id-13 pre{padding: 0;}#sk-container-id-13 div.sk-toggleable {background-color: white;}#sk-container-id-13 label.sk-toggleable__label {cursor: pointer;display: block;width: 100%;margin-bottom: 0;padding: 0.3em;box-sizing: border-box;text-align: center;}#sk-container-id-13 label.sk-toggleable__label-arrow:before {content: \"▸\";float: left;margin-right: 0.25em;color: #696969;}#sk-container-id-13 label.sk-toggleable__label-arrow:hover:before {color: black;}#sk-container-id-13 div.sk-estimator:hover label.sk-toggleable__label-arrow:before {color: black;}#sk-container-id-13 div.sk-toggleable__content {max-height: 0;max-width: 0;overflow: hidden;text-align: left;background-color: #f0f8ff;}#sk-container-id-13 div.sk-toggleable__content pre {margin: 0.2em;color: black;border-radius: 0.25em;background-color: #f0f8ff;}#sk-container-id-13 input.sk-toggleable__control:checked~div.sk-toggleable__content {max-height: 200px;max-width: 100%;overflow: auto;}#sk-container-id-13 input.sk-toggleable__control:checked~label.sk-toggleable__label-arrow:before {content: \"▾\";}#sk-container-id-13 div.sk-estimator input.sk-toggleable__control:checked~label.sk-toggleable__label {background-color: #d4ebff;}#sk-container-id-13 div.sk-label input.sk-toggleable__control:checked~label.sk-toggleable__label {background-color: #d4ebff;}#sk-container-id-13 input.sk-hidden--visually {border: 0;clip: rect(1px 1px 1px 1px);clip: rect(1px, 1px, 1px, 1px);height: 1px;margin: -1px;overflow: hidden;padding: 0;position: absolute;width: 1px;}#sk-container-id-13 div.sk-estimator {font-family: monospace;background-color: #f0f8ff;border: 1px dotted black;border-radius: 0.25em;box-sizing: border-box;margin-bottom: 0.5em;}#sk-container-id-13 div.sk-estimator:hover {background-color: #d4ebff;}#sk-container-id-13 div.sk-parallel-item::after {content: \"\";width: 100%;border-bottom: 1px solid gray;flex-grow: 1;}#sk-container-id-13 div.sk-label:hover label.sk-toggleable__label {background-color: #d4ebff;}#sk-container-id-13 div.sk-serial::before {content: \"\";position: absolute;border-left: 1px solid gray;box-sizing: border-box;top: 0;bottom: 0;left: 50%;z-index: 0;}#sk-container-id-13 div.sk-serial {display: flex;flex-direction: column;align-items: center;background-color: white;padding-right: 0.2em;padding-left: 0.2em;position: relative;}#sk-container-id-13 div.sk-item {position: relative;z-index: 1;}#sk-container-id-13 div.sk-parallel {display: flex;align-items: stretch;justify-content: center;background-color: white;position: relative;}#sk-container-id-13 div.sk-item::before, #sk-container-id-13 div.sk-parallel-item::before {content: \"\";position: absolute;border-left: 1px solid gray;box-sizing: border-box;top: 0;bottom: 0;left: 50%;z-index: -1;}#sk-container-id-13 div.sk-parallel-item {display: flex;flex-direction: column;z-index: 1;position: relative;background-color: white;}#sk-container-id-13 div.sk-parallel-item:first-child::after {align-self: flex-end;width: 50%;}#sk-container-id-13 div.sk-parallel-item:last-child::after {align-self: flex-start;width: 50%;}#sk-container-id-13 div.sk-parallel-item:only-child::after {width: 0;}#sk-container-id-13 div.sk-dashed-wrapped {border: 1px dashed gray;margin: 0 0.4em 0.5em 0.4em;box-sizing: border-box;padding-bottom: 0.4em;background-color: white;}#sk-container-id-13 div.sk-label label {font-family: monospace;font-weight: bold;display: inline-block;line-height: 1.2em;}#sk-container-id-13 div.sk-label-container {text-align: center;}#sk-container-id-13 div.sk-container {/* jupyter's `normalize.less` sets `[hidden] { display: none; }` but bootstrap.min.css set `[hidden] { display: none !important; }` so we also need the `!important` here to be able to override the default hidden behavior on the sphinx rendered scikit-learn.org. See: https://github.com/scikit-learn/scikit-learn/issues/21755 */display: inline-block !important;position: relative;}#sk-container-id-13 div.sk-text-repr-fallback {display: none;}</style><div id=\"sk-container-id-13\" class=\"sk-top-container\"><div class=\"sk-text-repr-fallback\"><pre>LinearRegression()</pre><b>In a Jupyter environment, please rerun this cell to show the HTML representation or trust the notebook. <br />On GitHub, the HTML representation is unable to render, please try loading this page with nbviewer.org.</b></div><div class=\"sk-container\" hidden><div class=\"sk-item\"><div class=\"sk-estimator sk-toggleable\"><input class=\"sk-toggleable__control sk-hidden--visually\" id=\"sk-estimator-id-13\" type=\"checkbox\" checked><label for=\"sk-estimator-id-13\" class=\"sk-toggleable__label sk-toggleable__label-arrow\">LinearRegression</label><div class=\"sk-toggleable__content\"><pre>LinearRegression()</pre></div></div></div></div></div>"
      ],
      "text/plain": [
       "LinearRegression()"
      ]
     },
     "execution_count": 117,
     "metadata": {},
     "output_type": "execute_result"
    }
   ],
   "source": [
    "z_score_model.fit(z_score, target)"
   ]
  },
  {
   "cell_type": "code",
   "execution_count": 118,
   "id": "a5476b9c-3e39-4afe-acac-431bb1f3a799",
   "metadata": {},
   "outputs": [
    {
     "data": {
      "text/plain": [
       "[('MedInc', 0.6784028909722377),\n",
       " ('HouseAge', 0.10230890631596948),\n",
       " ('AveRooms', -0.253347034732133),\n",
       " ('AveBedrms', 0.27717527061724145),\n",
       " ('Population', 0.005253189350408495),\n",
       " ('AveOccup', -0.0366551542212348),\n",
       " ('Latitude', -0.8156213233862962),\n",
       " ('Longitude', -0.7942178625015122)]"
      ]
     },
     "execution_count": 118,
     "metadata": {},
     "output_type": "execute_result"
    }
   ],
   "source": [
    "list(zip(house_model.feature_names_in_, z_score_model.coef_))"
   ]
  },
  {
   "cell_type": "code",
   "execution_count": 120,
   "id": "15ed4b40-61a4-4bb5-b8ef-0ed19795796c",
   "metadata": {},
   "outputs": [
    {
     "data": {
      "text/plain": [
       "0.5701011070331932"
      ]
     },
     "execution_count": 120,
     "metadata": {},
     "output_type": "execute_result"
    }
   ],
   "source": [
    "z_score_model.score(z_score, target) # R^2 coefficient of determination"
   ]
  },
  {
   "cell_type": "markdown",
   "id": "73611e96-b10f-47b2-b650-d3337f30db53",
   "metadata": {},
   "source": [
    "# Regression with outliers\n",
    "# Random Sample Consensus (RANSAM)"
   ]
  },
  {
   "cell_type": "code",
   "execution_count": 122,
   "id": "6b3e78d6-8f17-47d2-9a19-fcd29c368162",
   "metadata": {},
   "outputs": [],
   "source": [
    "ransac_model = RANSACRegressor()"
   ]
  },
  {
   "cell_type": "code",
   "execution_count": 123,
   "id": "39497504-465f-42ad-93b7-8d98843a8377",
   "metadata": {},
   "outputs": [
    {
     "data": {
      "text/html": [
       "<style>#sk-container-id-14 {color: black;background-color: white;}#sk-container-id-14 pre{padding: 0;}#sk-container-id-14 div.sk-toggleable {background-color: white;}#sk-container-id-14 label.sk-toggleable__label {cursor: pointer;display: block;width: 100%;margin-bottom: 0;padding: 0.3em;box-sizing: border-box;text-align: center;}#sk-container-id-14 label.sk-toggleable__label-arrow:before {content: \"▸\";float: left;margin-right: 0.25em;color: #696969;}#sk-container-id-14 label.sk-toggleable__label-arrow:hover:before {color: black;}#sk-container-id-14 div.sk-estimator:hover label.sk-toggleable__label-arrow:before {color: black;}#sk-container-id-14 div.sk-toggleable__content {max-height: 0;max-width: 0;overflow: hidden;text-align: left;background-color: #f0f8ff;}#sk-container-id-14 div.sk-toggleable__content pre {margin: 0.2em;color: black;border-radius: 0.25em;background-color: #f0f8ff;}#sk-container-id-14 input.sk-toggleable__control:checked~div.sk-toggleable__content {max-height: 200px;max-width: 100%;overflow: auto;}#sk-container-id-14 input.sk-toggleable__control:checked~label.sk-toggleable__label-arrow:before {content: \"▾\";}#sk-container-id-14 div.sk-estimator input.sk-toggleable__control:checked~label.sk-toggleable__label {background-color: #d4ebff;}#sk-container-id-14 div.sk-label input.sk-toggleable__control:checked~label.sk-toggleable__label {background-color: #d4ebff;}#sk-container-id-14 input.sk-hidden--visually {border: 0;clip: rect(1px 1px 1px 1px);clip: rect(1px, 1px, 1px, 1px);height: 1px;margin: -1px;overflow: hidden;padding: 0;position: absolute;width: 1px;}#sk-container-id-14 div.sk-estimator {font-family: monospace;background-color: #f0f8ff;border: 1px dotted black;border-radius: 0.25em;box-sizing: border-box;margin-bottom: 0.5em;}#sk-container-id-14 div.sk-estimator:hover {background-color: #d4ebff;}#sk-container-id-14 div.sk-parallel-item::after {content: \"\";width: 100%;border-bottom: 1px solid gray;flex-grow: 1;}#sk-container-id-14 div.sk-label:hover label.sk-toggleable__label {background-color: #d4ebff;}#sk-container-id-14 div.sk-serial::before {content: \"\";position: absolute;border-left: 1px solid gray;box-sizing: border-box;top: 0;bottom: 0;left: 50%;z-index: 0;}#sk-container-id-14 div.sk-serial {display: flex;flex-direction: column;align-items: center;background-color: white;padding-right: 0.2em;padding-left: 0.2em;position: relative;}#sk-container-id-14 div.sk-item {position: relative;z-index: 1;}#sk-container-id-14 div.sk-parallel {display: flex;align-items: stretch;justify-content: center;background-color: white;position: relative;}#sk-container-id-14 div.sk-item::before, #sk-container-id-14 div.sk-parallel-item::before {content: \"\";position: absolute;border-left: 1px solid gray;box-sizing: border-box;top: 0;bottom: 0;left: 50%;z-index: -1;}#sk-container-id-14 div.sk-parallel-item {display: flex;flex-direction: column;z-index: 1;position: relative;background-color: white;}#sk-container-id-14 div.sk-parallel-item:first-child::after {align-self: flex-end;width: 50%;}#sk-container-id-14 div.sk-parallel-item:last-child::after {align-self: flex-start;width: 50%;}#sk-container-id-14 div.sk-parallel-item:only-child::after {width: 0;}#sk-container-id-14 div.sk-dashed-wrapped {border: 1px dashed gray;margin: 0 0.4em 0.5em 0.4em;box-sizing: border-box;padding-bottom: 0.4em;background-color: white;}#sk-container-id-14 div.sk-label label {font-family: monospace;font-weight: bold;display: inline-block;line-height: 1.2em;}#sk-container-id-14 div.sk-label-container {text-align: center;}#sk-container-id-14 div.sk-container {/* jupyter's `normalize.less` sets `[hidden] { display: none; }` but bootstrap.min.css set `[hidden] { display: none !important; }` so we also need the `!important` here to be able to override the default hidden behavior on the sphinx rendered scikit-learn.org. See: https://github.com/scikit-learn/scikit-learn/issues/21755 */display: inline-block !important;position: relative;}#sk-container-id-14 div.sk-text-repr-fallback {display: none;}</style><div id=\"sk-container-id-14\" class=\"sk-top-container\"><div class=\"sk-text-repr-fallback\"><pre>RANSACRegressor()</pre><b>In a Jupyter environment, please rerun this cell to show the HTML representation or trust the notebook. <br />On GitHub, the HTML representation is unable to render, please try loading this page with nbviewer.org.</b></div><div class=\"sk-container\" hidden><div class=\"sk-item\"><div class=\"sk-estimator sk-toggleable\"><input class=\"sk-toggleable__control sk-hidden--visually\" id=\"sk-estimator-id-14\" type=\"checkbox\" checked><label for=\"sk-estimator-id-14\" class=\"sk-toggleable__label sk-toggleable__label-arrow\">RANSACRegressor</label><div class=\"sk-toggleable__content\"><pre>RANSACRegressor()</pre></div></div></div></div></div>"
      ],
      "text/plain": [
       "RANSACRegressor()"
      ]
     },
     "execution_count": 123,
     "metadata": {},
     "output_type": "execute_result"
    }
   ],
   "source": [
    "ransac_model.fit(house_attributes_scaled, target)"
   ]
  },
  {
   "cell_type": "code",
   "execution_count": 124,
   "id": "f7697dcc-9d8c-4737-a353-94acd3c70d47",
   "metadata": {},
   "outputs": [
    {
     "data": {
      "text/plain": [
       "array([ 4.67184021e+00,  1.37077675e-01,  1.05444619e+01,  1.07005894e+02,\n",
       "        4.74062715e+00, -2.35770868e+02, -3.53560588e+00, -3.44162170e+00])"
      ]
     },
     "execution_count": 124,
     "metadata": {},
     "output_type": "execute_result"
    }
   ],
   "source": [
    "ransac_model.estimator_.coef_"
   ]
  },
  {
   "cell_type": "code",
   "execution_count": 126,
   "id": "0971b537-3c89-4c35-bd2b-13155661e8ca",
   "metadata": {},
   "outputs": [
    {
     "data": {
      "text/plain": [
       "array([False,  True,  True, ...,  True,  True,  True])"
      ]
     },
     "execution_count": 126,
     "metadata": {},
     "output_type": "execute_result"
    }
   ],
   "source": [
    "ransac_model.inlier_mask_ # how many of the data were in"
   ]
  },
  {
   "cell_type": "code",
   "execution_count": 127,
   "id": "962dacb1-cf3e-40b4-b341-1286f4d69272",
   "metadata": {},
   "outputs": [
    {
     "data": {
      "text/plain": [
       "12044"
      ]
     },
     "execution_count": 127,
     "metadata": {},
     "output_type": "execute_result"
    }
   ],
   "source": [
    "ransac_model.inlier_mask_.sum()"
   ]
  },
  {
   "cell_type": "code",
   "execution_count": 136,
   "id": "a40628d7-aebe-4c40-b2d8-deaf5d037ac6",
   "metadata": {},
   "outputs": [
    {
     "data": {
      "text/html": [
       "<div>\n",
       "<style scoped>\n",
       "    .dataframe tbody tr th:only-of-type {\n",
       "        vertical-align: middle;\n",
       "    }\n",
       "\n",
       "    .dataframe tbody tr th {\n",
       "        vertical-align: top;\n",
       "    }\n",
       "\n",
       "    .dataframe thead th {\n",
       "        text-align: right;\n",
       "    }\n",
       "</style>\n",
       "<table border=\"1\" class=\"dataframe\">\n",
       "  <thead>\n",
       "    <tr style=\"text-align: right;\">\n",
       "      <th></th>\n",
       "      <th>MedInc</th>\n",
       "      <th>HouseAge</th>\n",
       "      <th>AveRooms</th>\n",
       "      <th>AveBedrms</th>\n",
       "      <th>Population</th>\n",
       "      <th>AveOccup</th>\n",
       "      <th>Latitude</th>\n",
       "      <th>Longitude</th>\n",
       "    </tr>\n",
       "  </thead>\n",
       "  <tbody>\n",
       "    <tr>\n",
       "      <th>1</th>\n",
       "      <td>8.3014</td>\n",
       "      <td>21.0</td>\n",
       "      <td>6.238137</td>\n",
       "      <td>0.971880</td>\n",
       "      <td>2401.0</td>\n",
       "      <td>2.109842</td>\n",
       "      <td>37.86</td>\n",
       "      <td>-122.22</td>\n",
       "    </tr>\n",
       "    <tr>\n",
       "      <th>2</th>\n",
       "      <td>7.2574</td>\n",
       "      <td>52.0</td>\n",
       "      <td>8.288136</td>\n",
       "      <td>1.073446</td>\n",
       "      <td>496.0</td>\n",
       "      <td>2.802260</td>\n",
       "      <td>37.85</td>\n",
       "      <td>-122.24</td>\n",
       "    </tr>\n",
       "    <tr>\n",
       "      <th>7</th>\n",
       "      <td>3.1200</td>\n",
       "      <td>52.0</td>\n",
       "      <td>4.797527</td>\n",
       "      <td>1.061824</td>\n",
       "      <td>1157.0</td>\n",
       "      <td>1.788253</td>\n",
       "      <td>37.84</td>\n",
       "      <td>-122.25</td>\n",
       "    </tr>\n",
       "    <tr>\n",
       "      <th>8</th>\n",
       "      <td>2.0804</td>\n",
       "      <td>42.0</td>\n",
       "      <td>4.294118</td>\n",
       "      <td>1.117647</td>\n",
       "      <td>1206.0</td>\n",
       "      <td>2.026891</td>\n",
       "      <td>37.84</td>\n",
       "      <td>-122.26</td>\n",
       "    </tr>\n",
       "    <tr>\n",
       "      <th>12</th>\n",
       "      <td>3.0750</td>\n",
       "      <td>52.0</td>\n",
       "      <td>5.322650</td>\n",
       "      <td>1.012821</td>\n",
       "      <td>1098.0</td>\n",
       "      <td>2.346154</td>\n",
       "      <td>37.85</td>\n",
       "      <td>-122.26</td>\n",
       "    </tr>\n",
       "    <tr>\n",
       "      <th>...</th>\n",
       "      <td>...</td>\n",
       "      <td>...</td>\n",
       "      <td>...</td>\n",
       "      <td>...</td>\n",
       "      <td>...</td>\n",
       "      <td>...</td>\n",
       "      <td>...</td>\n",
       "      <td>...</td>\n",
       "    </tr>\n",
       "    <tr>\n",
       "      <th>20634</th>\n",
       "      <td>3.7125</td>\n",
       "      <td>28.0</td>\n",
       "      <td>6.779070</td>\n",
       "      <td>1.148256</td>\n",
       "      <td>1041.0</td>\n",
       "      <td>3.026163</td>\n",
       "      <td>39.27</td>\n",
       "      <td>-121.56</td>\n",
       "    </tr>\n",
       "    <tr>\n",
       "      <th>20635</th>\n",
       "      <td>1.5603</td>\n",
       "      <td>25.0</td>\n",
       "      <td>5.045455</td>\n",
       "      <td>1.133333</td>\n",
       "      <td>845.0</td>\n",
       "      <td>2.560606</td>\n",
       "      <td>39.48</td>\n",
       "      <td>-121.09</td>\n",
       "    </tr>\n",
       "    <tr>\n",
       "      <th>20637</th>\n",
       "      <td>1.7000</td>\n",
       "      <td>17.0</td>\n",
       "      <td>5.205543</td>\n",
       "      <td>1.120092</td>\n",
       "      <td>1007.0</td>\n",
       "      <td>2.325635</td>\n",
       "      <td>39.43</td>\n",
       "      <td>-121.22</td>\n",
       "    </tr>\n",
       "    <tr>\n",
       "      <th>20638</th>\n",
       "      <td>1.8672</td>\n",
       "      <td>18.0</td>\n",
       "      <td>5.329513</td>\n",
       "      <td>1.171920</td>\n",
       "      <td>741.0</td>\n",
       "      <td>2.123209</td>\n",
       "      <td>39.43</td>\n",
       "      <td>-121.32</td>\n",
       "    </tr>\n",
       "    <tr>\n",
       "      <th>20639</th>\n",
       "      <td>2.3886</td>\n",
       "      <td>16.0</td>\n",
       "      <td>5.254717</td>\n",
       "      <td>1.162264</td>\n",
       "      <td>1387.0</td>\n",
       "      <td>2.616981</td>\n",
       "      <td>39.37</td>\n",
       "      <td>-121.24</td>\n",
       "    </tr>\n",
       "  </tbody>\n",
       "</table>\n",
       "<p>12044 rows × 8 columns</p>\n",
       "</div>"
      ],
      "text/plain": [
       "       MedInc  HouseAge  AveRooms  AveBedrms  Population  AveOccup  Latitude  \\\n",
       "1      8.3014      21.0  6.238137   0.971880      2401.0  2.109842     37.86   \n",
       "2      7.2574      52.0  8.288136   1.073446       496.0  2.802260     37.85   \n",
       "7      3.1200      52.0  4.797527   1.061824      1157.0  1.788253     37.84   \n",
       "8      2.0804      42.0  4.294118   1.117647      1206.0  2.026891     37.84   \n",
       "12     3.0750      52.0  5.322650   1.012821      1098.0  2.346154     37.85   \n",
       "...       ...       ...       ...        ...         ...       ...       ...   \n",
       "20634  3.7125      28.0  6.779070   1.148256      1041.0  3.026163     39.27   \n",
       "20635  1.5603      25.0  5.045455   1.133333       845.0  2.560606     39.48   \n",
       "20637  1.7000      17.0  5.205543   1.120092      1007.0  2.325635     39.43   \n",
       "20638  1.8672      18.0  5.329513   1.171920       741.0  2.123209     39.43   \n",
       "20639  2.3886      16.0  5.254717   1.162264      1387.0  2.616981     39.37   \n",
       "\n",
       "       Longitude  \n",
       "1        -122.22  \n",
       "2        -122.24  \n",
       "7        -122.25  \n",
       "8        -122.26  \n",
       "12       -122.26  \n",
       "...          ...  \n",
       "20634    -121.56  \n",
       "20635    -121.09  \n",
       "20637    -121.22  \n",
       "20638    -121.32  \n",
       "20639    -121.24  \n",
       "\n",
       "[12044 rows x 8 columns]"
      ]
     },
     "execution_count": 136,
     "metadata": {},
     "output_type": "execute_result"
    }
   ],
   "source": [
    "house_attributes[ransac_model.inlier_mask_]  # data in the sample"
   ]
  },
  {
   "cell_type": "code",
   "execution_count": 129,
   "id": "65f4da14-7df8-49aa-8615-8ffc9947a337",
   "metadata": {},
   "outputs": [
    {
     "data": {
      "text/html": [
       "<div>\n",
       "<style scoped>\n",
       "    .dataframe tbody tr th:only-of-type {\n",
       "        vertical-align: middle;\n",
       "    }\n",
       "\n",
       "    .dataframe tbody tr th {\n",
       "        vertical-align: top;\n",
       "    }\n",
       "\n",
       "    .dataframe thead th {\n",
       "        text-align: right;\n",
       "    }\n",
       "</style>\n",
       "<table border=\"1\" class=\"dataframe\">\n",
       "  <thead>\n",
       "    <tr style=\"text-align: right;\">\n",
       "      <th></th>\n",
       "      <th>MedInc</th>\n",
       "      <th>HouseAge</th>\n",
       "      <th>AveRooms</th>\n",
       "      <th>AveBedrms</th>\n",
       "      <th>Population</th>\n",
       "      <th>AveOccup</th>\n",
       "      <th>Latitude</th>\n",
       "      <th>Longitude</th>\n",
       "    </tr>\n",
       "  </thead>\n",
       "  <tbody>\n",
       "    <tr>\n",
       "      <th>0</th>\n",
       "      <td>8.3252</td>\n",
       "      <td>41.0</td>\n",
       "      <td>6.984127</td>\n",
       "      <td>1.023810</td>\n",
       "      <td>322.0</td>\n",
       "      <td>2.555556</td>\n",
       "      <td>37.88</td>\n",
       "      <td>-122.23</td>\n",
       "    </tr>\n",
       "    <tr>\n",
       "      <th>3</th>\n",
       "      <td>5.6431</td>\n",
       "      <td>52.0</td>\n",
       "      <td>5.817352</td>\n",
       "      <td>1.073059</td>\n",
       "      <td>558.0</td>\n",
       "      <td>2.547945</td>\n",
       "      <td>37.85</td>\n",
       "      <td>-122.25</td>\n",
       "    </tr>\n",
       "    <tr>\n",
       "      <th>4</th>\n",
       "      <td>3.8462</td>\n",
       "      <td>52.0</td>\n",
       "      <td>6.281853</td>\n",
       "      <td>1.081081</td>\n",
       "      <td>565.0</td>\n",
       "      <td>2.181467</td>\n",
       "      <td>37.85</td>\n",
       "      <td>-122.25</td>\n",
       "    </tr>\n",
       "    <tr>\n",
       "      <th>5</th>\n",
       "      <td>4.0368</td>\n",
       "      <td>52.0</td>\n",
       "      <td>4.761658</td>\n",
       "      <td>1.103627</td>\n",
       "      <td>413.0</td>\n",
       "      <td>2.139896</td>\n",
       "      <td>37.85</td>\n",
       "      <td>-122.25</td>\n",
       "    </tr>\n",
       "    <tr>\n",
       "      <th>6</th>\n",
       "      <td>3.6591</td>\n",
       "      <td>52.0</td>\n",
       "      <td>4.931907</td>\n",
       "      <td>0.951362</td>\n",
       "      <td>1094.0</td>\n",
       "      <td>2.128405</td>\n",
       "      <td>37.84</td>\n",
       "      <td>-122.25</td>\n",
       "    </tr>\n",
       "    <tr>\n",
       "      <th>...</th>\n",
       "      <td>...</td>\n",
       "      <td>...</td>\n",
       "      <td>...</td>\n",
       "      <td>...</td>\n",
       "      <td>...</td>\n",
       "      <td>...</td>\n",
       "      <td>...</td>\n",
       "      <td>...</td>\n",
       "    </tr>\n",
       "    <tr>\n",
       "      <th>20608</th>\n",
       "      <td>1.7167</td>\n",
       "      <td>24.0</td>\n",
       "      <td>5.400000</td>\n",
       "      <td>1.273171</td>\n",
       "      <td>768.0</td>\n",
       "      <td>3.746341</td>\n",
       "      <td>39.10</td>\n",
       "      <td>-121.59</td>\n",
       "    </tr>\n",
       "    <tr>\n",
       "      <th>20620</th>\n",
       "      <td>4.5625</td>\n",
       "      <td>40.0</td>\n",
       "      <td>4.125000</td>\n",
       "      <td>0.854167</td>\n",
       "      <td>151.0</td>\n",
       "      <td>3.145833</td>\n",
       "      <td>39.05</td>\n",
       "      <td>-121.48</td>\n",
       "    </tr>\n",
       "    <tr>\n",
       "      <th>20621</th>\n",
       "      <td>2.3661</td>\n",
       "      <td>37.0</td>\n",
       "      <td>7.923567</td>\n",
       "      <td>1.573248</td>\n",
       "      <td>484.0</td>\n",
       "      <td>3.082803</td>\n",
       "      <td>39.01</td>\n",
       "      <td>-121.47</td>\n",
       "    </tr>\n",
       "    <tr>\n",
       "      <th>20625</th>\n",
       "      <td>4.1250</td>\n",
       "      <td>37.0</td>\n",
       "      <td>7.285714</td>\n",
       "      <td>1.214286</td>\n",
       "      <td>29.0</td>\n",
       "      <td>2.071429</td>\n",
       "      <td>39.12</td>\n",
       "      <td>-121.52</td>\n",
       "    </tr>\n",
       "    <tr>\n",
       "      <th>20636</th>\n",
       "      <td>2.5568</td>\n",
       "      <td>18.0</td>\n",
       "      <td>6.114035</td>\n",
       "      <td>1.315789</td>\n",
       "      <td>356.0</td>\n",
       "      <td>3.122807</td>\n",
       "      <td>39.49</td>\n",
       "      <td>-121.21</td>\n",
       "    </tr>\n",
       "  </tbody>\n",
       "</table>\n",
       "<p>7631 rows × 8 columns</p>\n",
       "</div>"
      ],
      "text/plain": [
       "       MedInc  HouseAge  AveRooms  AveBedrms  Population  AveOccup  Latitude  \\\n",
       "0      8.3252      41.0  6.984127   1.023810       322.0  2.555556     37.88   \n",
       "3      5.6431      52.0  5.817352   1.073059       558.0  2.547945     37.85   \n",
       "4      3.8462      52.0  6.281853   1.081081       565.0  2.181467     37.85   \n",
       "5      4.0368      52.0  4.761658   1.103627       413.0  2.139896     37.85   \n",
       "6      3.6591      52.0  4.931907   0.951362      1094.0  2.128405     37.84   \n",
       "...       ...       ...       ...        ...         ...       ...       ...   \n",
       "20608  1.7167      24.0  5.400000   1.273171       768.0  3.746341     39.10   \n",
       "20620  4.5625      40.0  4.125000   0.854167       151.0  3.145833     39.05   \n",
       "20621  2.3661      37.0  7.923567   1.573248       484.0  3.082803     39.01   \n",
       "20625  4.1250      37.0  7.285714   1.214286        29.0  2.071429     39.12   \n",
       "20636  2.5568      18.0  6.114035   1.315789       356.0  3.122807     39.49   \n",
       "\n",
       "       Longitude  \n",
       "0        -122.23  \n",
       "3        -122.25  \n",
       "4        -122.25  \n",
       "5        -122.25  \n",
       "6        -122.25  \n",
       "...          ...  \n",
       "20608    -121.59  \n",
       "20620    -121.48  \n",
       "20621    -121.47  \n",
       "20625    -121.52  \n",
       "20636    -121.21  \n",
       "\n",
       "[7631 rows x 8 columns]"
      ]
     },
     "execution_count": 129,
     "metadata": {},
     "output_type": "execute_result"
    }
   ],
   "source": [
    "house_attributes[~ransac_model.inlier_mask_] # data out of the sample"
   ]
  },
  {
   "cell_type": "code",
   "execution_count": 132,
   "id": "6c3742b2-949f-4483-9f4a-1fb8c974eb7f",
   "metadata": {},
   "outputs": [
    {
     "data": {
      "text/plain": [
       "0.5701011070331933"
      ]
     },
     "execution_count": 132,
     "metadata": {},
     "output_type": "execute_result"
    }
   ],
   "source": [
    "house_model_scaled.score(house_attributes_scaled, target)"
   ]
  },
  {
   "cell_type": "code",
   "execution_count": 133,
   "id": "72be0195-c3b1-4a35-a234-627146b43ea7",
   "metadata": {},
   "outputs": [
    {
     "data": {
      "text/plain": [
       "-6.093670244721477"
      ]
     },
     "execution_count": 133,
     "metadata": {},
     "output_type": "execute_result"
    }
   ],
   "source": [
    "ransac_model.score(house_attributes_scaled, target)"
   ]
  },
  {
   "cell_type": "markdown",
   "id": "b7a58509-05f9-446a-a6e6-17046f1742f3",
   "metadata": {},
   "source": [
    "A negative result indicates that the model predicting the arithmetic mean is better than this one."
   ]
  },
  {
   "cell_type": "code",
   "execution_count": 135,
   "id": "214cf3b7-8efb-41b9-9a6b-05378318ee2c",
   "metadata": {},
   "outputs": [
    {
     "data": {
      "text/plain": [
       "0.8393477540639419"
      ]
     },
     "execution_count": 135,
     "metadata": {},
     "output_type": "execute_result"
    }
   ],
   "source": [
    "ransac_model.score(house_attributes_scaled[ransac_model.inlier_mask_], target[ransac_model.inlier_mask_])"
   ]
  },
  {
   "cell_type": "markdown",
   "id": "f33a5393-6916-4ee8-bacf-ccebf78f06d2",
   "metadata": {},
   "source": [
    "RANSACRegressor(estimator = None) ? by default Linear Regression, but it could be any other ML algorithm RandomForest, MLP, etc."
   ]
  },
  {
   "cell_type": "code",
   "execution_count": 138,
   "id": "21364b3d-8e47-49c8-98d8-bccf971202bc",
   "metadata": {},
   "outputs": [],
   "source": [
    "ransac_model = RANSACRegressor(residual_threshold = 0.5)"
   ]
  },
  {
   "cell_type": "code",
   "execution_count": 139,
   "id": "24c373da-7765-4fcd-9dd4-4590e6f4e206",
   "metadata": {},
   "outputs": [
    {
     "data": {
      "text/html": [
       "<style>#sk-container-id-15 {color: black;background-color: white;}#sk-container-id-15 pre{padding: 0;}#sk-container-id-15 div.sk-toggleable {background-color: white;}#sk-container-id-15 label.sk-toggleable__label {cursor: pointer;display: block;width: 100%;margin-bottom: 0;padding: 0.3em;box-sizing: border-box;text-align: center;}#sk-container-id-15 label.sk-toggleable__label-arrow:before {content: \"▸\";float: left;margin-right: 0.25em;color: #696969;}#sk-container-id-15 label.sk-toggleable__label-arrow:hover:before {color: black;}#sk-container-id-15 div.sk-estimator:hover label.sk-toggleable__label-arrow:before {color: black;}#sk-container-id-15 div.sk-toggleable__content {max-height: 0;max-width: 0;overflow: hidden;text-align: left;background-color: #f0f8ff;}#sk-container-id-15 div.sk-toggleable__content pre {margin: 0.2em;color: black;border-radius: 0.25em;background-color: #f0f8ff;}#sk-container-id-15 input.sk-toggleable__control:checked~div.sk-toggleable__content {max-height: 200px;max-width: 100%;overflow: auto;}#sk-container-id-15 input.sk-toggleable__control:checked~label.sk-toggleable__label-arrow:before {content: \"▾\";}#sk-container-id-15 div.sk-estimator input.sk-toggleable__control:checked~label.sk-toggleable__label {background-color: #d4ebff;}#sk-container-id-15 div.sk-label input.sk-toggleable__control:checked~label.sk-toggleable__label {background-color: #d4ebff;}#sk-container-id-15 input.sk-hidden--visually {border: 0;clip: rect(1px 1px 1px 1px);clip: rect(1px, 1px, 1px, 1px);height: 1px;margin: -1px;overflow: hidden;padding: 0;position: absolute;width: 1px;}#sk-container-id-15 div.sk-estimator {font-family: monospace;background-color: #f0f8ff;border: 1px dotted black;border-radius: 0.25em;box-sizing: border-box;margin-bottom: 0.5em;}#sk-container-id-15 div.sk-estimator:hover {background-color: #d4ebff;}#sk-container-id-15 div.sk-parallel-item::after {content: \"\";width: 100%;border-bottom: 1px solid gray;flex-grow: 1;}#sk-container-id-15 div.sk-label:hover label.sk-toggleable__label {background-color: #d4ebff;}#sk-container-id-15 div.sk-serial::before {content: \"\";position: absolute;border-left: 1px solid gray;box-sizing: border-box;top: 0;bottom: 0;left: 50%;z-index: 0;}#sk-container-id-15 div.sk-serial {display: flex;flex-direction: column;align-items: center;background-color: white;padding-right: 0.2em;padding-left: 0.2em;position: relative;}#sk-container-id-15 div.sk-item {position: relative;z-index: 1;}#sk-container-id-15 div.sk-parallel {display: flex;align-items: stretch;justify-content: center;background-color: white;position: relative;}#sk-container-id-15 div.sk-item::before, #sk-container-id-15 div.sk-parallel-item::before {content: \"\";position: absolute;border-left: 1px solid gray;box-sizing: border-box;top: 0;bottom: 0;left: 50%;z-index: -1;}#sk-container-id-15 div.sk-parallel-item {display: flex;flex-direction: column;z-index: 1;position: relative;background-color: white;}#sk-container-id-15 div.sk-parallel-item:first-child::after {align-self: flex-end;width: 50%;}#sk-container-id-15 div.sk-parallel-item:last-child::after {align-self: flex-start;width: 50%;}#sk-container-id-15 div.sk-parallel-item:only-child::after {width: 0;}#sk-container-id-15 div.sk-dashed-wrapped {border: 1px dashed gray;margin: 0 0.4em 0.5em 0.4em;box-sizing: border-box;padding-bottom: 0.4em;background-color: white;}#sk-container-id-15 div.sk-label label {font-family: monospace;font-weight: bold;display: inline-block;line-height: 1.2em;}#sk-container-id-15 div.sk-label-container {text-align: center;}#sk-container-id-15 div.sk-container {/* jupyter's `normalize.less` sets `[hidden] { display: none; }` but bootstrap.min.css set `[hidden] { display: none !important; }` so we also need the `!important` here to be able to override the default hidden behavior on the sphinx rendered scikit-learn.org. See: https://github.com/scikit-learn/scikit-learn/issues/21755 */display: inline-block !important;position: relative;}#sk-container-id-15 div.sk-text-repr-fallback {display: none;}</style><div id=\"sk-container-id-15\" class=\"sk-top-container\"><div class=\"sk-text-repr-fallback\"><pre>RANSACRegressor(residual_threshold=0.5)</pre><b>In a Jupyter environment, please rerun this cell to show the HTML representation or trust the notebook. <br />On GitHub, the HTML representation is unable to render, please try loading this page with nbviewer.org.</b></div><div class=\"sk-container\" hidden><div class=\"sk-item\"><div class=\"sk-estimator sk-toggleable\"><input class=\"sk-toggleable__control sk-hidden--visually\" id=\"sk-estimator-id-15\" type=\"checkbox\" checked><label for=\"sk-estimator-id-15\" class=\"sk-toggleable__label sk-toggleable__label-arrow\">RANSACRegressor</label><div class=\"sk-toggleable__content\"><pre>RANSACRegressor(residual_threshold=0.5)</pre></div></div></div></div></div>"
      ],
      "text/plain": [
       "RANSACRegressor(residual_threshold=0.5)"
      ]
     },
     "execution_count": 139,
     "metadata": {},
     "output_type": "execute_result"
    }
   ],
   "source": [
    "ransac_model.fit(house_attributes_scaled, target)"
   ]
  },
  {
   "cell_type": "code",
   "execution_count": 140,
   "id": "a44677ab-1225-4642-a9dc-2b71a297f6d6",
   "metadata": {
    "collapsed": true,
    "jupyter": {
     "outputs_hidden": true
    }
   },
   "outputs": [
    {
     "data": {
      "text/plain": [
       "0.5490724269377383"
      ]
     },
     "execution_count": 140,
     "metadata": {},
     "output_type": "execute_result"
    }
   ],
   "source": [
    "ransac_model_threshold = ransac_model.fit(house_attributes_scaled, target)\n",
    "ransac_model_threshold.inlier_mask_.sum() / len(house_attributes_scaled)"
   ]
  },
  {
   "cell_type": "markdown",
   "id": "fcbb6723-0caf-4ff9-be34-6d7615059054",
   "metadata": {},
   "source": [
    "another threshold -> different number of inliers"
   ]
  },
  {
   "cell_type": "code",
   "execution_count": 141,
   "id": "96ba628a-7764-4fc5-95f5-3e59eb374db6",
   "metadata": {},
   "outputs": [],
   "source": [
    "ransac_model = RANSACRegressor(residual_threshold = 1)"
   ]
  },
  {
   "cell_type": "code",
   "execution_count": 142,
   "id": "1df8e467-a417-42a7-917d-5e240ed75a21",
   "metadata": {},
   "outputs": [
    {
     "data": {
      "text/html": [
       "<style>#sk-container-id-16 {color: black;background-color: white;}#sk-container-id-16 pre{padding: 0;}#sk-container-id-16 div.sk-toggleable {background-color: white;}#sk-container-id-16 label.sk-toggleable__label {cursor: pointer;display: block;width: 100%;margin-bottom: 0;padding: 0.3em;box-sizing: border-box;text-align: center;}#sk-container-id-16 label.sk-toggleable__label-arrow:before {content: \"▸\";float: left;margin-right: 0.25em;color: #696969;}#sk-container-id-16 label.sk-toggleable__label-arrow:hover:before {color: black;}#sk-container-id-16 div.sk-estimator:hover label.sk-toggleable__label-arrow:before {color: black;}#sk-container-id-16 div.sk-toggleable__content {max-height: 0;max-width: 0;overflow: hidden;text-align: left;background-color: #f0f8ff;}#sk-container-id-16 div.sk-toggleable__content pre {margin: 0.2em;color: black;border-radius: 0.25em;background-color: #f0f8ff;}#sk-container-id-16 input.sk-toggleable__control:checked~div.sk-toggleable__content {max-height: 200px;max-width: 100%;overflow: auto;}#sk-container-id-16 input.sk-toggleable__control:checked~label.sk-toggleable__label-arrow:before {content: \"▾\";}#sk-container-id-16 div.sk-estimator input.sk-toggleable__control:checked~label.sk-toggleable__label {background-color: #d4ebff;}#sk-container-id-16 div.sk-label input.sk-toggleable__control:checked~label.sk-toggleable__label {background-color: #d4ebff;}#sk-container-id-16 input.sk-hidden--visually {border: 0;clip: rect(1px 1px 1px 1px);clip: rect(1px, 1px, 1px, 1px);height: 1px;margin: -1px;overflow: hidden;padding: 0;position: absolute;width: 1px;}#sk-container-id-16 div.sk-estimator {font-family: monospace;background-color: #f0f8ff;border: 1px dotted black;border-radius: 0.25em;box-sizing: border-box;margin-bottom: 0.5em;}#sk-container-id-16 div.sk-estimator:hover {background-color: #d4ebff;}#sk-container-id-16 div.sk-parallel-item::after {content: \"\";width: 100%;border-bottom: 1px solid gray;flex-grow: 1;}#sk-container-id-16 div.sk-label:hover label.sk-toggleable__label {background-color: #d4ebff;}#sk-container-id-16 div.sk-serial::before {content: \"\";position: absolute;border-left: 1px solid gray;box-sizing: border-box;top: 0;bottom: 0;left: 50%;z-index: 0;}#sk-container-id-16 div.sk-serial {display: flex;flex-direction: column;align-items: center;background-color: white;padding-right: 0.2em;padding-left: 0.2em;position: relative;}#sk-container-id-16 div.sk-item {position: relative;z-index: 1;}#sk-container-id-16 div.sk-parallel {display: flex;align-items: stretch;justify-content: center;background-color: white;position: relative;}#sk-container-id-16 div.sk-item::before, #sk-container-id-16 div.sk-parallel-item::before {content: \"\";position: absolute;border-left: 1px solid gray;box-sizing: border-box;top: 0;bottom: 0;left: 50%;z-index: -1;}#sk-container-id-16 div.sk-parallel-item {display: flex;flex-direction: column;z-index: 1;position: relative;background-color: white;}#sk-container-id-16 div.sk-parallel-item:first-child::after {align-self: flex-end;width: 50%;}#sk-container-id-16 div.sk-parallel-item:last-child::after {align-self: flex-start;width: 50%;}#sk-container-id-16 div.sk-parallel-item:only-child::after {width: 0;}#sk-container-id-16 div.sk-dashed-wrapped {border: 1px dashed gray;margin: 0 0.4em 0.5em 0.4em;box-sizing: border-box;padding-bottom: 0.4em;background-color: white;}#sk-container-id-16 div.sk-label label {font-family: monospace;font-weight: bold;display: inline-block;line-height: 1.2em;}#sk-container-id-16 div.sk-label-container {text-align: center;}#sk-container-id-16 div.sk-container {/* jupyter's `normalize.less` sets `[hidden] { display: none; }` but bootstrap.min.css set `[hidden] { display: none !important; }` so we also need the `!important` here to be able to override the default hidden behavior on the sphinx rendered scikit-learn.org. See: https://github.com/scikit-learn/scikit-learn/issues/21755 */display: inline-block !important;position: relative;}#sk-container-id-16 div.sk-text-repr-fallback {display: none;}</style><div id=\"sk-container-id-16\" class=\"sk-top-container\"><div class=\"sk-text-repr-fallback\"><pre>RANSACRegressor(residual_threshold=1)</pre><b>In a Jupyter environment, please rerun this cell to show the HTML representation or trust the notebook. <br />On GitHub, the HTML representation is unable to render, please try loading this page with nbviewer.org.</b></div><div class=\"sk-container\" hidden><div class=\"sk-item\"><div class=\"sk-estimator sk-toggleable\"><input class=\"sk-toggleable__control sk-hidden--visually\" id=\"sk-estimator-id-16\" type=\"checkbox\" checked><label for=\"sk-estimator-id-16\" class=\"sk-toggleable__label sk-toggleable__label-arrow\">RANSACRegressor</label><div class=\"sk-toggleable__content\"><pre>RANSACRegressor(residual_threshold=1)</pre></div></div></div></div></div>"
      ],
      "text/plain": [
       "RANSACRegressor(residual_threshold=1)"
      ]
     },
     "execution_count": 142,
     "metadata": {},
     "output_type": "execute_result"
    }
   ],
   "source": [
    "ransac_model.fit(house_attributes_scaled, target)"
   ]
  },
  {
   "cell_type": "code",
   "execution_count": 143,
   "id": "2e50a3af-2692-48e5-abd4-017116e82749",
   "metadata": {},
   "outputs": [
    {
     "data": {
      "text/plain": [
       "0.8373062261753494"
      ]
     },
     "execution_count": 143,
     "metadata": {},
     "output_type": "execute_result"
    }
   ],
   "source": [
    "ransac_model_threshold = ransac_model.fit(house_attributes_scaled, target)\n",
    "ransac_model_threshold.inlier_mask_.sum() / len(house_attributes_scaled)"
   ]
  },
  {
   "cell_type": "markdown",
   "id": "bc84f525-1058-4823-9cc3-69d817541c5d",
   "metadata": {},
   "source": [
    "max_trials -> number of trials; more trials, more data to be covered and not missed"
   ]
  },
  {
   "cell_type": "code",
   "execution_count": 144,
   "id": "1c88c855-e105-4874-b430-f0f4bcd1ca1b",
   "metadata": {},
   "outputs": [],
   "source": [
    "ransac_model = RANSACRegressor(residual_threshold = 0.5, max_trials = 1000)"
   ]
  },
  {
   "cell_type": "code",
   "execution_count": 145,
   "id": "efa9e117-de3a-4a33-a6cd-c696ffd5a2ac",
   "metadata": {},
   "outputs": [
    {
     "data": {
      "text/html": [
       "<style>#sk-container-id-17 {color: black;background-color: white;}#sk-container-id-17 pre{padding: 0;}#sk-container-id-17 div.sk-toggleable {background-color: white;}#sk-container-id-17 label.sk-toggleable__label {cursor: pointer;display: block;width: 100%;margin-bottom: 0;padding: 0.3em;box-sizing: border-box;text-align: center;}#sk-container-id-17 label.sk-toggleable__label-arrow:before {content: \"▸\";float: left;margin-right: 0.25em;color: #696969;}#sk-container-id-17 label.sk-toggleable__label-arrow:hover:before {color: black;}#sk-container-id-17 div.sk-estimator:hover label.sk-toggleable__label-arrow:before {color: black;}#sk-container-id-17 div.sk-toggleable__content {max-height: 0;max-width: 0;overflow: hidden;text-align: left;background-color: #f0f8ff;}#sk-container-id-17 div.sk-toggleable__content pre {margin: 0.2em;color: black;border-radius: 0.25em;background-color: #f0f8ff;}#sk-container-id-17 input.sk-toggleable__control:checked~div.sk-toggleable__content {max-height: 200px;max-width: 100%;overflow: auto;}#sk-container-id-17 input.sk-toggleable__control:checked~label.sk-toggleable__label-arrow:before {content: \"▾\";}#sk-container-id-17 div.sk-estimator input.sk-toggleable__control:checked~label.sk-toggleable__label {background-color: #d4ebff;}#sk-container-id-17 div.sk-label input.sk-toggleable__control:checked~label.sk-toggleable__label {background-color: #d4ebff;}#sk-container-id-17 input.sk-hidden--visually {border: 0;clip: rect(1px 1px 1px 1px);clip: rect(1px, 1px, 1px, 1px);height: 1px;margin: -1px;overflow: hidden;padding: 0;position: absolute;width: 1px;}#sk-container-id-17 div.sk-estimator {font-family: monospace;background-color: #f0f8ff;border: 1px dotted black;border-radius: 0.25em;box-sizing: border-box;margin-bottom: 0.5em;}#sk-container-id-17 div.sk-estimator:hover {background-color: #d4ebff;}#sk-container-id-17 div.sk-parallel-item::after {content: \"\";width: 100%;border-bottom: 1px solid gray;flex-grow: 1;}#sk-container-id-17 div.sk-label:hover label.sk-toggleable__label {background-color: #d4ebff;}#sk-container-id-17 div.sk-serial::before {content: \"\";position: absolute;border-left: 1px solid gray;box-sizing: border-box;top: 0;bottom: 0;left: 50%;z-index: 0;}#sk-container-id-17 div.sk-serial {display: flex;flex-direction: column;align-items: center;background-color: white;padding-right: 0.2em;padding-left: 0.2em;position: relative;}#sk-container-id-17 div.sk-item {position: relative;z-index: 1;}#sk-container-id-17 div.sk-parallel {display: flex;align-items: stretch;justify-content: center;background-color: white;position: relative;}#sk-container-id-17 div.sk-item::before, #sk-container-id-17 div.sk-parallel-item::before {content: \"\";position: absolute;border-left: 1px solid gray;box-sizing: border-box;top: 0;bottom: 0;left: 50%;z-index: -1;}#sk-container-id-17 div.sk-parallel-item {display: flex;flex-direction: column;z-index: 1;position: relative;background-color: white;}#sk-container-id-17 div.sk-parallel-item:first-child::after {align-self: flex-end;width: 50%;}#sk-container-id-17 div.sk-parallel-item:last-child::after {align-self: flex-start;width: 50%;}#sk-container-id-17 div.sk-parallel-item:only-child::after {width: 0;}#sk-container-id-17 div.sk-dashed-wrapped {border: 1px dashed gray;margin: 0 0.4em 0.5em 0.4em;box-sizing: border-box;padding-bottom: 0.4em;background-color: white;}#sk-container-id-17 div.sk-label label {font-family: monospace;font-weight: bold;display: inline-block;line-height: 1.2em;}#sk-container-id-17 div.sk-label-container {text-align: center;}#sk-container-id-17 div.sk-container {/* jupyter's `normalize.less` sets `[hidden] { display: none; }` but bootstrap.min.css set `[hidden] { display: none !important; }` so we also need the `!important` here to be able to override the default hidden behavior on the sphinx rendered scikit-learn.org. See: https://github.com/scikit-learn/scikit-learn/issues/21755 */display: inline-block !important;position: relative;}#sk-container-id-17 div.sk-text-repr-fallback {display: none;}</style><div id=\"sk-container-id-17\" class=\"sk-top-container\"><div class=\"sk-text-repr-fallback\"><pre>RANSACRegressor(max_trials=1000, residual_threshold=0.5)</pre><b>In a Jupyter environment, please rerun this cell to show the HTML representation or trust the notebook. <br />On GitHub, the HTML representation is unable to render, please try loading this page with nbviewer.org.</b></div><div class=\"sk-container\" hidden><div class=\"sk-item\"><div class=\"sk-estimator sk-toggleable\"><input class=\"sk-toggleable__control sk-hidden--visually\" id=\"sk-estimator-id-17\" type=\"checkbox\" checked><label for=\"sk-estimator-id-17\" class=\"sk-toggleable__label sk-toggleable__label-arrow\">RANSACRegressor</label><div class=\"sk-toggleable__content\"><pre>RANSACRegressor(max_trials=1000, residual_threshold=0.5)</pre></div></div></div></div></div>"
      ],
      "text/plain": [
       "RANSACRegressor(max_trials=1000, residual_threshold=0.5)"
      ]
     },
     "execution_count": 145,
     "metadata": {},
     "output_type": "execute_result"
    }
   ],
   "source": [
    "ransac_model.fit(house_attributes_scaled, target)"
   ]
  },
  {
   "cell_type": "code",
   "execution_count": 146,
   "id": "1db7900b-9319-4f9e-9d7a-2d15366cc877",
   "metadata": {},
   "outputs": [
    {
     "data": {
      "text/plain": [
       "0.5882083862770012"
      ]
     },
     "execution_count": 146,
     "metadata": {},
     "output_type": "execute_result"
    }
   ],
   "source": [
    "ransac_model_threshold = ransac_model.fit(house_attributes_scaled, target)\n",
    "ransac_model_threshold.inlier_mask_.sum() / len(house_attributes_scaled)"
   ]
  },
  {
   "cell_type": "code",
   "execution_count": 149,
   "id": "20f59419-9e81-4e8e-b242-95b25aa5261e",
   "metadata": {},
   "outputs": [
    {
     "data": {
      "text/plain": [
       "<matplotlib.collections.PathCollection at 0x21807451b50>"
      ]
     },
     "execution_count": 149,
     "metadata": {},
     "output_type": "execute_result"
    },
    {
     "data": {
      "image/png": "[encoded data removed]",
      "text/plain": [
       "<Figure size 640x480 with 1 Axes>"
      ]
     },
     "metadata": {},
     "output_type": "display_data"
    }
   ],
   "source": [
    "plt.scatter(house_attributes[ransac_model.inlier_mask_].HouseAge, house_attributes[ransac_model.inlier_mask_].AveRooms)"
   ]
  },
  {
   "cell_type": "code",
   "execution_count": 150,
   "id": "cdf53d08-315b-4b40-8084-d7946c6a676b",
   "metadata": {},
   "outputs": [
    {
     "data": {
      "text/plain": [
       "<matplotlib.collections.PathCollection at 0x21805a42810>"
      ]
     },
     "execution_count": 150,
     "metadata": {},
     "output_type": "execute_result"
    },
    {
     "data": {
      "image/png": "[encoded data removed]",
      "text/plain": [
       "<Figure size 640x480 with 1 Axes>"
      ]
     },
     "metadata": {},
     "output_type": "display_data"
    }
   ],
   "source": [
    "plt.scatter(house_attributes[~ransac_model.inlier_mask_].HouseAge, house_attributes[~ransac_model.inlier_mask_].AveRooms)"
   ]
  },
  {
   "cell_type": "code",
   "execution_count": 153,
   "id": "4b26b11b-8046-4a49-a69b-569e24376ccf",
   "metadata": {},
   "outputs": [
    {
     "data": {
      "text/plain": [
       "<matplotlib.collections.PathCollection at 0x21801d9f190>"
      ]
     },
     "execution_count": 153,
     "metadata": {},
     "output_type": "execute_result"
    },
    {
     "data": {
      "image/png": "[encoded data removed]",
      "text/plain": [
       "<Figure size 640x480 with 1 Axes>"
      ]
     },
     "metadata": {},
     "output_type": "display_data"
    }
   ],
   "source": [
    "plt.scatter(house_attributes[ransac_model.inlier_mask_].HouseAge, house_attributes[ransac_model.inlier_mask_].AveRooms)\n",
    "plt.scatter(house_attributes[~ransac_model.inlier_mask_].HouseAge, house_attributes[~ransac_model.inlier_mask_].AveRooms, s = 2)"
   ]
  },
  {
   "cell_type": "markdown",
   "id": "94555739-4b15-4f85-b259-fd5b3d326dc4",
   "metadata": {},
   "source": [
    "# Polynomial regression"
   ]
  },
  {
   "cell_type": "code",
   "execution_count": null,
   "id": "3d874849-7198-4af9-bcd1-c488387e8405",
   "metadata": {},
   "outputs": [],
   "source": []
  }
 ],
 "metadata": {
  "kernelspec": {
   "display_name": "Python 3 (ipykernel)",
   "language": "python",
   "name": "python3"
  },
  "language_info": {
   "codemirror_mode": {
    "name": "ipython",
    "version": 3
   },
   "file_extension": ".py",
   "mimetype": "text/x-python",
   "name": "python",
   "nbconvert_exporter": "python",
   "pygments_lexer": "ipython3",
   "version": "3.11.7"
  }
 },
 "nbformat": 4,
 "nbformat_minor": 5
}
